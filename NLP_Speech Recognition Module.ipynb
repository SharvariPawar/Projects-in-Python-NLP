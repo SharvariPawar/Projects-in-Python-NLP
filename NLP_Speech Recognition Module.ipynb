{
 "cells": [
  {
   "cell_type": "code",
   "execution_count": 3,
   "metadata": {},
   "outputs": [],
   "source": [
    "import speech_recognition as sr\n",
    "# In this example we we will use Google speech recognition tool to transcribe our spoken input.\n",
    "# First step is to collect audio data using microphone. We can do this using speech_recognition and pyaudio package."
   ]
  },
  {
   "cell_type": "markdown",
   "metadata": {},
   "source": [
    "Python speech recognition module is a library for performing speech recognition  with support for several engines and APIs which enables both online and offline speech detection capabilities.\n",
    "It includes support for the following: CMU Sphinx(works offline),Google speech recognition, Google cloud speech API, Wit.ai, Microsoft bing voice recognition, Houndify API, IBM speech to text, Snowboy hotword detection(works offline)."
   ]
  },
  {
   "cell_type": "code",
   "execution_count": null,
   "metadata": {},
   "outputs": [
    {
     "name": "stdout",
     "output_type": "stream",
     "text": [
      "Say Something\n"
     ]
    }
   ],
   "source": [
    "r = sr.Recognizer()\n",
    "with sr.Microphone() as source:\n",
    "    print(\"Say Something\")\n",
    "    audio = r.listen(source)"
   ]
  },
  {
   "cell_type": "code",
   "execution_count": null,
   "metadata": {},
   "outputs": [],
   "source": [
    "try:\n",
    "    print(\"Google Speech Recognition thinks that you said: \" + r.recognize_google(audio))\n",
    "except sr.UnknownValueError:\n",
    "    print(\"Google Speech Recognition could not understand audio\")\n",
    "except sr.RequestError as e:\n",
    "    print(\"Could not request results from Google Speech Recognition service; {0}\".format(e))"
   ]
  },
  {
   "cell_type": "code",
   "execution_count": null,
   "metadata": {},
   "outputs": [
    {
     "name": "stdout",
     "output_type": "stream",
     "text": [
      "Say Something\n"
     ]
    }
   ],
   "source": [
    "while True:\n",
    "    r = sr.Recognizer()\n",
    "    with sr.Microphone() as source:\n",
    "        print(\"Say Something\")\n",
    "        audio=r.listen(source)\n",
    "        try:    \n",
    "            print(r.recognize_google(audio),\"\\n\")\n",
    "        except:\n",
    "            pass"
   ]
  },
  {
   "cell_type": "code",
   "execution_count": null,
   "metadata": {},
   "outputs": [
    {
     "name": "stdout",
     "output_type": "stream",
     "text": [
      "['Microsoft Sound Mapper - Input', 'Microphone Array (Realtek(R) Au', 'Headset (Jabra Elite 65e Hands-', 'Microsoft Sound Mapper - Output', 'Headphones (2- Jabra Elite 65e ', 'Speakers (Realtek(R) Audio)', 'Headset (Jabra Elite 65e Hands-', 'Primary Sound Capture Driver', 'Microphone Array (Realtek(R) Audio)', 'Headset (Jabra Elite 65e Hands-Free AG Audio)', 'Primary Sound Driver', 'Headphones (2- Jabra Elite 65e Stereo)', 'Speakers (Realtek(R) Audio)', 'Headset (Jabra Elite 65e Hands-Free AG Audio)', 'Headphones (2- Jabra Elite 65e Stereo)', 'Speakers (Realtek(R) Audio)', 'Headset (Jabra Elite 65e Hands-Free AG Audio)', 'Headset (Jabra Elite 65e Hands-Free AG Audio)', 'Microphone Array (Realtek(R) Audio)', 'Speakers 1 (Realtek HD Audio output with SST)', 'Speakers 2 (Realtek HD Audio output with SST)', 'PC Speaker (Realtek HD Audio output with SST)', 'Microphone Array 1 (Realtek HD Audio Mic input with SST)', 'Microphone Array 2 (Realtek HD Audio Mic input with SST)', 'Microphone Array 3 (Realtek HD Audio Mic input with SST)', 'Stereo Mix (Realtek HD Audio Stereo input)', 'Headphones ()', 'Headset (@System32\\\\drivers\\\\bthhfenum.sys,#2;%1 Hands-Free AG Audio%0\\r\\n;(Jabra Elite 65e))', 'Headset (@System32\\\\drivers\\\\bthhfenum.sys,#2;%1 Hands-Free AG Audio%0\\r\\n;(Jabra Elite 65e))']\n",
      "say anything : \n"
     ]
    }
   ],
   "source": [
    "import speech_recognition as sr\n",
    "\n",
    "r=sr.Recognizer()\n",
    "print(sr.Microphone.list_microphone_names())\n",
    "with sr.Microphone() as source:\n",
    "    r.adjust_for_ambient_noise(source,duration=1)\n",
    "    # r.energy_threshold()\n",
    "    print(\"say anything : \")\n",
    "    audio= r.listen(source)\n",
    "    try:\n",
    "        text = r.recognize_google(audio)\n",
    "        print(text)\n",
    "    except:\n",
    "        print(\"sorry, could not recognise\")"
   ]
  },
  {
   "cell_type": "code",
   "execution_count": null,
   "metadata": {},
   "outputs": [
    {
     "name": "stdout",
     "output_type": "stream",
     "text": [
      "say something!…\n"
     ]
    }
   ],
   "source": [
    "import speech_recognition as sr\n",
    "\n",
    "r = sr.Recognizer()\n",
    "speech = sr.Microphone(device_index=0)\n",
    "# for recognizing speech\n",
    "with speech as source:\n",
    "    print(\"say something!…\")\n",
    "    #audio = r.adjust_for_ambient_noise(source)\n",
    "    audio =r.adjust_for_ambient_noise(source, duration=5)\n",
    "    audio = r.listen(source)\n",
    "# Speech recognition using Google Speech Recognition\n",
    "try:\n",
    "    recog = r.recognize_google(audio, language = 'en-US')\n",
    "    # for testing purposes, we're just using the default API key\n",
    "    # to use another API key, use r.recognize_google(audio)\n",
    "    # instead of r.recognize_google(audio)\n",
    "\n",
    "    print(\"You said: \" + recog)\n",
    "except sr.UnknownValueError:\n",
    "    print(\"Google Speech Recognition could not understand audio\")\n",
    "except sr.RequestError as e:\n",
    "    print(\"Could not request results from Google Speech Recognition service; {0}\".format(e))"
   ]
  },
  {
   "cell_type": "code",
   "execution_count": null,
   "metadata": {},
   "outputs": [],
   "source": []
  }
 ],
 "metadata": {
  "kernelspec": {
   "display_name": "Python 3",
   "language": "python",
   "name": "python3"
  },
  "language_info": {
   "codemirror_mode": {
    "name": "ipython",
    "version": 3
   },
   "file_extension": ".py",
   "mimetype": "text/x-python",
   "name": "python",
   "nbconvert_exporter": "python",
   "pygments_lexer": "ipython3",
   "version": "3.7.9"
  }
 },
 "nbformat": 4,
 "nbformat_minor": 2
}
