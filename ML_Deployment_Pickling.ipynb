{
 "cells": [
  {
   "cell_type": "code",
   "execution_count": 31,
   "metadata": {},
   "outputs": [],
   "source": [
    "# build a model and Deploying a model in web application\n",
    "import numpy as np\n",
    "import pandas as pd\n",
    "from sklearn.datasets import load_iris\n",
    "iris=load_iris()"
   ]
  },
  {
   "cell_type": "code",
   "execution_count": 32,
   "metadata": {},
   "outputs": [],
   "source": [
    "X=iris.data\n",
    "y=iris.target"
   ]
  },
  {
   "cell_type": "code",
   "execution_count": 33,
   "metadata": {},
   "outputs": [
    {
     "name": "stdout",
     "output_type": "stream",
     "text": [
      "(105, 4)\n",
      "(45, 4)\n"
     ]
    }
   ],
   "source": [
    "from sklearn.model_selection import train_test_split\n",
    "Xtrain,Xtest,ytrain,ytest=train_test_split(X,y,test_size=0.3,random_state=10)\n",
    "print(Xtrain.shape)\n",
    "print(Xtest.shape)"
   ]
  },
  {
   "cell_type": "code",
   "execution_count": 34,
   "metadata": {},
   "outputs": [],
   "source": [
    "from sklearn.neighbors import KNeighborsClassifier\n",
    "knn=KNeighborsClassifier(n_neighbors=3)"
   ]
  },
  {
   "cell_type": "code",
   "execution_count": 35,
   "metadata": {},
   "outputs": [
    {
     "name": "stdout",
     "output_type": "stream",
     "text": [
      "{'algorithm': 'auto', 'leaf_size': 30, 'metric': 'minkowski', 'metric_params': None, 'n_jobs': None, 'n_neighbors': 3, 'p': 2, 'weights': 'uniform'}\n"
     ]
    }
   ],
   "source": [
    "knn.fit(Xtrain,ytrain)\n",
    "print(knn.get_params())"
   ]
  },
  {
   "cell_type": "code",
   "execution_count": 36,
   "metadata": {},
   "outputs": [],
   "source": [
    "import pickle"
   ]
  },
  {
   "cell_type": "markdown",
   "metadata": {},
   "source": [
    "After model building activity, u need to binarize the model means u need to contain it in variable or file format.\n",
    "The process of binarising the model is called Pickling.\n",
    "Eating Pickles we Preserve in controlled condition and by that way essence of that is not going to faded out.\n",
    "Similarly ML model also been preseved and process is called Pickling.\n",
    "So 'knn' is my model which I want to preserve and which has hyper parameter=3.\n",
    "Pickling the model in such a way that I can reuse it anywhere inside my code.\n",
    "No need to use .fit everytime, can store model in a variable."
   ]
  },
  {
   "cell_type": "code",
   "execution_count": 37,
   "metadata": {},
   "outputs": [],
   "source": [
    "saved_model=pickle.dumps(knn)\n",
    "\n",
    "# Now dumping model in saved_model variable which is in binary format "
   ]
  },
  {
   "cell_type": "code",
   "execution_count": 38,
   "metadata": {},
   "outputs": [],
   "source": [
    "knn_from_pickle=pickle.loads(saved_model)\n",
    "# retrieving model from my variable using pickle.loads"
   ]
  },
  {
   "cell_type": "code",
   "execution_count": 39,
   "metadata": {},
   "outputs": [
    {
     "data": {
      "text/plain": [
       "array([1, 2, 0, 1, 0, 1, 2, 1, 0, 1, 1, 2, 1, 0, 0, 2, 1, 0, 0, 0, 2, 2,\n",
       "       2, 0, 1, 0, 1, 1, 1, 2, 1, 1, 2, 2, 2, 0, 2, 2, 2, 2, 0, 0, 1, 0,\n",
       "       1])"
      ]
     },
     "execution_count": 39,
     "metadata": {},
     "output_type": "execute_result"
    }
   ],
   "source": [
    "knn_from_pickle.predict(Xtest)\n",
    "# approach 1> reusing the model across variables here."
   ]
  },
  {
   "cell_type": "markdown",
   "metadata": {},
   "source": [
    "approach 2> Sometimes we need to take this outside our Jupyter environment where we need to reuse it in the applications we r designing. In that case we can store it in a file format. We call it as a Pickle File."
   ]
  },
  {
   "cell_type": "code",
   "execution_count": 40,
   "metadata": {},
   "outputs": [],
   "source": [
    "#from sklearn.externals import joblib\n",
    "#import sklearn.externals.joblib as extjoblib\n",
    "import joblib"
   ]
  },
  {
   "cell_type": "code",
   "execution_count": 41,
   "metadata": {},
   "outputs": [
    {
     "data": {
      "text/plain": [
       "['C:/Users/sharv/Documents/Post Graduate Program In Data Science-PurdueSimpliLearn/Course3-Machine Learning/Day 12/model.pkl']"
      ]
     },
     "execution_count": 41,
     "metadata": {},
     "output_type": "execute_result"
    }
   ],
   "source": [
    "joblib.dump(knn,'C:/Users/sharv/Documents/Post Graduate Program In Data Science-PurdueSimpliLearn/Course3-Machine Learning/Day 12/model.pkl')\n",
    "# dumps our model into a binary file which we have named as 'model.pkl'\n",
    "# it is a binary file which contains hyper parameters of ur model.\n",
    "# now we will integrate this model file into web application"
   ]
  },
  {
   "cell_type": "markdown",
   "metadata": {},
   "source": [
    "open index.html in notepad by right clicking it to see the code.\n",
    "C:\\Users\\sharv\\Documents\\Post Graduate Program In Data Science-PurdueSimpliLearn\\Course3-Machine Learning\\Day 12\\index.html\n",
    "If u dbl click index.html u will see the web application.\n",
    "Now check \"app.py\" file which is in folder- C:\\Users\\sharv\\Documents\\Post Graduate Program In Data Science-PurdueSimpliLearn\\Course3-Machine Learning\\Day 12.\n"
   ]
  },
  {
   "cell_type": "markdown",
   "metadata": {},
   "source": [
    "Open \"anaconda prompt\" and type \"python app.py\".\n",
    "u will get the port number on anaconda prompt ex:\"http://127.0.0.1:5000/\". \n",
    "copy this path and paste it in web browser. Run the application."
   ]
  },
  {
   "cell_type": "markdown",
   "metadata": {},
   "source": [
    "Pickle will save the model built in Jupyter Environment.\n",
    "Flask will integrate model into applications what u r building."
   ]
  },
  {
   "cell_type": "markdown",
   "metadata": {},
   "source": [
    "ML Pipeline: Data preprocessing, dimensionality reduction, model building, ensemble techniques, evaluation, pickle that model,\n",
    "             store it in a binary file, embed that binary file into web application, provide results for end users."
   ]
  },
  {
   "cell_type": "code",
   "execution_count": null,
   "metadata": {},
   "outputs": [],
   "source": []
  }
 ],
 "metadata": {
  "kernelspec": {
   "display_name": "Python 3",
   "language": "python",
   "name": "python3"
  },
  "language_info": {
   "codemirror_mode": {
    "name": "ipython",
    "version": 3
   },
   "file_extension": ".py",
   "mimetype": "text/x-python",
   "name": "python",
   "nbconvert_exporter": "python",
   "pygments_lexer": "ipython3",
   "version": "3.7.6"
  }
 },
 "nbformat": 4,
 "nbformat_minor": 4
}
