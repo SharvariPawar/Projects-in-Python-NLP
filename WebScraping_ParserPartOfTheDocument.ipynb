{
 "cells": [
  {
   "cell_type": "code",
   "execution_count": 2,
   "metadata": {},
   "outputs": [],
   "source": [
    "# Demonstrate how to parse only a part of document with the help of an example\n",
    "from bs4 import BeautifulSoup"
   ]
  },
  {
   "cell_type": "code",
   "execution_count": 3,
   "metadata": {},
   "outputs": [],
   "source": [
    "# sample web document from www.simplilearn.com website\n",
    "data_SL=\"\"\"<ul class=\"content-col_discover\">\n",
    "<h5>Discover</h5>\n",
    "<li><a href=\"/resources\" id=\"free_resources\">Free resources</a></li>\n",
    "<li><a href=\"http://community.simplilearn.com/\" id=\"community\">Simplilearn community</a></li>\n",
    "<li><a href=\"/career-data-labs\" id=\"lab\">Career data labs</a></li>\n",
    "<li><a href=\"/scholarships-for-veterans\" id=\"scholarship\">Veterans scholarship</a></li>\n",
    "<li><a href=\"http://www.simplilearn.com/feed/\" id=\"rss\">RSS feed</a></li>\n",
    "</ul>\"\"\""
   ]
  },
  {
   "cell_type": "code",
   "execution_count": 4,
   "metadata": {},
   "outputs": [],
   "source": [
    "# create soup object\n",
    "soup_SL=BeautifulSoup(data_SL,'html.parser')"
   ]
  },
  {
   "cell_type": "code",
   "execution_count": 5,
   "metadata": {},
   "outputs": [
    {
     "name": "stdout",
     "output_type": "stream",
     "text": [
      "\n",
      "Discover\n",
      "Free resources\n",
      "Simplilearn community\n",
      "Career data labs\n",
      "Veterans scholarship\n",
      "RSS feed\n",
      "\n"
     ]
    }
   ],
   "source": [
    "# parse only part of the document, text(string) values for tags using getText method\n",
    "print(soup_SL.get_text())"
   ]
  },
  {
   "cell_type": "code",
   "execution_count": 6,
   "metadata": {},
   "outputs": [],
   "source": [
    "# import soupStrainer class for parsing the desired part of the web document\n",
    "from bs4 import SoupStrainer"
   ]
  },
  {
   "cell_type": "code",
   "execution_count": 7,
   "metadata": {},
   "outputs": [],
   "source": [
    "# create object to parse only the id(link) with lab\n",
    "tags_with_labLink=SoupStrainer(id=\"lab\")"
   ]
  },
  {
   "cell_type": "code",
   "execution_count": 8,
   "metadata": {},
   "outputs": [
    {
     "name": "stdout",
     "output_type": "stream",
     "text": [
      "<a href=\"/career-data-labs\" id=\"lab\">\n",
      " Career data labs\n",
      "</a>\n"
     ]
    }
   ],
   "source": [
    "# print the part of the parsed document\n",
    "print(BeautifulSoup(data_SL,'html.parser',parse_only=tags_with_labLink).prettify())"
   ]
  }
 ],
 "metadata": {
  "kernelspec": {
   "display_name": "Python 3",
   "language": "python",
   "name": "python3"
  },
  "language_info": {
   "codemirror_mode": {
    "name": "ipython",
    "version": 3
   },
   "file_extension": ".py",
   "mimetype": "text/x-python",
   "name": "python",
   "nbconvert_exporter": "python",
   "pygments_lexer": "ipython3",
   "version": "3.7.6"
  }
 },
 "nbformat": 4,
 "nbformat_minor": 4
}
