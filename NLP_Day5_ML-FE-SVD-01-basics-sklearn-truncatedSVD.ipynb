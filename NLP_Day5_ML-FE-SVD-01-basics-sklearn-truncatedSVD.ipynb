{
 "cells": [
  {
   "cell_type": "markdown",
   "metadata": {},
   "source": [
    "# Singular Value Decomposition, or SVD\n",
    "\n",
    "has a wide array of applications. \n",
    "\n",
    "These include \n",
    "- dimensionality reduction, \n",
    "- image compression, \n",
    "- and denoising data. \n",
    "\n",
    "In essence, SVD states that a matrix can be represented as the product of 3 other matrices. \n",
    "\n",
    "In mathematical terms, SVD can be written as follows:\n",
    "\n",
    "$ \\Large A_{nxm} = U_{nxn} . \\Sigma . V^T_{mxm} $\n",
    "\n",
    "where n is the number of rows (i.e. samples) and m represents the number of dimensions."
   ]
  },
  {
   "cell_type": "code",
   "execution_count": 1,
   "metadata": {},
   "outputs": [],
   "source": [
    "import numpy as np\n",
    "np.set_printoptions(precision=8, suppress=True)\n",
    "\n",
    "from scipy.linalg import svd\n",
    "from sklearn.decomposition import TruncatedSVD\n",
    "\n",
    "# import plotting libraries\n",
    "import matplotlib\n",
    "import matplotlib.pyplot as plt\n",
    "from pandas.plotting import scatter_matrix\n",
    "%matplotlib inline \n",
    "\n",
    "import seaborn as sns\n",
    "sns.set(style=\"white\", color_codes=True)\n",
    "sns.set(font_scale=1.5)"
   ]
  },
  {
   "cell_type": "code",
   "execution_count": 2,
   "metadata": {},
   "outputs": [
    {
     "name": "stdout",
     "output_type": "stream",
     "text": [
      "[[ 1  2  3  4  5  6  7  8  9 10]\n",
      " [11 12 13 14 15 16 17 18 19 20]\n",
      " [21 22 23 24 25 26 27 28 29 30]]\n"
     ]
    }
   ],
   "source": [
    "# define a matrix\n",
    "M = np.array([\n",
    "            [1,2,3,4,5,6,7,8,9,10],\n",
    "            [11,12,13,14,15,16,17,18,19,20],\n",
    "            [21,22,23,24,25,26,27,28,29,30]])\n",
    "print(M)"
   ]
  },
  {
   "cell_type": "code",
   "execution_count": 3,
   "metadata": {},
   "outputs": [
    {
     "data": {
      "text/plain": [
       "(3, 10)"
      ]
     },
     "execution_count": 3,
     "metadata": {},
     "output_type": "execute_result"
    }
   ],
   "source": [
    "M.shape"
   ]
  },
  {
   "cell_type": "markdown",
   "metadata": {},
   "source": [
    "## SVD using scipy\n",
    "\n",
    "#### Returns\n",
    "__U__ : Unitary matrix having left singular vectors as columns. Of shape (M, M) or (M, K), depending on full_matrices.\n",
    "\n",
    "__s__ : The singular values, sorted in non-increasing order. Of shape (K,), with K = min(M, N).\n",
    "\n",
    "__Vh__ : Unitary matrix having right singular vectors as rows. Of shape (N, N) or (K, N) depending on full_matrices."
   ]
  },
  {
   "cell_type": "code",
   "execution_count": 4,
   "metadata": {},
   "outputs": [],
   "source": [
    "# Singular-value decomposition\n",
    "U, s, Vh = svd(M)"
   ]
  },
  {
   "cell_type": "code",
   "execution_count": 5,
   "metadata": {},
   "outputs": [
    {
     "name": "stdout",
     "output_type": "stream",
     "text": [
      "Unitary Matrix (U) : left singular vectors as columns\n"
     ]
    },
    {
     "data": {
      "text/plain": [
       "array([[-0.19101157,  0.89266338,  0.40824829],\n",
       "       [-0.51371859,  0.26348917, -0.81649658],\n",
       "       [-0.8364256 , -0.36568503,  0.40824829]])"
      ]
     },
     "execution_count": 5,
     "metadata": {},
     "output_type": "execute_result"
    }
   ],
   "source": [
    "print(\"Unitary Matrix (U) : left singular vectors as columns\")\n",
    "U"
   ]
  },
  {
   "cell_type": "code",
   "execution_count": 6,
   "metadata": {},
   "outputs": [
    {
     "name": "stdout",
     "output_type": "stream",
     "text": [
      "Diagonal Matrix (∑):  The singular values, sorted in decreasing order. Of shape (K,),\n"
     ]
    },
    {
     "data": {
      "text/plain": [
       "array([96.96573419,  7.25578339,  0.        ])"
      ]
     },
     "execution_count": 6,
     "metadata": {},
     "output_type": "execute_result"
    }
   ],
   "source": [
    "print(\"Diagonal Matrix (∑):  The singular values, sorted in decreasing order. Of shape (K,),\")\n",
    "s"
   ]
  },
  {
   "cell_type": "code",
   "execution_count": 80,
   "metadata": {},
   "outputs": [
    {
     "name": "stdout",
     "output_type": "stream",
     "text": [
      "Unitary matrix having right singular vectors as rows\n"
     ]
    },
    {
     "data": {
      "text/plain": [
       "array([[-0.24139304, -0.25728686, -0.27318068, -0.2890745 , -0.30496832,\n",
       "        -0.32086214, -0.33675595, -0.35264977, -0.36854359, -0.38443741],\n",
       "       [-0.53589546, -0.42695236, -0.31800926, -0.20906617, -0.10012307,\n",
       "         0.00882003,  0.11776313,  0.22670623,  0.33564933,  0.44459242],\n",
       "       [-0.71590327,  0.22125777,  0.35844894,  0.23137425,  0.12099174,\n",
       "         0.27768425, -0.35015608,  0.05691924, -0.00338669, -0.19723014],\n",
       "       [-0.03274747, -0.17891449, -0.37608172,  0.89207072, -0.08211107,\n",
       "        -0.11995167,  0.02920549, -0.06831525, -0.05443306, -0.00872147],\n",
       "       [-0.07588946, -0.05763181, -0.30552732, -0.08865234,  0.92223855,\n",
       "        -0.12098055, -0.00525156, -0.09919877, -0.09845351, -0.07065325],\n",
       "       [ 0.06629874,  0.08438747, -0.47449715, -0.0967393 , -0.08248279,\n",
       "         0.8362855 ,  0.03555043, -0.13520148, -0.138849  , -0.09475243],\n",
       "       [-0.33592049,  0.16549299,  0.06013546, -0.02444478, -0.06055817,\n",
       "        -0.0839398 ,  0.85527901, -0.15616659, -0.18989278, -0.22998484],\n",
       "       [-0.01998524,  0.32695283, -0.33338835, -0.05818541, -0.07378355,\n",
       "        -0.16577225, -0.03336365,  0.80303148, -0.22688989, -0.21861597],\n",
       "       [-0.02837782,  0.45212363, -0.30774474, -0.0440392 , -0.07113473,\n",
       "        -0.17462083, -0.05370963, -0.22881189,  0.72976934, -0.27345413],\n",
       "       [-0.12943549,  0.56692612, -0.16233901, -0.01621103, -0.06395043,\n",
       "        -0.16261688, -0.11168512, -0.25809567, -0.31538389,  0.65279141]])"
      ]
     },
     "execution_count": 80,
     "metadata": {},
     "output_type": "execute_result"
    }
   ],
   "source": [
    "print(\"Unitary matrix having right singular vectors as rows\")\n",
    "Vh"
   ]
  },
  {
   "cell_type": "markdown",
   "metadata": {},
   "source": [
    "## SVD using scikit learn"
   ]
  },
  {
   "cell_type": "markdown",
   "metadata": {},
   "source": [
    "## Sklearn’s SVD class\n",
    "\n",
    "- Dimensionality reduction using truncated SVD (aka LSA).\n",
    "\n",
    "- This transformer performs linear dimensionality reduction by means of truncated singular value decomposition (SVD). \n",
    "\n",
    "- Scikit-learn comes with an sklearn.decomposition.TruncatedSVD   (n_components=2, algorithm=’randomized’, n_iter=5, random_state=None, tol=0.0) class \n",
    "\n",
    "- truncated SVD works on term count/tf-idf matrices as returned by the vectorizers in sklearn.feature_extraction.text. In that context, it is known as latent semantic analysis (LSA).\n",
    "\n",
    "#### Parameters\n",
    "- __n_components__ : int, default = 2\n",
    "Desired dimensionality of output data. Must be strictly less than the number of features. The default value is useful for visualisation. For LSA, a value of 100 is recommended.\n",
    "\n",
    "- __algorithm__ : string, default = “randomized”\n",
    "SVD solver to use. Either “arpack” for the ARPACK wrapper in SciPy (scipy.sparse.linalg.svds), or “randomized” for the randomized algorithm due to Halko (2009).\n",
    "\n",
    "- __n_iter__ : int, optional (default 5)\n",
    "Number of iterations for randomized SVD solver. Not used by ARPACK. The default is larger than the default in ~sklearn.utils.extmath.randomized_svd to handle sparse matrices that may have large slowly decaying spectrum.\n",
    "\n",
    "#### Attributes\n",
    "- __components_array__, shape (n_components, n_features)\n",
    "\n",
    "- __explained_variance_array__, shape (n_components,)\n",
    "The variance of the training samples transformed by a projection to each component.\n",
    "\n",
    "- __explained_variance_ratio_array__, shape (n_components,)\n",
    "Percentage of variance explained by each of the selected components.\n",
    "\n",
    "- __singular_values_array__, shape (n_components,)\n",
    "The singular values corresponding to each of the selected components. The singular values are equal to the 2-norms of the n_components variables in the lower-dimensional space.\n"
   ]
  },
  {
   "cell_type": "code",
   "execution_count": 7,
   "metadata": {},
   "outputs": [
    {
     "data": {
      "text/plain": [
       "TruncatedSVD(algorithm='randomized', n_components=5, n_iter=7, random_state=42,\n",
       "             tol=0.0)"
      ]
     },
     "execution_count": 7,
     "metadata": {},
     "output_type": "execute_result"
    }
   ],
   "source": [
    "svd    =  TruncatedSVD(n_components=5, n_iter=7, random_state=42)\n",
    "svd.fit(M)"
   ]
  },
  {
   "cell_type": "code",
   "execution_count": 8,
   "metadata": {},
   "outputs": [
    {
     "name": "stdout",
     "output_type": "stream",
     "text": [
      "[0.97915939 0.02084061 0.        ]\n"
     ]
    }
   ],
   "source": [
    "print(svd.explained_variance_ratio_)"
   ]
  },
  {
   "cell_type": "markdown",
   "metadata": {},
   "source": [
    "# Dimensionality Reduction"
   ]
  },
  {
   "cell_type": "code",
   "execution_count": 9,
   "metadata": {},
   "outputs": [],
   "source": [
    "rng = np.random.RandomState(5)\n",
    "X = np.dot(rng.rand(10, 10), rng.randn(10, 200)).T"
   ]
  },
  {
   "cell_type": "code",
   "execution_count": 84,
   "metadata": {},
   "outputs": [
    {
     "data": {
      "text/plain": [
       "(200, 10)"
      ]
     },
     "execution_count": 84,
     "metadata": {},
     "output_type": "execute_result"
    }
   ],
   "source": [
    "X.shape"
   ]
  },
  {
   "cell_type": "code",
   "execution_count": 86,
   "metadata": {},
   "outputs": [],
   "source": [
    "# svd\n",
    "svd    = TruncatedSVD(n_components=4)\n",
    "result = svd.fit_transform(X)"
   ]
  },
  {
   "cell_type": "code",
   "execution_count": 87,
   "metadata": {},
   "outputs": [
    {
     "name": "stdout",
     "output_type": "stream",
     "text": [
      "Original Rows =  200  ,Original Columns  10\n",
      "\n",
      "New Rows =  200  , New Columns  4  \n",
      "\n"
     ]
    }
   ],
   "source": [
    "print(\"Original Rows = \",X.shape[0],\" ,Original Columns \",X.shape[1])\n",
    "# print(\"Data : \\n\",X)\n",
    "print(\"\\nNew Rows = \",result.shape[0],\" , New Columns \",result.shape[1],\" \\n\")\n"
   ]
  },
  {
   "cell_type": "code",
   "execution_count": 88,
   "metadata": {},
   "outputs": [
    {
     "name": "stdout",
     "output_type": "stream",
     "text": [
      "Explained Variance  [24.32736876  2.0071071   1.65218041  1.2451061 ]\n",
      "Explained Variance Ratio   [0.75997742 0.06270124 0.05161347 0.03889662]\n",
      "Cummulative Sum   [24.32736876 26.33447587 27.98665627 29.23176237]\n",
      "Explained Variance Ratio Sum  0.9131887399568835\n",
      "Singular Values  [69.75353834 20.12634182 18.28637318 15.79095494]\n"
     ]
    }
   ],
   "source": [
    "explained_variance=svd.explained_variance_\n",
    "explained_variance_ratio=svd.explained_variance_ratio_\n",
    "\n",
    "print(\"Explained Variance \",explained_variance)\n",
    "print(\"Explained Variance Ratio  \", explained_variance_ratio)\n",
    "print(\"Cummulative Sum  \", np.cumsum(svd.explained_variance_))\n",
    "print(\"Explained Variance Ratio Sum \",svd.explained_variance_ratio_.sum())  \n",
    "print(\"Singular Values \",svd.singular_values_)"
   ]
  },
  {
   "cell_type": "code",
   "execution_count": 71,
   "metadata": {},
   "outputs": [
    {
     "data": {
      "image/png": "[encoded data removed]",
      "text/plain": [
       "<Figure size 1008x504 with 2 Axes>"
      ]
     },
     "metadata": {},
     "output_type": "display_data"
    }
   ],
   "source": [
    "plt.figure(figsize=(14,7))\n",
    "\n",
    "plt.subplot(1, 2, 1)\n",
    "\n",
    "plt.bar(range(4), \n",
    "        explained_variance, \n",
    "        alpha=0.5, \n",
    "        align='center', \n",
    "        label='Explained variance')\n",
    "\n",
    "plt.ylabel('Explained variance')\n",
    "plt.xlabel('Principal components')\n",
    "plt.title(\"Explained Variance \", fontsize=20)\n",
    "plt.legend(loc='best')\n",
    "\n",
    "plt.step(range(4), np.cumsum(svd.explained_variance_), where='mid',label='cumulative explained variance')\n",
    "\n",
    "plt.subplot(1, 2, 2)\n",
    "\n",
    "plt.bar(range(4), \n",
    "        explained_variance_ratio, \n",
    "        alpha=0.5, \n",
    "        align='center', \n",
    "        label='Explained variance ratio')\n",
    "\n",
    "plt.ylabel('Explained variance ratio')\n",
    "plt.xlabel('Principal components')\n",
    "plt.title(\"Explained Variance Ratio\", fontsize=20)\n",
    "plt.legend(loc='best');"
   ]
  },
  {
   "cell_type": "markdown",
   "metadata": {},
   "source": [
    "## Summary \n",
    "\n",
    "In relation to text mining, SVD provides the mathematical foundation for text mining and classification techniques generally known as __latent semantic indexing__. \n",
    "\n",
    "In SVD, the matrix A is typically a __word x document matrix__, it is a way of representing the document and text as a highly dimensional vector space model.  \n",
    "\n",
    "Similarly  to PCA , SVD takes high dimensional highly variable data and reduces it to a lower dimensional space that more clearly depicts the underlying structure of the data.  \n",
    "\n",
    "SVD reduces noise and redundancy in the data leaving you with new dimensions that capture the essence of existing relationships.   \n",
    "\n",
    "With regard to text mining, SVD has the following interpretation:\n",
    "\n",
    "- words are represented as rows in U\n",
    "- word similarity can be determined by examining the rows in the matrix US\n",
    "\n",
    "- documents are represented as rows in V\n",
    "- document similarity can be determined by examining rows in VS\n",
    "\n",
    "\n",
    "#### Assume \n",
    "\n",
    "- matrix A represents an m x n word occurrence matrix where m is the number of input documents (files) and n the number of words selected for analysis. \n",
    "\n",
    "    - SVD computes the m x r orthogonal matrix U, \n",
    "    - n x r orthogonal matrix V, and \n",
    "    - r x r matrix D, so that A = UDV', and so that r is the number of eigenvalues of A'A."
   ]
  },
  {
   "cell_type": "code",
   "execution_count": null,
   "metadata": {},
   "outputs": [],
   "source": []
  }
 ],
 "metadata": {
  "kernelspec": {
   "display_name": "Python 3",
   "language": "python",
   "name": "python3"
  },
  "language_info": {
   "codemirror_mode": {
    "name": "ipython",
    "version": 3
   },
   "file_extension": ".py",
   "mimetype": "text/x-python",
   "name": "python",
   "nbconvert_exporter": "python",
   "pygments_lexer": "ipython3",
   "version": "3.7.9"
  }
 },
 "nbformat": 4,
 "nbformat_minor": 4
}
