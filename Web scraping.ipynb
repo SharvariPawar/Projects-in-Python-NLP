{
 "cells": [
  {
   "cell_type": "code",
   "execution_count": 2,
   "metadata": {},
   "outputs": [
    {
     "data": {
      "text/plain": [
       "200"
      ]
     },
     "execution_count": 2,
     "metadata": {},
     "output_type": "execute_result"
    }
   ],
   "source": [
    "import requests\n",
    "r=requests.get(\"https://www.simplilearn.com/\")\n",
    "r.status_code\n",
    "# if status_code=200 then u r good to extract the data from website.\n",
    "# If it is anything other than 200 then u don't have the access."
   ]
  },
  {
   "cell_type": "code",
   "execution_count": 5,
   "metadata": {},
   "outputs": [
    {
     "data": {
      "text/plain": [
       "503"
      ]
     },
     "execution_count": 5,
     "metadata": {},
     "output_type": "execute_result"
    }
   ],
   "source": [
    "req = requests.get('https://www.amazon.in/Thus-Spoke-Chanakya-Radhakrishnan-Pillai/dp/9386867540?ref_=ast_slp_dp')\n",
    "req.status_code"
   ]
  },
  {
   "cell_type": "code",
   "execution_count": 6,
   "metadata": {},
   "outputs": [
    {
     "data": {
      "text/plain": [
       "200"
      ]
     },
     "execution_count": 6,
     "metadata": {},
     "output_type": "execute_result"
    }
   ],
   "source": [
    "import requests\n",
    "r=requests.get(\"https://www.simplilearn.com/\")\n",
    "r.status_code"
   ]
  },
  {
   "cell_type": "code",
   "execution_count": 8,
   "metadata": {},
   "outputs": [],
   "source": [
    "# r.content"
   ]
  },
  {
   "cell_type": "code",
   "execution_count": 12,
   "metadata": {},
   "outputs": [],
   "source": [
    "from bs4 import BeautifulSoup \n",
    "Content_SL = BeautifulSoup(r.content,'html.parser')\n",
    "# Content_SL\n",
    "# print(Content_SL.prettify())"
   ]
  },
  {
   "cell_type": "code",
   "execution_count": 13,
   "metadata": {},
   "outputs": [
    {
     "data": {
      "text/plain": [
       "[<p>Digital economy training<br/> <sup>.</sup> Driving innovation and accelerating careers</p>,\n",
       " <p class=\"sliderh4\">Post Graduate Program</p>,\n",
       " <p class=\"subtext\">Learn from global experts and get certified by elite universities</p>,\n",
       " <p class=\"bullet\">Caltech CTME Post Graduate Certification</p>,\n",
       " <p class=\"bullet\">Receive 25 CEUs from Caltech CTME upon course completion</p>,\n",
       " <p class=\"bullet\">Caltech CTME Circle Membership</p>,\n",
       " <p class=\"name\">Caltech CTME</p>,\n",
       " <p class=\"bullet\">Purdue Post Graduate Program Certification</p>,\n",
       " <p class=\"bullet\">Purdue Alumni Association Membership</p>,\n",
       " <p class=\"bullet\">Masterclasses from Purdue faculty</p>,\n",
       " <p class=\"name\">Purdue University</p>,\n",
       " <p class=\"bullet\">Purdue Post Graduate Program Certification</p>,\n",
       " <p class=\"bullet\">Purdue Alumni Association Membership</p>,\n",
       " <p class=\"bullet\">Industry-recognized IBM certificates</p>,\n",
       " <p class=\"name\">Purdue University</p>,\n",
       " <p class=\"bullet\">25+ hands-on Projects on GPU enabled Labs</p>,\n",
       " <p class=\"bullet\">450+ hours of blended learning</p>,\n",
       " <p class=\"bullet\">Capstone Project in 3 Domains</p>,\n",
       " <p class=\"name\">Purdue University</p>,\n",
       " <p class=\"bullet\">Purdue Post Graduate Program Certification</p>,\n",
       " <p class=\"bullet\">Purdue Alumni Association Membership</p>,\n",
       " <p class=\"bullet\">Masterclasses from Purdue</p>,\n",
       " <p class=\"name\">Purdue University</p>,\n",
       " <p class=\"sliderh4\">Learning Paths</p>,\n",
       " <p class=\"subtext\">Achieve your career goals with industry-recognized learning paths</p>,\n",
       " <p class=\"sub-heading\"> <!-- -->Cloud Architect<!-- --> </p>,\n",
       " <p class=\"sub-heading\"> <!-- -->Artificial Intelligence Engineer<!-- --> </p>,\n",
       " <p class=\"sub-heading\"> <!-- -->Digital Marketing Specialist<!-- --> </p>,\n",
       " <p class=\"sub-heading\"> <!-- -->Data Scientist<!-- --> </p>,\n",
       " <p class=\"sub-heading\"> <!-- -->Data Science And Artificial Intelligence<!-- --> </p>,\n",
       " <p class=\"sub-heading\"> <!-- -->PMP<sup>®</sup> Plus<!-- --> </p>,\n",
       " <p class=\"sub-heading\"> <!-- -->DevOps Engineer<!-- --> </p>,\n",
       " <p class=\"sub-heading\"> <!-- -->Lean Six Sigma Expert<!-- --> </p>,\n",
       " <p class=\"sub-heading\"> <!-- -->Digital Project Manager<!-- --> </p>,\n",
       " <p class=\"sub-heading\"> <!-- -->Business Analyst<!-- --> </p>,\n",
       " <p class=\"sub-heading\"> <!-- -->Full Stack Web Developer - MEAN Stack<!-- --> </p>,\n",
       " <p class=\"sub-heading\"> <!-- -->Cyber Security Expert<!-- --> </p>,\n",
       " <p class=\"sub-heading\"> <!-- -->PMP® Renewal Pack Bundle: Earn 60 PDUs<!-- --> </p>,\n",
       " <p class=\"sub-heading\"> <!-- -->ITIL Lifecycle Expert Program<!-- --> </p>,\n",
       " <p class=\"sub-heading\"> <!-- -->Data Analyst<!-- --> </p>,\n",
       " <p class=\"sub-heading\"> <!-- -->ITIL Capability Expert Program<!-- --> </p>,\n",
       " <p class=\"sub-heading\"> <!-- -->Automation Test Engineer<!-- --> </p>,\n",
       " <p class=\"sub-heading\"> <!-- -->Big Data Engineer<!-- --> </p>,\n",
       " <p class=\"sub-heading\"> <!-- -->Integrated program in Big Data and Data Science<!-- --> </p>,\n",
       " <p class=\"sub-text\">Mix of self-paced, interactive and applied <br/>learning – better experience, better results</p>,\n",
       " <p>Curriculum developed by renowned experts <br/>and aligned with 40+ accreditation bodies</p>,\n",
       " <p>Over 1,000,000 careers fast-tracked</p>,\n",
       " <p>Skills Training: The Fuel for Great Performance Reviews</p>,\n",
       " <p class=\"border-line\">Trends and Technologies Driving Digital Transformation</p>,\n",
       " <p>Curriculum tailored to your organization, delivered with white-glove service and support</p>,\n",
       " <p class=\"name_author\">Giuseppe Giuffrida</p>,\n",
       " <p class=\"desig_author\"> <!-- -->Product Engineer Manager<!-- --> </p>,\n",
       " <p class=\"quote_descrip_p\"> \"<!-- -->The best part about the course is its flexibility and allowing participants to learn at their own pace. A great learning experience, overall!<!-- -->\" </p>,\n",
       " <p class=\"name_author\">Maria Leone</p>,\n",
       " <p class=\"desig_author\"> <!-- -->Senior Project Manager at Blue Shield of California<!-- --> </p>,\n",
       " <p class=\"quote_descrip_p\"> \"<!-- -->I wanted a leadership position as the expert, but I was not being recognized. Simplilearn's Lean Six Sigma Green Belt certification helped me to move my career forward to become a Senior Project Manager. The course was an enjoyable and motivating learning experience. I always left each session with the task of applying some piece of what I learned to my job.<!-- -->\" </p>,\n",
       " <p class=\"name_author\">Francine Gaillour</p>,\n",
       " <p class=\"desig_author\"> <!-- -->Business Strategist at Healthcare Transformation Partners<!-- --> </p>,\n",
       " <p class=\"quote_descrip_p\"> \"<!-- -->Simplilearn's PMP training brought numerous concepts together in a \"simple\" and cohesive package. I highly recommend Simplilearn's PMP training even if you don't plan to sit for the PMP exam.<!-- -->\" </p>,\n",
       " <p class=\"name_author\">Eric Hathaway</p>,\n",
       " <p class=\"desig_author\"> <!-- -->Process Improvement Consultant at Avanza CS<!-- --> </p>,\n",
       " <p class=\"quote_descrip_p\"> \"<!-- -->Simplilearn's self-paced module encouraged me to get more proactive with my learning.  I engaged with the material, took better notes, and staggered the classes to fit in with my busy schedule at Avanza CS.<!-- -->\" </p>,\n",
       " <p class=\"name_author\">Craig Mincic</p>,\n",
       " <p class=\"desig_author\"> <!-- -->Database Applications/Programmer at Northrop Grumman IT Health Professionals<!-- --> </p>,\n",
       " <p class=\"quote_descrip_p\"> \"<!-- -->The trainer tailored the material to meet the needs of students with varying skills and abilities.  I found that Simplilearn has successful programs to accommodate people who are just starting out and upskill those looking to get ahead.<!-- -->\" </p>,\n",
       " <p class=\"name_author\">Ramneek Sharma</p>,\n",
       " <p class=\"desig_author\"> <!-- -->Senior Manager at Avian-Media<!-- --> </p>,\n",
       " <p class=\"quote_descrip_p\"> \"<!-- -->Simplilearn’s digital marketing specialist course was well articulated, structured and comprehensive. The course material gave me a good understanding of the different digital marketing platforms. The certification helped me to enhance my career to a senior manager at Avian Media. <!-- -->\" </p>,\n",
       " <p class=\"name_author\">Ewort Atkinson</p>,\n",
       " <p class=\"desig_author\"> <!-- -->Digital Marketing Manager at Prism Communications Ltd.<!-- --> </p>,\n",
       " <p class=\"quote_descrip_p\"> \"<!-- -->With my digital marketing master course from Simplilearn, I was awarded a job as Digital Marketing Manager for a leading Advertising Agency. Due to my unparallel knowledge in DM, there is also a contractually binding agreement for Equity Stake. All thanks to Simplilearn.<!-- -->\" </p>,\n",
       " <p class=\"lazy\">© 2009 -<!-- -->2020<!-- -->- Simplilearn Solutions</p>,\n",
       " <p class=\"follow-us\">Follow us!</p>,\n",
       " <p class=\"follow-us\">Company</p>,\n",
       " <p class=\"follow-us\">Work with us</p>,\n",
       " <p class=\"follow-us\">Discover</p>,\n",
       " <p class=\"follow-us\">For Businesses</p>,\n",
       " <p class=\"follow-us\">Learn On the Go!</p>,\n",
       " <p>Trending Courses</p>,\n",
       " <p>Trending Master Programs</p>]"
      ]
     },
     "execution_count": 13,
     "metadata": {},
     "output_type": "execute_result"
    }
   ],
   "source": [
    "# output of all p tags irrespective of class name\n",
    "Content_SL.find_all('p') "
   ]
  },
  {
   "cell_type": "code",
   "execution_count": 15,
   "metadata": {},
   "outputs": [
    {
     "data": {
      "text/plain": [
       "<p>Digital economy training<br/> <sup>.</sup> Driving innovation and accelerating careers</p>"
      ]
     },
     "execution_count": 15,
     "metadata": {},
     "output_type": "execute_result"
    }
   ],
   "source": [
    "Content_SL.find('p') "
   ]
  },
  {
   "cell_type": "code",
   "execution_count": 14,
   "metadata": {},
   "outputs": [
    {
     "data": {
      "text/plain": [
       "[<p class=\"sub-heading\"> <!-- -->Cloud Architect<!-- --> </p>,\n",
       " <p class=\"sub-heading\"> <!-- -->Artificial Intelligence Engineer<!-- --> </p>,\n",
       " <p class=\"sub-heading\"> <!-- -->Digital Marketing Specialist<!-- --> </p>,\n",
       " <p class=\"sub-heading\"> <!-- -->Data Scientist<!-- --> </p>,\n",
       " <p class=\"sub-heading\"> <!-- -->Data Science And Artificial Intelligence<!-- --> </p>,\n",
       " <p class=\"sub-heading\"> <!-- -->PMP<sup>®</sup> Plus<!-- --> </p>,\n",
       " <p class=\"sub-heading\"> <!-- -->DevOps Engineer<!-- --> </p>,\n",
       " <p class=\"sub-heading\"> <!-- -->Lean Six Sigma Expert<!-- --> </p>,\n",
       " <p class=\"sub-heading\"> <!-- -->Digital Project Manager<!-- --> </p>,\n",
       " <p class=\"sub-heading\"> <!-- -->Business Analyst<!-- --> </p>,\n",
       " <p class=\"sub-heading\"> <!-- -->Full Stack Web Developer - MEAN Stack<!-- --> </p>,\n",
       " <p class=\"sub-heading\"> <!-- -->Cyber Security Expert<!-- --> </p>,\n",
       " <p class=\"sub-heading\"> <!-- -->PMP® Renewal Pack Bundle: Earn 60 PDUs<!-- --> </p>,\n",
       " <p class=\"sub-heading\"> <!-- -->ITIL Lifecycle Expert Program<!-- --> </p>,\n",
       " <p class=\"sub-heading\"> <!-- -->Data Analyst<!-- --> </p>,\n",
       " <p class=\"sub-heading\"> <!-- -->ITIL Capability Expert Program<!-- --> </p>,\n",
       " <p class=\"sub-heading\"> <!-- -->Automation Test Engineer<!-- --> </p>,\n",
       " <p class=\"sub-heading\"> <!-- -->Big Data Engineer<!-- --> </p>,\n",
       " <p class=\"sub-heading\"> <!-- -->Integrated program in Big Data and Data Science<!-- --> </p>]"
      ]
     },
     "execution_count": 14,
     "metadata": {},
     "output_type": "execute_result"
    }
   ],
   "source": [
    "course_name = Content_SL.find_all('p',attrs={'class':\"sub-heading\"})\n",
    "course_name"
   ]
  },
  {
   "cell_type": "code",
   "execution_count": 15,
   "metadata": {},
   "outputs": [
    {
     "data": {
      "text/plain": [
       "19"
      ]
     },
     "execution_count": 15,
     "metadata": {},
     "output_type": "execute_result"
    }
   ],
   "source": [
    "len(course_name)"
   ]
  },
  {
   "cell_type": "code",
   "execution_count": 16,
   "metadata": {},
   "outputs": [
    {
     "name": "stdout",
     "output_type": "stream",
     "text": [
      " Cloud Architect \n",
      " Artificial Intelligence Engineer \n",
      " Digital Marketing Specialist \n",
      " Data Scientist \n",
      " Data Science And Artificial Intelligence \n",
      " PMP® Plus \n",
      " DevOps Engineer \n",
      " Lean Six Sigma Expert \n",
      " Digital Project Manager \n",
      " Business Analyst \n",
      " Full Stack Web Developer - MEAN Stack \n",
      " Cyber Security Expert \n",
      " PMP® Renewal Pack Bundle: Earn 60 PDUs \n",
      " ITIL Lifecycle Expert Program \n",
      " Data Analyst \n",
      " ITIL Capability Expert Program \n",
      " Automation Test Engineer \n",
      " Big Data Engineer \n",
      " Integrated program in Big Data and Data Science \n"
     ]
    }
   ],
   "source": [
    "for course in course_name:\n",
    "    print(course.text)"
   ]
  },
  {
   "cell_type": "code",
   "execution_count": 18,
   "metadata": {},
   "outputs": [
    {
     "data": {
      "text/plain": [
       "[' Cloud Architect ',\n",
       " ' Artificial Intelligence Engineer ',\n",
       " ' Digital Marketing Specialist ',\n",
       " ' Data Scientist ',\n",
       " ' Data Science And Artificial Intelligence ',\n",
       " ' PMP® Plus ',\n",
       " ' DevOps Engineer ',\n",
       " ' Lean Six Sigma Expert ',\n",
       " ' Digital Project Manager ',\n",
       " ' Business Analyst ',\n",
       " ' Full Stack Web Developer - MEAN Stack ',\n",
       " ' Cyber Security Expert ',\n",
       " ' PMP® Renewal Pack Bundle: Earn 60 PDUs ',\n",
       " ' ITIL Lifecycle Expert Program ',\n",
       " ' Data Analyst ',\n",
       " ' ITIL Capability Expert Program ',\n",
       " ' Automation Test Engineer ',\n",
       " ' Big Data Engineer ',\n",
       " ' Integrated program in Big Data and Data Science ']"
      ]
     },
     "execution_count": 18,
     "metadata": {},
     "output_type": "execute_result"
    }
   ],
   "source": [
    "course_list =[]\n",
    "for course in course_name:\n",
    "    course_list.append(course.text)\n",
    "course_list"
   ]
  },
  {
   "cell_type": "code",
   "execution_count": null,
   "metadata": {},
   "outputs": [],
   "source": [
    "# Case study 2 - Scraping ebooks website - https://www.free-ebooks.net/best-books"
   ]
  },
  {
   "cell_type": "code",
   "execution_count": 20,
   "metadata": {},
   "outputs": [
    {
     "data": {
      "text/plain": [
       "200"
      ]
     },
     "execution_count": 20,
     "metadata": {},
     "output_type": "execute_result"
    }
   ],
   "source": [
    "r=requests.get(\"https://www.free-ebooks.net/best-books\")\n",
    "r.status_code"
   ]
  },
  {
   "cell_type": "code",
   "execution_count": 21,
   "metadata": {},
   "outputs": [],
   "source": [
    "soup=BeautifulSoup(r.content,'html.parser')"
   ]
  },
  {
   "cell_type": "code",
   "execution_count": 22,
   "metadata": {},
   "outputs": [
    {
     "data": {
      "text/plain": [
       "[<p class=\"book-description\">Leo Felix is a young man whose life became miserable at the age of five. He grows up as a gambler… full of anger, grief, vengeance and regrets─ his life is in darkness. He’s forced to attend the music school where he bumps into a girl and fall for her on first sight. He is not alone… there is a tough rival after the girl too. He is...</p>,\n",
       " <p class=\"book-description\">There are beings that live a shadow's breadth from our reality...They are the dreams and nightmares of humanity, the ancient seeds of fairy-tale and superstition. These are the Immortals, creatures of magic that should live forever... and they are fading.When a horror two thousand years dead returns to contemporary England, creatures long thought...</p>,\n",
       " <p class=\"book-description\">Retirement -the ultimate journey can be disastrous or amazing. Retirement means you become a yesterdays people, often the relevance of the tomorrow is lost. This book shows how yesterdays people can earn their wings to become today's butterflies.In this book you will see cameos of people who generously shared their stories of how they made the...</p>,\n",
       " <p class=\"book-description\">A fantasy book which combines little stories and legends of the Japanese culture with the story of a group of children finding their place in more than just one world. Their adventures happen mostly in Fantasia, a world of magic where they learn how to combine their abilities and learn to protect themselves and the worlds they love creating a...</p>,\n",
       " <p class=\"book-description\">book trailer here: https://youtu.be/JN43bQfPmb4\n",
       " Loving someone can make you so fucking happy, and make you cry at the same time. It can ruin you, if you let it consume you. But, what if there's no other way, what if it's destined. Written in the cold air, in the pouring rain, in the waves. What if it's meant to be, no matter what? You save each...</p>,\n",
       " <p class=\"book-description\">A science-loving gifted man reflects upon hs life. There's a twist at the end, you will never guess who he is.\n",
       " What if your IQ was off the charts ? What would it entail ? How would you feel if you were so unique nobody could understand you ?\n",
       " This story gives you an answer .</p>,\n",
       " <p class=\"book-description\">Sophie Archer has lived by the rules her whole life, until he showed up and broke every single one of them. Noah was everything she ever wanted, and yet he was the one she could never allow herself to have. Until now. In part 1 of Sweet DESIRE Sophie and Noah discover the attraction they feel for each other and start exploring the possibility of...</p>,\n",
       " <p class=\"book-description\">How do you track down a killer when he has no face? The corpse of a millionaire antique collector is found in New York on the eve of a major auction. The last thing he saw in the darkness, seconds before his grisly demise, was something that terrified him beyond imagination and was enough to end his life. But was it a man or was it a ghost? Now...</p>,\n",
       " <p class=\"book-description\">Romantic Comedy about the young Leonardo DaVinci in a modern telling of how the painting of the Mona Lisa was related to his own personal heartbreak.</p>,\n",
       " <p class=\"book-description\">The road trip is on! It’s the early 80s, and two good friends, Matt and Sandy, decide to head off around New Zealand’s South Island in a battered old van. They are accompanied on their journey with a ready supply of humour, if not by much money. That humorous take on things definitely comes in handy, as along the way they get themselves into...</p>]"
      ]
     },
     "execution_count": 22,
     "metadata": {},
     "output_type": "execute_result"
    }
   ],
   "source": [
    "# book description\n",
    "Book_desc = soup.find_all('p',attrs={'class':'book-description'})\n",
    "Book_desc"
   ]
  },
  {
   "cell_type": "code",
   "execution_count": 23,
   "metadata": {},
   "outputs": [
    {
     "data": {
      "text/plain": [
       "['Leo Felix is a young man whose life became miserable at the age of five. He grows up as a gambler… full of anger, grief, vengeance and regrets─ his life is in darkness. He’s forced to attend the music school where he bumps into a girl and fall for her on first sight. He is not alone… there is a tough rival after the girl too. He is...',\n",
       " \"There are beings that live a shadow's breadth from our reality...They are the dreams and nightmares of humanity, the ancient seeds of fairy-tale and superstition. These are the Immortals, creatures of magic that should live forever... and they are fading.When a horror two thousand years dead returns to contemporary England, creatures long thought...\",\n",
       " \"Retirement -the ultimate journey can be disastrous or amazing. Retirement means you become a yesterdays people, often the relevance of the tomorrow is lost. This book shows how yesterdays people can earn their wings to become today's butterflies.In this book you will see cameos of people who generously shared their stories of how they made the...\",\n",
       " 'A fantasy book which combines little stories and legends of the Japanese culture with the story of a group of children finding their place in more than just one world. Their adventures happen mostly in Fantasia, a world of magic where they learn how to combine their abilities and learn to protect themselves and the worlds they love creating a...',\n",
       " \"book trailer here: https://youtu.be/JN43bQfPmb4\\r\\nLoving someone can make you so fucking happy, and make you cry at the same time. It can ruin you, if you let it consume you. But, what if there's no other way, what if it's destined. Written in the cold air, in the pouring rain, in the waves. What if it's meant to be, no matter what? You save each...\",\n",
       " \"A science-loving gifted man reflects upon hs life. There's a twist at the end, you will never guess who he is.\\r\\nWhat if your IQ was off the charts ? What would it entail ? How would you feel if you were so unique nobody could understand you ?\\r\\nThis story gives you an answer .\",\n",
       " 'Sophie Archer has lived by the rules her whole life, until he showed up and broke every single one of them. Noah was everything she ever wanted, and yet he was the one she could never allow herself to have. Until now. In part 1 of Sweet DESIRE Sophie and Noah discover the attraction they feel for each other and start exploring the possibility of...',\n",
       " 'How do you track down a killer when he has no face? The corpse of a millionaire antique collector is found in New York on the eve of a major auction. The last thing he saw in the darkness, seconds before his grisly demise, was something that terrified him beyond imagination and was enough to end his life. But was it a man or was it a ghost? Now...',\n",
       " 'Romantic Comedy about the young Leonardo DaVinci in a modern telling of how the painting of the Mona Lisa was related to his own personal heartbreak.',\n",
       " 'The road trip is on! It’s the early 80s, and two good friends, Matt and Sandy, decide to head off around New Zealand’s South Island in a battered old van. They are accompanied on their journey with a ready supply of humour, if not by much money. That humorous take on things definitely comes in handy, as along the way they get themselves into...']"
      ]
     },
     "execution_count": 23,
     "metadata": {},
     "output_type": "execute_result"
    }
   ],
   "source": [
    "Book_desc_list =[]\n",
    "for book in Book_desc:\n",
    "    Book_desc_list.append(book.text)\n",
    "Book_desc_list"
   ]
  },
  {
   "cell_type": "code",
   "execution_count": 24,
   "metadata": {},
   "outputs": [
    {
     "data": {
      "text/plain": [
       "10"
      ]
     },
     "execution_count": 24,
     "metadata": {},
     "output_type": "execute_result"
    }
   ],
   "source": [
    "len(Book_desc_list)"
   ]
  },
  {
   "cell_type": "code",
   "execution_count": 25,
   "metadata": {},
   "outputs": [
    {
     "data": {
      "text/plain": [
       "[<a class=\"title\" href=\"/romance/The-Love-Eclipse-Darkness-In-The-Light\">The Love Eclipse: Darkness In The Light</a>,\n",
       " <a class=\"title\" href=\"/sci-fi-fantasy/Immortals-Requiem\">Immortals' Requiem</a>,\n",
       " <a class=\"title\" href=\"/educational/Yesterdays-People\">Yesterdays People</a>,\n",
       " <a class=\"title\" href=\"/fiction/Moons-of-Amaterasu\">Moons of Amaterasu</a>,\n",
       " <a class=\"title\" href=\"/romance/You-Saved-Me-Once\">You Saved Me Once</a>,\n",
       " <a class=\"title\" href=\"/flash-fiction/HE-Universal-Bonds\">HE, Universal Bonds</a>,\n",
       " <a class=\"title\" href=\"/romance/Sweet-Desire-Part-1-Within-Your-Embrace-series-book-1\">Sweet Desire Part 1 (Within Your Embrace series book 1)</a>,\n",
       " <a class=\"title\" href=\"/mystery/Codename-Chimera\">Codename: Chimera</a>,\n",
       " <a class=\"title\" href=\"/romance/Da-Vinci-in-Love\">Da Vinci in Love</a>,\n",
       " <a class=\"title\" href=\"/fiction/Cruising-the-South\">Cruising the South</a>]"
      ]
     },
     "execution_count": 25,
     "metadata": {},
     "output_type": "execute_result"
    }
   ],
   "source": [
    "book_names = soup.find_all('a',attrs={'class':'title'})\n",
    "book_names"
   ]
  },
  {
   "cell_type": "code",
   "execution_count": 26,
   "metadata": {},
   "outputs": [
    {
     "data": {
      "text/plain": [
       "['The Love Eclipse: Darkness In The Light',\n",
       " \"Immortals' Requiem\",\n",
       " 'Yesterdays People',\n",
       " 'Moons of Amaterasu',\n",
       " 'You Saved Me Once',\n",
       " 'HE, Universal Bonds',\n",
       " 'Sweet Desire Part 1 (Within Your Embrace series book 1)',\n",
       " 'Codename: Chimera',\n",
       " 'Da Vinci in Love',\n",
       " 'Cruising the South']"
      ]
     },
     "execution_count": 26,
     "metadata": {},
     "output_type": "execute_result"
    }
   ],
   "source": [
    "book_list =[]\n",
    "for book in list(book_names):\n",
    "    book_list.append(book.text)\n",
    "book_list"
   ]
  },
  {
   "cell_type": "code",
   "execution_count": 27,
   "metadata": {},
   "outputs": [
    {
     "data": {
      "text/plain": [
       "10"
      ]
     },
     "execution_count": 27,
     "metadata": {},
     "output_type": "execute_result"
    }
   ],
   "source": [
    "len(book_list)"
   ]
  },
  {
   "cell_type": "code",
   "execution_count": 31,
   "metadata": {},
   "outputs": [
    {
     "data": {
      "text/html": [
       "<div>\n",
       "<style scoped>\n",
       "    .dataframe tbody tr th:only-of-type {\n",
       "        vertical-align: middle;\n",
       "    }\n",
       "\n",
       "    .dataframe tbody tr th {\n",
       "        vertical-align: top;\n",
       "    }\n",
       "\n",
       "    .dataframe thead th {\n",
       "        text-align: right;\n",
       "    }\n",
       "</style>\n",
       "<table border=\"1\" class=\"dataframe\">\n",
       "  <thead>\n",
       "    <tr style=\"text-align: right;\">\n",
       "      <th></th>\n",
       "      <th>Book_Name</th>\n",
       "      <th>Book_desc</th>\n",
       "    </tr>\n",
       "  </thead>\n",
       "  <tbody>\n",
       "    <tr>\n",
       "      <th>0</th>\n",
       "      <td>The Love Eclipse: Darkness In The Light</td>\n",
       "      <td>Leo Felix is a young man whose life became mis...</td>\n",
       "    </tr>\n",
       "    <tr>\n",
       "      <th>1</th>\n",
       "      <td>Immortals' Requiem</td>\n",
       "      <td>There are beings that live a shadow's breadth ...</td>\n",
       "    </tr>\n",
       "    <tr>\n",
       "      <th>2</th>\n",
       "      <td>Yesterdays People</td>\n",
       "      <td>Retirement -the ultimate journey can be disast...</td>\n",
       "    </tr>\n",
       "    <tr>\n",
       "      <th>3</th>\n",
       "      <td>Moons of Amaterasu</td>\n",
       "      <td>A fantasy book which combines little stories a...</td>\n",
       "    </tr>\n",
       "    <tr>\n",
       "      <th>4</th>\n",
       "      <td>You Saved Me Once</td>\n",
       "      <td>book trailer here: https://youtu.be/JN43bQfPmb...</td>\n",
       "    </tr>\n",
       "    <tr>\n",
       "      <th>5</th>\n",
       "      <td>HE, Universal Bonds</td>\n",
       "      <td>A science-loving gifted man reflects upon hs l...</td>\n",
       "    </tr>\n",
       "    <tr>\n",
       "      <th>6</th>\n",
       "      <td>Sweet Desire Part 1 (Within Your Embrace serie...</td>\n",
       "      <td>Sophie Archer has lived by the rules her whole...</td>\n",
       "    </tr>\n",
       "    <tr>\n",
       "      <th>7</th>\n",
       "      <td>Codename: Chimera</td>\n",
       "      <td>How do you track down a killer when he has no ...</td>\n",
       "    </tr>\n",
       "    <tr>\n",
       "      <th>8</th>\n",
       "      <td>Da Vinci in Love</td>\n",
       "      <td>Romantic Comedy about the young Leonardo DaVin...</td>\n",
       "    </tr>\n",
       "    <tr>\n",
       "      <th>9</th>\n",
       "      <td>Cruising the South</td>\n",
       "      <td>The road trip is on! It’s the early 80s, and t...</td>\n",
       "    </tr>\n",
       "  </tbody>\n",
       "</table>\n",
       "</div>"
      ],
      "text/plain": [
       "                                           Book_Name  \\\n",
       "0            The Love Eclipse: Darkness In The Light   \n",
       "1                                 Immortals' Requiem   \n",
       "2                                  Yesterdays People   \n",
       "3                                 Moons of Amaterasu   \n",
       "4                                  You Saved Me Once   \n",
       "5                                HE, Universal Bonds   \n",
       "6  Sweet Desire Part 1 (Within Your Embrace serie...   \n",
       "7                                  Codename: Chimera   \n",
       "8                                   Da Vinci in Love   \n",
       "9                                 Cruising the South   \n",
       "\n",
       "                                           Book_desc  \n",
       "0  Leo Felix is a young man whose life became mis...  \n",
       "1  There are beings that live a shadow's breadth ...  \n",
       "2  Retirement -the ultimate journey can be disast...  \n",
       "3  A fantasy book which combines little stories a...  \n",
       "4  book trailer here: https://youtu.be/JN43bQfPmb...  \n",
       "5  A science-loving gifted man reflects upon hs l...  \n",
       "6  Sophie Archer has lived by the rules her whole...  \n",
       "7  How do you track down a killer when he has no ...  \n",
       "8  Romantic Comedy about the young Leonardo DaVin...  \n",
       "9  The road trip is on! It’s the early 80s, and t...  "
      ]
     },
     "execution_count": 31,
     "metadata": {},
     "output_type": "execute_result"
    }
   ],
   "source": [
    "import pandas as pd\n",
    "Book_info = pd.DataFrame({'Book_Name':[],'Book_desc':[]})\n",
    "for book_nm, desc in zip(book_list,Book_desc_list):\n",
    "    Book_info_subset = pd.DataFrame({'Book_Name':[book_nm],'Book_desc':[desc]}) # creating a temporary table with 1 rec/ iteration\n",
    "    Book_info = pd.concat([Book_info,Book_info_subset],axis=0) # updating the main data frame with additional temp record\n",
    "Book_info.reset_index(drop=True)"
   ]
  },
  {
   "cell_type": "code",
   "execution_count": 41,
   "metadata": {},
   "outputs": [
    {
     "data": {
      "text/html": [
       "<div>\n",
       "<style scoped>\n",
       "    .dataframe tbody tr th:only-of-type {\n",
       "        vertical-align: middle;\n",
       "    }\n",
       "\n",
       "    .dataframe tbody tr th {\n",
       "        vertical-align: top;\n",
       "    }\n",
       "\n",
       "    .dataframe thead th {\n",
       "        text-align: right;\n",
       "    }\n",
       "</style>\n",
       "<table border=\"1\" class=\"dataframe\">\n",
       "  <thead>\n",
       "    <tr style=\"text-align: right;\">\n",
       "      <th></th>\n",
       "      <th>0</th>\n",
       "      <th>1</th>\n",
       "    </tr>\n",
       "  </thead>\n",
       "  <tbody>\n",
       "    <tr>\n",
       "      <th>0</th>\n",
       "      <td>The Love Eclipse: Darkness In The Light</td>\n",
       "      <td>Leo Felix is a young man whose life became mis...</td>\n",
       "    </tr>\n",
       "    <tr>\n",
       "      <th>1</th>\n",
       "      <td>Immortals' Requiem</td>\n",
       "      <td>There are beings that live a shadow's breadth ...</td>\n",
       "    </tr>\n",
       "    <tr>\n",
       "      <th>2</th>\n",
       "      <td>Yesterdays People</td>\n",
       "      <td>Retirement -the ultimate journey can be disast...</td>\n",
       "    </tr>\n",
       "    <tr>\n",
       "      <th>3</th>\n",
       "      <td>Moons of Amaterasu</td>\n",
       "      <td>A fantasy book which combines little stories a...</td>\n",
       "    </tr>\n",
       "    <tr>\n",
       "      <th>4</th>\n",
       "      <td>You Saved Me Once</td>\n",
       "      <td>book trailer here: https://youtu.be/JN43bQfPmb...</td>\n",
       "    </tr>\n",
       "    <tr>\n",
       "      <th>5</th>\n",
       "      <td>HE, Universal Bonds</td>\n",
       "      <td>A science-loving gifted man reflects upon hs l...</td>\n",
       "    </tr>\n",
       "    <tr>\n",
       "      <th>6</th>\n",
       "      <td>Sweet Desire Part 1 (Within Your Embrace serie...</td>\n",
       "      <td>Sophie Archer has lived by the rules her whole...</td>\n",
       "    </tr>\n",
       "    <tr>\n",
       "      <th>7</th>\n",
       "      <td>Codename: Chimera</td>\n",
       "      <td>How do you track down a killer when he has no ...</td>\n",
       "    </tr>\n",
       "    <tr>\n",
       "      <th>8</th>\n",
       "      <td>Da Vinci in Love</td>\n",
       "      <td>Romantic Comedy about the young Leonardo DaVin...</td>\n",
       "    </tr>\n",
       "    <tr>\n",
       "      <th>9</th>\n",
       "      <td>Cruising the South</td>\n",
       "      <td>The road trip is on! It’s the early 80s, and t...</td>\n",
       "    </tr>\n",
       "  </tbody>\n",
       "</table>\n",
       "</div>"
      ],
      "text/plain": [
       "                                                   0  \\\n",
       "0            The Love Eclipse: Darkness In The Light   \n",
       "1                                 Immortals' Requiem   \n",
       "2                                  Yesterdays People   \n",
       "3                                 Moons of Amaterasu   \n",
       "4                                  You Saved Me Once   \n",
       "5                                HE, Universal Bonds   \n",
       "6  Sweet Desire Part 1 (Within Your Embrace serie...   \n",
       "7                                  Codename: Chimera   \n",
       "8                                   Da Vinci in Love   \n",
       "9                                 Cruising the South   \n",
       "\n",
       "                                                   1  \n",
       "0  Leo Felix is a young man whose life became mis...  \n",
       "1  There are beings that live a shadow's breadth ...  \n",
       "2  Retirement -the ultimate journey can be disast...  \n",
       "3  A fantasy book which combines little stories a...  \n",
       "4  book trailer here: https://youtu.be/JN43bQfPmb...  \n",
       "5  A science-loving gifted man reflects upon hs l...  \n",
       "6  Sophie Archer has lived by the rules her whole...  \n",
       "7  How do you track down a killer when he has no ...  \n",
       "8  Romantic Comedy about the young Leonardo DaVin...  \n",
       "9  The road trip is on! It’s the early 80s, and t...  "
      ]
     },
     "execution_count": 41,
     "metadata": {},
     "output_type": "execute_result"
    }
   ],
   "source": [
    "# or easy way\n",
    "Book_name_desc = pd.concat([pd.Series(book_list),pd.Series(Book_desc_list)],axis=1)\n",
    "Book_name_desc"
   ]
  },
  {
   "cell_type": "code",
   "execution_count": 45,
   "metadata": {},
   "outputs": [
    {
     "data": {
      "text/html": [
       "<div>\n",
       "<style scoped>\n",
       "    .dataframe tbody tr th:only-of-type {\n",
       "        vertical-align: middle;\n",
       "    }\n",
       "\n",
       "    .dataframe tbody tr th {\n",
       "        vertical-align: top;\n",
       "    }\n",
       "\n",
       "    .dataframe thead th {\n",
       "        text-align: right;\n",
       "    }\n",
       "</style>\n",
       "<table border=\"1\" class=\"dataframe\">\n",
       "  <thead>\n",
       "    <tr style=\"text-align: right;\">\n",
       "      <th></th>\n",
       "      <th>Book_Name</th>\n",
       "      <th>Book_desc</th>\n",
       "    </tr>\n",
       "  </thead>\n",
       "  <tbody>\n",
       "    <tr>\n",
       "      <th>0</th>\n",
       "      <td>The Love Eclipse: Darkness In The Light</td>\n",
       "      <td>Leo Felix is a young man whose life became mis...</td>\n",
       "    </tr>\n",
       "    <tr>\n",
       "      <th>1</th>\n",
       "      <td>Immortals' Requiem</td>\n",
       "      <td>There are beings that live a shadow's breadth ...</td>\n",
       "    </tr>\n",
       "    <tr>\n",
       "      <th>2</th>\n",
       "      <td>Yesterdays People</td>\n",
       "      <td>Retirement -the ultimate journey can be disast...</td>\n",
       "    </tr>\n",
       "    <tr>\n",
       "      <th>3</th>\n",
       "      <td>Moons of Amaterasu</td>\n",
       "      <td>A fantasy book which combines little stories a...</td>\n",
       "    </tr>\n",
       "    <tr>\n",
       "      <th>4</th>\n",
       "      <td>You Saved Me Once</td>\n",
       "      <td>book trailer here: https://youtu.be/JN43bQfPmb...</td>\n",
       "    </tr>\n",
       "    <tr>\n",
       "      <th>5</th>\n",
       "      <td>HE, Universal Bonds</td>\n",
       "      <td>A science-loving gifted man reflects upon hs l...</td>\n",
       "    </tr>\n",
       "    <tr>\n",
       "      <th>6</th>\n",
       "      <td>Sweet Desire Part 1 (Within Your Embrace serie...</td>\n",
       "      <td>Sophie Archer has lived by the rules her whole...</td>\n",
       "    </tr>\n",
       "    <tr>\n",
       "      <th>7</th>\n",
       "      <td>Codename: Chimera</td>\n",
       "      <td>How do you track down a killer when he has no ...</td>\n",
       "    </tr>\n",
       "    <tr>\n",
       "      <th>8</th>\n",
       "      <td>Da Vinci in Love</td>\n",
       "      <td>Romantic Comedy about the young Leonardo DaVin...</td>\n",
       "    </tr>\n",
       "    <tr>\n",
       "      <th>9</th>\n",
       "      <td>Cruising the South</td>\n",
       "      <td>The road trip is on! It’s the early 80s, and t...</td>\n",
       "    </tr>\n",
       "  </tbody>\n",
       "</table>\n",
       "</div>"
      ],
      "text/plain": [
       "                                           Book_Name  \\\n",
       "0            The Love Eclipse: Darkness In The Light   \n",
       "1                                 Immortals' Requiem   \n",
       "2                                  Yesterdays People   \n",
       "3                                 Moons of Amaterasu   \n",
       "4                                  You Saved Me Once   \n",
       "5                                HE, Universal Bonds   \n",
       "6  Sweet Desire Part 1 (Within Your Embrace serie...   \n",
       "7                                  Codename: Chimera   \n",
       "8                                   Da Vinci in Love   \n",
       "9                                 Cruising the South   \n",
       "\n",
       "                                           Book_desc  \n",
       "0  Leo Felix is a young man whose life became mis...  \n",
       "1  There are beings that live a shadow's breadth ...  \n",
       "2  Retirement -the ultimate journey can be disast...  \n",
       "3  A fantasy book which combines little stories a...  \n",
       "4  book trailer here: https://youtu.be/JN43bQfPmb...  \n",
       "5  A science-loving gifted man reflects upon hs l...  \n",
       "6  Sophie Archer has lived by the rules her whole...  \n",
       "7  How do you track down a killer when he has no ...  \n",
       "8  Romantic Comedy about the young Leonardo DaVin...  \n",
       "9  The road trip is on! It’s the early 80s, and t...  "
      ]
     },
     "execution_count": 45,
     "metadata": {},
     "output_type": "execute_result"
    }
   ],
   "source": [
    "Book_name_desc.columns=['Book_Name','Book_desc']\n",
    "Book_name_desc"
   ]
  },
  {
   "cell_type": "code",
   "execution_count": null,
   "metadata": {},
   "outputs": [],
   "source": [
    "''' OPTIONAL\n",
    "Home work: - \n",
    "1. Use Amazon.in website to extract information for a particular product type you are interested in\n",
    "2. Participants – Any other use cases you think of webscaping?\n",
    "'''"
   ]
  },
  {
   "cell_type": "code",
   "execution_count": null,
   "metadata": {},
   "outputs": [],
   "source": [
    "# Project on July 18 - Comcast customer complaints (Project 2)\n",
    "# Skills Required - Basic Python (Lesson 3,4,5) + Lesson 07 (pandas) + Lesson 10 (Data visualization) \n",
    "# Pandas - specifically create a new variable, group by, filtering data "
   ]
  },
  {
   "cell_type": "code",
   "execution_count": 35,
   "metadata": {},
   "outputs": [
    {
     "data": {
      "text/html": [
       "<div>\n",
       "<style scoped>\n",
       "    .dataframe tbody tr th:only-of-type {\n",
       "        vertical-align: middle;\n",
       "    }\n",
       "\n",
       "    .dataframe tbody tr th {\n",
       "        vertical-align: top;\n",
       "    }\n",
       "\n",
       "    .dataframe thead th {\n",
       "        text-align: right;\n",
       "    }\n",
       "</style>\n",
       "<table border=\"1\" class=\"dataframe\">\n",
       "  <thead>\n",
       "    <tr style=\"text-align: right;\">\n",
       "      <th></th>\n",
       "      <th>Date_of_purchase</th>\n",
       "      <th>Sales</th>\n",
       "    </tr>\n",
       "  </thead>\n",
       "  <tbody>\n",
       "    <tr>\n",
       "      <th>0</th>\n",
       "      <td>22-04-2015</td>\n",
       "      <td>100</td>\n",
       "    </tr>\n",
       "    <tr>\n",
       "      <th>1</th>\n",
       "      <td>04-05-2015</td>\n",
       "      <td>150</td>\n",
       "    </tr>\n",
       "  </tbody>\n",
       "</table>\n",
       "</div>"
      ],
      "text/plain": [
       "  Date_of_purchase  Sales\n",
       "0       22-04-2015    100\n",
       "1       04-05-2015    150"
      ]
     },
     "execution_count": 35,
     "metadata": {},
     "output_type": "execute_result"
    }
   ],
   "source": [
    "import pandas as pd\n",
    "Sales_data = pd.DataFrame({'Date_of_purchase':['22-04-2015','04-05-2015'],'Sales':[100,150]})\n",
    "Sales_data"
   ]
  },
  {
   "cell_type": "code",
   "execution_count": 36,
   "metadata": {},
   "outputs": [
    {
     "name": "stdout",
     "output_type": "stream",
     "text": [
      "<class 'pandas.core.frame.DataFrame'>\n",
      "RangeIndex: 2 entries, 0 to 1\n",
      "Data columns (total 2 columns):\n",
      " #   Column            Non-Null Count  Dtype \n",
      "---  ------            --------------  ----- \n",
      " 0   Date_of_purchase  2 non-null      object\n",
      " 1   Sales             2 non-null      int64 \n",
      "dtypes: int64(1), object(1)\n",
      "memory usage: 160.0+ bytes\n"
     ]
    }
   ],
   "source": [
    "Sales_data.info()"
   ]
  },
  {
   "cell_type": "code",
   "execution_count": 37,
   "metadata": {},
   "outputs": [
    {
     "name": "stdout",
     "output_type": "stream",
     "text": [
      "<class 'pandas.core.frame.DataFrame'>\n",
      "RangeIndex: 2 entries, 0 to 1\n",
      "Data columns (total 2 columns):\n",
      " #   Column            Non-Null Count  Dtype         \n",
      "---  ------            --------------  -----         \n",
      " 0   Date_of_purchase  2 non-null      datetime64[ns]\n",
      " 1   Sales             2 non-null      int64         \n",
      "dtypes: datetime64[ns](1), int64(1)\n",
      "memory usage: 160.0 bytes\n"
     ]
    }
   ],
   "source": [
    "Sales_data.Date_of_purchase = pd.to_datetime(Sales_data.Date_of_purchase, format=\"%d-%m-%Y\")\n",
    "Sales_data.info()"
   ]
  },
  {
   "cell_type": "code",
   "execution_count": 38,
   "metadata": {},
   "outputs": [
    {
     "data": {
      "text/html": [
       "<div>\n",
       "<style scoped>\n",
       "    .dataframe tbody tr th:only-of-type {\n",
       "        vertical-align: middle;\n",
       "    }\n",
       "\n",
       "    .dataframe tbody tr th {\n",
       "        vertical-align: top;\n",
       "    }\n",
       "\n",
       "    .dataframe thead th {\n",
       "        text-align: right;\n",
       "    }\n",
       "</style>\n",
       "<table border=\"1\" class=\"dataframe\">\n",
       "  <thead>\n",
       "    <tr style=\"text-align: right;\">\n",
       "      <th></th>\n",
       "      <th>Date_of_purchase</th>\n",
       "      <th>Sales</th>\n",
       "    </tr>\n",
       "  </thead>\n",
       "  <tbody>\n",
       "    <tr>\n",
       "      <th>0</th>\n",
       "      <td>2015-04-22</td>\n",
       "      <td>100</td>\n",
       "    </tr>\n",
       "    <tr>\n",
       "      <th>1</th>\n",
       "      <td>2015-05-04</td>\n",
       "      <td>150</td>\n",
       "    </tr>\n",
       "  </tbody>\n",
       "</table>\n",
       "</div>"
      ],
      "text/plain": [
       "  Date_of_purchase  Sales\n",
       "0       2015-04-22    100\n",
       "1       2015-05-04    150"
      ]
     },
     "execution_count": 38,
     "metadata": {},
     "output_type": "execute_result"
    }
   ],
   "source": [
    "Sales_data"
   ]
  },
  {
   "cell_type": "code",
   "execution_count": 39,
   "metadata": {},
   "outputs": [
    {
     "data": {
      "text/plain": [
       "0    4\n",
       "1    5\n",
       "Name: Date_of_purchase, dtype: int64"
      ]
     },
     "execution_count": 39,
     "metadata": {},
     "output_type": "execute_result"
    }
   ],
   "source": [
    "Sales_data.Date_of_purchase.dt.month"
   ]
  },
  {
   "cell_type": "code",
   "execution_count": 46,
   "metadata": {},
   "outputs": [
    {
     "data": {
      "text/plain": [
       "0    April\n",
       "1      May\n",
       "Name: Date_of_purchase, dtype: object"
      ]
     },
     "execution_count": 46,
     "metadata": {},
     "output_type": "execute_result"
    }
   ],
   "source": [
    "# thomas query\n",
    "Sales_data.Date_of_purchase.dt.strftime('%B')"
   ]
  }
 ],
 "metadata": {
  "kernelspec": {
   "display_name": "Python 3",
   "language": "python",
   "name": "python3"
  },
  "language_info": {
   "codemirror_mode": {
    "name": "ipython",
    "version": 3
   },
   "file_extension": ".py",
   "mimetype": "text/x-python",
   "name": "python",
   "nbconvert_exporter": "python",
   "pygments_lexer": "ipython3",
   "version": "3.7.6"
  }
 },
 "nbformat": 4,
 "nbformat_minor": 4
}
