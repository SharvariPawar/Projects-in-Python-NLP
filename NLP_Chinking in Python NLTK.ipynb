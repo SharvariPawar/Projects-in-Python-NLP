{
 "cells": [
  {
   "cell_type": "code",
   "execution_count": 1,
   "metadata": {},
   "outputs": [],
   "source": [
    "import nltk\n",
    "from nltk.tokenize import word_tokenize"
   ]
  },
  {
   "cell_type": "markdown",
   "metadata": {},
   "source": [
    "We will see how we can remove content from chunks, this is the essence of chinking. Chinking is similar to chunking except we r basically identifying chunks of information we would like to remove from chunks identified by a chunk tagger.\n",
    "First we need to tokenize input text and then label it with part of speech tags before we get into chinking and chunking."
   ]
  },
  {
   "cell_type": "code",
   "execution_count": 2,
   "metadata": {},
   "outputs": [],
   "source": [
    "sent = \"\"\"We are going to chink this sentence to remove all nouns. All of the other\n",
    "    words will be there. Except for the nouns\"\"\""
   ]
  },
  {
   "cell_type": "markdown",
   "metadata": {},
   "source": [
    "We r going to chink the sentence to remove all nouns. Next we will use part of speech tagging and word tokenization to prepare our sentence for chunking."
   ]
  },
  {
   "cell_type": "code",
   "execution_count": 3,
   "metadata": {},
   "outputs": [
    {
     "name": "stdout",
     "output_type": "stream",
     "text": [
      "[('We', 'PRP'), ('are', 'VBP'), ('going', 'VBG'), ('to', 'TO'), ('chink', 'VB'), ('this', 'DT'), ('sentence', 'NN'), ('to', 'TO'), ('remove', 'VB'), ('all', 'DT'), ('nouns', 'NNS'), ('.', '.'), ('All', 'DT'), ('of', 'IN'), ('the', 'DT'), ('other', 'JJ'), ('words', 'NNS'), ('will', 'MD'), ('be', 'VB'), ('there', 'RB'), ('.', '.'), ('Except', 'IN'), ('for', 'IN'), ('the', 'DT'), ('nouns', 'NNS')]\n"
     ]
    }
   ],
   "source": [
    "print(nltk.pos_tag(word_tokenize(sent)))\n",
    "# our example sting is converted from string into list of tuples. Each tuple contains single word and it's corresponding \n",
    "# parts of speech tag."
   ]
  },
  {
   "cell_type": "code",
   "execution_count": 4,
   "metadata": {},
   "outputs": [],
   "source": [
    "# Now we have to chunk our sentence using a chunking rule. \n",
    "chunkRule = r\"Chunk: {<.*>+}\"\n",
    "# This rule creates single chunk for whole sentence. We will pass this rule to nltk.RegexpParser"
   ]
  },
  {
   "cell_type": "code",
   "execution_count": 5,
   "metadata": {},
   "outputs": [],
   "source": [
    "chunkParser = nltk.RegexpParser(chunkRule)\n",
    "chunkSent = chunkParser.parse(nltk.pos_tag(word_tokenize(sent)))"
   ]
  },
  {
   "cell_type": "code",
   "execution_count": 6,
   "metadata": {},
   "outputs": [],
   "source": [
    "chunkSent.draw() # we can tree visualization of our chunk sentence"
   ]
  },
  {
   "cell_type": "markdown",
   "metadata": {},
   "source": [
    "Now we will implement chinking to exclude nouns from our chunk sentence. Let's modify our chunking rule. Chinking rules are defined inside } and{."
   ]
  },
  {
   "cell_type": "code",
   "execution_count": 7,
   "metadata": {},
   "outputs": [],
   "source": [
    "chunkRule = r\"\"\"Chunk: {<.*>+}\n",
    "                        }<NN.?|NNS|NNP|NNPS>+{\"\"\""
   ]
  },
  {
   "cell_type": "code",
   "execution_count": 8,
   "metadata": {},
   "outputs": [],
   "source": [
    "# applying our chinking rule\n",
    "chunkParser = nltk.RegexpParser(chunkRule)\n",
    "chunkSent = chunkParser.parse(nltk.pos_tag(word_tokenize(sent)))"
   ]
  },
  {
   "cell_type": "code",
   "execution_count": 9,
   "metadata": {},
   "outputs": [],
   "source": [
    "chunkSent.draw() # in our tree diagram, we can see our sentence is divided into several chunks rather than 1, in the nouns,\n",
    "# for excluded according to our chinking rule."
   ]
  },
  {
   "cell_type": "code",
   "execution_count": 10,
   "metadata": {},
   "outputs": [],
   "source": [
    "# one more example of chunking and chinking rules. This time we r excluding the verbs instead of the nouns.\n",
    "import nltk\n",
    "from nltk.tokenize import word_tokenize\n",
    "sent = \"We are going to chink this sentence to remoe all verbs\"\n",
    "# applying chunking and chinking rules\n",
    "chunkRule = r\"\"\"Chunk: {<.*>+}\n",
    "                        }<VB.?|VBP|VBG>+{\"\"\"\n",
    "chunkParser = nltk.RegexpParser(chunkRule)\n",
    "# applying word tokenization, parts of speech tagging and regular expression parsing on our sample sentence.\n",
    "chunkSent = chunkParser.parse(nltk.pos_tag(word_tokenize(sent)))\n",
    "chunkSent.draw() # creating tree diagram."
   ]
  },
  {
   "cell_type": "code",
   "execution_count": null,
   "metadata": {
    "collapsed": true
   },
   "outputs": [],
   "source": []
  }
 ],
 "metadata": {
  "kernelspec": {
   "display_name": "Python 3",
   "language": "python",
   "name": "python3"
  },
  "language_info": {
   "codemirror_mode": {
    "name": "ipython",
    "version": 3
   },
   "file_extension": ".py",
   "mimetype": "text/x-python",
   "name": "python",
   "nbconvert_exporter": "python",
   "pygments_lexer": "ipython3",
   "version": "3.7.6"
  }
 },
 "nbformat": 4,
 "nbformat_minor": 2
}
