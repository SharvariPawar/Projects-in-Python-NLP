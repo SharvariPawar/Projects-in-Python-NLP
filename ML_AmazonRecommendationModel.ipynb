{
 "cells": [
  {
   "cell_type": "code",
   "execution_count": 1,
   "metadata": {},
   "outputs": [
    {
     "data": {
      "text/html": [
       "<div>\n",
       "<style scoped>\n",
       "    .dataframe tbody tr th:only-of-type {\n",
       "        vertical-align: middle;\n",
       "    }\n",
       "\n",
       "    .dataframe tbody tr th {\n",
       "        vertical-align: top;\n",
       "    }\n",
       "\n",
       "    .dataframe thead th {\n",
       "        text-align: right;\n",
       "    }\n",
       "</style>\n",
       "<table border=\"1\" class=\"dataframe\">\n",
       "  <thead>\n",
       "    <tr style=\"text-align: right;\">\n",
       "      <th></th>\n",
       "      <th>user_id</th>\n",
       "      <th>Movie1</th>\n",
       "      <th>Movie2</th>\n",
       "      <th>Movie3</th>\n",
       "      <th>Movie4</th>\n",
       "      <th>Movie5</th>\n",
       "      <th>Movie6</th>\n",
       "      <th>Movie7</th>\n",
       "      <th>Movie8</th>\n",
       "      <th>Movie9</th>\n",
       "      <th>...</th>\n",
       "      <th>Movie197</th>\n",
       "      <th>Movie198</th>\n",
       "      <th>Movie199</th>\n",
       "      <th>Movie200</th>\n",
       "      <th>Movie201</th>\n",
       "      <th>Movie202</th>\n",
       "      <th>Movie203</th>\n",
       "      <th>Movie204</th>\n",
       "      <th>Movie205</th>\n",
       "      <th>Movie206</th>\n",
       "    </tr>\n",
       "  </thead>\n",
       "  <tbody>\n",
       "    <tr>\n",
       "      <th>4843</th>\n",
       "      <td>A1IMQ9WMFYKWH5</td>\n",
       "      <td>NaN</td>\n",
       "      <td>NaN</td>\n",
       "      <td>NaN</td>\n",
       "      <td>NaN</td>\n",
       "      <td>NaN</td>\n",
       "      <td>NaN</td>\n",
       "      <td>NaN</td>\n",
       "      <td>NaN</td>\n",
       "      <td>NaN</td>\n",
       "      <td>...</td>\n",
       "      <td>NaN</td>\n",
       "      <td>NaN</td>\n",
       "      <td>NaN</td>\n",
       "      <td>NaN</td>\n",
       "      <td>NaN</td>\n",
       "      <td>NaN</td>\n",
       "      <td>NaN</td>\n",
       "      <td>NaN</td>\n",
       "      <td>NaN</td>\n",
       "      <td>5.0</td>\n",
       "    </tr>\n",
       "    <tr>\n",
       "      <th>4844</th>\n",
       "      <td>A1KLIKPUF5E88I</td>\n",
       "      <td>NaN</td>\n",
       "      <td>NaN</td>\n",
       "      <td>NaN</td>\n",
       "      <td>NaN</td>\n",
       "      <td>NaN</td>\n",
       "      <td>NaN</td>\n",
       "      <td>NaN</td>\n",
       "      <td>NaN</td>\n",
       "      <td>NaN</td>\n",
       "      <td>...</td>\n",
       "      <td>NaN</td>\n",
       "      <td>NaN</td>\n",
       "      <td>NaN</td>\n",
       "      <td>NaN</td>\n",
       "      <td>NaN</td>\n",
       "      <td>NaN</td>\n",
       "      <td>NaN</td>\n",
       "      <td>NaN</td>\n",
       "      <td>NaN</td>\n",
       "      <td>5.0</td>\n",
       "    </tr>\n",
       "    <tr>\n",
       "      <th>4845</th>\n",
       "      <td>A5HG6WFZLO10D</td>\n",
       "      <td>NaN</td>\n",
       "      <td>NaN</td>\n",
       "      <td>NaN</td>\n",
       "      <td>NaN</td>\n",
       "      <td>NaN</td>\n",
       "      <td>NaN</td>\n",
       "      <td>NaN</td>\n",
       "      <td>NaN</td>\n",
       "      <td>NaN</td>\n",
       "      <td>...</td>\n",
       "      <td>NaN</td>\n",
       "      <td>NaN</td>\n",
       "      <td>NaN</td>\n",
       "      <td>NaN</td>\n",
       "      <td>NaN</td>\n",
       "      <td>NaN</td>\n",
       "      <td>NaN</td>\n",
       "      <td>NaN</td>\n",
       "      <td>NaN</td>\n",
       "      <td>5.0</td>\n",
       "    </tr>\n",
       "    <tr>\n",
       "      <th>4846</th>\n",
       "      <td>A3UU690TWXCG1X</td>\n",
       "      <td>NaN</td>\n",
       "      <td>NaN</td>\n",
       "      <td>NaN</td>\n",
       "      <td>NaN</td>\n",
       "      <td>NaN</td>\n",
       "      <td>NaN</td>\n",
       "      <td>NaN</td>\n",
       "      <td>NaN</td>\n",
       "      <td>NaN</td>\n",
       "      <td>...</td>\n",
       "      <td>NaN</td>\n",
       "      <td>NaN</td>\n",
       "      <td>NaN</td>\n",
       "      <td>NaN</td>\n",
       "      <td>NaN</td>\n",
       "      <td>NaN</td>\n",
       "      <td>NaN</td>\n",
       "      <td>NaN</td>\n",
       "      <td>NaN</td>\n",
       "      <td>5.0</td>\n",
       "    </tr>\n",
       "    <tr>\n",
       "      <th>4847</th>\n",
       "      <td>AI4J762YI6S06</td>\n",
       "      <td>NaN</td>\n",
       "      <td>NaN</td>\n",
       "      <td>NaN</td>\n",
       "      <td>NaN</td>\n",
       "      <td>NaN</td>\n",
       "      <td>NaN</td>\n",
       "      <td>NaN</td>\n",
       "      <td>NaN</td>\n",
       "      <td>NaN</td>\n",
       "      <td>...</td>\n",
       "      <td>NaN</td>\n",
       "      <td>NaN</td>\n",
       "      <td>NaN</td>\n",
       "      <td>NaN</td>\n",
       "      <td>NaN</td>\n",
       "      <td>NaN</td>\n",
       "      <td>NaN</td>\n",
       "      <td>NaN</td>\n",
       "      <td>NaN</td>\n",
       "      <td>5.0</td>\n",
       "    </tr>\n",
       "  </tbody>\n",
       "</table>\n",
       "<p>5 rows × 207 columns</p>\n",
       "</div>"
      ],
      "text/plain": [
       "             user_id  Movie1  Movie2  Movie3  Movie4  Movie5  Movie6  Movie7  \\\n",
       "4843  A1IMQ9WMFYKWH5     NaN     NaN     NaN     NaN     NaN     NaN     NaN   \n",
       "4844  A1KLIKPUF5E88I     NaN     NaN     NaN     NaN     NaN     NaN     NaN   \n",
       "4845   A5HG6WFZLO10D     NaN     NaN     NaN     NaN     NaN     NaN     NaN   \n",
       "4846  A3UU690TWXCG1X     NaN     NaN     NaN     NaN     NaN     NaN     NaN   \n",
       "4847   AI4J762YI6S06     NaN     NaN     NaN     NaN     NaN     NaN     NaN   \n",
       "\n",
       "      Movie8  Movie9  ...  Movie197  Movie198  Movie199  Movie200  Movie201  \\\n",
       "4843     NaN     NaN  ...       NaN       NaN       NaN       NaN       NaN   \n",
       "4844     NaN     NaN  ...       NaN       NaN       NaN       NaN       NaN   \n",
       "4845     NaN     NaN  ...       NaN       NaN       NaN       NaN       NaN   \n",
       "4846     NaN     NaN  ...       NaN       NaN       NaN       NaN       NaN   \n",
       "4847     NaN     NaN  ...       NaN       NaN       NaN       NaN       NaN   \n",
       "\n",
       "      Movie202  Movie203  Movie204  Movie205  Movie206  \n",
       "4843       NaN       NaN       NaN       NaN       5.0  \n",
       "4844       NaN       NaN       NaN       NaN       5.0  \n",
       "4845       NaN       NaN       NaN       NaN       5.0  \n",
       "4846       NaN       NaN       NaN       NaN       5.0  \n",
       "4847       NaN       NaN       NaN       NaN       5.0  \n",
       "\n",
       "[5 rows x 207 columns]"
      ]
     },
     "execution_count": 1,
     "metadata": {},
     "output_type": "execute_result"
    }
   ],
   "source": [
    "import pandas as pd\n",
    "data=pd.read_csv(\"C:/Users/sharv/Documents/Post Graduate Program In Data Science-PurdueSimpliLearn/Course3-Machine Learning/Projects/Amazon - Movies and TV Ratings.csv\")\n",
    "data.tail()"
   ]
  },
  {
   "cell_type": "code",
   "execution_count": 2,
   "metadata": {},
   "outputs": [
    {
     "data": {
      "text/plain": [
       "(4848, 207)"
      ]
     },
     "execution_count": 2,
     "metadata": {},
     "output_type": "execute_result"
    }
   ],
   "source": [
    "data.shape"
   ]
  },
  {
   "cell_type": "code",
   "execution_count": 3,
   "metadata": {},
   "outputs": [
    {
     "data": {
      "text/plain": [
       "Index(['user_id', 'Movie1', 'Movie2', 'Movie3', 'Movie4', 'Movie5', 'Movie6',\n",
       "       'Movie7', 'Movie8', 'Movie9',\n",
       "       ...\n",
       "       'Movie197', 'Movie198', 'Movie199', 'Movie200', 'Movie201', 'Movie202',\n",
       "       'Movie203', 'Movie204', 'Movie205', 'Movie206'],\n",
       "      dtype='object', length=207)"
      ]
     },
     "execution_count": 3,
     "metadata": {},
     "output_type": "execute_result"
    }
   ],
   "source": [
    "data.columns"
   ]
  },
  {
   "cell_type": "code",
   "execution_count": 4,
   "metadata": {},
   "outputs": [
    {
     "data": {
      "text/plain": [
       "user_id        0\n",
       "Movie1      4847\n",
       "Movie2      4847\n",
       "Movie3      4847\n",
       "Movie4      4846\n",
       "            ... \n",
       "Movie202    4842\n",
       "Movie203    4847\n",
       "Movie204    4840\n",
       "Movie205    4813\n",
       "Movie206    4835\n",
       "Length: 207, dtype: int64"
      ]
     },
     "execution_count": 4,
     "metadata": {},
     "output_type": "execute_result"
    }
   ],
   "source": [
    "data.isnull().sum()"
   ]
  },
  {
   "cell_type": "code",
   "execution_count": 5,
   "metadata": {},
   "outputs": [
    {
     "data": {
      "text/plain": [
       "user_id     AZZ1KF8RAO1BR\n",
       "Movie1                  5\n",
       "Movie2                  5\n",
       "Movie3                  2\n",
       "Movie4                  5\n",
       "                ...      \n",
       "Movie202                5\n",
       "Movie203                3\n",
       "Movie204                5\n",
       "Movie205                5\n",
       "Movie206                5\n",
       "Length: 207, dtype: object"
      ]
     },
     "execution_count": 5,
     "metadata": {},
     "output_type": "execute_result"
    }
   ],
   "source": [
    "data.max()\n",
    "#data[data['user_id']==\"AZZ1KF8RAO1BR\"]"
   ]
  },
  {
   "cell_type": "code",
   "execution_count": 6,
   "metadata": {},
   "outputs": [],
   "source": [
    "data_main=data.copy()"
   ]
  },
  {
   "cell_type": "code",
   "execution_count": 7,
   "metadata": {},
   "outputs": [
    {
     "data": {
      "text/html": [
       "<div>\n",
       "<style scoped>\n",
       "    .dataframe tbody tr th:only-of-type {\n",
       "        vertical-align: middle;\n",
       "    }\n",
       "\n",
       "    .dataframe tbody tr th {\n",
       "        vertical-align: top;\n",
       "    }\n",
       "\n",
       "    .dataframe thead th {\n",
       "        text-align: right;\n",
       "    }\n",
       "</style>\n",
       "<table border=\"1\" class=\"dataframe\">\n",
       "  <thead>\n",
       "    <tr style=\"text-align: right;\">\n",
       "      <th></th>\n",
       "      <th>Movie1</th>\n",
       "      <th>Movie2</th>\n",
       "      <th>Movie3</th>\n",
       "      <th>Movie4</th>\n",
       "      <th>Movie5</th>\n",
       "      <th>Movie6</th>\n",
       "      <th>Movie7</th>\n",
       "      <th>Movie8</th>\n",
       "      <th>Movie9</th>\n",
       "      <th>Movie10</th>\n",
       "      <th>...</th>\n",
       "      <th>Movie197</th>\n",
       "      <th>Movie198</th>\n",
       "      <th>Movie199</th>\n",
       "      <th>Movie200</th>\n",
       "      <th>Movie201</th>\n",
       "      <th>Movie202</th>\n",
       "      <th>Movie203</th>\n",
       "      <th>Movie204</th>\n",
       "      <th>Movie205</th>\n",
       "      <th>Movie206</th>\n",
       "    </tr>\n",
       "  </thead>\n",
       "  <tbody>\n",
       "    <tr>\n",
       "      <th>count</th>\n",
       "      <td>1.0</td>\n",
       "      <td>1.0</td>\n",
       "      <td>1.0</td>\n",
       "      <td>2.0</td>\n",
       "      <td>29.000000</td>\n",
       "      <td>1.0</td>\n",
       "      <td>1.0</td>\n",
       "      <td>1.0</td>\n",
       "      <td>1.0</td>\n",
       "      <td>1.0</td>\n",
       "      <td>...</td>\n",
       "      <td>5.000000</td>\n",
       "      <td>2.0</td>\n",
       "      <td>1.0</td>\n",
       "      <td>8.000000</td>\n",
       "      <td>3.000000</td>\n",
       "      <td>6.000000</td>\n",
       "      <td>1.0</td>\n",
       "      <td>8.000000</td>\n",
       "      <td>35.000000</td>\n",
       "      <td>13.000000</td>\n",
       "    </tr>\n",
       "    <tr>\n",
       "      <th>mean</th>\n",
       "      <td>5.0</td>\n",
       "      <td>5.0</td>\n",
       "      <td>2.0</td>\n",
       "      <td>5.0</td>\n",
       "      <td>4.103448</td>\n",
       "      <td>4.0</td>\n",
       "      <td>5.0</td>\n",
       "      <td>5.0</td>\n",
       "      <td>5.0</td>\n",
       "      <td>5.0</td>\n",
       "      <td>...</td>\n",
       "      <td>3.800000</td>\n",
       "      <td>5.0</td>\n",
       "      <td>5.0</td>\n",
       "      <td>4.625000</td>\n",
       "      <td>4.333333</td>\n",
       "      <td>4.333333</td>\n",
       "      <td>3.0</td>\n",
       "      <td>4.375000</td>\n",
       "      <td>4.628571</td>\n",
       "      <td>4.923077</td>\n",
       "    </tr>\n",
       "    <tr>\n",
       "      <th>std</th>\n",
       "      <td>NaN</td>\n",
       "      <td>NaN</td>\n",
       "      <td>NaN</td>\n",
       "      <td>0.0</td>\n",
       "      <td>1.496301</td>\n",
       "      <td>NaN</td>\n",
       "      <td>NaN</td>\n",
       "      <td>NaN</td>\n",
       "      <td>NaN</td>\n",
       "      <td>NaN</td>\n",
       "      <td>...</td>\n",
       "      <td>1.643168</td>\n",
       "      <td>0.0</td>\n",
       "      <td>NaN</td>\n",
       "      <td>0.517549</td>\n",
       "      <td>1.154701</td>\n",
       "      <td>1.632993</td>\n",
       "      <td>NaN</td>\n",
       "      <td>1.407886</td>\n",
       "      <td>0.910259</td>\n",
       "      <td>0.277350</td>\n",
       "    </tr>\n",
       "    <tr>\n",
       "      <th>min</th>\n",
       "      <td>5.0</td>\n",
       "      <td>5.0</td>\n",
       "      <td>2.0</td>\n",
       "      <td>5.0</td>\n",
       "      <td>1.000000</td>\n",
       "      <td>4.0</td>\n",
       "      <td>5.0</td>\n",
       "      <td>5.0</td>\n",
       "      <td>5.0</td>\n",
       "      <td>5.0</td>\n",
       "      <td>...</td>\n",
       "      <td>1.000000</td>\n",
       "      <td>5.0</td>\n",
       "      <td>5.0</td>\n",
       "      <td>4.000000</td>\n",
       "      <td>3.000000</td>\n",
       "      <td>1.000000</td>\n",
       "      <td>3.0</td>\n",
       "      <td>1.000000</td>\n",
       "      <td>1.000000</td>\n",
       "      <td>4.000000</td>\n",
       "    </tr>\n",
       "    <tr>\n",
       "      <th>25%</th>\n",
       "      <td>5.0</td>\n",
       "      <td>5.0</td>\n",
       "      <td>2.0</td>\n",
       "      <td>5.0</td>\n",
       "      <td>4.000000</td>\n",
       "      <td>4.0</td>\n",
       "      <td>5.0</td>\n",
       "      <td>5.0</td>\n",
       "      <td>5.0</td>\n",
       "      <td>5.0</td>\n",
       "      <td>...</td>\n",
       "      <td>4.000000</td>\n",
       "      <td>5.0</td>\n",
       "      <td>5.0</td>\n",
       "      <td>4.000000</td>\n",
       "      <td>4.000000</td>\n",
       "      <td>5.000000</td>\n",
       "      <td>3.0</td>\n",
       "      <td>4.750000</td>\n",
       "      <td>5.000000</td>\n",
       "      <td>5.000000</td>\n",
       "    </tr>\n",
       "    <tr>\n",
       "      <th>50%</th>\n",
       "      <td>5.0</td>\n",
       "      <td>5.0</td>\n",
       "      <td>2.0</td>\n",
       "      <td>5.0</td>\n",
       "      <td>5.000000</td>\n",
       "      <td>4.0</td>\n",
       "      <td>5.0</td>\n",
       "      <td>5.0</td>\n",
       "      <td>5.0</td>\n",
       "      <td>5.0</td>\n",
       "      <td>...</td>\n",
       "      <td>4.000000</td>\n",
       "      <td>5.0</td>\n",
       "      <td>5.0</td>\n",
       "      <td>5.000000</td>\n",
       "      <td>5.000000</td>\n",
       "      <td>5.000000</td>\n",
       "      <td>3.0</td>\n",
       "      <td>5.000000</td>\n",
       "      <td>5.000000</td>\n",
       "      <td>5.000000</td>\n",
       "    </tr>\n",
       "    <tr>\n",
       "      <th>75%</th>\n",
       "      <td>5.0</td>\n",
       "      <td>5.0</td>\n",
       "      <td>2.0</td>\n",
       "      <td>5.0</td>\n",
       "      <td>5.000000</td>\n",
       "      <td>4.0</td>\n",
       "      <td>5.0</td>\n",
       "      <td>5.0</td>\n",
       "      <td>5.0</td>\n",
       "      <td>5.0</td>\n",
       "      <td>...</td>\n",
       "      <td>5.000000</td>\n",
       "      <td>5.0</td>\n",
       "      <td>5.0</td>\n",
       "      <td>5.000000</td>\n",
       "      <td>5.000000</td>\n",
       "      <td>5.000000</td>\n",
       "      <td>3.0</td>\n",
       "      <td>5.000000</td>\n",
       "      <td>5.000000</td>\n",
       "      <td>5.000000</td>\n",
       "    </tr>\n",
       "    <tr>\n",
       "      <th>max</th>\n",
       "      <td>5.0</td>\n",
       "      <td>5.0</td>\n",
       "      <td>2.0</td>\n",
       "      <td>5.0</td>\n",
       "      <td>5.000000</td>\n",
       "      <td>4.0</td>\n",
       "      <td>5.0</td>\n",
       "      <td>5.0</td>\n",
       "      <td>5.0</td>\n",
       "      <td>5.0</td>\n",
       "      <td>...</td>\n",
       "      <td>5.000000</td>\n",
       "      <td>5.0</td>\n",
       "      <td>5.0</td>\n",
       "      <td>5.000000</td>\n",
       "      <td>5.000000</td>\n",
       "      <td>5.000000</td>\n",
       "      <td>3.0</td>\n",
       "      <td>5.000000</td>\n",
       "      <td>5.000000</td>\n",
       "      <td>5.000000</td>\n",
       "    </tr>\n",
       "  </tbody>\n",
       "</table>\n",
       "<p>8 rows × 206 columns</p>\n",
       "</div>"
      ],
      "text/plain": [
       "       Movie1  Movie2  Movie3  Movie4     Movie5  Movie6  Movie7  Movie8  \\\n",
       "count     1.0     1.0     1.0     2.0  29.000000     1.0     1.0     1.0   \n",
       "mean      5.0     5.0     2.0     5.0   4.103448     4.0     5.0     5.0   \n",
       "std       NaN     NaN     NaN     0.0   1.496301     NaN     NaN     NaN   \n",
       "min       5.0     5.0     2.0     5.0   1.000000     4.0     5.0     5.0   \n",
       "25%       5.0     5.0     2.0     5.0   4.000000     4.0     5.0     5.0   \n",
       "50%       5.0     5.0     2.0     5.0   5.000000     4.0     5.0     5.0   \n",
       "75%       5.0     5.0     2.0     5.0   5.000000     4.0     5.0     5.0   \n",
       "max       5.0     5.0     2.0     5.0   5.000000     4.0     5.0     5.0   \n",
       "\n",
       "       Movie9  Movie10  ...  Movie197  Movie198  Movie199  Movie200  Movie201  \\\n",
       "count     1.0      1.0  ...  5.000000       2.0       1.0  8.000000  3.000000   \n",
       "mean      5.0      5.0  ...  3.800000       5.0       5.0  4.625000  4.333333   \n",
       "std       NaN      NaN  ...  1.643168       0.0       NaN  0.517549  1.154701   \n",
       "min       5.0      5.0  ...  1.000000       5.0       5.0  4.000000  3.000000   \n",
       "25%       5.0      5.0  ...  4.000000       5.0       5.0  4.000000  4.000000   \n",
       "50%       5.0      5.0  ...  4.000000       5.0       5.0  5.000000  5.000000   \n",
       "75%       5.0      5.0  ...  5.000000       5.0       5.0  5.000000  5.000000   \n",
       "max       5.0      5.0  ...  5.000000       5.0       5.0  5.000000  5.000000   \n",
       "\n",
       "       Movie202  Movie203  Movie204   Movie205   Movie206  \n",
       "count  6.000000       1.0  8.000000  35.000000  13.000000  \n",
       "mean   4.333333       3.0  4.375000   4.628571   4.923077  \n",
       "std    1.632993       NaN  1.407886   0.910259   0.277350  \n",
       "min    1.000000       3.0  1.000000   1.000000   4.000000  \n",
       "25%    5.000000       3.0  4.750000   5.000000   5.000000  \n",
       "50%    5.000000       3.0  5.000000   5.000000   5.000000  \n",
       "75%    5.000000       3.0  5.000000   5.000000   5.000000  \n",
       "max    5.000000       3.0  5.000000   5.000000   5.000000  \n",
       "\n",
       "[8 rows x 206 columns]"
      ]
     },
     "execution_count": 7,
     "metadata": {},
     "output_type": "execute_result"
    }
   ],
   "source": [
    "data.describe()"
   ]
  },
  {
   "cell_type": "code",
   "execution_count": 8,
   "metadata": {},
   "outputs": [
    {
     "data": {
      "text/html": [
       "<div>\n",
       "<style scoped>\n",
       "    .dataframe tbody tr th:only-of-type {\n",
       "        vertical-align: middle;\n",
       "    }\n",
       "\n",
       "    .dataframe tbody tr th {\n",
       "        vertical-align: top;\n",
       "    }\n",
       "\n",
       "    .dataframe thead th {\n",
       "        text-align: right;\n",
       "    }\n",
       "</style>\n",
       "<table border=\"1\" class=\"dataframe\">\n",
       "  <thead>\n",
       "    <tr style=\"text-align: right;\">\n",
       "      <th></th>\n",
       "      <th>count</th>\n",
       "    </tr>\n",
       "  </thead>\n",
       "  <tbody>\n",
       "    <tr>\n",
       "      <th>Movie127</th>\n",
       "      <td>2313.0</td>\n",
       "    </tr>\n",
       "    <tr>\n",
       "      <th>Movie140</th>\n",
       "      <td>578.0</td>\n",
       "    </tr>\n",
       "    <tr>\n",
       "      <th>Movie16</th>\n",
       "      <td>320.0</td>\n",
       "    </tr>\n",
       "    <tr>\n",
       "      <th>Movie103</th>\n",
       "      <td>272.0</td>\n",
       "    </tr>\n",
       "    <tr>\n",
       "      <th>Movie29</th>\n",
       "      <td>243.0</td>\n",
       "    </tr>\n",
       "    <tr>\n",
       "      <th>Movie91</th>\n",
       "      <td>128.0</td>\n",
       "    </tr>\n",
       "    <tr>\n",
       "      <th>Movie92</th>\n",
       "      <td>101.0</td>\n",
       "    </tr>\n",
       "    <tr>\n",
       "      <th>Movie89</th>\n",
       "      <td>83.0</td>\n",
       "    </tr>\n",
       "    <tr>\n",
       "      <th>Movie158</th>\n",
       "      <td>66.0</td>\n",
       "    </tr>\n",
       "    <tr>\n",
       "      <th>Movie108</th>\n",
       "      <td>54.0</td>\n",
       "    </tr>\n",
       "  </tbody>\n",
       "</table>\n",
       "</div>"
      ],
      "text/plain": [
       "           count\n",
       "Movie127  2313.0\n",
       "Movie140   578.0\n",
       "Movie16    320.0\n",
       "Movie103   272.0\n",
       "Movie29    243.0\n",
       "Movie91    128.0\n",
       "Movie92    101.0\n",
       "Movie89     83.0\n",
       "Movie158    66.0\n",
       "Movie108    54.0"
      ]
     },
     "execution_count": 8,
     "metadata": {},
     "output_type": "execute_result"
    }
   ],
   "source": [
    "# Transposing data frame df\n",
    "data.describe().T[\"count\"].sort_values(ascending=False)[:10].to_frame()"
   ]
  },
  {
   "cell_type": "markdown",
   "metadata": {},
   "source": [
    "# 1> Which movies have maximum views/ratings? \n",
    "Ans: Movie127.\n",
    "We can see from above Movie1 has rating=5, movie2 has 5, movie3 has 2 and so on.\n",
    "Movie127 has rated 2313 times. "
   ]
  },
  {
   "cell_type": "code",
   "execution_count": 9,
   "metadata": {},
   "outputs": [
    {
     "data": {
      "text/html": [
       "<div>\n",
       "<style scoped>\n",
       "    .dataframe tbody tr th:only-of-type {\n",
       "        vertical-align: middle;\n",
       "    }\n",
       "\n",
       "    .dataframe tbody tr th {\n",
       "        vertical-align: top;\n",
       "    }\n",
       "\n",
       "    .dataframe thead th {\n",
       "        text-align: right;\n",
       "    }\n",
       "</style>\n",
       "<table border=\"1\" class=\"dataframe\">\n",
       "  <thead>\n",
       "    <tr style=\"text-align: right;\">\n",
       "      <th></th>\n",
       "      <th>0</th>\n",
       "    </tr>\n",
       "  </thead>\n",
       "  <tbody>\n",
       "    <tr>\n",
       "      <th>Movie127</th>\n",
       "      <td>9511.0</td>\n",
       "    </tr>\n",
       "    <tr>\n",
       "      <th>Movie140</th>\n",
       "      <td>2794.0</td>\n",
       "    </tr>\n",
       "    <tr>\n",
       "      <th>Movie16</th>\n",
       "      <td>1446.0</td>\n",
       "    </tr>\n",
       "    <tr>\n",
       "      <th>Movie103</th>\n",
       "      <td>1241.0</td>\n",
       "    </tr>\n",
       "    <tr>\n",
       "      <th>Movie29</th>\n",
       "      <td>1168.0</td>\n",
       "    </tr>\n",
       "    <tr>\n",
       "      <th>Movie91</th>\n",
       "      <td>586.0</td>\n",
       "    </tr>\n",
       "    <tr>\n",
       "      <th>Movie92</th>\n",
       "      <td>482.0</td>\n",
       "    </tr>\n",
       "    <tr>\n",
       "      <th>Movie89</th>\n",
       "      <td>380.0</td>\n",
       "    </tr>\n",
       "    <tr>\n",
       "      <th>Movie158</th>\n",
       "      <td>318.0</td>\n",
       "    </tr>\n",
       "    <tr>\n",
       "      <th>Movie108</th>\n",
       "      <td>252.0</td>\n",
       "    </tr>\n",
       "  </tbody>\n",
       "</table>\n",
       "</div>"
      ],
      "text/plain": [
       "               0\n",
       "Movie127  9511.0\n",
       "Movie140  2794.0\n",
       "Movie16   1446.0\n",
       "Movie103  1241.0\n",
       "Movie29   1168.0\n",
       "Movie91    586.0\n",
       "Movie92    482.0\n",
       "Movie89    380.0\n",
       "Movie158   318.0\n",
       "Movie108   252.0"
      ]
     },
     "execution_count": 9,
     "metadata": {},
     "output_type": "execute_result"
    }
   ],
   "source": [
    " data.drop('user_id',axis=1).sum().sort_values(ascending=False)[:10].to_frame()\n",
    "#data.drop('user_id',axis=1).mean().sort_values(ascending=False)[:10].to_frame()"
   ]
  },
  {
   "cell_type": "markdown",
   "metadata": {},
   "source": [
    "# 2> What is the average rating for each movie? Define the top 5 movies with the maximum ratings.\n",
    "From above table, we can see that \n",
    "average ratings for Movie127 is 9511/2313 =4.11\n",
    "average ratings for Movie140 is 2794/578 =4.83\n",
    "average ratings for Movie16 is 1446/320 =4.51\n",
    "average ratings for Movie103 is 1241/272 =4.56\n",
    "average ratings for Movie29 is 1168/243 =4.80"
   ]
  },
  {
   "cell_type": "code",
   "execution_count": 10,
   "metadata": {},
   "outputs": [
    {
     "data": {
      "text/html": [
       "<div>\n",
       "<style scoped>\n",
       "    .dataframe tbody tr th:only-of-type {\n",
       "        vertical-align: middle;\n",
       "    }\n",
       "\n",
       "    .dataframe tbody tr th {\n",
       "        vertical-align: top;\n",
       "    }\n",
       "\n",
       "    .dataframe thead th {\n",
       "        text-align: right;\n",
       "    }\n",
       "</style>\n",
       "<table border=\"1\" class=\"dataframe\">\n",
       "  <thead>\n",
       "    <tr style=\"text-align: right;\">\n",
       "      <th></th>\n",
       "      <th>count</th>\n",
       "    </tr>\n",
       "  </thead>\n",
       "  <tbody>\n",
       "    <tr>\n",
       "      <th>Movie1</th>\n",
       "      <td>1.0</td>\n",
       "    </tr>\n",
       "    <tr>\n",
       "      <th>Movie71</th>\n",
       "      <td>1.0</td>\n",
       "    </tr>\n",
       "    <tr>\n",
       "      <th>Movie145</th>\n",
       "      <td>1.0</td>\n",
       "    </tr>\n",
       "    <tr>\n",
       "      <th>Movie69</th>\n",
       "      <td>1.0</td>\n",
       "    </tr>\n",
       "    <tr>\n",
       "      <th>Movie68</th>\n",
       "      <td>1.0</td>\n",
       "    </tr>\n",
       "  </tbody>\n",
       "</table>\n",
       "</div>"
      ],
      "text/plain": [
       "          count\n",
       "Movie1      1.0\n",
       "Movie71     1.0\n",
       "Movie145    1.0\n",
       "Movie69     1.0\n",
       "Movie68     1.0"
      ]
     },
     "execution_count": 10,
     "metadata": {},
     "output_type": "execute_result"
    }
   ],
   "source": [
    "data.describe().T[\"count\"].sort_values(ascending=True)[:5].to_frame()"
   ]
  },
  {
   "cell_type": "markdown",
   "metadata": {},
   "source": [
    "# 3> Define the top 5 movies with the least audience.\n",
    "Ans:-Above 5 Movies has been rated only once."
   ]
  },
  {
   "cell_type": "markdown",
   "metadata": {},
   "source": [
    "# Recommendation model:\n",
    "\n",
    "4> Divide the data into training and test data\n",
    "5> Build a recommendation model on training data\n",
    "6> Make predictions on the test data\n",
    "\n",
    "We have to fill those Nan values with our prediction."
   ]
  },
  {
   "cell_type": "code",
   "execution_count": null,
   "metadata": {},
   "outputs": [],
   "source": [
    "# !pip install scikit-surprise \n",
    "# Anaconda prompt >conda install -c conda-forge scikit-surprise"
   ]
  },
  {
   "cell_type": "code",
   "execution_count": 11,
   "metadata": {},
   "outputs": [],
   "source": [
    "from surprise import Reader\n",
    "from surprise import accuracy\n",
    "from surprise.model_selection import train_test_split"
   ]
  },
  {
   "cell_type": "code",
   "execution_count": 25,
   "metadata": {},
   "outputs": [],
   "source": [
    "# help(data.melt())"
   ]
  },
  {
   "cell_type": "code",
   "execution_count": 13,
   "metadata": {},
   "outputs": [
    {
     "data": {
      "text/plain": [
       "Index(['user_id', 'Movie1', 'Movie2', 'Movie3', 'Movie4', 'Movie5', 'Movie6',\n",
       "       'Movie7', 'Movie8', 'Movie9',\n",
       "       ...\n",
       "       'Movie197', 'Movie198', 'Movie199', 'Movie200', 'Movie201', 'Movie202',\n",
       "       'Movie203', 'Movie204', 'Movie205', 'Movie206'],\n",
       "      dtype='object', length=207)"
      ]
     },
     "execution_count": 13,
     "metadata": {},
     "output_type": "execute_result"
    }
   ],
   "source": [
    "data_main.columns"
   ]
  },
  {
   "cell_type": "code",
   "execution_count": 14,
   "metadata": {},
   "outputs": [
    {
     "data": {
      "text/html": [
       "<div>\n",
       "<style scoped>\n",
       "    .dataframe tbody tr th:only-of-type {\n",
       "        vertical-align: middle;\n",
       "    }\n",
       "\n",
       "    .dataframe tbody tr th {\n",
       "        vertical-align: top;\n",
       "    }\n",
       "\n",
       "    .dataframe thead th {\n",
       "        text-align: right;\n",
       "    }\n",
       "</style>\n",
       "<table border=\"1\" class=\"dataframe\">\n",
       "  <thead>\n",
       "    <tr style=\"text-align: right;\">\n",
       "      <th></th>\n",
       "      <th>user_id</th>\n",
       "      <th>movie_name</th>\n",
       "      <th>rating</th>\n",
       "    </tr>\n",
       "  </thead>\n",
       "  <tbody>\n",
       "    <tr>\n",
       "      <th>0</th>\n",
       "      <td>A3R5OBKS7OM2IR</td>\n",
       "      <td>Movie1</td>\n",
       "      <td>5.0</td>\n",
       "    </tr>\n",
       "    <tr>\n",
       "      <th>1</th>\n",
       "      <td>AH3QC2PC1VTGP</td>\n",
       "      <td>Movie1</td>\n",
       "      <td>NaN</td>\n",
       "    </tr>\n",
       "    <tr>\n",
       "      <th>2</th>\n",
       "      <td>A3LKP6WPMP9UKX</td>\n",
       "      <td>Movie1</td>\n",
       "      <td>NaN</td>\n",
       "    </tr>\n",
       "    <tr>\n",
       "      <th>3</th>\n",
       "      <td>AVIY68KEPQ5ZD</td>\n",
       "      <td>Movie1</td>\n",
       "      <td>NaN</td>\n",
       "    </tr>\n",
       "    <tr>\n",
       "      <th>4</th>\n",
       "      <td>A1CV1WROP5KTTW</td>\n",
       "      <td>Movie1</td>\n",
       "      <td>NaN</td>\n",
       "    </tr>\n",
       "    <tr>\n",
       "      <th>...</th>\n",
       "      <td>...</td>\n",
       "      <td>...</td>\n",
       "      <td>...</td>\n",
       "    </tr>\n",
       "    <tr>\n",
       "      <th>998683</th>\n",
       "      <td>A1IMQ9WMFYKWH5</td>\n",
       "      <td>Movie206</td>\n",
       "      <td>5.0</td>\n",
       "    </tr>\n",
       "    <tr>\n",
       "      <th>998684</th>\n",
       "      <td>A1KLIKPUF5E88I</td>\n",
       "      <td>Movie206</td>\n",
       "      <td>5.0</td>\n",
       "    </tr>\n",
       "    <tr>\n",
       "      <th>998685</th>\n",
       "      <td>A5HG6WFZLO10D</td>\n",
       "      <td>Movie206</td>\n",
       "      <td>5.0</td>\n",
       "    </tr>\n",
       "    <tr>\n",
       "      <th>998686</th>\n",
       "      <td>A3UU690TWXCG1X</td>\n",
       "      <td>Movie206</td>\n",
       "      <td>5.0</td>\n",
       "    </tr>\n",
       "    <tr>\n",
       "      <th>998687</th>\n",
       "      <td>AI4J762YI6S06</td>\n",
       "      <td>Movie206</td>\n",
       "      <td>5.0</td>\n",
       "    </tr>\n",
       "  </tbody>\n",
       "</table>\n",
       "<p>998688 rows × 3 columns</p>\n",
       "</div>"
      ],
      "text/plain": [
       "               user_id movie_name  rating\n",
       "0       A3R5OBKS7OM2IR     Movie1     5.0\n",
       "1        AH3QC2PC1VTGP     Movie1     NaN\n",
       "2       A3LKP6WPMP9UKX     Movie1     NaN\n",
       "3        AVIY68KEPQ5ZD     Movie1     NaN\n",
       "4       A1CV1WROP5KTTW     Movie1     NaN\n",
       "...                ...        ...     ...\n",
       "998683  A1IMQ9WMFYKWH5   Movie206     5.0\n",
       "998684  A1KLIKPUF5E88I   Movie206     5.0\n",
       "998685   A5HG6WFZLO10D   Movie206     5.0\n",
       "998686  A3UU690TWXCG1X   Movie206     5.0\n",
       "998687   AI4J762YI6S06   Movie206     5.0\n",
       "\n",
       "[998688 rows x 3 columns]"
      ]
     },
     "execution_count": 14,
     "metadata": {},
     "output_type": "execute_result"
    }
   ],
   "source": [
    "melt_data=data_main.melt(id_vars=data_main.columns[0],value_vars=data_main.columns[1:],var_name=\"movie_name\",value_name=\"rating\")\n",
    "melt_data"
   ]
  },
  {
   "cell_type": "code",
   "execution_count": 15,
   "metadata": {},
   "outputs": [
    {
     "data": {
      "text/plain": [
       "<surprise.prediction_algorithms.matrix_factorization.SVD at 0x2a95d313fc8>"
      ]
     },
     "execution_count": 15,
     "metadata": {},
     "output_type": "execute_result"
    }
   ],
   "source": [
    "from surprise import Dataset\n",
    "reader=Reader(rating_scale=(-1,10))\n",
    "data=Dataset.load_from_df(melt_data.fillna(0), reader=reader)\n",
    "trainset,testset=train_test_split(data,test_size=0.25)\n",
    "from surprise import SVD\n",
    "SHalgo=SVD()\n",
    "SHalgo.fit(trainset)"
   ]
  },
  {
   "cell_type": "code",
   "execution_count": 16,
   "metadata": {},
   "outputs": [
    {
     "name": "stdout",
     "output_type": "stream",
     "text": [
      "RMSE: 0.2803\n"
     ]
    },
    {
     "data": {
      "text/plain": [
       "0.2803474511234512"
      ]
     },
     "execution_count": 16,
     "metadata": {},
     "output_type": "execute_result"
    }
   ],
   "source": [
    "predictions=SHalgo.test(testset)\n",
    "accuracy.rmse(predictions)\n",
    "# this rmse is not good"
   ]
  },
  {
   "cell_type": "code",
   "execution_count": 17,
   "metadata": {},
   "outputs": [
    {
     "name": "stdout",
     "output_type": "stream",
     "text": [
      "user: A3R5OBKS7OM2IR item: Movie1     r_ui = 5.00   est = 0.08   {'was_impossible': False}\n"
     ]
    },
    {
     "data": {
      "text/plain": [
       "Prediction(uid='A3R5OBKS7OM2IR', iid='Movie1', r_ui=5.0, est=0.07706739906089126, details={'was_impossible': False})"
      ]
     },
     "execution_count": 17,
     "metadata": {},
     "output_type": "execute_result"
    }
   ],
   "source": [
    "user_id='A3R5OBKS7OM2IR'\n",
    "muvi_id='Movie1'\n",
    "r_ui=5.0\n",
    "SHalgo.predict(user_id,muvi_id,r_ui=r_ui,verbose=True)\n",
    "# we can see that est = 0.08  so estimated value is not close to 5.00. "
   ]
  },
  {
   "cell_type": "code",
   "execution_count": 18,
   "metadata": {},
   "outputs": [
    {
     "name": "stdout",
     "output_type": "stream",
     "text": [
      "Evaluating RMSE, MAE of algorithm SVD on 3 split(s).\n",
      "\n",
      "                  Fold 1  Fold 2  Fold 3  Mean    Std     \n",
      "RMSE (testset)    0.2861  0.2819  0.2763  0.2814  0.0040  \n",
      "MAE (testset)     0.0436  0.0424  0.0425  0.0428  0.0005  \n",
      "Fit time          31.75   32.00   32.43   32.06   0.28    \n",
      "Test time         2.25    2.05    2.13    2.15    0.08    \n"
     ]
    },
    {
     "data": {
      "text/plain": [
       "{'test_rmse': array([0.28613262, 0.28186272, 0.27631906]),\n",
       " 'test_mae': array([0.04357285, 0.04244687, 0.04252051]),\n",
       " 'fit_time': (31.74809193611145, 31.999433755874634, 32.433354139328),\n",
       " 'test_time': (2.252018928527832, 2.0534684658050537, 2.1342875957489014)}"
      ]
     },
     "execution_count": 18,
     "metadata": {},
     "output_type": "execute_result"
    }
   ],
   "source": [
    "# Instead of filling value to zero, we will fill it with mean and median and then will check rmse value again.\n",
    "# applying cross validation\n",
    "\n",
    "from surprise.model_selection import cross_validate\n",
    "cross_validate(SHalgo,data,measures=['RMSE','MAE'],cv=3,verbose=True)"
   ]
  },
  {
   "cell_type": "code",
   "execution_count": 19,
   "metadata": {},
   "outputs": [],
   "source": [
    "def Func_CV(algo_type,frame,min_,max_):\n",
    "    reader=Reader(rating_scale=(min_,max_))\n",
    "    data=Dataset.load_from_df(frame, reader=reader)\n",
    "    algo=algo_type\n",
    "    cross_validate(algo,data,measures=['RMSE','MAE'],cv=3,verbose=True)\n",
    "    user_id='A3R5OBKS7OM2IR'\n",
    "    muvi_id='Movie1'\n",
    "    r_ui=5.0\n",
    "    print(algo.predict(user_id,muvi_id,r_ui=r_ui,verbose=True))\n",
    "    \n",
    "# Made our recommendations to a one particular user"
   ]
  },
  {
   "cell_type": "code",
   "execution_count": 20,
   "metadata": {},
   "outputs": [
    {
     "name": "stdout",
     "output_type": "stream",
     "text": [
      "Evaluating RMSE, MAE of algorithm SVD on 3 split(s).\n",
      "\n",
      "                  Fold 1  Fold 2  Fold 3  Mean    Std     \n",
      "RMSE (testset)    0.4175  0.4404  0.4006  0.4195  0.0163  \n",
      "MAE (testset)     0.0898  0.0914  0.0854  0.0889  0.0026  \n",
      "Fit time          2.18    2.22    2.22    2.21    0.02    \n",
      "Test time         0.27    0.12    0.11    0.17    0.07    \n",
      "user: A3R5OBKS7OM2IR item: Movie1     r_ui = 5.00   est = 0.47   {'was_impossible': False}\n",
      "user: A3R5OBKS7OM2IR item: Movie1     r_ui = 5.00   est = 0.47   {'was_impossible': False}\n",
      "Evaluating RMSE, MAE of algorithm SVD on 3 split(s).\n",
      "\n",
      "                  Fold 1  Fold 2  Fold 3  Mean    Std     \n",
      "RMSE (testset)    0.0804  0.0769  0.0856  0.0810  0.0036  \n",
      "MAE (testset)     0.0158  0.0158  0.0155  0.0157  0.0001  \n",
      "Fit time          2.22    2.19    2.20    2.20    0.01    \n",
      "Test time         0.11    0.27    0.11    0.16    0.07    \n",
      "user: A3R5OBKS7OM2IR item: Movie1     r_ui = 5.00   est = 4.63   {'was_impossible': False}\n",
      "user: A3R5OBKS7OM2IR item: Movie1     r_ui = 5.00   est = 4.63   {'was_impossible': False}\n",
      "Evaluating RMSE, MAE of algorithm SVD on 3 split(s).\n",
      "\n",
      "                  Fold 1  Fold 2  Fold 3  Mean    Std     \n",
      "RMSE (testset)    0.0809  0.0927  0.0901  0.0879  0.0050  \n",
      "MAE (testset)     0.0147  0.0139  0.0150  0.0145  0.0005  \n",
      "Fit time          2.25    2.31    2.29    2.28    0.03    \n",
      "Test time         0.12    0.12    0.27    0.17    0.07    \n",
      "user: A3R5OBKS7OM2IR item: Movie1     r_ui = 5.00   est = 5.00   {'was_impossible': False}\n",
      "user: A3R5OBKS7OM2IR item: Movie1     r_ui = 5.00   est = 5.00   {'was_impossible': False}\n"
     ]
    }
   ],
   "source": [
    "data_main=data_main.iloc[:1500,:50] # taking first 1500 rows and 50 columns\n",
    "melt_data=data_main.melt(id_vars=data_main.columns[0],value_vars=data_main.columns[1:],var_name=\"movie_name\",value_name=\"rating\")\n",
    "Func_CV(SVD(),melt_data.fillna(0),-1,10)\n",
    "Func_CV(SVD(),melt_data.fillna(melt_data.mean()),-1,10)\n",
    "Func_CV(SVD(),melt_data.fillna(melt_data.median()),-1,10)\n",
    "# i have reduced my dataset- only for one id\n",
    "# mean is working fine here so I will test mean on full dataset. RMSE is .08 (it has significantly reduced from fillna(0))\n",
    "# and est is 4.63 which is close to r_ui=5.\n",
    "# I am not taking median because median might make model overfitted."
   ]
  },
  {
   "cell_type": "code",
   "execution_count": 21,
   "metadata": {},
   "outputs": [],
   "source": [
    "# gridsearch\n",
    "from surprise.model_selection  import GridSearchCV\n",
    "param_grid= {'n_epochs':[20,30],\n",
    "             # in 1st iteration it will do gradient descent 20 times\n",
    "            'lr_all':[0.005,0.01], \n",
    "             # for 1st iteration my step distance=.005\n",
    "            'n_factors':[50,100]} \n",
    "             # for 1st iteration it will check 50 features"
   ]
  },
  {
   "cell_type": "code",
   "execution_count": 26,
   "metadata": {},
   "outputs": [],
   "source": [
    "SHgs=GridSearchCV(SVD,param_grid, measures=['rmse','mse'],cv=3) \n",
    "# instead of cv=3, u can pass list\n",
    "SHgs.fit(data)"
   ]
  },
  {
   "cell_type": "code",
   "execution_count": 23,
   "metadata": {},
   "outputs": [
    {
     "data": {
      "text/plain": [
       "{'rmse': 0.2777008871654881, 'mse': 0.0771284095064293}"
      ]
     },
     "execution_count": 23,
     "metadata": {},
     "output_type": "execute_result"
    }
   ],
   "source": [
    "SHgs.best_score"
   ]
  },
  {
   "cell_type": "code",
   "execution_count": 24,
   "metadata": {},
   "outputs": [
    {
     "name": "stdout",
     "output_type": "stream",
     "text": [
      "{'n_epochs': 30, 'lr_all': 0.01, 'n_factors': 50}\n"
     ]
    }
   ],
   "source": [
    "print(SHgs.best_params['rmse']) \n",
    "# printing combination of parameters that gave best RMSE score."
   ]
  },
  {
   "cell_type": "code",
   "execution_count": null,
   "metadata": {},
   "outputs": [],
   "source": []
  }
 ],
 "metadata": {
  "kernelspec": {
   "display_name": "Python 3",
   "language": "python",
   "name": "python3"
  },
  "language_info": {
   "codemirror_mode": {
    "name": "ipython",
    "version": 3
   },
   "file_extension": ".py",
   "mimetype": "text/x-python",
   "name": "python",
   "nbconvert_exporter": "python",
   "pygments_lexer": "ipython3",
   "version": "3.7.6"
  }
 },
 "nbformat": 4,
 "nbformat_minor": 4
}
