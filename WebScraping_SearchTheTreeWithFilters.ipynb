{
 "cells": [
  {
   "cell_type": "code",
   "execution_count": 1,
   "metadata": {},
   "outputs": [],
   "source": [
    "# Demonstrate the ways to search in a tree using filters\n",
    "from bs4 import BeautifulSoup"
   ]
  },
  {
   "cell_type": "code",
   "execution_count": 2,
   "metadata": {},
   "outputs": [],
   "source": [
    "# import html file\n",
    "htmlfilepath=\"C:/Users/sharv/Documents/Post Graduate Program In Data Science-PurdueSimpliLearn/Course2-Data Science With Python/Datasets/Web_scraping_example.html\"\n",
    "with open(htmlfilepath,\"r\") as organization:\n",
    "    soup=BeautifulSoup(organization,\"lxml\")"
   ]
  },
  {
   "cell_type": "code",
   "execution_count": 3,
   "metadata": {},
   "outputs": [
    {
     "data": {
      "text/plain": [
       "[<html>\n",
       " <head>\n",
       " <title> Web scraping demo</title>\n",
       " </head>\n",
       " <body>\n",
       " <div class=\"organizationlist\">\n",
       " <ul id=\"HR\">\n",
       " <li class=\"HRmanager\">\n",
       " <div class=\"name\">Jack</div>\n",
       " <div class=\"ID\">101</div>\n",
       " </li>\n",
       " <li class=\"HRmanager\">\n",
       " <div class=\"name\">Kelly</div>\n",
       " <div class=\"ID\">103</div>\n",
       " </li>\n",
       " </ul>\n",
       " <ul id=\"IT\">\n",
       " <li class=\"ITmanager\">\n",
       " <div class=\"name\">Daren</div>\n",
       " <div class=\"ID\">65</div>\n",
       " </li>\n",
       " </ul>\n",
       " <ul id=\"Finance\">\n",
       " <li class=\"GENmanager\">\n",
       " <div class=\"name\">Sammy</div>\n",
       " <div class=\"ID\">007</div>\n",
       " </li>\n",
       " <li class=\"AccNmanager\">\n",
       " <div class=\"name\">Joseph</div>\n",
       " <div class=\"ID\">097</div>\n",
       " </li>\n",
       " </ul>\n",
       " </div>\n",
       " </body>\n",
       " </html>]"
      ]
     },
     "execution_count": 3,
     "metadata": {},
     "output_type": "execute_result"
    }
   ],
   "source": [
    "# view the content of the soup object\n",
    "soup.contents"
   ]
  },
  {
   "cell_type": "code",
   "execution_count": 4,
   "metadata": {},
   "outputs": [],
   "source": [
    "# search using find methods\n",
    "tag_li=soup.find(\"li\")"
   ]
  },
  {
   "cell_type": "code",
   "execution_count": 5,
   "metadata": {},
   "outputs": [
    {
     "name": "stdout",
     "output_type": "stream",
     "text": [
      "<class 'bs4.element.Tag'>\n"
     ]
    }
   ],
   "source": [
    "# print the tag type\n",
    "print(type(tag_li))"
   ]
  },
  {
   "cell_type": "code",
   "execution_count": 6,
   "metadata": {},
   "outputs": [
    {
     "name": "stdout",
     "output_type": "stream",
     "text": [
      "<li class=\"HRmanager\">\n",
      "<div class=\"name\">Jack</div>\n",
      "<div class=\"ID\">101</div>\n",
      "</li>\n"
     ]
    }
   ],
   "source": [
    "# print the tag\n",
    "print(tag_li)"
   ]
  },
  {
   "cell_type": "code",
   "execution_count": 10,
   "metadata": {},
   "outputs": [],
   "source": [
    "# search the document using find method for an ID\n",
    "find_id=soup.find(id=\"HR\")"
   ]
  },
  {
   "cell_type": "code",
   "execution_count": 11,
   "metadata": {},
   "outputs": [
    {
     "name": "stdout",
     "output_type": "stream",
     "text": [
      "<ul id=\"HR\">\n",
      "<li class=\"HRmanager\">\n",
      "<div class=\"name\">Jack</div>\n",
      "<div class=\"ID\">101</div>\n",
      "</li>\n",
      "<li class=\"HRmanager\">\n",
      "<div class=\"name\">Kelly</div>\n",
      "<div class=\"ID\">103</div>\n",
      "</li>\n",
      "</ul>\n"
     ]
    }
   ],
   "source": [
    "# print the find_id object\n",
    "print(find_id)"
   ]
  },
  {
   "cell_type": "code",
   "execution_count": 12,
   "metadata": {},
   "outputs": [
    {
     "name": "stdout",
     "output_type": "stream",
     "text": [
      "Jack\n"
     ]
    }
   ],
   "source": [
    "# print the string value\n",
    "print(find_id.li.div.string)"
   ]
  },
  {
   "cell_type": "code",
   "execution_count": 13,
   "metadata": {},
   "outputs": [],
   "source": [
    "# search using string only\n",
    "search_for_stringOnly=soup.findAll(text=[\"Kelly\",\"Jack\"])"
   ]
  },
  {
   "cell_type": "code",
   "execution_count": 14,
   "metadata": {},
   "outputs": [
    {
     "name": "stdout",
     "output_type": "stream",
     "text": [
      "['Jack', 'Kelly']\n"
     ]
    }
   ],
   "source": [
    "# print the search values\n",
    "print(search_for_stringOnly)"
   ]
  },
  {
   "cell_type": "code",
   "execution_count": 15,
   "metadata": {},
   "outputs": [
    {
     "name": "stdout",
     "output_type": "stream",
     "text": [
      "<li class=\"ITmanager\">\n",
      "<div class=\"name\">Daren</div>\n",
      "<div class=\"ID\">65</div>\n",
      "</li>\n"
     ]
    }
   ],
   "source": [
    "# search based on css class name(present as an attribute)\n",
    "css_class_search=soup.find(attrs={\"class\":\"ITmanager\"})\n",
    "print(css_class_search)"
   ]
  },
  {
   "cell_type": "code",
   "execution_count": 16,
   "metadata": {},
   "outputs": [],
   "source": [
    "# create a function to search the document based upon the tag passed as parameter\n",
    "def is_account_manager(tag):\n",
    "    return tag.has_attr(\"id\") and tag.get(\"id\")==\"Finance\""
   ]
  },
  {
   "cell_type": "code",
   "execution_count": 17,
   "metadata": {},
   "outputs": [
    {
     "name": "stdout",
     "output_type": "stream",
     "text": [
      "Sammy\n"
     ]
    }
   ],
   "source": [
    "# search the document using function and print it\n",
    "account_manager=soup.find(is_account_manager)\n",
    "print(account_manager.li.div.string)"
   ]
  },
  {
   "cell_type": "code",
   "execution_count": 18,
   "metadata": {},
   "outputs": [
    {
     "name": "stdout",
     "output_type": "stream",
     "text": [
      "html\n",
      "head\n",
      "title\n",
      "body\n",
      "div\n",
      "ul\n",
      "li\n",
      "div\n",
      "div\n",
      "li\n",
      "div\n",
      "div\n",
      "ul\n",
      "li\n",
      "div\n",
      "div\n",
      "ul\n",
      "li\n",
      "div\n",
      "div\n",
      "li\n",
      "div\n",
      "div\n"
     ]
    }
   ],
   "source": [
    "# print tag name using True- which returns all the tags present in the document\n",
    "for tag in soup.findAll(True):\n",
    "    print(tag.name)"
   ]
  },
  {
   "cell_type": "code",
   "execution_count": 20,
   "metadata": {},
   "outputs": [],
   "source": [
    "# search using findAll method for the given class\n",
    "find_class = soup.findAll(class_=\"HRmanager\")"
   ]
  },
  {
   "cell_type": "code",
   "execution_count": 21,
   "metadata": {},
   "outputs": [
    {
     "data": {
      "text/plain": [
       "bs4.element.ResultSet"
      ]
     },
     "execution_count": 21,
     "metadata": {},
     "output_type": "execute_result"
    }
   ],
   "source": [
    "# view the type of the class\n",
    "type(find_class)"
   ]
  },
  {
   "cell_type": "code",
   "execution_count": 22,
   "metadata": {},
   "outputs": [
    {
     "name": "stdout",
     "output_type": "stream",
     "text": [
      "<li class=\"HRmanager\">\n",
      "<div class=\"name\">Jack</div>\n",
      "<div class=\"ID\">101</div>\n",
      "</li>\n"
     ]
    }
   ],
   "source": [
    "# print the second resultset\n",
    "print(find_class[0])"
   ]
  },
  {
   "cell_type": "code",
   "execution_count": 23,
   "metadata": {},
   "outputs": [
    {
     "name": "stdout",
     "output_type": "stream",
     "text": [
      "<li class=\"HRmanager\">\n",
      "<div class=\"name\">Kelly</div>\n",
      "<div class=\"ID\">103</div>\n",
      "</li>\n"
     ]
    }
   ],
   "source": [
    "# print the second result\n",
    "print(find_class[1])"
   ]
  },
  {
   "cell_type": "code",
   "execution_count": 24,
   "metadata": {},
   "outputs": [
    {
     "name": "stdout",
     "output_type": "stream",
     "text": [
      "[<ul id=\"HR\">\n",
      "<li class=\"HRmanager\">\n",
      "<div class=\"name\">Jack</div>\n",
      "<div class=\"ID\">101</div>\n",
      "</li>\n",
      "<li class=\"HRmanager\">\n",
      "<div class=\"name\">Kelly</div>\n",
      "<div class=\"ID\">103</div>\n",
      "</li>\n",
      "</ul>]\n"
     ]
    }
   ],
   "source": [
    "# find parents of the web tree using find parent method\n",
    "find_class=find_class[0]\n",
    "find_parent=find_class.find_parents(\"ul\")\n",
    "print(find_parent)"
   ]
  },
  {
   "cell_type": "code",
   "execution_count": 25,
   "metadata": {},
   "outputs": [],
   "source": [
    "# now use find method to search based on the id\n",
    "org=soup.find(id=\"IT\")"
   ]
  },
  {
   "cell_type": "code",
   "execution_count": 27,
   "metadata": {},
   "outputs": [
    {
     "name": "stdout",
     "output_type": "stream",
     "text": [
      "<ul id=\"IT\">\n",
      "<li class=\"ITmanager\">\n",
      "<div class=\"name\">Daren</div>\n",
      "<div class=\"ID\">65</div>\n",
      "</li>\n",
      "</ul>\n"
     ]
    }
   ],
   "source": [
    "# print the search object\n",
    "print(org)"
   ]
  },
  {
   "cell_type": "code",
   "execution_count": 28,
   "metadata": {},
   "outputs": [],
   "source": [
    "# find the next siblings\n",
    "next_sibling=org.find_next_siblings()"
   ]
  },
  {
   "cell_type": "code",
   "execution_count": 29,
   "metadata": {},
   "outputs": [
    {
     "name": "stdout",
     "output_type": "stream",
     "text": [
      "<bound method PageElement.find_parents of <ul id=\"IT\">\n",
      "<li class=\"ITmanager\">\n",
      "<div class=\"name\">Daren</div>\n",
      "<div class=\"ID\">65</div>\n",
      "</li>\n",
      "</ul>>\n"
     ]
    }
   ],
   "source": [
    "# print parents\n",
    "parent=org.findParents\n",
    "print(parent)"
   ]
  },
  {
   "cell_type": "code",
   "execution_count": 30,
   "metadata": {},
   "outputs": [
    {
     "name": "stdout",
     "output_type": "stream",
     "text": [
      "[<div class=\"ID\">103</div>, <div class=\"name\">Kelly</div>, <li class=\"HRmanager\">\n",
      "<div class=\"name\">Kelly</div>\n",
      "<div class=\"ID\">103</div>\n",
      "</li>, <div class=\"ID\">101</div>, <div class=\"name\">Jack</div>, <li class=\"HRmanager\">\n",
      "<div class=\"name\">Jack</div>\n",
      "<div class=\"ID\">101</div>\n",
      "</li>, <ul id=\"HR\">\n",
      "<li class=\"HRmanager\">\n",
      "<div class=\"name\">Jack</div>\n",
      "<div class=\"ID\">101</div>\n",
      "</li>\n",
      "<li class=\"HRmanager\">\n",
      "<div class=\"name\">Kelly</div>\n",
      "<div class=\"ID\">103</div>\n",
      "</li>\n",
      "</ul>, <div class=\"organizationlist\">\n",
      "<ul id=\"HR\">\n",
      "<li class=\"HRmanager\">\n",
      "<div class=\"name\">Jack</div>\n",
      "<div class=\"ID\">101</div>\n",
      "</li>\n",
      "<li class=\"HRmanager\">\n",
      "<div class=\"name\">Kelly</div>\n",
      "<div class=\"ID\">103</div>\n",
      "</li>\n",
      "</ul>\n",
      "<ul id=\"IT\">\n",
      "<li class=\"ITmanager\">\n",
      "<div class=\"name\">Daren</div>\n",
      "<div class=\"ID\">65</div>\n",
      "</li>\n",
      "</ul>\n",
      "<ul id=\"Finance\">\n",
      "<li class=\"GENmanager\">\n",
      "<div class=\"name\">Sammy</div>\n",
      "<div class=\"ID\">007</div>\n",
      "</li>\n",
      "<li class=\"AccNmanager\">\n",
      "<div class=\"name\">Joseph</div>\n",
      "<div class=\"ID\">097</div>\n",
      "</li>\n",
      "</ul>\n",
      "</div>, <body>\n",
      "<div class=\"organizationlist\">\n",
      "<ul id=\"HR\">\n",
      "<li class=\"HRmanager\">\n",
      "<div class=\"name\">Jack</div>\n",
      "<div class=\"ID\">101</div>\n",
      "</li>\n",
      "<li class=\"HRmanager\">\n",
      "<div class=\"name\">Kelly</div>\n",
      "<div class=\"ID\">103</div>\n",
      "</li>\n",
      "</ul>\n",
      "<ul id=\"IT\">\n",
      "<li class=\"ITmanager\">\n",
      "<div class=\"name\">Daren</div>\n",
      "<div class=\"ID\">65</div>\n",
      "</li>\n",
      "</ul>\n",
      "<ul id=\"Finance\">\n",
      "<li class=\"GENmanager\">\n",
      "<div class=\"name\">Sammy</div>\n",
      "<div class=\"ID\">007</div>\n",
      "</li>\n",
      "<li class=\"AccNmanager\">\n",
      "<div class=\"name\">Joseph</div>\n",
      "<div class=\"ID\">097</div>\n",
      "</li>\n",
      "</ul>\n",
      "</div>\n",
      "</body>, <title> Web scraping demo</title>, <head>\n",
      "<title> Web scraping demo</title>\n",
      "</head>, <html>\n",
      "<head>\n",
      "<title> Web scraping demo</title>\n",
      "</head>\n",
      "<body>\n",
      "<div class=\"organizationlist\">\n",
      "<ul id=\"HR\">\n",
      "<li class=\"HRmanager\">\n",
      "<div class=\"name\">Jack</div>\n",
      "<div class=\"ID\">101</div>\n",
      "</li>\n",
      "<li class=\"HRmanager\">\n",
      "<div class=\"name\">Kelly</div>\n",
      "<div class=\"ID\">103</div>\n",
      "</li>\n",
      "</ul>\n",
      "<ul id=\"IT\">\n",
      "<li class=\"ITmanager\">\n",
      "<div class=\"name\">Daren</div>\n",
      "<div class=\"ID\">65</div>\n",
      "</li>\n",
      "</ul>\n",
      "<ul id=\"Finance\">\n",
      "<li class=\"GENmanager\">\n",
      "<div class=\"name\">Sammy</div>\n",
      "<div class=\"ID\">007</div>\n",
      "</li>\n",
      "<li class=\"AccNmanager\">\n",
      "<div class=\"name\">Joseph</div>\n",
      "<div class=\"ID\">097</div>\n",
      "</li>\n",
      "</ul>\n",
      "</div>\n",
      "</body>\n",
      "</html>]\n"
     ]
    }
   ],
   "source": [
    "# find and print previous\n",
    "all_Previous=org.findAllPrevious()\n",
    "print(all_Previous)"
   ]
  },
  {
   "cell_type": "code",
   "execution_count": 31,
   "metadata": {},
   "outputs": [],
   "source": [
    "# search and print previous sibling\n",
    "previous_sibling=org.findPreviousSibling()"
   ]
  },
  {
   "cell_type": "code",
   "execution_count": 32,
   "metadata": {},
   "outputs": [
    {
     "name": "stdout",
     "output_type": "stream",
     "text": [
      "[<li class=\"ITmanager\">\n",
      "<div class=\"name\">Daren</div>\n",
      "<div class=\"ID\">65</div>\n",
      "</li>, <div class=\"name\">Daren</div>, <div class=\"ID\">65</div>, <ul id=\"Finance\">\n",
      "<li class=\"GENmanager\">\n",
      "<div class=\"name\">Sammy</div>\n",
      "<div class=\"ID\">007</div>\n",
      "</li>\n",
      "<li class=\"AccNmanager\">\n",
      "<div class=\"name\">Joseph</div>\n",
      "<div class=\"ID\">097</div>\n",
      "</li>\n",
      "</ul>, <li class=\"GENmanager\">\n",
      "<div class=\"name\">Sammy</div>\n",
      "<div class=\"ID\">007</div>\n",
      "</li>, <div class=\"name\">Sammy</div>, <div class=\"ID\">007</div>, <li class=\"AccNmanager\">\n",
      "<div class=\"name\">Joseph</div>\n",
      "<div class=\"ID\">097</div>\n",
      "</li>, <div class=\"name\">Joseph</div>, <div class=\"ID\">097</div>]\n"
     ]
    }
   ],
   "source": [
    "# search and print all next\n",
    "all_next=org.findAllNext()\n",
    "print(all_next)"
   ]
  },
  {
   "cell_type": "code",
   "execution_count": 34,
   "metadata": {},
   "outputs": [
    {
     "name": "stdout",
     "output_type": "stream",
     "text": [
      "\n",
      "abc@example.com\n"
     ]
    }
   ],
   "source": [
    "# use regular expression to search the document\n",
    "import re\n",
    "email_example=\"\"\"<br/>\n",
    "<p>my email id is</p>\n",
    "abc@example.com\"\"\"\n",
    "soup_email=BeautifulSoup(email_example,\"lxml\")\n",
    "# use compile method to compile the information which contains regular expression\n",
    "emailid_regexp=re.compile(\"\\w+@\\w+\\.\\w+\")\n",
    "# find and print the email id using regular expression\n",
    "email_id=soup_email.find(text=emailid_regexp)\n",
    "print(email_id)"
   ]
  }
 ],
 "metadata": {
  "kernelspec": {
   "display_name": "Python 3",
   "language": "python",
   "name": "python3"
  },
  "language_info": {
   "codemirror_mode": {
    "name": "ipython",
    "version": 3
   },
   "file_extension": ".py",
   "mimetype": "text/x-python",
   "name": "python",
   "nbconvert_exporter": "python",
   "pygments_lexer": "ipython3",
   "version": "3.7.6"
  }
 },
 "nbformat": 4,
 "nbformat_minor": 4
}
