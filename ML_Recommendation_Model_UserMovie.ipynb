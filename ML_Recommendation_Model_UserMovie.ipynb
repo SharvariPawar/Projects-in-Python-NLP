{
 "cells": [
  {
   "cell_type": "markdown",
   "metadata": {},
   "source": [
    "Problem Statement: Consider the ratings dataset below, containing the data on: UserID, MovieID, Rating and Timestamp. Each line of this file represents one rating of one movie by one user, and has the following format: UserID::MovieID::Rating::Timestamp\n",
    "Ratings are made on a 5 star scale with half star increments.\n",
    "UserID: represents ID of the user\n",
    "MovieID: represents ID of the movie\n",
    "Timestamp: represents seconds from midnight Coordinated Universal Time (UTC) of January 1, 1970.\n",
    "Objective: Predicta User-movie recommendation model."
   ]
  },
  {
   "cell_type": "code",
   "execution_count": 53,
   "metadata": {},
   "outputs": [
    {
     "name": "stdout",
     "output_type": "stream",
     "text": [
      "   userId  movieId  rating  unix_timestamp\n",
      "0     196      242       3       881250949\n",
      "1     186      302       3       891717742\n",
      "2      22      377       1       878887116\n",
      "3     244       51       2       880606923\n",
      "4     166      346       1       886397596\n",
      "(100000, 4)\n"
     ]
    }
   ],
   "source": [
    "import pandas as pd\n",
    "import numpy as np\n",
    "r_cols = ['userId', 'movieId', 'rating', 'unix_timestamp']\n",
    "df=pd.read_csv(\"C:/Users/sharv/Documents/Post Graduate Program In Data Science-PurdueSimpliLearn/Course3-Machine Learning/Demo Datasets/Recommend.csv\",names=r_cols)\n",
    "print(df.head())\n",
    "print(df.shape)"
   ]
  },
  {
   "cell_type": "code",
   "execution_count": 54,
   "metadata": {},
   "outputs": [],
   "source": [
    "from sklearn.model_selection import train_test_split\n",
    "n_users=df.userId.unique().shape[0] #no. of users\n",
    "n_movies=df.movieId.unique().shape[0] #no. of movies\n",
    "train_data,test_data=train_test_split(df, test_size=0.25)"
   ]
  },
  {
   "cell_type": "code",
   "execution_count": 55,
   "metadata": {},
   "outputs": [
    {
     "data": {
      "text/plain": [
       "array([[0., 0., 0., ..., 0., 0., 0.],\n",
       "       [4., 0., 0., ..., 0., 0., 0.],\n",
       "       [0., 0., 0., ..., 0., 0., 0.],\n",
       "       ...,\n",
       "       [5., 0., 0., ..., 0., 0., 0.],\n",
       "       [0., 0., 0., ..., 0., 0., 0.],\n",
       "       [0., 5., 0., ..., 0., 0., 0.]])"
      ]
     },
     "execution_count": 55,
     "metadata": {},
     "output_type": "execute_result"
    }
   ],
   "source": [
    "train_data_matrix=np.zeros((n_users,n_movies)) # creating zero matrix\n",
    "# we will populate train and test matrix with rating such that the userId index - moviId index = the given rating.\n",
    "for line in train_data.itertuples():\n",
    "    train_data_matrix[line[1]-1,line[2]-1]=line[3]\n",
    "train_data_matrix # he had some movie ratings on training set but i m getting error. He did the same for testing set."
   ]
  },
  {
   "cell_type": "code",
   "execution_count": 41,
   "metadata": {},
   "outputs": [],
   "source": [
    "#r_cols = ['user_id', 'movie_id', 'rating', 'unix_timestamp']\n",
    "#ratings_train = pd.read_csv('C:/Users\\sharv/Documents/Post Graduate Program In Data Science-PurdueSimpliLearn/Course3-Machine Learning/Day 10/ua.base', sep='\\t', names=r_cols, encoding='latin-1')\n",
    "#ratings_test = pd.read_csv('C:/Users\\sharv/Documents/Post Graduate Program In Data Science-PurdueSimpliLearn/Course3-Machine Learning/Day 10/ua.test', sep='\\t', names=r_cols, encoding='latin-1')\n",
    "#ratings_train.shape, ratings_test.shape"
   ]
  },
  {
   "cell_type": "code",
   "execution_count": 42,
   "metadata": {},
   "outputs": [],
   "source": [
    "#n_users = ratings_train.user_id.unique().shape[0]\n",
    "#n_items = ratings_train.movie_id.unique().shape[0]"
   ]
  },
  {
   "cell_type": "code",
   "execution_count": 43,
   "metadata": {},
   "outputs": [],
   "source": [
    "#data_matrix = np.zeros((n_users, n_items))\n",
    "#for line in ratings_train.itertuples():\n",
    "#    data_matrix[line[1]-1, line[2]-1] = line[3]"
   ]
  },
  {
   "cell_type": "code",
   "execution_count": 56,
   "metadata": {},
   "outputs": [
    {
     "data": {
      "text/plain": [
       "array([[5., 3., 4., ..., 0., 0., 0.],\n",
       "       [0., 0., 0., ..., 0., 0., 0.],\n",
       "       [0., 0., 0., ..., 0., 0., 0.],\n",
       "       ...,\n",
       "       [0., 0., 0., ..., 0., 0., 0.],\n",
       "       [0., 0., 0., ..., 0., 0., 0.],\n",
       "       [0., 0., 0., ..., 0., 0., 0.]])"
      ]
     },
     "execution_count": 56,
     "metadata": {},
     "output_type": "execute_result"
    }
   ],
   "source": [
    "test_data_matrix=np.zeros((n_users,n_movies)) \n",
    "for line in test_data.itertuples():\n",
    "    test_data_matrix[line[1]-1,line[2]-1]=line[3]\n",
    "test_data_matrix"
   ]
  },
  {
   "cell_type": "code",
   "execution_count": 57,
   "metadata": {},
   "outputs": [],
   "source": [
    "# creating cosine similarity matrices for users and movies\n",
    "# cosine similarity is measure of similarity between 2 non-zero vectors of interproduct space that measures the cosine of \n",
    "# the angle between them. cosine is zero degrees is 1 and it is less than 1 for any angle in the interval 0 Pi radians.\n",
    "from sklearn.metrics import pairwise_distances\n",
    "user_similarity = pairwise_distances(train_data_matrix,metric='cosine')\n",
    "movie_similarity=pairwise_distances(train_data_matrix.T,metric='cosine')"
   ]
  },
  {
   "cell_type": "code",
   "execution_count": 58,
   "metadata": {},
   "outputs": [
    {
     "data": {
      "text/plain": [
       "array([[ 1.65606866,  0.5716249 ,  0.48167515, ...,  0.30180283,\n",
       "         0.30185545,  0.29936122],\n",
       "       [ 1.34544099,  0.27040643,  0.13527824, ..., -0.06407648,\n",
       "        -0.06266188, -0.0660003 ],\n",
       "       [ 1.35831975,  0.22286295,  0.10022067, ..., -0.10437244,\n",
       "        -0.10280243, -0.10604021],\n",
       "       ...,\n",
       "       [ 1.23445117,  0.19883947,  0.06968692, ..., -0.12173353,\n",
       "        -0.12075019, -0.12398496],\n",
       "       [ 1.40520874,  0.29368024,  0.18690266, ..., -0.01239082,\n",
       "        -0.0115582 , -0.01452064],\n",
       "       [ 1.45567788,  0.36713286,  0.28756111, ...,  0.11084445,\n",
       "         0.11078781,  0.10832633]])"
      ]
     },
     "execution_count": 58,
     "metadata": {},
     "output_type": "execute_result"
    }
   ],
   "source": [
    "# now we will go with predictions based on the fact that user movie collaborative filterings difference from mean rating\n",
    "# is a better indicator than absolute rating.\n",
    "# Calculate user predictions such that user prediction is sum of mean user rating and the dot product of user similarity\n",
    "# and ratings difference, divided by absolute value of user similarity.\n",
    "# The matrix we recceived as output describes how those unrated movies will be rated by users based on their prior rating\n",
    "# styles.\n",
    "mean_user_rating=train_data_matrix.mean(axis=1)[:,np.newaxis]\n",
    "ratings_diff=(train_data_matrix-mean_user_rating)\n",
    "user_pred=mean_user_rating + user_similarity.dot(ratings_diff)/np.array([np.abs(user_similarity).sum(axis=1)]).T\n",
    "user_pred"
   ]
  },
  {
   "cell_type": "markdown",
   "metadata": {},
   "source": [
    " recap\n",
    "1> import libraries and the dataset\n",
    "2> identify total number of users and movies\n",
    "3> split the data into training and testing sets\n",
    "4> populate the train test metrices with random ratings\n",
    "5> create cosine similarity metrices for users and movies\n",
    "6> perform predictions"
   ]
  },
  {
   "cell_type": "markdown",
   "metadata": {},
   "source": [
    "Movie- Movie Recommendation\n",
    "DESCRIPTION\n",
    "\n",
    "Consider the ratings dataset below containing data on UserID, MovieID, Rating, and Timestamp. Each line of this file represents one rating of one movie by one user and has the following format: UserID::MovieID::Rating::Timestamp Ratings are made on a 5 star scale with half star increments. UserID: represents the ID of the user MovieID: represents the ID of the movie Timestamp: represents seconds from midnight Coordinated Universal Time (UTC) of January 1, 1970.\n",
    "Objective: Predict a movie-movie recommendation model."
   ]
  },
  {
   "cell_type": "code",
   "execution_count": 59,
   "metadata": {},
   "outputs": [
    {
     "data": {
      "text/html": [
       "<div>\n",
       "<style scoped>\n",
       "    .dataframe tbody tr th:only-of-type {\n",
       "        vertical-align: middle;\n",
       "    }\n",
       "\n",
       "    .dataframe tbody tr th {\n",
       "        vertical-align: top;\n",
       "    }\n",
       "\n",
       "    .dataframe thead th {\n",
       "        text-align: right;\n",
       "    }\n",
       "</style>\n",
       "<table border=\"1\" class=\"dataframe\">\n",
       "  <thead>\n",
       "    <tr style=\"text-align: right;\">\n",
       "      <th></th>\n",
       "      <th>user_id</th>\n",
       "      <th>movie_id</th>\n",
       "      <th>rating</th>\n",
       "      <th>timestamp</th>\n",
       "    </tr>\n",
       "  </thead>\n",
       "  <tbody>\n",
       "    <tr>\n",
       "      <th>0</th>\n",
       "      <td>196</td>\n",
       "      <td>242</td>\n",
       "      <td>3</td>\n",
       "      <td>881250949</td>\n",
       "    </tr>\n",
       "    <tr>\n",
       "      <th>1</th>\n",
       "      <td>186</td>\n",
       "      <td>302</td>\n",
       "      <td>3</td>\n",
       "      <td>891717742</td>\n",
       "    </tr>\n",
       "    <tr>\n",
       "      <th>2</th>\n",
       "      <td>22</td>\n",
       "      <td>377</td>\n",
       "      <td>1</td>\n",
       "      <td>878887116</td>\n",
       "    </tr>\n",
       "    <tr>\n",
       "      <th>3</th>\n",
       "      <td>244</td>\n",
       "      <td>51</td>\n",
       "      <td>2</td>\n",
       "      <td>880606923</td>\n",
       "    </tr>\n",
       "    <tr>\n",
       "      <th>4</th>\n",
       "      <td>166</td>\n",
       "      <td>346</td>\n",
       "      <td>1</td>\n",
       "      <td>886397596</td>\n",
       "    </tr>\n",
       "    <tr>\n",
       "      <th>...</th>\n",
       "      <td>...</td>\n",
       "      <td>...</td>\n",
       "      <td>...</td>\n",
       "      <td>...</td>\n",
       "    </tr>\n",
       "    <tr>\n",
       "      <th>99995</th>\n",
       "      <td>880</td>\n",
       "      <td>476</td>\n",
       "      <td>3</td>\n",
       "      <td>880175444</td>\n",
       "    </tr>\n",
       "    <tr>\n",
       "      <th>99996</th>\n",
       "      <td>716</td>\n",
       "      <td>204</td>\n",
       "      <td>5</td>\n",
       "      <td>879795543</td>\n",
       "    </tr>\n",
       "    <tr>\n",
       "      <th>99997</th>\n",
       "      <td>276</td>\n",
       "      <td>1090</td>\n",
       "      <td>1</td>\n",
       "      <td>874795795</td>\n",
       "    </tr>\n",
       "    <tr>\n",
       "      <th>99998</th>\n",
       "      <td>13</td>\n",
       "      <td>225</td>\n",
       "      <td>2</td>\n",
       "      <td>882399156</td>\n",
       "    </tr>\n",
       "    <tr>\n",
       "      <th>99999</th>\n",
       "      <td>12</td>\n",
       "      <td>203</td>\n",
       "      <td>3</td>\n",
       "      <td>879959583</td>\n",
       "    </tr>\n",
       "  </tbody>\n",
       "</table>\n",
       "<p>100000 rows × 4 columns</p>\n",
       "</div>"
      ],
      "text/plain": [
       "       user_id  movie_id  rating  timestamp\n",
       "0          196       242       3  881250949\n",
       "1          186       302       3  891717742\n",
       "2           22       377       1  878887116\n",
       "3          244        51       2  880606923\n",
       "4          166       346       1  886397596\n",
       "...        ...       ...     ...        ...\n",
       "99995      880       476       3  880175444\n",
       "99996      716       204       5  879795543\n",
       "99997      276      1090       1  874795795\n",
       "99998       13       225       2  882399156\n",
       "99999       12       203       3  879959583\n",
       "\n",
       "[100000 rows x 4 columns]"
      ]
     },
     "execution_count": 59,
     "metadata": {},
     "output_type": "execute_result"
    }
   ],
   "source": [
    "# Step 01\n",
    "\n",
    "df = pd.read_csv('C:/Users/sharv/Documents/Post Graduate Program In Data Science-PurdueSimpliLearn/Course3-Machine Learning/Demo Datasets/Recommend.csv',names=['user_id', 'movie_id', 'rating', 'timestamp'])\n",
    "df"
   ]
  },
  {
   "cell_type": "code",
   "execution_count": 60,
   "metadata": {},
   "outputs": [],
   "source": [
    "# Step 02\n",
    "# Create a train test split of 75/25 by declaring number of users and movies\n",
    "\n",
    "n_users= df.user_id.unique().shape[0] \n",
    "n_movies= df.movie_id.unique().shape[0]\n",
    "train_data, test_data= train_test_split(df, test_size=0.25)"
   ]
  },
  {
   "cell_type": "code",
   "execution_count": 61,
   "metadata": {},
   "outputs": [
    {
     "data": {
      "text/plain": [
       "array([[5., 3., 0., ..., 0., 0., 0.],\n",
       "       [4., 0., 0., ..., 0., 0., 0.],\n",
       "       [0., 0., 0., ..., 0., 0., 0.],\n",
       "       ...,\n",
       "       [5., 0., 0., ..., 0., 0., 0.],\n",
       "       [0., 0., 0., ..., 0., 0., 0.],\n",
       "       [0., 5., 0., ..., 0., 0., 0.]])"
      ]
     },
     "execution_count": 61,
     "metadata": {},
     "output_type": "execute_result"
    }
   ],
   "source": [
    "# Step 03\n",
    "# Populate the train matrix (user_idx movie_id) with ratings such that [user_idindex, movie_idindex] = given rating\n",
    "\n",
    "train_data_matrix= np.zeros((n_users, n_movies))\n",
    "for line in train_data.itertuples():\n",
    "    #[user_idindex, movie_idindex] = given rating.\n",
    "    train_data_matrix[line[1]-1, line[2]-1] = line[3] \n",
    "train_data_matrix"
   ]
  },
  {
   "cell_type": "code",
   "execution_count": 62,
   "metadata": {},
   "outputs": [
    {
     "data": {
      "text/plain": [
       "array([[0., 0., 4., ..., 0., 0., 0.],\n",
       "       [0., 0., 0., ..., 0., 0., 0.],\n",
       "       [0., 0., 0., ..., 0., 0., 0.],\n",
       "       ...,\n",
       "       [0., 0., 0., ..., 0., 0., 0.],\n",
       "       [0., 0., 0., ..., 0., 0., 0.],\n",
       "       [0., 0., 0., ..., 0., 0., 0.]])"
      ]
     },
     "execution_count": 62,
     "metadata": {},
     "output_type": "execute_result"
    }
   ],
   "source": [
    "# Step 04\n",
    "# Populate the test matrix (user_idx movie_id) with ratings such that [user_idindex, movie_idindex] = given rating\n",
    "\n",
    "test_data_matrix= np.zeros((n_users, n_movies))\n",
    "for line in test_data.itertuples():\n",
    "    #[user_idindex, movie_idindex] = given rating.\n",
    "    test_data_matrix[line[1]-1, line[2]-1] = line[3]\n",
    "test_data_matrix"
   ]
  },
  {
   "cell_type": "code",
   "execution_count": 64,
   "metadata": {},
   "outputs": [
    {
     "data": {
      "text/plain": [
       "array([[0.38509289, 0.40289305, 0.43104189, ..., 0.46967671, 0.45959807,\n",
       "        0.45575547],\n",
       "       [0.10114764, 0.11768173, 0.11276026, ..., 0.11817935, 0.11976559,\n",
       "        0.12009295],\n",
       "       [0.06222649, 0.06492201, 0.0635383 , ..., 0.05967131, 0.06410581,\n",
       "        0.06436895],\n",
       "       ...,\n",
       "       [0.0309901 , 0.04012331, 0.03809935, ..., 0.04450092, 0.04401544,\n",
       "        0.0436033 ],\n",
       "       [0.131557  , 0.13904667, 0.14903204, ..., 0.15286508, 0.15129057,\n",
       "        0.15394827],\n",
       "       [0.20153359, 0.19924025, 0.22113181, ..., 0.2524793 , 0.24325265,\n",
       "        0.24401651]])"
      ]
     },
     "execution_count": 64,
     "metadata": {},
     "output_type": "execute_result"
    }
   ],
   "source": [
    "# Step 05\n",
    "# Create cosine similarity matrices for movies and predict a movie-movie recommendation model\n",
    "\n",
    "movie_similarity= pairwise_distances(train_data_matrix.T, metric='cosine')\n",
    "movie_pred= train_data_matrix.dot(movie_similarity) / np.array([np.abs(movie_similarity).sum(axis=1)])\n",
    "movie_pred"
   ]
  },
  {
   "cell_type": "code",
   "execution_count": null,
   "metadata": {},
   "outputs": [],
   "source": []
  }
 ],
 "metadata": {
  "kernelspec": {
   "display_name": "Python 3",
   "language": "python",
   "name": "python3"
  },
  "language_info": {
   "codemirror_mode": {
    "name": "ipython",
    "version": 3
   },
   "file_extension": ".py",
   "mimetype": "text/x-python",
   "name": "python",
   "nbconvert_exporter": "python",
   "pygments_lexer": "ipython3",
   "version": "3.7.9"
  }
 },
 "nbformat": 4,
 "nbformat_minor": 4
}
