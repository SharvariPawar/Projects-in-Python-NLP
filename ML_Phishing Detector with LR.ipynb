{
 "cells": [
  {
   "cell_type": "code",
   "execution_count": 10,
   "metadata": {},
   "outputs": [],
   "source": [
    "import pandas as pd\n",
    "import numpy as np\n",
    "\n",
    "data=pd.read_csv(\"C:/Users/sharv/Documents/Post Graduate Program In Data Science-PurdueSimpliLearn/Course3-Machine Learning/Projects/Projects for Submission/Project 3 - Phishing Detector using LR/phishing.txt\",names=[ 'UsingIP', 'LongURL', 'ShortURL', 'Symbol@', 'Redirecting//',\n",
    "           'PrefixSuffix-', 'SubDomains', 'HTTPS', 'DomainRegLen', 'Favicon',\n",
    "           'NonStdPort', 'HTTPSDomainURL', 'RequestURL', 'AnchorURL',\n",
    "           'LinksInScriptTags', 'ServerFormHandler', 'InfoEmail', 'AbnormalURL',\n",
    "           'WebsiteForwarding', 'StatusBarCust', 'DisableRightClick',\n",
    "           'UsingPopupWindow', 'IframeRedirection', 'AgeofDomain',\n",
    "           'DNSRecording', 'WebsiteTraffic', 'PageRank', 'GoogleIndex',\n",
    "           'LinksPointingToPage', 'StatsReport', 'class' ])"
   ]
  },
  {
   "cell_type": "code",
   "execution_count": 11,
   "metadata": {},
   "outputs": [
    {
     "data": {
      "text/html": [
       "<div>\n",
       "<style scoped>\n",
       "    .dataframe tbody tr th:only-of-type {\n",
       "        vertical-align: middle;\n",
       "    }\n",
       "\n",
       "    .dataframe tbody tr th {\n",
       "        vertical-align: top;\n",
       "    }\n",
       "\n",
       "    .dataframe thead th {\n",
       "        text-align: right;\n",
       "    }\n",
       "</style>\n",
       "<table border=\"1\" class=\"dataframe\">\n",
       "  <thead>\n",
       "    <tr style=\"text-align: right;\">\n",
       "      <th></th>\n",
       "      <th>UsingIP</th>\n",
       "      <th>LongURL</th>\n",
       "      <th>ShortURL</th>\n",
       "      <th>Symbol@</th>\n",
       "      <th>Redirecting//</th>\n",
       "      <th>PrefixSuffix-</th>\n",
       "      <th>SubDomains</th>\n",
       "      <th>HTTPS</th>\n",
       "      <th>DomainRegLen</th>\n",
       "      <th>Favicon</th>\n",
       "      <th>...</th>\n",
       "      <th>UsingPopupWindow</th>\n",
       "      <th>IframeRedirection</th>\n",
       "      <th>AgeofDomain</th>\n",
       "      <th>DNSRecording</th>\n",
       "      <th>WebsiteTraffic</th>\n",
       "      <th>PageRank</th>\n",
       "      <th>GoogleIndex</th>\n",
       "      <th>LinksPointingToPage</th>\n",
       "      <th>StatsReport</th>\n",
       "      <th>class</th>\n",
       "    </tr>\n",
       "  </thead>\n",
       "  <tbody>\n",
       "    <tr>\n",
       "      <th>0</th>\n",
       "      <td>-1</td>\n",
       "      <td>1</td>\n",
       "      <td>1</td>\n",
       "      <td>1</td>\n",
       "      <td>-1</td>\n",
       "      <td>-1</td>\n",
       "      <td>-1</td>\n",
       "      <td>-1</td>\n",
       "      <td>-1</td>\n",
       "      <td>1</td>\n",
       "      <td>...</td>\n",
       "      <td>1</td>\n",
       "      <td>1</td>\n",
       "      <td>-1</td>\n",
       "      <td>-1</td>\n",
       "      <td>-1</td>\n",
       "      <td>-1</td>\n",
       "      <td>1</td>\n",
       "      <td>1</td>\n",
       "      <td>-1</td>\n",
       "      <td>-1</td>\n",
       "    </tr>\n",
       "    <tr>\n",
       "      <th>1</th>\n",
       "      <td>1</td>\n",
       "      <td>1</td>\n",
       "      <td>1</td>\n",
       "      <td>1</td>\n",
       "      <td>1</td>\n",
       "      <td>-1</td>\n",
       "      <td>0</td>\n",
       "      <td>1</td>\n",
       "      <td>-1</td>\n",
       "      <td>1</td>\n",
       "      <td>...</td>\n",
       "      <td>1</td>\n",
       "      <td>1</td>\n",
       "      <td>-1</td>\n",
       "      <td>-1</td>\n",
       "      <td>0</td>\n",
       "      <td>-1</td>\n",
       "      <td>1</td>\n",
       "      <td>1</td>\n",
       "      <td>1</td>\n",
       "      <td>-1</td>\n",
       "    </tr>\n",
       "    <tr>\n",
       "      <th>2</th>\n",
       "      <td>1</td>\n",
       "      <td>0</td>\n",
       "      <td>1</td>\n",
       "      <td>1</td>\n",
       "      <td>1</td>\n",
       "      <td>-1</td>\n",
       "      <td>-1</td>\n",
       "      <td>-1</td>\n",
       "      <td>-1</td>\n",
       "      <td>1</td>\n",
       "      <td>...</td>\n",
       "      <td>1</td>\n",
       "      <td>1</td>\n",
       "      <td>1</td>\n",
       "      <td>-1</td>\n",
       "      <td>1</td>\n",
       "      <td>-1</td>\n",
       "      <td>1</td>\n",
       "      <td>0</td>\n",
       "      <td>-1</td>\n",
       "      <td>-1</td>\n",
       "    </tr>\n",
       "    <tr>\n",
       "      <th>3</th>\n",
       "      <td>1</td>\n",
       "      <td>0</td>\n",
       "      <td>1</td>\n",
       "      <td>1</td>\n",
       "      <td>1</td>\n",
       "      <td>-1</td>\n",
       "      <td>-1</td>\n",
       "      <td>-1</td>\n",
       "      <td>1</td>\n",
       "      <td>1</td>\n",
       "      <td>...</td>\n",
       "      <td>1</td>\n",
       "      <td>1</td>\n",
       "      <td>-1</td>\n",
       "      <td>-1</td>\n",
       "      <td>1</td>\n",
       "      <td>-1</td>\n",
       "      <td>1</td>\n",
       "      <td>-1</td>\n",
       "      <td>1</td>\n",
       "      <td>-1</td>\n",
       "    </tr>\n",
       "    <tr>\n",
       "      <th>4</th>\n",
       "      <td>1</td>\n",
       "      <td>0</td>\n",
       "      <td>-1</td>\n",
       "      <td>1</td>\n",
       "      <td>1</td>\n",
       "      <td>-1</td>\n",
       "      <td>1</td>\n",
       "      <td>1</td>\n",
       "      <td>-1</td>\n",
       "      <td>1</td>\n",
       "      <td>...</td>\n",
       "      <td>-1</td>\n",
       "      <td>1</td>\n",
       "      <td>-1</td>\n",
       "      <td>-1</td>\n",
       "      <td>0</td>\n",
       "      <td>-1</td>\n",
       "      <td>1</td>\n",
       "      <td>1</td>\n",
       "      <td>1</td>\n",
       "      <td>1</td>\n",
       "    </tr>\n",
       "  </tbody>\n",
       "</table>\n",
       "<p>5 rows × 31 columns</p>\n",
       "</div>"
      ],
      "text/plain": [
       "   UsingIP  LongURL  ShortURL  Symbol@  Redirecting//  PrefixSuffix-  \\\n",
       "0       -1        1         1        1             -1             -1   \n",
       "1        1        1         1        1              1             -1   \n",
       "2        1        0         1        1              1             -1   \n",
       "3        1        0         1        1              1             -1   \n",
       "4        1        0        -1        1              1             -1   \n",
       "\n",
       "   SubDomains  HTTPS  DomainRegLen  Favicon  ...  UsingPopupWindow  \\\n",
       "0          -1     -1            -1        1  ...                 1   \n",
       "1           0      1            -1        1  ...                 1   \n",
       "2          -1     -1            -1        1  ...                 1   \n",
       "3          -1     -1             1        1  ...                 1   \n",
       "4           1      1            -1        1  ...                -1   \n",
       "\n",
       "   IframeRedirection  AgeofDomain  DNSRecording  WebsiteTraffic  PageRank  \\\n",
       "0                  1           -1            -1              -1        -1   \n",
       "1                  1           -1            -1               0        -1   \n",
       "2                  1            1            -1               1        -1   \n",
       "3                  1           -1            -1               1        -1   \n",
       "4                  1           -1            -1               0        -1   \n",
       "\n",
       "   GoogleIndex  LinksPointingToPage  StatsReport  class  \n",
       "0            1                    1           -1     -1  \n",
       "1            1                    1            1     -1  \n",
       "2            1                    0           -1     -1  \n",
       "3            1                   -1            1     -1  \n",
       "4            1                    1            1      1  \n",
       "\n",
       "[5 rows x 31 columns]"
      ]
     },
     "execution_count": 11,
     "metadata": {},
     "output_type": "execute_result"
    }
   ],
   "source": [
    "data.head()"
   ]
  },
  {
   "cell_type": "code",
   "execution_count": 12,
   "metadata": {},
   "outputs": [
    {
     "data": {
      "text/plain": [
       "(11055, 31)"
      ]
     },
     "execution_count": 12,
     "metadata": {},
     "output_type": "execute_result"
    }
   ],
   "source": [
    "data.shape"
   ]
  },
  {
   "cell_type": "code",
   "execution_count": 13,
   "metadata": {},
   "outputs": [
    {
     "data": {
      "text/plain": [
       "UsingIP                0\n",
       "LongURL                0\n",
       "ShortURL               0\n",
       "Symbol@                0\n",
       "Redirecting//          0\n",
       "PrefixSuffix-          0\n",
       "SubDomains             0\n",
       "HTTPS                  0\n",
       "DomainRegLen           0\n",
       "Favicon                0\n",
       "NonStdPort             0\n",
       "HTTPSDomainURL         0\n",
       "RequestURL             0\n",
       "AnchorURL              0\n",
       "LinksInScriptTags      0\n",
       "ServerFormHandler      0\n",
       "InfoEmail              0\n",
       "AbnormalURL            0\n",
       "WebsiteForwarding      0\n",
       "StatusBarCust          0\n",
       "DisableRightClick      0\n",
       "UsingPopupWindow       0\n",
       "IframeRedirection      0\n",
       "AgeofDomain            0\n",
       "DNSRecording           0\n",
       "WebsiteTraffic         0\n",
       "PageRank               0\n",
       "GoogleIndex            0\n",
       "LinksPointingToPage    0\n",
       "StatsReport            0\n",
       "class                  0\n",
       "dtype: int64"
      ]
     },
     "execution_count": 13,
     "metadata": {},
     "output_type": "execute_result"
    }
   ],
   "source": [
    "data.isnull().sum()"
   ]
  },
  {
   "cell_type": "code",
   "execution_count": 16,
   "metadata": {},
   "outputs": [],
   "source": [
    "from sklearn.model_selection import train_test_split,cross_val_score\n",
    "X= data.drop(columns='class')\n",
    "Y=data['class']\n",
    "Y=pd.DataFrame(Y)"
   ]
  },
  {
   "cell_type": "code",
   "execution_count": 17,
   "metadata": {},
   "outputs": [
    {
     "name": "stdout",
     "output_type": "stream",
     "text": [
      "(7738, 30)\n",
      "(3317, 30)\n",
      "(7738, 1)\n",
      "(3317, 1)\n"
     ]
    }
   ],
   "source": [
    "train_X,test_X,train_Y,test_Y=train_test_split(X,Y,test_size=0.3,random_state=2)\n",
    "print(train_X.shape)\n",
    "print(test_X.shape)\n",
    "print(train_Y.shape)\n",
    "print(test_Y.shape)"
   ]
  },
  {
   "cell_type": "markdown",
   "metadata": {},
   "source": [
    "# Lets apply Logistic Regression and check its accuracy"
   ]
  },
  {
   "cell_type": "code",
   "execution_count": 18,
   "metadata": {},
   "outputs": [
    {
     "name": "stdout",
     "output_type": "stream",
     "text": [
      "{'C': 1.0, 'class_weight': None, 'dual': False, 'fit_intercept': True, 'intercept_scaling': 1, 'l1_ratio': None, 'max_iter': 100, 'multi_class': 'auto', 'n_jobs': None, 'penalty': 'l2', 'random_state': None, 'solver': 'lbfgs', 'tol': 0.0001, 'verbose': 0, 'warm_start': False}\n"
     ]
    },
    {
     "name": "stderr",
     "output_type": "stream",
     "text": [
      "C:\\Users\\sharv\\anaconda3\\lib\\site-packages\\sklearn\\utils\\validation.py:72: DataConversionWarning: A column-vector y was passed when a 1d array was expected. Please change the shape of y to (n_samples, ), for example using ravel().\n",
      "  return f(**kwargs)\n"
     ]
    }
   ],
   "source": [
    "from sklearn.linear_model import LogisticRegression\n",
    "from matplotlib import pyplot as plt\n",
    "import seaborn as sns\n",
    "%matplotlib inline\n",
    "from sklearn.metrics import accuracy_score,confusion_matrix,classification_report\n",
    "logR=LogisticRegression()\n",
    "model1=logR.fit(train_X,train_Y)\n",
    "print(model1.get_params())"
   ]
  },
  {
   "cell_type": "code",
   "execution_count": 20,
   "metadata": {},
   "outputs": [
    {
     "data": {
      "text/plain": [
       "0.9240277359059391"
      ]
     },
     "execution_count": 20,
     "metadata": {},
     "output_type": "execute_result"
    }
   ],
   "source": [
    "logR_predict= model1.predict(test_X)\n",
    "accuracy_score(logreg_predict,test_Y)"
   ]
  },
  {
   "cell_type": "code",
   "execution_count": 21,
   "metadata": {},
   "outputs": [
    {
     "name": "stdout",
     "output_type": "stream",
     "text": [
      "              precision    recall  f1-score   support\n",
      "\n",
      "          -1       0.91      0.92      0.91      1436\n",
      "           1       0.94      0.93      0.93      1881\n",
      "\n",
      "    accuracy                           0.92      3317\n",
      "   macro avg       0.92      0.92      0.92      3317\n",
      "weighted avg       0.92      0.92      0.92      3317\n",
      "\n"
     ]
    }
   ],
   "source": [
    "print(classification_report(logR_predict,test_Y))"
   ]
  },
  {
   "cell_type": "code",
   "execution_count": 23,
   "metadata": {},
   "outputs": [
    {
     "data": {
      "text/plain": [
       "array([[1322,  138],\n",
       "       [ 114, 1743]], dtype=int64)"
      ]
     },
     "execution_count": 23,
     "metadata": {},
     "output_type": "execute_result"
    }
   ],
   "source": [
    "from sklearn.metrics import confusion_matrix\n",
    "confusion_matrix=confusion_matrix(test_Y,logR_predict)\n",
    "confusion_matrix"
   ]
  },
  {
   "cell_type": "markdown",
   "metadata": {},
   "source": [
    "“true positive” = 1322\n",
    "“false positive”= 138\n",
    "“true negative” = 1743\n",
    "“false negative”= 114"
   ]
  },
  {
   "cell_type": "markdown",
   "metadata": {},
   "source": [
    "# Lets apply K-Nearest Neighbors Classifier and check its accuracy"
   ]
  },
  {
   "cell_type": "code",
   "execution_count": 28,
   "metadata": {},
   "outputs": [
    {
     "name": "stderr",
     "output_type": "stream",
     "text": [
      "C:\\Users\\sharv\\anaconda3\\lib\\site-packages\\ipykernel_launcher.py:3: DataConversionWarning: A column-vector y was passed when a 1d array was expected. Please change the shape of y to (n_samples, ), for example using ravel().\n",
      "  This is separate from the ipykernel package so we can avoid doing imports until\n"
     ]
    },
    {
     "name": "stdout",
     "output_type": "stream",
     "text": [
      "{'algorithm': 'auto', 'leaf_size': 30, 'metric': 'minkowski', 'metric_params': None, 'n_jobs': None, 'n_neighbors': 3, 'p': 2, 'weights': 'uniform'}\n"
     ]
    }
   ],
   "source": [
    "from sklearn.neighbors import KNeighborsClassifier\n",
    "knn=KNeighborsClassifier(n_neighbors=3)\n",
    "model2= knn.fit(train_X,train_Y)\n",
    "print(model2.get_params())"
   ]
  },
  {
   "cell_type": "code",
   "execution_count": 30,
   "metadata": {},
   "outputs": [
    {
     "data": {
      "text/plain": [
       "0.9463370515526078"
      ]
     },
     "execution_count": 30,
     "metadata": {},
     "output_type": "execute_result"
    }
   ],
   "source": [
    "knn_predict=model2.predict(test_X)\n",
    "accuracy_score(knn_predict,test_Y)"
   ]
  },
  {
   "cell_type": "code",
   "execution_count": 31,
   "metadata": {},
   "outputs": [
    {
     "name": "stdout",
     "output_type": "stream",
     "text": [
      "              precision    recall  f1-score   support\n",
      "\n",
      "          -1       0.93      0.94      0.94      1460\n",
      "           1       0.96      0.95      0.95      1857\n",
      "\n",
      "    accuracy                           0.95      3317\n",
      "   macro avg       0.95      0.95      0.95      3317\n",
      "weighted avg       0.95      0.95      0.95      3317\n",
      "\n"
     ]
    }
   ],
   "source": [
    "print(classification_report(test_Y,knn_predict))"
   ]
  },
  {
   "cell_type": "code",
   "execution_count": 38,
   "metadata": {},
   "outputs": [
    {
     "name": "stdout",
     "output_type": "stream",
     "text": [
      "[[1378   82]\n",
      " [  96 1761]]\n"
     ]
    }
   ],
   "source": [
    "from sklearn.metrics import confusion_matrix\n",
    "print(confusion_matrix(test_Y,knn_predict))"
   ]
  },
  {
   "cell_type": "markdown",
   "metadata": {},
   "source": [
    "“true positive” = 1378\n",
    "“false positive”= 82\n",
    "“true negative” = 1761\n",
    "“false negative”= 96"
   ]
  },
  {
   "cell_type": "markdown",
   "metadata": {},
   "source": [
    "# Lets apply Decision Tree Classifier"
   ]
  },
  {
   "cell_type": "code",
   "execution_count": 39,
   "metadata": {},
   "outputs": [
    {
     "name": "stdout",
     "output_type": "stream",
     "text": [
      "{'ccp_alpha': 0.0, 'class_weight': None, 'criterion': 'gini', 'max_depth': None, 'max_features': None, 'max_leaf_nodes': None, 'min_impurity_decrease': 0.0, 'min_impurity_split': None, 'min_samples_leaf': 1, 'min_samples_split': 2, 'min_weight_fraction_leaf': 0.0, 'presort': 'deprecated', 'random_state': None, 'splitter': 'best'}\n"
     ]
    }
   ],
   "source": [
    "from sklearn.tree import DecisionTreeClassifier\n",
    "DecTree=DecisionTreeClassifier()\n",
    "model3=DecTree.fit(train_X,train_Y)\n",
    "print(model3.get_params())"
   ]
  },
  {
   "cell_type": "code",
   "execution_count": 41,
   "metadata": {},
   "outputs": [
    {
     "data": {
      "text/plain": [
       "0.9686463671992764"
      ]
     },
     "execution_count": 41,
     "metadata": {},
     "output_type": "execute_result"
    }
   ],
   "source": [
    "DecTree_predict=model3.predict(test_X)\n",
    "accuracy_score(DecTree_predict,test_Y)"
   ]
  },
  {
   "cell_type": "code",
   "execution_count": 42,
   "metadata": {},
   "outputs": [
    {
     "name": "stdout",
     "output_type": "stream",
     "text": [
      "              precision    recall  f1-score   support\n",
      "\n",
      "          -1       0.97      0.96      0.96      1484\n",
      "           1       0.97      0.98      0.97      1833\n",
      "\n",
      "    accuracy                           0.97      3317\n",
      "   macro avg       0.97      0.97      0.97      3317\n",
      "weighted avg       0.97      0.97      0.97      3317\n",
      "\n"
     ]
    }
   ],
   "source": [
    "print(classification_report(DecTree_predict,test_Y))"
   ]
  },
  {
   "cell_type": "code",
   "execution_count": 44,
   "metadata": {},
   "outputs": [
    {
     "name": "stdout",
     "output_type": "stream",
     "text": [
      "[[1420   40]\n",
      " [  64 1793]]\n"
     ]
    }
   ],
   "source": [
    "from sklearn.metrics import confusion_matrix\n",
    "print(confusion_matrix(test_Y,DecTree_predict))"
   ]
  },
  {
   "cell_type": "markdown",
   "metadata": {},
   "source": [
    "“true positive” = 1420\n",
    "“false positive”= 40\n",
    "“true negative” = 1793\n",
    "“false negative”= 64"
   ]
  },
  {
   "cell_type": "markdown",
   "metadata": {},
   "source": [
    "# Lets apply Random Forest Classifier and check its accuracy"
   ]
  },
  {
   "cell_type": "code",
   "execution_count": 45,
   "metadata": {},
   "outputs": [
    {
     "name": "stderr",
     "output_type": "stream",
     "text": [
      "C:\\Users\\sharv\\anaconda3\\lib\\site-packages\\ipykernel_launcher.py:3: DataConversionWarning: A column-vector y was passed when a 1d array was expected. Please change the shape of y to (n_samples,), for example using ravel().\n",
      "  This is separate from the ipykernel package so we can avoid doing imports until\n"
     ]
    },
    {
     "name": "stdout",
     "output_type": "stream",
     "text": [
      "{'bootstrap': True, 'ccp_alpha': 0.0, 'class_weight': None, 'criterion': 'gini', 'max_depth': None, 'max_features': 'auto', 'max_leaf_nodes': None, 'max_samples': None, 'min_impurity_decrease': 0.0, 'min_impurity_split': None, 'min_samples_leaf': 1, 'min_samples_split': 2, 'min_weight_fraction_leaf': 0.0, 'n_estimators': 100, 'n_jobs': None, 'oob_score': False, 'random_state': None, 'verbose': 0, 'warm_start': False}\n"
     ]
    }
   ],
   "source": [
    "from sklearn.ensemble import RandomForestClassifier\n",
    "rfc=RandomForestClassifier()\n",
    "model4=rfc.fit(train_X,train_Y)\n",
    "print(model4.get_params())"
   ]
  },
  {
   "cell_type": "code",
   "execution_count": 47,
   "metadata": {},
   "outputs": [
    {
     "data": {
      "text/plain": [
       "0.9716611395839614"
      ]
     },
     "execution_count": 47,
     "metadata": {},
     "output_type": "execute_result"
    }
   ],
   "source": [
    "rfc_predict=model4.predict(test_X)\n",
    "accuracy_score(rfc_predict,test_Y)"
   ]
  },
  {
   "cell_type": "code",
   "execution_count": 48,
   "metadata": {},
   "outputs": [
    {
     "name": "stdout",
     "output_type": "stream",
     "text": [
      "              precision    recall  f1-score   support\n",
      "\n",
      "          -1       0.96      0.97      0.97      1448\n",
      "           1       0.98      0.97      0.97      1869\n",
      "\n",
      "    accuracy                           0.97      3317\n",
      "   macro avg       0.97      0.97      0.97      3317\n",
      "weighted avg       0.97      0.97      0.97      3317\n",
      "\n"
     ]
    }
   ],
   "source": [
    "print(classification_report(rfc_predict,test_Y))"
   ]
  },
  {
   "cell_type": "code",
   "execution_count": 49,
   "metadata": {},
   "outputs": [
    {
     "name": "stdout",
     "output_type": "stream",
     "text": [
      "[[1407   53]\n",
      " [  41 1816]]\n"
     ]
    }
   ],
   "source": [
    "from sklearn.metrics import confusion_matrix\n",
    "print(confusion_matrix(test_Y,rfc_predict))"
   ]
  },
  {
   "cell_type": "markdown",
   "metadata": {},
   "source": [
    "“true positive” = 1407\n",
    "“false positive”= 53\n",
    "“true negative” = 1816\n",
    "“false negative”= 41"
   ]
  },
  {
   "cell_type": "markdown",
   "metadata": {},
   "source": [
    "# Lets Apply SVM and check its accuracy"
   ]
  },
  {
   "cell_type": "code",
   "execution_count": 50,
   "metadata": {},
   "outputs": [
    {
     "name": "stderr",
     "output_type": "stream",
     "text": [
      "C:\\Users\\sharv\\anaconda3\\lib\\site-packages\\sklearn\\utils\\validation.py:72: DataConversionWarning: A column-vector y was passed when a 1d array was expected. Please change the shape of y to (n_samples, ), for example using ravel().\n",
      "  return f(**kwargs)\n"
     ]
    },
    {
     "name": "stdout",
     "output_type": "stream",
     "text": [
      "{'C': 1.0, 'break_ties': False, 'cache_size': 200, 'class_weight': None, 'coef0': 0.0, 'decision_function_shape': 'ovr', 'degree': 3, 'gamma': 'scale', 'kernel': 'rbf', 'max_iter': -1, 'probability': False, 'random_state': None, 'shrinking': True, 'tol': 0.001, 'verbose': False}\n"
     ]
    }
   ],
   "source": [
    "from sklearn.svm import SVC\n",
    "svc=SVC()\n",
    "model5=svc.fit(train_X,train_Y)\n",
    "print(model5.get_params())"
   ]
  },
  {
   "cell_type": "code",
   "execution_count": 51,
   "metadata": {},
   "outputs": [
    {
     "data": {
      "text/plain": [
       "0.9460355743141393"
      ]
     },
     "execution_count": 51,
     "metadata": {},
     "output_type": "execute_result"
    }
   ],
   "source": [
    "svm_predict=model5.predict(test_X)\n",
    "accuracy_score(svm_predict,test_Y)"
   ]
  },
  {
   "cell_type": "code",
   "execution_count": 52,
   "metadata": {},
   "outputs": [
    {
     "name": "stdout",
     "output_type": "stream",
     "text": [
      "              precision    recall  f1-score   support\n",
      "\n",
      "          -1       0.93      0.95      0.94      1421\n",
      "           1       0.96      0.94      0.95      1896\n",
      "\n",
      "    accuracy                           0.95      3317\n",
      "   macro avg       0.94      0.95      0.95      3317\n",
      "weighted avg       0.95      0.95      0.95      3317\n",
      "\n"
     ]
    }
   ],
   "source": [
    "print(classification_report(svm_predict,test_Y))"
   ]
  },
  {
   "cell_type": "code",
   "execution_count": 53,
   "metadata": {},
   "outputs": [
    {
     "name": "stdout",
     "output_type": "stream",
     "text": [
      "[[1351  109]\n",
      " [  70 1787]]\n"
     ]
    }
   ],
   "source": [
    "from sklearn.metrics import confusion_matrix\n",
    "print(confusion_matrix(test_Y,svm_predict))"
   ]
  },
  {
   "cell_type": "markdown",
   "metadata": {},
   "source": [
    "“true positive” = 1351\n",
    "“false positive”= 109\n",
    "“true negative” = 1787\n",
    "“false negative”= 70"
   ]
  },
  {
   "cell_type": "markdown",
   "metadata": {},
   "source": [
    "# Lets apply AdaBoost Classifier and check its accuracy"
   ]
  },
  {
   "cell_type": "code",
   "execution_count": 54,
   "metadata": {},
   "outputs": [
    {
     "name": "stdout",
     "output_type": "stream",
     "text": [
      "{'algorithm': 'SAMME.R', 'base_estimator': None, 'learning_rate': 1, 'n_estimators': 5, 'random_state': None}\n"
     ]
    },
    {
     "name": "stderr",
     "output_type": "stream",
     "text": [
      "C:\\Users\\sharv\\anaconda3\\lib\\site-packages\\sklearn\\utils\\validation.py:72: DataConversionWarning: A column-vector y was passed when a 1d array was expected. Please change the shape of y to (n_samples, ), for example using ravel().\n",
      "  return f(**kwargs)\n"
     ]
    }
   ],
   "source": [
    "from sklearn.ensemble import AdaBoostClassifier\n",
    "ADB=AdaBoostClassifier(n_estimators=5,learning_rate=1)\n",
    "model6=ADB.fit(train_X,train_Y)\n",
    "print(model6.get_params())"
   ]
  },
  {
   "cell_type": "code",
   "execution_count": 56,
   "metadata": {},
   "outputs": [
    {
     "data": {
      "text/plain": [
       "0.9095568284594513"
      ]
     },
     "execution_count": 56,
     "metadata": {},
     "output_type": "execute_result"
    }
   ],
   "source": [
    "ADB_predict=model6.predict(test_X)\n",
    "accuracy_score(ADB_predict,test_Y)"
   ]
  },
  {
   "cell_type": "code",
   "execution_count": 58,
   "metadata": {},
   "outputs": [
    {
     "name": "stdout",
     "output_type": "stream",
     "text": [
      "              precision    recall  f1-score   support\n",
      "\n",
      "          -1       0.89      0.91      0.90      1426\n",
      "           1       0.93      0.91      0.92      1891\n",
      "\n",
      "    accuracy                           0.91      3317\n",
      "   macro avg       0.91      0.91      0.91      3317\n",
      "weighted avg       0.91      0.91      0.91      3317\n",
      "\n"
     ]
    }
   ],
   "source": [
    "print(classification_report(ADB_predict,test_Y))"
   ]
  },
  {
   "cell_type": "code",
   "execution_count": 59,
   "metadata": {},
   "outputs": [
    {
     "name": "stdout",
     "output_type": "stream",
     "text": [
      "[[1293  167]\n",
      " [ 133 1724]]\n"
     ]
    }
   ],
   "source": [
    "from sklearn.metrics import confusion_matrix\n",
    "print(confusion_matrix(test_Y,ADB_predict))"
   ]
  },
  {
   "cell_type": "markdown",
   "metadata": {},
   "source": [
    "“true positive” = 1293\n",
    "“false positive”= 167\n",
    "“true negative” = 1724\n",
    "“false negative”= 133"
   ]
  },
  {
   "cell_type": "markdown",
   "metadata": {},
   "source": [
    "# Lets apply XGBoost Classifier and check its accuracy"
   ]
  },
  {
   "cell_type": "code",
   "execution_count": 60,
   "metadata": {},
   "outputs": [
    {
     "name": "stderr",
     "output_type": "stream",
     "text": [
      "C:\\Users\\sharv\\anaconda3\\lib\\site-packages\\sklearn\\utils\\validation.py:72: DataConversionWarning: A column-vector y was passed when a 1d array was expected. Please change the shape of y to (n_samples, ), for example using ravel().\n",
      "  return f(**kwargs)\n"
     ]
    },
    {
     "name": "stdout",
     "output_type": "stream",
     "text": [
      "{'objective': 'binary:logistic', 'base_score': 0.5, 'booster': 'gbtree', 'colsample_bylevel': 1, 'colsample_bynode': 1, 'colsample_bytree': 1, 'gamma': 0, 'gpu_id': -1, 'importance_type': 'gain', 'interaction_constraints': '', 'learning_rate': 0.300000012, 'max_delta_step': 0, 'max_depth': 6, 'min_child_weight': 1, 'missing': nan, 'monotone_constraints': '()', 'n_estimators': 100, 'n_jobs': 0, 'num_parallel_tree': 1, 'random_state': 0, 'reg_alpha': 0, 'reg_lambda': 1, 'scale_pos_weight': 1, 'subsample': 1, 'tree_method': 'exact', 'validate_parameters': 1, 'verbosity': None}\n"
     ]
    }
   ],
   "source": [
    "from xgboost import XGBClassifier\n",
    "xgb=XGBClassifier()\n",
    "model7=xgb.fit(train_X,train_Y)\n",
    "print(model7.get_params())"
   ]
  },
  {
   "cell_type": "code",
   "execution_count": 61,
   "metadata": {},
   "outputs": [
    {
     "data": {
      "text/plain": [
       "0.9704552306300874"
      ]
     },
     "execution_count": 61,
     "metadata": {},
     "output_type": "execute_result"
    }
   ],
   "source": [
    "xgb_predict=model7.predict(test_X)\n",
    "accuracy_score(xgb_predict,test_Y)"
   ]
  },
  {
   "cell_type": "code",
   "execution_count": 62,
   "metadata": {},
   "outputs": [
    {
     "name": "stdout",
     "output_type": "stream",
     "text": [
      "[[1402   58]\n",
      " [  40 1817]]\n"
     ]
    }
   ],
   "source": [
    "from sklearn.metrics import confusion_matrix\n",
    "print(confusion_matrix(test_Y,xgb_predict))"
   ]
  },
  {
   "cell_type": "markdown",
   "metadata": {},
   "source": [
    "“true positive” = 1402\n",
    "“false positive”= 58\n",
    "“true negative” = 1817\n",
    "“false negative”= 40"
   ]
  },
  {
   "cell_type": "markdown",
   "metadata": {},
   "source": [
    "From all the models we developed , Random forest accuracy has highest accuracy and followed by decision tree and XGBoost. Lowest accuracy model is SVM."
   ]
  },
  {
   "cell_type": "markdown",
   "metadata": {},
   "source": [
    "Now lets consider only two imporatant features Prefix_Suffix and URL_of_Anchor and apply logistic regression."
   ]
  },
  {
   "cell_type": "code",
   "execution_count": 64,
   "metadata": {},
   "outputs": [
    {
     "name": "stdout",
     "output_type": "stream",
     "text": [
      "(7738, 2)\n",
      "(3317, 2)\n",
      "(7738, 1)\n",
      "(3317, 1)\n"
     ]
    }
   ],
   "source": [
    "X=data[['PrefixSuffix-','AnchorURL']]\n",
    "train_X,test_X,train_Y,test_Y=train_test_split(X,Y,test_size=0.3,random_state=2)\n",
    "print(train_X.shape)\n",
    "print(test_X.shape)\n",
    "print(train_Y.shape)\n",
    "print(test_Y.shape)"
   ]
  },
  {
   "cell_type": "code",
   "execution_count": 67,
   "metadata": {},
   "outputs": [
    {
     "name": "stdout",
     "output_type": "stream",
     "text": [
      "{'C': 1.0, 'class_weight': None, 'dual': False, 'fit_intercept': True, 'intercept_scaling': 1, 'l1_ratio': None, 'max_iter': 100, 'multi_class': 'auto', 'n_jobs': None, 'penalty': 'l2', 'random_state': None, 'solver': 'lbfgs', 'tol': 0.0001, 'verbose': 0, 'warm_start': False}\n"
     ]
    },
    {
     "name": "stderr",
     "output_type": "stream",
     "text": [
      "C:\\Users\\sharv\\anaconda3\\lib\\site-packages\\sklearn\\utils\\validation.py:72: DataConversionWarning: A column-vector y was passed when a 1d array was expected. Please change the shape of y to (n_samples, ), for example using ravel().\n",
      "  return f(**kwargs)\n"
     ]
    }
   ],
   "source": [
    "LogR1=LogisticRegression()\n",
    "model8=LogR1.fit(train_X,train_Y)\n",
    "print(model8.get_params())"
   ]
  },
  {
   "cell_type": "code",
   "execution_count": 69,
   "metadata": {},
   "outputs": [
    {
     "data": {
      "text/plain": [
       "0.8444377449502563"
      ]
     },
     "execution_count": 69,
     "metadata": {},
     "output_type": "execute_result"
    }
   ],
   "source": [
    "LogR1_predict=model8.predict(test_X)\n",
    "accuracy_score(test_Y,LogR1_predict)"
   ]
  },
  {
   "cell_type": "markdown",
   "metadata": {},
   "source": [
    "From all the models we developed, model8 built using two features Prefix_Suffix and URL_of_Anchor has lowest accuracy."
   ]
  },
  {
   "cell_type": "markdown",
   "metadata": {},
   "source": [
    "# Plot the test samples along with the decision boundary when trained with index 5 and index 13 parameters."
   ]
  },
  {
   "cell_type": "code",
   "execution_count": 98,
   "metadata": {},
   "outputs": [
    {
     "name": "stdout",
     "output_type": "stream",
     "text": [
      "[[1.45180819e-13 1.50621402e-13 1.56265869e-13 ... 9.99190482e-01\n",
      "  9.99219700e-01 9.99247864e-01]\n",
      " [1.49494879e-13 1.55097129e-13 1.60909322e-13 ... 9.99213824e-01\n",
      "  9.99242200e-01 9.99269553e-01]\n",
      " [1.53937131e-13 1.59705853e-13 1.65690756e-13 ... 9.99236494e-01\n",
      "  9.99264052e-01 9.99290617e-01]\n",
      " ...\n",
      " [4.09387551e-01 4.18311586e-01 4.27289415e-01 ... 1.00000000e+00\n",
      "  1.00000000e+00 1.00000000e+00]\n",
      " [4.16485990e-01 4.25453295e-01 4.34469917e-01 ... 1.00000000e+00\n",
      "  1.00000000e+00 1.00000000e+00]\n",
      " [4.23619230e-01 4.32626250e-01 4.41678026e-01 ... 1.00000000e+00\n",
      "  1.00000000e+00 1.00000000e+00]]\n"
     ]
    }
   ],
   "source": [
    "import numpy as np\n",
    "import pandas as pd\n",
    "from sklearn.linear_model import LogisticRegression\n",
    "from sklearn.datasets import make_classification\n",
    "import matplotlib.pyplot as plt\n",
    "import seaborn as sns\n",
    "sns.set(style=\"white\")\n",
    "\n",
    "xx,yy = np.mgrid[-5:5:.01, -5:5:.01]\n",
    "grid=np.c_[xx.ravel(),yy.ravel()]\n",
    "#grid=pd.DataFrame(grid)\n",
    "#LogR1_predict.predict_proba()\n",
    "probs=LogR1.predict_proba(grid)[:,1].reshape(xx.shape)\n",
    "print(probs)"
   ]
  },
  {
   "cell_type": "code",
   "execution_count": 236,
   "metadata": {},
   "outputs": [
    {
     "name": "stdout",
     "output_type": "stream",
     "text": [
      "{'C': 100, 'class_weight': None, 'dual': False, 'fit_intercept': True, 'intercept_scaling': 1, 'l1_ratio': None, 'max_iter': 100, 'multi_class': 'auto', 'n_jobs': None, 'penalty': 'l2', 'random_state': 0, 'solver': 'lbfgs', 'tol': 0.0001, 'verbose': 0, 'warm_start': False}\n"
     ]
    }
   ],
   "source": [
    "X=data.iloc[0:5,[6,14]].values\n",
    "y=data.iloc[0:5,30].values\n",
    "from sklearn.model_selection import train_test_split,cross_val_score\n",
    "train_X,test_X,train_Y,test_Y=train_test_split(X,y,test_size=0.3,random_state=4)\n",
    "from sklearn.preprocessing import StandardScaler\n",
    "scaler=StandardScaler()\n",
    "train_X=scaler.fit_transform(train_X)\n",
    "test_X=scaler.fit_transform(test_X)\n",
    "from sklearn.linear_model import LogisticRegression\n",
    "LogRrg2=LogisticRegression(C=100,random_state=0)\n",
    "LogRrg2.fit(train_X,train_Y)\n",
    "print(LogRrg2.get_params())"
   ]
  },
  {
   "cell_type": "code",
   "execution_count": 237,
   "metadata": {},
   "outputs": [
    {
     "data": {
      "text/plain": [
       "1.0"
      ]
     },
     "execution_count": 237,
     "metadata": {},
     "output_type": "execute_result"
    }
   ],
   "source": [
    "LogRrg2_predict=LogRrg2.predict(test_X)\n",
    "LogRrg2.score(train_X,train_Y)"
   ]
  },
  {
   "cell_type": "code",
   "execution_count": 238,
   "metadata": {},
   "outputs": [
    {
     "data": {
      "text/plain": [
       "0.5"
      ]
     },
     "execution_count": 238,
     "metadata": {},
     "output_type": "execute_result"
    }
   ],
   "source": [
    "LogRrg2.score(test_X,test_Y)"
   ]
  },
  {
   "cell_type": "code",
   "execution_count": 242,
   "metadata": {},
   "outputs": [
    {
     "name": "stdout",
     "output_type": "stream",
     "text": [
      "[[1 1]\n",
      " [0 0]]\n"
     ]
    }
   ],
   "source": [
    "from sklearn.metrics import confusion_matrix\n",
    "LogRrg2_confusionMatrix=confusion_matrix(test_Y,LogRrg2_predict)\n",
    "print(LogRrg2_confusionMatrix)"
   ]
  },
  {
   "cell_type": "code",
   "execution_count": 243,
   "metadata": {},
   "outputs": [
    {
     "name": "stdout",
     "output_type": "stream",
     "text": [
      "[[3.04576404e-12 3.13776406e-12 3.23254302e-12 ... 9.58992689e-01\n",
      "  9.60147117e-01 9.61270358e-01]\n",
      " [3.10346926e-12 3.19721232e-12 3.29378697e-12 ... 9.59724461e-01\n",
      "  9.60859129e-01 9.61963097e-01]\n",
      " [3.16226777e-12 3.25778689e-12 3.35619126e-12 ... 9.60443713e-01\n",
      "  9.61558929e-01 9.62643927e-01]\n",
      " ...\n",
      " [4.07623684e-04 4.19931151e-04 4.32610059e-04 ... 1.00000000e+00\n",
      "  1.00000000e+00 1.00000000e+00]\n",
      " [4.15343338e-04 4.27883787e-04 4.40802701e-04 ... 1.00000000e+00\n",
      "  1.00000000e+00 1.00000000e+00]\n",
      " [4.23209127e-04 4.35986964e-04 4.49150424e-04 ... 1.00000000e+00\n",
      "  1.00000000e+00 1.00000000e+00]]\n"
     ]
    }
   ],
   "source": [
    "xx,yy = np.mgrid[-5:5:.01, -5:5:.01]\n",
    "grid=np.c_[xx.ravel(),yy.ravel()]\n",
    "#grid=pd.DataFrame(grid)\n",
    "#LogR1_predict.predict_proba()\n",
    "probs=LogRrg2.predict_proba(grid)[:,1].reshape(xx.shape)\n",
    "print(probs)"
   ]
  },
  {
   "cell_type": "code",
   "execution_count": 245,
   "metadata": {},
   "outputs": [
    {
     "data": {
      "image/png": "[encoded data removed]",
      "text/plain": [
       "<Figure size 576x432 with 2 Axes>"
      ]
     },
     "metadata": {},
     "output_type": "display_data"
    }
   ],
   "source": [
    "f,ax=plt.subplots(figsize=(8,6))\n",
    "contour=ax.contourf(xx,yy,probs,25,cmap=\"RdBu\",vmin=0,vmax=1)\n",
    "ax_c=f.colorbar(contour)\n",
    "ax_c.set_label(\"$P(y=1)$\")\n",
    "ax_c.set_ticks([0, .25, .5, .75, 1])\n",
    "#z=np.array(test_Y[test_Y==1])\n",
    "#d = z[~(np.isnan(z))] \n",
    "#dtype(d)\n",
    "#z = np.array([1,0,1,0,1])\n",
    "#colors = np.array([\"black\", \"green\"])\n",
    "#colors.shape # answer=2\n",
    "ax.scatter(test_X[:, 0],test_X[:, 1],s=50,cmap=\"RdBu\",vmin=-.2,vmax=1.2,edgecolor=\"white\",linewidth=1)\n",
    "ax.set(aspect=\"equal\",xlim=(-5,5),ylim=(-5,5),xlabel=\"$X_1$\",label=\"$X_2$\")\n",
    "plt.show()"
   ]
  },
  {
   "cell_type": "code",
   "execution_count": 248,
   "metadata": {},
   "outputs": [
    {
     "name": "stdout",
     "output_type": "stream",
     "text": [
      "{'C': 100, 'class_weight': None, 'dual': False, 'fit_intercept': True, 'intercept_scaling': 1, 'l1_ratio': None, 'max_iter': 100, 'multi_class': 'auto', 'n_jobs': None, 'penalty': 'l2', 'random_state': 0, 'solver': 'lbfgs', 'tol': 0.0001, 'verbose': 0, 'warm_start': False}\n"
     ]
    }
   ],
   "source": [
    "X=data.iloc[0:13,[6,14]].values\n",
    "y=data.iloc[0:13,30].values\n",
    "from sklearn.model_selection import train_test_split,cross_val_score\n",
    "train_X,test_X,train_Y,test_Y=train_test_split(X,y,test_size=0.3,random_state=4)\n",
    "from sklearn.preprocessing import StandardScaler\n",
    "scaler=StandardScaler()\n",
    "train_X=scaler.fit_transform(train_X)\n",
    "test_X=scaler.fit_transform(test_X)\n",
    "from sklearn.linear_model import LogisticRegression\n",
    "LogRrg3=LogisticRegression(C=100,random_state=0)\n",
    "LogRrg3.fit(train_X,train_Y)\n",
    "print(LogRrg3.get_params())"
   ]
  },
  {
   "cell_type": "code",
   "execution_count": 249,
   "metadata": {},
   "outputs": [
    {
     "data": {
      "text/plain": [
       "0.8888888888888888"
      ]
     },
     "execution_count": 249,
     "metadata": {},
     "output_type": "execute_result"
    }
   ],
   "source": [
    "LogRrg3_predict=LogRrg2.predict(test_X)\n",
    "LogRrg3.score(train_X,train_Y)"
   ]
  },
  {
   "cell_type": "code",
   "execution_count": 250,
   "metadata": {},
   "outputs": [
    {
     "data": {
      "text/plain": [
       "0.75"
      ]
     },
     "execution_count": 250,
     "metadata": {},
     "output_type": "execute_result"
    }
   ],
   "source": [
    "LogRrg3.score(test_X,test_Y)"
   ]
  },
  {
   "cell_type": "code",
   "execution_count": 251,
   "metadata": {},
   "outputs": [
    {
     "name": "stdout",
     "output_type": "stream",
     "text": [
      "[[2 1]\n",
      " [0 1]]\n"
     ]
    }
   ],
   "source": [
    "from sklearn.metrics import confusion_matrix\n",
    "LogRrg3_confusionMatrix=confusion_matrix(test_Y,LogRrg3_predict)\n",
    "print(LogRrg3_confusionMatrix)"
   ]
  },
  {
   "cell_type": "code",
   "execution_count": 252,
   "metadata": {},
   "outputs": [
    {
     "data": {
      "image/png": "[encoded data removed]",
      "text/plain": [
       "<Figure size 576x432 with 2 Axes>"
      ]
     },
     "metadata": {},
     "output_type": "display_data"
    }
   ],
   "source": [
    "f,ax=plt.subplots(figsize=(8,6))\n",
    "contour=ax.contourf(xx,yy,probs,25,cmap=\"RdBu\",vmin=0,vmax=1)\n",
    "ax_c=f.colorbar(contour)\n",
    "ax_c.set_label(\"$P(y=1)$\")\n",
    "ax_c.set_ticks([0, .25, .5, .75, 1])\n",
    "ax.scatter(test_X[:, 0],test_X[:, 1],s=50,cmap=\"RdBu\",vmin=-.2,vmax=1.2,edgecolor=\"white\",linewidth=1)\n",
    "ax.set(aspect=\"equal\",xlim=(-5,5),ylim=(-5,5),xlabel=\"$X_1$\",label=\"$X_2$\")\n",
    "plt.show()"
   ]
  }
 ],
 "metadata": {
  "kernelspec": {
   "display_name": "Python 3",
   "language": "python",
   "name": "python3"
  },
  "language_info": {
   "codemirror_mode": {
    "name": "ipython",
    "version": 3
   },
   "file_extension": ".py",
   "mimetype": "text/x-python",
   "name": "python",
   "nbconvert_exporter": "python",
   "pygments_lexer": "ipython3",
   "version": "3.7.6"
  }
 },
 "nbformat": 4,
 "nbformat_minor": 4
}
