{
 "cells": [
  {
   "cell_type": "code",
   "execution_count": 1,
   "metadata": {},
   "outputs": [],
   "source": [
    "# Demonstrate how to modify a web tree to get the desired result with the help of an example\n",
    "from bs4 import BeautifulSoup"
   ]
  },
  {
   "cell_type": "code",
   "execution_count": 2,
   "metadata": {},
   "outputs": [],
   "source": [
    "# create employee html document\n",
    "employee_html_doc=\"\"\"<employees>\n",
    "<employee class=\"Accoutant\">\n",
    "<firstName>John</firstName><lastName>Doe</lastName>\n",
    "</employee>\n",
    "<employee class=\"Manager\">\n",
    "<firstName>Anna</firstName><lastName>Smith</lastName>\n",
    "</employee>\n",
    "<employee class=\"Developer\">\n",
    "<firstName>Peter</firstName><lastName>Jones</lastName>\n",
    "</employee>\n",
    "</employees>\"\"\""
   ]
  },
  {
   "cell_type": "code",
   "execution_count": 3,
   "metadata": {},
   "outputs": [],
   "source": [
    "# create soup object\n",
    "soup_emp=BeautifulSoup(employee_html_doc,'html.parser')"
   ]
  },
  {
   "cell_type": "code",
   "execution_count": 4,
   "metadata": {},
   "outputs": [
    {
     "data": {
      "text/plain": [
       "<employee class=\"Accoutant\">\n",
       "<firstname>John</firstname><lastname>Doe</lastname>\n",
       "</employee>"
      ]
     },
     "execution_count": 4,
     "metadata": {},
     "output_type": "execute_result"
    }
   ],
   "source": [
    "# access and view the tag\n",
    "tag=soup_emp.employee\n",
    "tag"
   ]
  },
  {
   "cell_type": "code",
   "execution_count": 8,
   "metadata": {},
   "outputs": [],
   "source": [
    "# Modify the tag\n",
    "tag['class']='manager'"
   ]
  },
  {
   "cell_type": "code",
   "execution_count": 9,
   "metadata": {},
   "outputs": [
    {
     "data": {
      "text/plain": [
       "<employee class=\"manager\">\n",
       "<firstname>John</firstname><lastname>Doe</lastname>\n",
       "</employee>"
      ]
     },
     "execution_count": 9,
     "metadata": {},
     "output_type": "execute_result"
    }
   ],
   "source": [
    "# view the tag to see the modification\n",
    "tag"
   ]
  },
  {
   "cell_type": "code",
   "execution_count": 10,
   "metadata": {},
   "outputs": [
    {
     "data": {
      "text/plain": [
       "<employees>\n",
       "<employee class=\"manager\">\n",
       "<firstname>John</firstname><lastname>Doe</lastname>\n",
       "</employee>\n",
       "<employee class=\"Manager\">\n",
       "<firstname>Anna</firstname><lastname>Smith</lastname>\n",
       "</employee>\n",
       "<employee class=\"Developer\">\n",
       "<firstname>Peter</firstname><lastname>Jones</lastname>\n",
       "</employee>\n",
       "</employees>"
      ]
     },
     "execution_count": 10,
     "metadata": {},
     "output_type": "execute_result"
    }
   ],
   "source": [
    "# view the soup object to verify the modification\n",
    "soup_emp"
   ]
  },
  {
   "cell_type": "code",
   "execution_count": 11,
   "metadata": {},
   "outputs": [],
   "source": [
    "# add a tag\n",
    "tag=soup_emp.new_tag('rank')\n",
    "tag.string='Manager 1'\n",
    "# modify using insert_after method\n",
    "soup_emp.employees.employee.insert_after(tag)"
   ]
  },
  {
   "cell_type": "code",
   "execution_count": 12,
   "metadata": {},
   "outputs": [
    {
     "name": "stdout",
     "output_type": "stream",
     "text": [
      "<employees>\n",
      "<employee class=\"manager\">\n",
      "<firstname>John</firstname><lastname>Doe</lastname>\n",
      "</employee><rank>Manager 1</rank>\n",
      "<employee class=\"Manager\">\n",
      "<firstname>Anna</firstname><lastname>Smith</lastname>\n",
      "</employee>\n",
      "<employee class=\"Developer\">\n",
      "<firstname>Peter</firstname><lastname>Jones</lastname>\n",
      "</employee>\n",
      "</employees>\n"
     ]
    }
   ],
   "source": [
    "# view the soup object\n",
    "print(soup_emp)"
   ]
  },
  {
   "cell_type": "code",
   "execution_count": 13,
   "metadata": {},
   "outputs": [],
   "source": [
    "# clear all the modified tag\n",
    "tag.clear()"
   ]
  },
  {
   "cell_type": "code",
   "execution_count": 14,
   "metadata": {},
   "outputs": [
    {
     "name": "stdout",
     "output_type": "stream",
     "text": [
      "<employees>\n",
      "<employee class=\"manager\">\n",
      "<firstname>John</firstname><lastname>Doe</lastname>\n",
      "</employee><rank></rank>\n",
      "<employee class=\"Manager\">\n",
      "<firstname>Anna</firstname><lastname>Smith</lastname>\n",
      "</employee>\n",
      "<employee class=\"Developer\">\n",
      "<firstname>Peter</firstname><lastname>Jones</lastname>\n",
      "</employee>\n",
      "</employees>\n"
     ]
    }
   ],
   "source": [
    "# view the soup object\n",
    "print(soup_emp)"
   ]
  },
  {
   "cell_type": "code",
   "execution_count": 16,
   "metadata": {},
   "outputs": [
    {
     "data": {
      "text/plain": [
       "<employee class=\"manager\">\n",
       "<firstname>John</firstname><lastname>Doe</lastname>\n",
       "</employee>"
      ]
     },
     "execution_count": 16,
     "metadata": {},
     "output_type": "execute_result"
    }
   ],
   "source": [
    "# create a tag object and view it\n",
    "tag=soup_emp.employees.employee\n",
    "tag"
   ]
  },
  {
   "cell_type": "code",
   "execution_count": 17,
   "metadata": {},
   "outputs": [
    {
     "data": {
      "text/plain": [
       "'John'"
      ]
     },
     "execution_count": 17,
     "metadata": {},
     "output_type": "execute_result"
    }
   ],
   "source": [
    "# extract the information using extract method\n",
    "tag.firstname.string.extract()"
   ]
  },
  {
   "cell_type": "code",
   "execution_count": 18,
   "metadata": {},
   "outputs": [
    {
     "data": {
      "text/plain": [
       "<firstname></firstname>"
      ]
     },
     "execution_count": 18,
     "metadata": {},
     "output_type": "execute_result"
    }
   ],
   "source": [
    "# modify the tag name\n",
    "tag.firstname.replace_with('first name')"
   ]
  },
  {
   "cell_type": "code",
   "execution_count": 19,
   "metadata": {},
   "outputs": [
    {
     "data": {
      "text/plain": [
       "<employees>\n",
       "<employee class=\"manager\">\n",
       "first name<lastname>Doe</lastname>\n",
       "</employee><rank></rank>\n",
       "<employee class=\"Manager\">\n",
       "<firstname>Anna</firstname><lastname>Smith</lastname>\n",
       "</employee>\n",
       "<employee class=\"Developer\">\n",
       "<firstname>Peter</firstname><lastname>Jones</lastname>\n",
       "</employee>\n",
       "</employees>"
      ]
     },
     "execution_count": 19,
     "metadata": {},
     "output_type": "execute_result"
    }
   ],
   "source": [
    "# view the change\n",
    "soup_emp.employees"
   ]
  }
 ],
 "metadata": {
  "kernelspec": {
   "display_name": "Python 3",
   "language": "python",
   "name": "python3"
  },
  "language_info": {
   "codemirror_mode": {
    "name": "ipython",
    "version": 3
   },
   "file_extension": ".py",
   "mimetype": "text/x-python",
   "name": "python",
   "nbconvert_exporter": "python",
   "pygments_lexer": "ipython3",
   "version": "3.7.6"
  }
 },
 "nbformat": 4,
 "nbformat_minor": 4
}
