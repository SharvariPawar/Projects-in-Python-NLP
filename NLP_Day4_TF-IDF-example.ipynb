{
 "cells": [
  {
   "cell_type": "code",
   "execution_count": 1,
   "metadata": {},
   "outputs": [],
   "source": [
    "import pandas as pd\n",
    "\n",
    "\n",
    "# import plotting libraries\n",
    "import matplotlib\n",
    "import matplotlib.pyplot as plt\n",
    "from pandas.plotting import scatter_matrix\n",
    "from matplotlib import style\n",
    "%matplotlib inline \n",
    "\n",
    "import seaborn as sns\n",
    "sns.set(style=\"white\", color_codes=True)\n",
    "\n",
    "\n",
    "# # load make_blobs to simulate data\n",
    "# from sklearn.datasets import make_blobs\n",
    "# from sklearn.datasets import make_classification\n",
    "# from sklearn.datasets import make_regression\n",
    "\n",
    "from sklearn.naive_bayes import GaussianNB\n",
    "from sklearn.naive_bayes import MultinomialNB\n",
    "\n",
    "\n",
    "# For text processing\n",
    "import re\n",
    "import nltk\n",
    "from nltk.corpus import stopwords\n",
    "# from nltk.tokenize import regexp_tokenize\n",
    "from nltk.tokenize import word_tokenize  \n",
    "from nltk.tokenize import sent_tokenize \n",
    "from nltk.stem import WordNetLemmatizer\n",
    "from nltk.stem import PorterStemmer\n",
    "from sklearn.feature_extraction.text import CountVectorizer\n",
    "from sklearn.feature_extraction.text import TfidfVectorizer"
   ]
  },
  {
   "cell_type": "code",
   "execution_count": 2,
   "metadata": {},
   "outputs": [],
   "source": [
    "texts = ['His smile was not perfect smile smile sang sang smile smile ', \n",
    "         'His smile was not not not not perfect sang sang smile smile smile smile ', \n",
    "         'she not sang sang sang sang '\n",
    "        ]"
   ]
  },
  {
   "cell_type": "code",
   "execution_count": 3,
   "metadata": {},
   "outputs": [],
   "source": [
    "# default \n",
    "# - n-grams = 1\n",
    "# - stopwords filterations : false\n",
    "# - lowercase : yes\n",
    "\n",
    "# instantiate the vectorizer\n",
    "vect_tfidf = TfidfVectorizer(analyzer='word')"
   ]
  },
  {
   "cell_type": "code",
   "execution_count": 5,
   "metadata": {},
   "outputs": [
    {
     "name": "stdout",
     "output_type": "stream",
     "text": [
      "{'analyzer': 'word', 'binary': False, 'decode_error': 'strict', 'dtype': <class 'numpy.float64'>, 'encoding': 'utf-8', 'input': 'content', 'lowercase': True, 'max_df': 1.0, 'max_features': None, 'min_df': 1, 'ngram_range': (1, 1), 'norm': 'l2', 'preprocessor': None, 'smooth_idf': True, 'stop_words': None, 'strip_accents': None, 'sublinear_tf': False, 'token_pattern': '(?u)\\\\b\\\\w\\\\w+\\\\b', 'tokenizer': None, 'use_idf': True, 'vocabulary': None}\n"
     ]
    }
   ],
   "source": [
    "# train (Bow) \n",
    "vect_tfidf.fit(texts)\n",
    "print(vect_tfidf.get_params())"
   ]
  },
  {
   "cell_type": "code",
   "execution_count": 6,
   "metadata": {},
   "outputs": [
    {
     "name": "stdout",
     "output_type": "stream",
     "text": [
      "Vocabulary size: 7\n"
     ]
    }
   ],
   "source": [
    "# get all the feature/token names\n",
    "print(\"Vocabulary size: {}\".format(len(vect_tfidf.vocabulary_)))\n"
   ]
  },
  {
   "cell_type": "code",
   "execution_count": 7,
   "metadata": {},
   "outputs": [
    {
     "name": "stdout",
     "output_type": "stream",
     "text": [
      "['his', 'not', 'perfect', 'sang', 'she', 'smile', 'was']\n"
     ]
    }
   ],
   "source": [
    "feature_names = vect_tfidf.get_feature_names()\n",
    "print(feature_names)\n"
   ]
  },
  {
   "cell_type": "code",
   "execution_count": 8,
   "metadata": {},
   "outputs": [
    {
     "name": "stdout",
     "output_type": "stream",
     "text": [
      "Vocabulary content:\n",
      " {'his': 0, 'smile': 5, 'was': 6, 'not': 1, 'perfect': 2, 'sang': 3, 'she': 4}\n"
     ]
    }
   ],
   "source": [
    "print(\"Vocabulary content:\\n {}\".format(vect_tfidf.vocabulary_))"
   ]
  },
  {
   "cell_type": "code",
   "execution_count": 9,
   "metadata": {},
   "outputs": [],
   "source": [
    "# prepare dtm\n",
    "X_train_tfidf_dtm = vect_tfidf.transform(texts)"
   ]
  },
  {
   "cell_type": "code",
   "execution_count": 10,
   "metadata": {},
   "outputs": [
    {
     "name": "stdout",
     "output_type": "stream",
     "text": [
      "<class 'scipy.sparse.csr.csr_matrix'>\n"
     ]
    }
   ],
   "source": [
    "print(type(X_train_tfidf_dtm)) #Sparse matrix has been created\n"
   ]
  },
  {
   "cell_type": "code",
   "execution_count": 11,
   "metadata": {},
   "outputs": [
    {
     "name": "stdout",
     "output_type": "stream",
     "text": [
      "[[0.17956055 0.13944479 0.17956055 0.27888957 0.         0.89780275\n",
      "  0.17956055]\n",
      " [0.15799185 0.49077906 0.15799185 0.24538953 0.         0.78995925\n",
      "  0.15799185]\n",
      " [0.         0.22435545 0.         0.89742178 0.37986679 0.\n",
      "  0.        ]]\n"
     ]
    }
   ],
   "source": [
    "print(X_train_tfidf_dtm.toarray())"
   ]
  },
  {
   "cell_type": "code",
   "execution_count": 12,
   "metadata": {},
   "outputs": [
    {
     "name": "stdout",
     "output_type": "stream",
     "text": [
      "[0.17956055 0.13944479 0.17956055 0.27888957 0.         0.89780275\n",
      " 0.17956055]\n"
     ]
    }
   ],
   "source": [
    "print(X_train_tfidf_dtm.toarray()[0]) # Dimension of & as we had total n umber of words = 7"
   ]
  },
  {
   "cell_type": "code",
   "execution_count": null,
   "metadata": {},
   "outputs": [],
   "source": [
    "# Creating the Tfidf Vectorizer score dataframe"
   ]
  },
  {
   "cell_type": "code",
   "execution_count": 13,
   "metadata": {},
   "outputs": [
    {
     "data": {
      "text/html": [
       "<div>\n",
       "<style scoped>\n",
       "    .dataframe tbody tr th:only-of-type {\n",
       "        vertical-align: middle;\n",
       "    }\n",
       "\n",
       "    .dataframe tbody tr th {\n",
       "        vertical-align: top;\n",
       "    }\n",
       "\n",
       "    .dataframe thead th {\n",
       "        text-align: right;\n",
       "    }\n",
       "</style>\n",
       "<table border=\"1\" class=\"dataframe\">\n",
       "  <thead>\n",
       "    <tr style=\"text-align: right;\">\n",
       "      <th></th>\n",
       "      <th>his</th>\n",
       "      <th>not</th>\n",
       "      <th>perfect</th>\n",
       "      <th>sang</th>\n",
       "      <th>she</th>\n",
       "      <th>smile</th>\n",
       "      <th>was</th>\n",
       "    </tr>\n",
       "  </thead>\n",
       "  <tbody>\n",
       "    <tr>\n",
       "      <th>0</th>\n",
       "      <td>0.179561</td>\n",
       "      <td>0.139445</td>\n",
       "      <td>0.179561</td>\n",
       "      <td>0.278890</td>\n",
       "      <td>0.000000</td>\n",
       "      <td>0.897803</td>\n",
       "      <td>0.179561</td>\n",
       "    </tr>\n",
       "    <tr>\n",
       "      <th>1</th>\n",
       "      <td>0.157992</td>\n",
       "      <td>0.490779</td>\n",
       "      <td>0.157992</td>\n",
       "      <td>0.245390</td>\n",
       "      <td>0.000000</td>\n",
       "      <td>0.789959</td>\n",
       "      <td>0.157992</td>\n",
       "    </tr>\n",
       "    <tr>\n",
       "      <th>2</th>\n",
       "      <td>0.000000</td>\n",
       "      <td>0.224355</td>\n",
       "      <td>0.000000</td>\n",
       "      <td>0.897422</td>\n",
       "      <td>0.379867</td>\n",
       "      <td>0.000000</td>\n",
       "      <td>0.000000</td>\n",
       "    </tr>\n",
       "  </tbody>\n",
       "</table>\n",
       "</div>"
      ],
      "text/plain": [
       "        his       not   perfect      sang       she     smile       was\n",
       "0  0.179561  0.139445  0.179561  0.278890  0.000000  0.897803  0.179561\n",
       "1  0.157992  0.490779  0.157992  0.245390  0.000000  0.789959  0.157992\n",
       "2  0.000000  0.224355  0.000000  0.897422  0.379867  0.000000  0.000000"
      ]
     },
     "execution_count": 13,
     "metadata": {},
     "output_type": "execute_result"
    }
   ],
   "source": [
    "# create a dataframe\n",
    "pd.DataFrame(X_train_tfidf_dtm.toarray(), columns=feature_names)"
   ]
  },
  {
   "cell_type": "code",
   "execution_count": 10,
   "metadata": {},
   "outputs": [],
   "source": [
    "# IDF: The inverse document frequency"
   ]
  },
  {
   "cell_type": "code",
   "execution_count": 14,
   "metadata": {},
   "outputs": [],
   "source": [
    "idf = vect_tfidf.idf_"
   ]
  },
  {
   "cell_type": "code",
   "execution_count": 15,
   "metadata": {},
   "outputs": [
    {
     "data": {
      "text/plain": [
       "array([1.28768207, 1.        , 1.28768207, 1.        , 1.69314718,\n",
       "       1.28768207, 1.28768207])"
      ]
     },
     "execution_count": 15,
     "metadata": {},
     "output_type": "execute_result"
    }
   ],
   "source": [
    "idf"
   ]
  },
  {
   "cell_type": "code",
   "execution_count": 17,
   "metadata": {},
   "outputs": [],
   "source": [
    "X_train_with_idf = dict(zip(vect_tfidf.get_feature_names(), idf))"
   ]
  },
  {
   "cell_type": "code",
   "execution_count": 18,
   "metadata": {},
   "outputs": [
    {
     "data": {
      "text/plain": [
       "{'his': 1.2876820724517808,\n",
       " 'not': 1.0,\n",
       " 'perfect': 1.2876820724517808,\n",
       " 'sang': 1.0,\n",
       " 'she': 1.6931471805599454,\n",
       " 'smile': 1.2876820724517808,\n",
       " 'was': 1.2876820724517808}"
      ]
     },
     "execution_count": 18,
     "metadata": {},
     "output_type": "execute_result"
    }
   ],
   "source": [
    "X_train_with_idf"
   ]
  },
  {
   "cell_type": "code",
   "execution_count": 30,
   "metadata": {
    "collapsed": true,
    "jupyter": {
     "outputs_hidden": true
    }
   },
   "outputs": [],
   "source": [
    "# We see that the tokens 'sang','she' have the most idf weight because they are the only \n",
    "# tokens that appear in one document only.\n",
    "\n",
    "# The token 'not' appears 6 times but it is also in all documents, so its idf is the lowest"
   ]
  },
  {
   "cell_type": "code",
   "execution_count": 19,
   "metadata": {},
   "outputs": [
    {
     "data": {
      "text/plain": [
       "dict_items([('his', 1.2876820724517808), ('not', 1.0), ('perfect', 1.2876820724517808), ('sang', 1.0), ('she', 1.6931471805599454), ('smile', 1.2876820724517808), ('was', 1.2876820724517808)])"
      ]
     },
     "execution_count": 19,
     "metadata": {},
     "output_type": "execute_result"
    }
   ],
   "source": [
    "X_train_with_idf.items()"
   ]
  },
  {
   "cell_type": "code",
   "execution_count": 20,
   "metadata": {},
   "outputs": [
    {
     "data": {
      "text/plain": [
       "[('not', 1.0),\n",
       " ('sang', 1.0),\n",
       " ('his', 1.2876820724517808),\n",
       " ('perfect', 1.2876820724517808),\n",
       " ('smile', 1.2876820724517808),\n",
       " ('was', 1.2876820724517808),\n",
       " ('she', 1.6931471805599454)]"
      ]
     },
     "execution_count": 20,
     "metadata": {},
     "output_type": "execute_result"
    }
   ],
   "source": [
    "sorted(X_train_with_idf.items(), key = lambda x : x[1])"
   ]
  },
  {
   "cell_type": "code",
   "execution_count": 21,
   "metadata": {},
   "outputs": [
    {
     "data": {
      "text/html": [
       "<div>\n",
       "<style scoped>\n",
       "    .dataframe tbody tr th:only-of-type {\n",
       "        vertical-align: middle;\n",
       "    }\n",
       "\n",
       "    .dataframe tbody tr th {\n",
       "        vertical-align: top;\n",
       "    }\n",
       "\n",
       "    .dataframe thead th {\n",
       "        text-align: right;\n",
       "    }\n",
       "</style>\n",
       "<table border=\"1\" class=\"dataframe\">\n",
       "  <thead>\n",
       "    <tr style=\"text-align: right;\">\n",
       "      <th></th>\n",
       "      <th>token</th>\n",
       "      <th>weight</th>\n",
       "    </tr>\n",
       "  </thead>\n",
       "  <tbody>\n",
       "    <tr>\n",
       "      <th>4</th>\n",
       "      <td>she</td>\n",
       "      <td>1.693147</td>\n",
       "    </tr>\n",
       "    <tr>\n",
       "      <th>0</th>\n",
       "      <td>his</td>\n",
       "      <td>1.287682</td>\n",
       "    </tr>\n",
       "    <tr>\n",
       "      <th>2</th>\n",
       "      <td>perfect</td>\n",
       "      <td>1.287682</td>\n",
       "    </tr>\n",
       "    <tr>\n",
       "      <th>5</th>\n",
       "      <td>smile</td>\n",
       "      <td>1.287682</td>\n",
       "    </tr>\n",
       "    <tr>\n",
       "      <th>6</th>\n",
       "      <td>was</td>\n",
       "      <td>1.287682</td>\n",
       "    </tr>\n",
       "    <tr>\n",
       "      <th>1</th>\n",
       "      <td>not</td>\n",
       "      <td>1.000000</td>\n",
       "    </tr>\n",
       "    <tr>\n",
       "      <th>3</th>\n",
       "      <td>sang</td>\n",
       "      <td>1.000000</td>\n",
       "    </tr>\n",
       "  </tbody>\n",
       "</table>\n",
       "</div>"
      ],
      "text/plain": [
       "     token    weight\n",
       "4      she  1.693147\n",
       "0      his  1.287682\n",
       "2  perfect  1.287682\n",
       "5    smile  1.287682\n",
       "6      was  1.287682\n",
       "1      not  1.000000\n",
       "3     sang  1.000000"
      ]
     },
     "execution_count": 21,
     "metadata": {},
     "output_type": "execute_result"
    }
   ],
   "source": [
    "# Graphing inverse document frequency\n",
    "\n",
    "df_X_idf = pd.DataFrame.from_dict(X_train_with_idf, orient='index').reset_index()\n",
    "df_X_idf.columns=('token','weight')\n",
    "\n",
    "df_X_idf = df_X_idf.sort_values(by='weight', ascending=False)\n",
    "df_X_idf \n",
    "\n",
    "# Most common words have lower weights by the process of idf"
   ]
  },
  {
   "cell_type": "code",
   "execution_count": 22,
   "metadata": {},
   "outputs": [
    {
     "data": {
      "image/png": "[encoded data removed]",
      "text/plain": [
       "<Figure size 720x360 with 1 Axes>"
      ]
     },
     "metadata": {},
     "output_type": "display_data"
    }
   ],
   "source": [
    "sns.barplot(x='token', y='weight', data=df_X_idf)            \n",
    "plt.title(\"Inverse Document Frequency(idf) per token\")\n",
    "fig=plt.gcf()\n",
    "fig.set_size_inches(10,5)"
   ]
  },
  {
   "cell_type": "code",
   "execution_count": null,
   "metadata": {
    "collapsed": true,
    "jupyter": {
     "outputs_hidden": true
    }
   },
   "outputs": [],
   "source": [
    "# Summary: the more times a token appears in a document, the more weight it will \n",
    "# have. \n",
    "\n",
    "# However, the more documents the token appears in, it is 'penalized' and \n",
    "# the weight is diminished. \n",
    "\n",
    "# For example, the weight for token 'not' is 4, but if \n",
    "# it did not appear in all documents (that is, only in one document) its weight \n",
    "# would have been 8.3"
   ]
  }
 ],
 "metadata": {
  "kernelspec": {
   "display_name": "Python 3",
   "language": "python",
   "name": "python3"
  },
  "language_info": {
   "codemirror_mode": {
    "name": "ipython",
    "version": 3
   },
   "file_extension": ".py",
   "mimetype": "text/x-python",
   "name": "python",
   "nbconvert_exporter": "python",
   "pygments_lexer": "ipython3",
   "version": "3.7.9"
  }
 },
 "nbformat": 4,
 "nbformat_minor": 4
}
