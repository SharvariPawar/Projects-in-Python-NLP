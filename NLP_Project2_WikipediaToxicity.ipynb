{
 "cells": [
  {
   "cell_type": "code",
   "execution_count": 85,
   "metadata": {},
   "outputs": [],
   "source": [
    "import numpy as np\n",
    "import pandas as pd\n",
    "import re, nltk, spacy, gensim\n",
    "\n",
    "# Sklearn\n",
    "from sklearn.decomposition import LatentDirichletAllocation, TruncatedSVD\n",
    "from sklearn.feature_extraction.text import CountVectorizer, TfidfVectorizer\n",
    "from sklearn.model_selection import GridSearchCV\n",
    "from pprint import pprint\n",
    "\n",
    "# Plotting tools\n",
    "import pyLDAvis\n",
    "import pyLDAvis.sklearn\n",
    "import matplotlib.pyplot as plt\n",
    "%matplotlib inline\n",
    "\n",
    "import warnings\n",
    "warnings.filterwarnings(\"ignore\",category=DeprecationWarning)\n",
    "\n",
    "from gensim.utils import simple_preprocess"
   ]
  },
  {
   "cell_type": "markdown",
   "metadata": {},
   "source": [
    "# 1> Load the data using read_csv function from pandas package"
   ]
  },
  {
   "cell_type": "code",
   "execution_count": 86,
   "metadata": {},
   "outputs": [
    {
     "data": {
      "text/html": [
       "<div>\n",
       "<style scoped>\n",
       "    .dataframe tbody tr th:only-of-type {\n",
       "        vertical-align: middle;\n",
       "    }\n",
       "\n",
       "    .dataframe tbody tr th {\n",
       "        vertical-align: top;\n",
       "    }\n",
       "\n",
       "    .dataframe thead th {\n",
       "        text-align: right;\n",
       "    }\n",
       "</style>\n",
       "<table border=\"1\" class=\"dataframe\">\n",
       "  <thead>\n",
       "    <tr style=\"text-align: right;\">\n",
       "      <th></th>\n",
       "      <th>id</th>\n",
       "      <th>comment_text</th>\n",
       "      <th>toxic</th>\n",
       "    </tr>\n",
       "  </thead>\n",
       "  <tbody>\n",
       "    <tr>\n",
       "      <th>0</th>\n",
       "      <td>e617e2489abe9bca</td>\n",
       "      <td>\"\\r\\n\\r\\n A barnstar for you! \\r\\n\\r\\n  The De...</td>\n",
       "      <td>0</td>\n",
       "    </tr>\n",
       "    <tr>\n",
       "      <th>1</th>\n",
       "      <td>9250cf637294e09d</td>\n",
       "      <td>\"\\r\\n\\r\\nThis seems unbalanced.  whatever I ha...</td>\n",
       "      <td>0</td>\n",
       "    </tr>\n",
       "    <tr>\n",
       "      <th>2</th>\n",
       "      <td>ce1aa4592d5240ca</td>\n",
       "      <td>Marya Dzmitruk was born in Minsk, Belarus in M...</td>\n",
       "      <td>0</td>\n",
       "    </tr>\n",
       "    <tr>\n",
       "      <th>3</th>\n",
       "      <td>48105766ff7f075b</td>\n",
       "      <td>\"\\r\\n\\r\\nTalkback\\r\\n\\r\\n Dear Celestia...  \"</td>\n",
       "      <td>0</td>\n",
       "    </tr>\n",
       "    <tr>\n",
       "      <th>4</th>\n",
       "      <td>0543d4f82e5470b6</td>\n",
       "      <td>New Categories \\r\\n\\r\\nI honestly think that w...</td>\n",
       "      <td>0</td>\n",
       "    </tr>\n",
       "  </tbody>\n",
       "</table>\n",
       "</div>"
      ],
      "text/plain": [
       "                 id                                       comment_text  toxic\n",
       "0  e617e2489abe9bca  \"\\r\\n\\r\\n A barnstar for you! \\r\\n\\r\\n  The De...      0\n",
       "1  9250cf637294e09d  \"\\r\\n\\r\\nThis seems unbalanced.  whatever I ha...      0\n",
       "2  ce1aa4592d5240ca  Marya Dzmitruk was born in Minsk, Belarus in M...      0\n",
       "3  48105766ff7f075b      \"\\r\\n\\r\\nTalkback\\r\\n\\r\\n Dear Celestia...  \"      0\n",
       "4  0543d4f82e5470b6  New Categories \\r\\n\\r\\nI honestly think that w...      0"
      ]
     },
     "execution_count": 86,
     "metadata": {},
     "output_type": "execute_result"
    }
   ],
   "source": [
    "data = pd.read_csv(\"C:/Users/sharv/Documents/Post Graduate Program In Data Science-PurdueSimpliLearn/Course4-NLP/Projects/train.csv\")\n",
    "data.head()"
   ]
  },
  {
   "cell_type": "code",
   "execution_count": 87,
   "metadata": {},
   "outputs": [
    {
     "data": {
      "text/plain": [
       "0    0.9126\n",
       "1    0.0874\n",
       "Name: toxic, dtype: float64"
      ]
     },
     "execution_count": 87,
     "metadata": {},
     "output_type": "execute_result"
    }
   ],
   "source": [
    "data.toxic.value_counts(normalize=True)\n",
    "# data is not balanced"
   ]
  },
  {
   "cell_type": "code",
   "execution_count": 88,
   "metadata": {},
   "outputs": [
    {
     "data": {
      "text/plain": [
       "'\"Palestine before 4000 BC\"\". \\r\\n\\r\\n\"'"
      ]
     },
     "execution_count": 88,
     "metadata": {},
     "output_type": "execute_result"
    }
   ],
   "source": [
    "data.comment_text.sample().values[0]"
   ]
  },
  {
   "cell_type": "markdown",
   "metadata": {},
   "source": [
    "# 2> Get the comments into a list, for easy text cleanup and manipulation"
   ]
  },
  {
   "cell_type": "code",
   "execution_count": 90,
   "metadata": {},
   "outputs": [
    {
     "name": "stdout",
     "output_type": "stream",
     "text": [
      "5000\n"
     ]
    },
    {
     "data": {
      "text/plain": [
       "array(['\"\\r\\n\\r\\n A barnstar for you! \\r\\n\\r\\n  The Defender of the Wiki Barnstar I like your edit on the Kayastha page. Lets form a solidarity group against those who malign the article and its subject matter. I propose the folloing name for the group.\\r\\n\\r\\nUnited intellectuals\\' front of Kayastha ethinicty against racist or castist abuse (UIFKEARCA)   \"',\n",
       "       '\"\\r\\n\\r\\nThis seems unbalanced.  whatever I have said about Mathsci, he has said far more extreme and unpleasant things about me (not to mention others), and with much greater frequency.  I\\'m more than happy to reign myself in, if that\\'s what you\\'d like (ruth be told, I was just trying to get Mathsci to pay attention and stop being uncivil).  I would expect you to issue the same request to Mathsci.  \\r\\n\\r\\n If this is intentionally unbalanced (for whatever reason), please let me know, and I will voluntarily close this account and move on to other things.  I like wikipedia, and I have a lot to contribute in my own way, but there is no point contributing to the project if some editors have administrative leave to be aggressively rude.  I\\'m a good editor, and I don\\'t really deserve to have people riding my ass every time I try to do certain things.  I\\'ll happily leave it in the hands of the drama-prone, if that\\'s what you think is best.  Ludwigs2 \"',\n",
       "       'Marya Dzmitruk was born in Minsk, Belarus in March 19, 1992. Her mother, Olga Nikolaevna Moroz was born in Baranovichi, Belarus and her father was born in Brest, Belarus. She is second child in the family. Her parents divorced in 1998 and soon after her father remarried and had two more children. \\r\\nMarya, at the age of 4 began doing gymnastics, but quit two years later because she was denied a medal in a competition, where her age was incorrectly marked. When she turned 6 years old, she got admitted to Music School #4 in Minsk, class of violin, and to Public School #66 with piano classes as a main course. At the age of 11, Marya starred in Belarusfilm movie called “Dunechka”. Soon after she started to play in theatre and was featured in television shows. By 2005 her mother decided to move to United States. In September of 2005 Marya went to her first American school, Ingrid B. Lacy Middle School. She graduated in Spring 2006 and traveled back to Belarus for 2 months. In August 2006 she went to Oceana High School, from which she will graduate in 2010. \\r\\n\\r\\nMarya Dzmitruk is a member of ISAR (International Society for Astrological Research), also a member of a non-profit government organization which deals with human rights abuse throughout the world (also known as Helsinki Committee). Marya holds two diplomas from music schools, four scholarships for Lisa Spector’s Music school and several awards from YLI (Youth Leadership Institute). \\r\\n\\r\\nMarya has a very close relationship with her mother. Her personal life is “as happy as it could possibly get” a source says. She is currently dating Alex K., from Odessa, Ukraine. \\r\\n\\r\\nMarya currently attends school and works for ISAR and Helsinki Committee at her own free time.',\n",
       "       '\"\\r\\n\\r\\nTalkback\\r\\n\\r\\n Dear Celestia...  \"',\n",
       "       \"New Categories \\r\\n\\r\\nI honestly think that we need to add some more categories and move some characters into these new categories. Like, characters such as Pete Ross or Whitney Fordman who haven't been on the show in a while, and are listed as main characters? That just doesn't make sense. Perhaps creating a deceased/former characters section? I'll start doing it now. If anyone has a problem, please post it in this discussion.\"],\n",
       "      dtype=object)"
      ]
     },
     "execution_count": 90,
     "metadata": {},
     "output_type": "execute_result"
    }
   ],
   "source": [
    "data1 = data.comment_text.values\n",
    "print(len(data1))\n",
    "data1[:5]"
   ]
  },
  {
   "cell_type": "markdown",
   "metadata": {},
   "source": [
    "# 3> Cleanup:\n",
    "- Using regular expressions, remove IP addresses\n",
    "- Using regular expressions, remove URLs\n",
    "- Normalize the casing\n",
    "- Tokenize using word_tokenize from NLTK\n",
    "- Remove stop words\n",
    "- Remove punctuation"
   ]
  },
  {
   "cell_type": "code",
   "execution_count": 91,
   "metadata": {},
   "outputs": [
    {
     "data": {
      "text/plain": [
       "\"About mass vandalism \\r\\n\\r\\nHello. This message is being sent to inform you that there is currently a discussion at Wikipedia:Administrators' noticeboard/Incidents regarding an issue with which you may have been involved.    Thank you. (talk)\""
      ]
     },
     "execution_count": 91,
     "metadata": {},
     "output_type": "execute_result"
    }
   ],
   "source": [
    "# removing IP addresses and numbers followed by \"'s\".\n",
    "\n",
    "data2=[re.sub(\"((\\d|\\s)+\\.)*\",\"\", sh) for sh in data1] # matches 0 or more of one or more digits followed by a period\n",
    "data3=[re.sub(\"((\\d|\\s)+\\'s)*\",\"\", sh) for sh in data2]\n",
    "data3[124]"
   ]
  },
  {
   "cell_type": "code",
   "execution_count": 92,
   "metadata": {},
   "outputs": [
    {
     "data": {
      "text/plain": [
       "\"\\r\\n\\r\\nHere he is, your decision to block me for one week or even more is fully justified as i abused a particular religion,nation and a user but my acts of putting those articles on the list of deletion were correct and justified, i have never removed a single para which has been cited alongside citations and further as i know India's History closely i can surely claim all those articles as myth and simply hoax. And the agreement of another Editor and Admin who too is from Europe but unlike you he based him opinion after going through the articles which are without A single source for many years, when even after searching so much on net we cant find a single source then the article qualifies for deletion but admin like you insist on such articles.You havent told me a single reason that why those articles should be maintained on wikipedia(apart from your personal rivalry against me).\""
      ]
     },
     "execution_count": 92,
     "metadata": {},
     "output_type": "execute_result"
    }
   ],
   "source": [
    "data4=[re.sub(\"\\w+://\\S+\",\"\", sh) for sh in data3] # remove URLs\n",
    "#data4[1673]\n",
    "#data4[4704]\n",
    "data4[4702]"
   ]
  },
  {
   "cell_type": "code",
   "execution_count": 93,
   "metadata": {},
   "outputs": [
    {
     "data": {
      "text/plain": [
       "\"you love osama bin laden so don't deny!!!!!!!!!!!!!!!!!!!!!!!!!!!!!!!!!!!!!!!!!!!!!!!!!!!!!!!!!!\""
      ]
     },
     "execution_count": 93,
     "metadata": {},
     "output_type": "execute_result"
    }
   ],
   "source": [
    "data5=[sh.lower() for sh in data4] # Normalize the casing\n",
    "data5[4714]"
   ]
  },
  {
   "cell_type": "code",
   "execution_count": 94,
   "metadata": {},
   "outputs": [
    {
     "name": "stdout",
     "output_type": "stream",
     "text": [
      "['``', 'a', 'barnstar', 'for', 'you', '!', 'the', 'defender', 'of', 'the', 'wiki', 'barnstar', 'i', 'like', 'your', 'edit', 'on', 'the', 'kayastha', 'page', '.', 'lets', 'form', 'a', 'solidarity', 'group', 'against', 'those', 'who', 'malign', 'the', 'article', 'and', 'its', 'subject', 'matter', '.', 'i', 'propose', 'the', 'folloing', 'name', 'for', 'the', 'group', '.', 'united', 'intellectuals', \"'\", 'front', 'of', 'kayastha', 'ethinicty', 'against', 'racist', 'or', 'castist', 'abuse', '(', 'uifkearca', ')', '``']\n"
     ]
    }
   ],
   "source": [
    "from nltk.tokenize import word_tokenize\n",
    "data_tokens = [word_tokenize(sent) for sent in data5] # Tokenize using word_tokenize from NLTK\n",
    "print(data_tokens[0])"
   ]
  },
  {
   "cell_type": "code",
   "execution_count": 95,
   "metadata": {},
   "outputs": [
    {
     "name": "stdout",
     "output_type": "stream",
     "text": [
      "['xad', 'xad', 'yeah', 'revert', 'conformist']\n"
     ]
    }
   ],
   "source": [
    "from nltk.corpus import stopwords # removing stopwords and punctuations\n",
    "from string import punctuation\n",
    "\n",
    "stop_nltk = stopwords.words(\"english\")\n",
    "stop_punct = list(punctuation)\n",
    "\n",
    "stop_punct.extend(['...','``',\"''\",\"..\",\"$\"])\n",
    "\n",
    "stop_context = ['rt', 'amp','wikipedia','page','edit']\n",
    "\n",
    "stop_final = stop_nltk + stop_punct + stop_context\n",
    "\n",
    "def remove_stopwords(texts):\n",
    "    return [[word for word in simple_preprocess(str(doc)) if word not in stop_final] for doc in texts]\n",
    "\n",
    "data_words = remove_stopwords(data_tokens)\n",
    "# print(data_words[0])\n",
    "#print(data_words[4693])\n",
    "#print(data_words[4639])\n",
    "#print(data_words[4653])\n",
    "#print(data_words[4751])\n",
    "#print(data_words[4309])\n",
    "print(data_words[826])"
   ]
  },
  {
   "cell_type": "markdown",
   "metadata": {},
   "source": [
    "# 4> Using a counter, find the top terms in the data.\n",
    "- Can any of these be considered contextual stop words? \n",
    "- Words like “Wikipedia”, “page”, “edit” are examples of contextual stop words\n",
    "- If yes, drop these from the data"
   ]
  },
  {
   "cell_type": "code",
   "execution_count": 96,
   "metadata": {},
   "outputs": [
    {
     "data": {
      "text/plain": [
       "[('article', 1735),\n",
       " ('talk', 1235),\n",
       " ('please', 1042),\n",
       " ('would', 1009),\n",
       " ('ass', 990),\n",
       " ('fuck', 908),\n",
       " ('one', 881),\n",
       " ('like', 845),\n",
       " ('also', 657),\n",
       " ('see', 632)]"
      ]
     },
     "execution_count": 96,
     "metadata": {},
     "output_type": "execute_result"
    }
   ],
   "source": [
    "from collections import Counter\n",
    "term_list = []\n",
    "for sh1 in data_words:\n",
    "    term_list.extend(sh1)\n",
    "    \n",
    "res = Counter(term_list)\n",
    "res.most_common(10)"
   ]
  },
  {
   "cell_type": "code",
   "execution_count": 97,
   "metadata": {},
   "outputs": [
    {
     "data": {
      "text/plain": [
       "[('article', 1735),\n",
       " ('talk', 1235),\n",
       " ('please', 1042),\n",
       " ('would', 1009),\n",
       " ('ass', 990),\n",
       " ('fuck', 908),\n",
       " ('one', 881),\n",
       " ('like', 845),\n",
       " ('also', 657),\n",
       " ('see', 632)]"
      ]
     },
     "execution_count": 97,
     "metadata": {},
     "output_type": "execute_result"
    }
   ],
   "source": [
    "# drop “Wikipedia”, “page”, “edit” from the data\n",
    "del res['wikipedia'] \n",
    "del res['page'] \n",
    "del res['edit'] \n",
    "res.most_common(10)"
   ]
  },
  {
   "cell_type": "code",
   "execution_count": 102,
   "metadata": {},
   "outputs": [
    {
     "data": {
      "text/plain": [
       "'barnstar defender wiki barnstar like kayastha lets form solidarity group malign article subject matter propose folloing name group united intellectuals front kayastha ethinicty racist castist abuse uifkearca'"
      ]
     },
     "execution_count": 102,
     "metadata": {},
     "output_type": "execute_result"
    }
   ],
   "source": [
    "# Join the tokens back into strings\n",
    "data_clean = [\" \".join(s) for s in data_words]\n",
    "data_clean[0]"
   ]
  },
  {
   "cell_type": "markdown",
   "metadata": {},
   "source": [
    "# 5> Separate into train and test sets\n",
    "- Use train-test method to divide your data into 2 sets: train and test\n",
    "- Use a 70-30 split"
   ]
  },
  {
   "cell_type": "code",
   "execution_count": 106,
   "metadata": {},
   "outputs": [],
   "source": [
    "X=data_clean\n",
    "y=data.toxic.values\n",
    "from sklearn.model_selection import train_test_split\n",
    "X_train, X_test, y_train, y_test = train_test_split(X, y, test_size = 0.30, random_state=42)"
   ]
  },
  {
   "cell_type": "markdown",
   "metadata": {},
   "source": [
    "# 6> Use TF-IDF values for the terms as feature to get into a vector space model\n",
    "- Import TF-IDF vectorizer from sklearn\n",
    "- Instantiate with a maximum of 4000 terms in your vocabulary\n",
    "- Fit and apply on the train set\n",
    "- Apply on the test set"
   ]
  },
  {
   "cell_type": "code",
   "execution_count": 107,
   "metadata": {},
   "outputs": [
    {
     "data": {
      "text/plain": [
       "(3500, 1500)"
      ]
     },
     "execution_count": 107,
     "metadata": {},
     "output_type": "execute_result"
    }
   ],
   "source": [
    "from sklearn.feature_extraction.text import TfidfVectorizer # creating Document Term Matrix\n",
    "vectorizer = TfidfVectorizer(max_features = 4000)\n",
    "len(X_train), len(X_test)"
   ]
  },
  {
   "cell_type": "code",
   "execution_count": 108,
   "metadata": {},
   "outputs": [
    {
     "data": {
      "text/plain": [
       "((3500, 4000), (1500, 4000))"
      ]
     },
     "execution_count": 108,
     "metadata": {},
     "output_type": "execute_result"
    }
   ],
   "source": [
    "X_train_bow = vectorizer.fit_transform(X_train)\n",
    "\n",
    "X_test_bow = vectorizer.transform(X_test)\n",
    "\n",
    "X_train_bow.shape, X_test_bow.shape"
   ]
  },
  {
   "cell_type": "code",
   "execution_count": 109,
   "metadata": {},
   "outputs": [
    {
     "name": "stdout",
     "output_type": "stream",
     "text": [
      "Num words: 4000\n"
     ]
    }
   ],
   "source": [
    "print (\"Num words:\", len(vectorizer.get_feature_names()))"
   ]
  },
  {
   "cell_type": "markdown",
   "metadata": {},
   "source": [
    "# 7> Model building: Support Vector Machine\n",
    "- Instantiate SVC from sklearn with a linear kernel\n",
    "- Fit on the train data\n",
    "- Make predictions for the train and the test set"
   ]
  },
  {
   "cell_type": "code",
   "execution_count": 110,
   "metadata": {},
   "outputs": [],
   "source": [
    "#Import svm model\n",
    "from sklearn import svm\n",
    "\n",
    "#Create a svm Classifier\n",
    "clf = svm.SVC(kernel='linear',random_state=8) # Linear Kernel\n",
    "\n",
    "#Train the model using the training sets\n",
    "clf.fit(X_train_bow, y_train)\n",
    "\n",
    "#Predict the response for test dataset\n",
    "y_pred = clf.predict(X_test_bow)"
   ]
  },
  {
   "cell_type": "markdown",
   "metadata": {},
   "source": [
    "# 8> Model evaluation: Accuracy, recall, and f1_score\n",
    "- Report the accuracy on the train set\n",
    "- Report the recall on the train set:decent, high, low?\n",
    "- Get the f1_score on the train set"
   ]
  },
  {
   "cell_type": "code",
   "execution_count": 111,
   "metadata": {},
   "outputs": [
    {
     "name": "stdout",
     "output_type": "stream",
     "text": [
      "Accuracy: 0.9493333333333334\n",
      "Precision: 0.9672131147540983\n",
      "Recall: 0.44360902255639095\n"
     ]
    }
   ],
   "source": [
    "from sklearn import metrics\n",
    "\n",
    "# Model Accuracy: how often is the classifier correct?\n",
    "print(\"Accuracy:\",metrics.accuracy_score(y_test, y_pred))\n",
    "\n",
    "# Model Precision: what percentage of positive tuples are labeled as such?\n",
    "print(\"Precision:\",metrics.precision_score(y_test, y_pred))\n",
    "\n",
    "# Model Recall: what percentage of positive tuples are labeled as such?\n",
    "print(\"Recall:\",metrics.recall_score(y_test, y_pred))"
   ]
  },
  {
   "cell_type": "code",
   "execution_count": 112,
   "metadata": {},
   "outputs": [
    {
     "name": "stdout",
     "output_type": "stream",
     "text": [
      "[[1365    2]\n",
      " [  74   59]]\n",
      "              precision    recall  f1-score   support\n",
      "\n",
      "           0       0.95      1.00      0.97      1367\n",
      "           1       0.97      0.44      0.61       133\n",
      "\n",
      "    accuracy                           0.95      1500\n",
      "   macro avg       0.96      0.72      0.79      1500\n",
      "weighted avg       0.95      0.95      0.94      1500\n",
      "\n"
     ]
    }
   ],
   "source": [
    "from sklearn.metrics import classification_report, confusion_matrix\n",
    "print(confusion_matrix(y_test,y_pred))\n",
    "print(classification_report(y_test,y_pred))"
   ]
  },
  {
   "cell_type": "markdown",
   "metadata": {},
   "source": [
    "# 9> Looks like you need to adjust the class imbalance, as the model seems to focus on the 0s\n",
    "- Adjust the appropriate parameter in the SVC module"
   ]
  },
  {
   "cell_type": "code",
   "execution_count": 113,
   "metadata": {},
   "outputs": [
    {
     "name": "stdout",
     "output_type": "stream",
     "text": [
      "[0 1]\n",
      "Accuracy: 0.938\n",
      "Recall: 0.44360902255639095\n"
     ]
    }
   ],
   "source": [
    "clf1 = svm.SVC(kernel='linear', \n",
    "            class_weight='balanced') # penalize\n",
    "            #probability=True,\n",
    "               #C=1.0)\n",
    " \n",
    "clf1.fit(X_train_bow, y_train)\n",
    " \n",
    "# Predict on training set\n",
    "y_pred1 = clf1.predict(X_test_bow)\n",
    " \n",
    "# Is our model still predicting just one class?\n",
    "print( np.unique( y_pred1 ) )\n",
    "# [0 1]\n",
    " \n",
    "# How's our accuracy?\n",
    "print( \"Accuracy:\",metrics.accuracy_score(y_test, y_pred1) )\n",
    "print(\"Recall:\",metrics.recall_score(y_test, y_pred))"
   ]
  },
  {
   "cell_type": "markdown",
   "metadata": {},
   "source": [
    "# 10> Train again with the adjustment and evaluate\n",
    "- Train the model on the train set\n",
    "- Evaluate the predictions on the validation set: accuracy, recall, f1_score"
   ]
  },
  {
   "cell_type": "code",
   "execution_count": 114,
   "metadata": {},
   "outputs": [
    {
     "name": "stdout",
     "output_type": "stream",
     "text": [
      "Recall: 0.6390977443609023\n",
      "[[1322   45]\n",
      " [  48   85]]\n",
      "              precision    recall  f1-score   support\n",
      "\n",
      "           0       0.96      0.97      0.97      1367\n",
      "           1       0.65      0.64      0.65       133\n",
      "\n",
      "    accuracy                           0.94      1500\n",
      "   macro avg       0.81      0.80      0.81      1500\n",
      "weighted avg       0.94      0.94      0.94      1500\n",
      "\n"
     ]
    }
   ],
   "source": [
    "# Model Recall: what percentage of positive tuples are labeled as such?\n",
    "print(\"Recall:\",metrics.recall_score(y_test, y_pred1))\n",
    "\n",
    "from sklearn.metrics import classification_report, confusion_matrix\n",
    "print(confusion_matrix(y_test,y_pred1))\n",
    "print(classification_report(y_test,y_pred1))"
   ]
  },
  {
   "cell_type": "markdown",
   "metadata": {},
   "source": [
    "# 11> Hyperparameter tuning\n",
    "- Import GridSearch and StratifiedKFold (because of class imbalance)\n",
    "- Provide the parameter grid to choose for ‘C’\n",
    "- Use a balanced class weight while instantiating the Support Vector Classifier\n",
    "# 12> Find the parameters with the best recall in cross validation\n",
    "- Choose ‘recall’ as the metric for scoring\n",
    "\n",
    "Grid Search Cross Validation We first need to define the grid:"
   ]
  },
  {
   "cell_type": "code",
   "execution_count": 167,
   "metadata": {},
   "outputs": [
    {
     "name": "stdout",
     "output_type": "stream",
     "text": [
      "train -  [3196  304]   |   test -  [1367  133]\n",
      "train -  [3196  304]   |   test -  [1367  133]\n",
      "train -  [3196  304]   |   test -  [1367  133]\n",
      "train -  [3196  304]   |   test -  [1367  133]\n",
      "train -  [3196  304]   |   test -  [1367  133]\n",
      "Fitting 5 folds for each of 52 candidates, totalling 260 fits\n"
     ]
    },
    {
     "name": "stderr",
     "output_type": "stream",
     "text": [
      "[Parallel(n_jobs=1)]: Using backend SequentialBackend with 1 concurrent workers.\n",
      "[Parallel(n_jobs=1)]: Done 260 out of 260 | elapsed: 21.7min finished\n"
     ]
    },
    {
     "data": {
      "text/plain": [
       "GridSearchCV(cv=StratifiedKFold(n_splits=5, random_state=None, shuffle=False),\n",
       "             estimator=SVC(class_weight='balanced', kernel='linear'),\n",
       "             param_grid=[{'C': [0.0001, 0.001, 0.01, 0.1], 'kernel': ['linear'],\n",
       "                          'probability': [True]},\n",
       "                         {'C': [0.0001, 0.001, 0.01, 0.1], 'degree': [3, 4, 5],\n",
       "                          'kernel': ['poly', 'linear'], 'probability': [True]},\n",
       "                         {'C': [0.0001, 0.001, 0.01, 0.1],\n",
       "                          'gamma': [1, 10, 100], 'kernel': ['rbf', 'linear'],\n",
       "                          'probability': [True]}],\n",
       "             scoring='accuracy', verbose=1)"
      ]
     },
     "execution_count": 167,
     "metadata": {},
     "output_type": "execute_result"
    }
   ],
   "source": [
    "C = [.0001, .001, .01, .1]   # C :-Penalty parameter C of the error term\n",
    "degree = [3, 4, 5] # degree :- Degree of the polynomial kernel function.\n",
    "gamma = [1, 10, 100] # gamma :- Kernel coefficient.\n",
    "probability = [True] # kernel :- Specifies the kernel type to be used in the algorithm.\n",
    "\n",
    "param_grid = [\n",
    "  {'C': C, 'kernel':['linear'], 'probability':probability},\n",
    "  {'C': C, 'kernel':['poly','linear'], 'degree':degree, 'probability':probability},\n",
    "  {'C': C, 'kernel':['rbf','linear'], 'gamma':gamma, 'probability':probability}\n",
    "]\n",
    "\n",
    "# Create a base model\n",
    "#svc = svm.SVC(random_state=8)\n",
    "clf1 = svm.SVC(kernel='linear', \n",
    "            class_weight='balanced')\n",
    "\n",
    "from sklearn.model_selection import StratifiedKFold\n",
    "skf = StratifiedKFold(n_splits=5)\n",
    "for train, test in skf.split(X_train, y_train):\n",
    "    print('train -  {}   |   test -  {}'.format(np.bincount(y_train), np.bincount(y_test)))\n",
    "    \n",
    "# Instantiate the grid search model\n",
    "grid_search = GridSearchCV(estimator=clf1, \n",
    "                           param_grid= param_grid,\n",
    "                           scoring='accuracy',\n",
    "                           cv=skf,\n",
    "                           #refit=False,\n",
    "                           verbose=1)\n",
    "\n",
    "# Fit the grid search to the data\n",
    "grid_search.fit(X_train_bow, y_train)"
   ]
  },
  {
   "cell_type": "markdown",
   "metadata": {},
   "source": [
    "The best hyperparameters turn out to be:"
   ]
  },
  {
   "cell_type": "code",
   "execution_count": 169,
   "metadata": {},
   "outputs": [
    {
     "name": "stdout",
     "output_type": "stream",
     "text": [
      "The best hyperparameters from Grid Search are:\n",
      "{'C': 0.1, 'kernel': 'linear', 'probability': True}\n",
      "\n",
      "The mean accuracy of a model with these hyperparameters is:\n",
      "0.9402857142857142\n"
     ]
    }
   ],
   "source": [
    "print(\"The best hyperparameters from Grid Search are:\")\n",
    "print(grid_search.best_params_)\n",
    "print(\"\")\n",
    "print(\"The mean accuracy of a model with these hyperparameters is:\")\n",
    "print(grid_search.best_score_)"
   ]
  },
  {
   "cell_type": "markdown",
   "metadata": {},
   "source": [
    "Let's save the model in best_svc:"
   ]
  },
  {
   "cell_type": "code",
   "execution_count": 170,
   "metadata": {},
   "outputs": [
    {
     "data": {
      "text/plain": [
       "SVC(C=0.1, class_weight='balanced', kernel='linear', probability=True)"
      ]
     },
     "execution_count": 170,
     "metadata": {},
     "output_type": "execute_result"
    }
   ],
   "source": [
    "best_svc = grid_search.best_estimator_\n",
    "best_svc"
   ]
  },
  {
   "cell_type": "markdown",
   "metadata": {},
   "source": [
    "We now know the best SVM model. Let's fit it and see how it performs: Model fit and performance Now, we can fit the model to our training data:"
   ]
  },
  {
   "cell_type": "code",
   "execution_count": 171,
   "metadata": {},
   "outputs": [],
   "source": [
    "best_svc.fit(X_train_bow, y_train)\n",
    "svc_pred = best_svc.predict(X_test_bow)"
   ]
  },
  {
   "cell_type": "markdown",
   "metadata": {},
   "source": [
    "For performance analysis, we will use the confusion matrix, the classification report and the accuracy on both training and test data:"
   ]
  },
  {
   "cell_type": "code",
   "execution_count": 172,
   "metadata": {},
   "outputs": [
    {
     "name": "stdout",
     "output_type": "stream",
     "text": [
      "The training accuracy is: \n",
      "0.9751428571428571\n",
      "The training recall is: \n",
      "0.8947368421052632\n"
     ]
    }
   ],
   "source": [
    "# Training accuracy\n",
    "from sklearn.metrics import classification_report, confusion_matrix, accuracy_score, recall_score\n",
    "print(\"The training accuracy is: \")\n",
    "print(accuracy_score(y_train, best_svc.predict(X_train_bow)))\n",
    "print(\"The training recall is: \")\n",
    "print(recall_score(y_train, best_svc.predict(X_train_bow)))"
   ]
  },
  {
   "cell_type": "code",
   "execution_count": 173,
   "metadata": {},
   "outputs": [
    {
     "name": "stdout",
     "output_type": "stream",
     "text": [
      "The test accuracy is: \n",
      "0.9453333333333334\n",
      "The test recall is: \n",
      "0.6390977443609023\n"
     ]
    }
   ],
   "source": [
    "# Test accuracy\n",
    "print(\"The test accuracy is: \")\n",
    "print(accuracy_score(y_test, svc_pred))\n",
    "print(\"The test recall is: \")\n",
    "print(recall_score(y_test, svc_pred))"
   ]
  },
  {
   "cell_type": "code",
   "execution_count": 174,
   "metadata": {},
   "outputs": [
    {
     "name": "stdout",
     "output_type": "stream",
     "text": [
      "Classification report\n",
      "              precision    recall  f1-score   support\n",
      "\n",
      "           0       0.97      0.98      0.97      1367\n",
      "           1       0.71      0.64      0.67       133\n",
      "\n",
      "    accuracy                           0.95      1500\n",
      "   macro avg       0.84      0.81      0.82      1500\n",
      "weighted avg       0.94      0.95      0.94      1500\n",
      "\n"
     ]
    }
   ],
   "source": [
    "# Classification report\n",
    "print(\"Classification report\")\n",
    "print(classification_report(y_test,svc_pred))"
   ]
  },
  {
   "cell_type": "code",
   "execution_count": 175,
   "metadata": {},
   "outputs": [
    {
     "data": {
      "text/html": [
       "<div>\n",
       "<style scoped>\n",
       "    .dataframe tbody tr th:only-of-type {\n",
       "        vertical-align: middle;\n",
       "    }\n",
       "\n",
       "    .dataframe tbody tr th {\n",
       "        vertical-align: top;\n",
       "    }\n",
       "\n",
       "    .dataframe thead th {\n",
       "        text-align: right;\n",
       "    }\n",
       "</style>\n",
       "<table border=\"1\" class=\"dataframe\">\n",
       "  <thead>\n",
       "    <tr style=\"text-align: right;\">\n",
       "      <th></th>\n",
       "      <th>Model</th>\n",
       "      <th>Training Set recall</th>\n",
       "      <th>Test Set recall</th>\n",
       "    </tr>\n",
       "  </thead>\n",
       "  <tbody>\n",
       "    <tr>\n",
       "      <th>0</th>\n",
       "      <td>SVM</td>\n",
       "      <td>0.894737</td>\n",
       "      <td>0.639098</td>\n",
       "    </tr>\n",
       "  </tbody>\n",
       "</table>\n",
       "</div>"
      ],
      "text/plain": [
       "  Model  Training Set recall  Test Set recall\n",
       "0   SVM             0.894737         0.639098"
      ]
     },
     "execution_count": 175,
     "metadata": {},
     "output_type": "execute_result"
    }
   ],
   "source": [
    "from sklearn.metrics import recall_score\n",
    "d = {\n",
    "     'Model': 'SVM',\n",
    "     'Training Set recall': recall_score(y_train, best_svc.predict(X_train_bow)),\n",
    "     'Test Set recall': recall_score(y_test, best_svc.predict(X_test_bow))\n",
    "}\n",
    "\n",
    "df_models_svc = pd.DataFrame(d, index=[0])\n",
    "df_models_svc"
   ]
  },
  {
   "cell_type": "markdown",
   "metadata": {},
   "source": [
    "Training Recall value is better than Test Recall value."
   ]
  },
  {
   "cell_type": "markdown",
   "metadata": {},
   "source": [
    "# 13> What are the best parameters?"
   ]
  },
  {
   "cell_type": "code",
   "execution_count": 176,
   "metadata": {},
   "outputs": [
    {
     "data": {
      "text/plain": [
       "SVC(C=0.1, class_weight='balanced', kernel='linear', probability=True)"
      ]
     },
     "execution_count": 176,
     "metadata": {},
     "output_type": "execute_result"
    }
   ],
   "source": [
    "best_svc"
   ]
  },
  {
   "cell_type": "markdown",
   "metadata": {},
   "source": [
    "# 14> Predict and evaluate using the best estimator\n",
    "- Use best estimator from the grid search to make predictions on the test set\n",
    "- What is the recall on the test set for the toxic comments?\n",
    "- What is the f1_score?"
   ]
  },
  {
   "cell_type": "code",
   "execution_count": 177,
   "metadata": {},
   "outputs": [
    {
     "name": "stdout",
     "output_type": "stream",
     "text": [
      "              precision    recall  f1-score   support\n",
      "\n",
      "           0       0.97      0.98      0.97      1367\n",
      "           1       0.71      0.64      0.67       133\n",
      "\n",
      "    accuracy                           0.95      1500\n",
      "   macro avg       0.84      0.81      0.82      1500\n",
      "weighted avg       0.94      0.95      0.94      1500\n",
      "\n"
     ]
    }
   ],
   "source": [
    "print(classification_report(y_test,best_svc.predict(X_test_bow)))"
   ]
  },
  {
   "cell_type": "code",
   "execution_count": 178,
   "metadata": {},
   "outputs": [
    {
     "name": "stdout",
     "output_type": "stream",
     "text": [
      "training data:\n",
      "\n"
     ]
    },
    {
     "data": {
      "text/plain": [
       "<AxesSubplot:>"
      ]
     },
     "execution_count": 178,
     "metadata": {},
     "output_type": "execute_result"
    },
    {
     "data": {
      "image/png": "[encoded data removed]",
      "text/plain": [
       "<Figure size 432x288 with 2 Axes>"
      ]
     },
     "metadata": {
      "needs_background": "light"
     },
     "output_type": "display_data"
    }
   ],
   "source": [
    "from sklearn.metrics import confusion_matrix, ConfusionMatrixDisplay\n",
    "import seaborn as sns\n",
    "\n",
    "cm=confusion_matrix(y_train, best_svc.predict(X_train_bow))\n",
    "#cmd = ConfusionMatrixDisplay(cm, display_labels=['toxic(0)','non-toxic(1)'])\n",
    "print(\"training data:\\n\")\n",
    "#cmd.plot()\n",
    "\n",
    "group_names = ['True Neg','False Pos','False Neg','True Pos']\n",
    "group_counts = [\"{0:0.0f}\".format(value) for value in\n",
    "                cm.flatten()]\n",
    "group_percentages = [\"{0:.2%}\".format(value) for value in\n",
    "                     cm.flatten()/np.sum(cm)]\n",
    "labels = [f\"{v1}\\n{v2}\\n{v3}\" for v1, v2, v3 in\n",
    "          zip(group_names,group_counts,group_percentages)]\n",
    "labels = np.asarray(labels).reshape(2,2)\n",
    "sns.heatmap(cm, annot=labels, fmt='', cmap='Blues')"
   ]
  },
  {
   "cell_type": "code",
   "execution_count": 179,
   "metadata": {},
   "outputs": [
    {
     "name": "stdout",
     "output_type": "stream",
     "text": [
      "testing data:\n",
      "\n"
     ]
    },
    {
     "data": {
      "text/plain": [
       "<AxesSubplot:>"
      ]
     },
     "execution_count": 179,
     "metadata": {},
     "output_type": "execute_result"
    },
    {
     "data": {
      "image/png": "[encoded data removed]",
      "text/plain": [
       "<Figure size 432x288 with 2 Axes>"
      ]
     },
     "metadata": {
      "needs_background": "light"
     },
     "output_type": "display_data"
    }
   ],
   "source": [
    "cm1=confusion_matrix(y_test,best_svc.predict(X_test_bow))\n",
    "#cmd1 = ConfusionMatrixDisplay(cm1, display_labels=['toxic(0)','non-toxic(1)'])\n",
    "print(\"testing data:\\n\")\n",
    "#cmd1.plot()\n",
    "group_names = ['True Neg','False Pos','False Neg','True Pos']\n",
    "group_counts = [\"{0:0.0f}\".format(value) for value in\n",
    "                cm1.flatten()]\n",
    "group_percentages = [\"{0:.2%}\".format(value) for value in\n",
    "                     cm1.flatten()/np.sum(cm1)]\n",
    "labels = [f\"{v1}\\n{v2}\\n{v3}\" for v1, v2, v3 in\n",
    "          zip(group_names,group_counts,group_percentages)]\n",
    "labels = np.asarray(labels).reshape(2,2)\n",
    "sns.heatmap(cm1, annot=labels, fmt='', cmap='Blues')"
   ]
  },
  {
   "cell_type": "markdown",
   "metadata": {},
   "source": [
    "# 15> What are the most prominent terms in the toxic comments?\n",
    "- Separate the comments from the test set that the model identified as toxic\n",
    "- Make one large list of the terms\n",
    "- Get the top 15 terms"
   ]
  },
  {
   "cell_type": "code",
   "execution_count": 192,
   "metadata": {},
   "outputs": [
    {
     "data": {
      "text/html": [
       "<div>\n",
       "<style scoped>\n",
       "    .dataframe tbody tr th:only-of-type {\n",
       "        vertical-align: middle;\n",
       "    }\n",
       "\n",
       "    .dataframe tbody tr th {\n",
       "        vertical-align: top;\n",
       "    }\n",
       "\n",
       "    .dataframe thead th {\n",
       "        text-align: right;\n",
       "    }\n",
       "</style>\n",
       "<table border=\"1\" class=\"dataframe\">\n",
       "  <thead>\n",
       "    <tr style=\"text-align: right;\">\n",
       "      <th></th>\n",
       "      <th>coefficient</th>\n",
       "      <th>word</th>\n",
       "    </tr>\n",
       "  </thead>\n",
       "  <tbody>\n",
       "    <tr>\n",
       "      <th>0</th>\n",
       "      <td>-1.058102</td>\n",
       "      <td>article</td>\n",
       "    </tr>\n",
       "    <tr>\n",
       "      <th>1</th>\n",
       "      <td>-0.867129</td>\n",
       "      <td>also</td>\n",
       "    </tr>\n",
       "    <tr>\n",
       "      <th>2</th>\n",
       "      <td>-0.752324</td>\n",
       "      <td>one</td>\n",
       "    </tr>\n",
       "    <tr>\n",
       "      <th>3</th>\n",
       "      <td>-0.727663</td>\n",
       "      <td>please</td>\n",
       "    </tr>\n",
       "    <tr>\n",
       "      <th>4</th>\n",
       "      <td>-0.715148</td>\n",
       "      <td>utc</td>\n",
       "    </tr>\n",
       "    <tr>\n",
       "      <th>5</th>\n",
       "      <td>-0.622169</td>\n",
       "      <td>would</td>\n",
       "    </tr>\n",
       "    <tr>\n",
       "      <th>6</th>\n",
       "      <td>-0.619685</td>\n",
       "      <td>many</td>\n",
       "    </tr>\n",
       "    <tr>\n",
       "      <th>7</th>\n",
       "      <td>-0.582846</td>\n",
       "      <td>hi</td>\n",
       "    </tr>\n",
       "    <tr>\n",
       "      <th>8</th>\n",
       "      <td>-0.564963</td>\n",
       "      <td>thank</td>\n",
       "    </tr>\n",
       "    <tr>\n",
       "      <th>9</th>\n",
       "      <td>-0.555226</td>\n",
       "      <td>talk</td>\n",
       "    </tr>\n",
       "    <tr>\n",
       "      <th>10</th>\n",
       "      <td>-0.554845</td>\n",
       "      <td>link</td>\n",
       "    </tr>\n",
       "    <tr>\n",
       "      <th>11</th>\n",
       "      <td>-0.547372</td>\n",
       "      <td>say</td>\n",
       "    </tr>\n",
       "    <tr>\n",
       "      <th>12</th>\n",
       "      <td>-0.524873</td>\n",
       "      <td>sources</td>\n",
       "    </tr>\n",
       "    <tr>\n",
       "      <th>13</th>\n",
       "      <td>-0.517965</td>\n",
       "      <td>section</td>\n",
       "    </tr>\n",
       "    <tr>\n",
       "      <th>14</th>\n",
       "      <td>-0.512189</td>\n",
       "      <td>user</td>\n",
       "    </tr>\n",
       "  </tbody>\n",
       "</table>\n",
       "</div>"
      ],
      "text/plain": [
       "    coefficient     word\n",
       "0     -1.058102  article\n",
       "1     -0.867129     also\n",
       "2     -0.752324      one\n",
       "3     -0.727663   please\n",
       "4     -0.715148      utc\n",
       "5     -0.622169    would\n",
       "6     -0.619685     many\n",
       "7     -0.582846       hi\n",
       "8     -0.564963    thank\n",
       "9     -0.555226     talk\n",
       "10    -0.554845     link\n",
       "11    -0.547372      say\n",
       "12    -0.524873  sources\n",
       "13    -0.517965  section\n",
       "14    -0.512189     user"
      ]
     },
     "execution_count": 192,
     "metadata": {},
     "output_type": "execute_result"
    }
   ],
   "source": [
    "\n",
    "X=data_clean\n",
    "y=data.toxic.values\n",
    "from sklearn.model_selection import train_test_split\n",
    "X_train, X_test, y_train, y_test = train_test_split(X, y, test_size = 0.30, random_state=621)\n",
    "from sklearn.feature_extraction.text import TfidfVectorizer # creating Document Term Matrix\n",
    "vectorizer = TfidfVectorizer(max_features = 4000)\n",
    "X_train_bow = vectorizer.fit_transform(X_train)\n",
    "X_test_bow = vectorizer.transform(X_test)\n",
    "\n",
    "x=X_train_bow.toarray()\n",
    "best_svc.fit(x,y_train)\n",
    "best_svc.score(x,y_train)\n",
    "\n",
    "feature_names = vectorizer.get_feature_names() \n",
    "coefs_with_fns = sorted(zip(best_svc.coef_[0], feature_names)) \n",
    "df=pd.DataFrame(coefs_with_fns)\n",
    "df.columns='coefficient','word'\n",
    "df.sort_values(by='coefficient',ascending=True)\n",
    "df.head(15)"
   ]
  },
  {
   "cell_type": "code",
   "execution_count": 193,
   "metadata": {},
   "outputs": [
    {
     "data": {
      "text/html": [
       "<div>\n",
       "<style scoped>\n",
       "    .dataframe tbody tr th:only-of-type {\n",
       "        vertical-align: middle;\n",
       "    }\n",
       "\n",
       "    .dataframe tbody tr th {\n",
       "        vertical-align: top;\n",
       "    }\n",
       "\n",
       "    .dataframe thead th {\n",
       "        text-align: right;\n",
       "    }\n",
       "</style>\n",
       "<table border=\"1\" class=\"dataframe\">\n",
       "  <thead>\n",
       "    <tr style=\"text-align: right;\">\n",
       "      <th></th>\n",
       "      <th>coefficient</th>\n",
       "      <th>word</th>\n",
       "    </tr>\n",
       "  </thead>\n",
       "  <tbody>\n",
       "    <tr>\n",
       "      <th>0</th>\n",
       "      <td>-1.058102</td>\n",
       "      <td>article</td>\n",
       "    </tr>\n",
       "    <tr>\n",
       "      <th>1</th>\n",
       "      <td>-0.867129</td>\n",
       "      <td>also</td>\n",
       "    </tr>\n",
       "    <tr>\n",
       "      <th>2</th>\n",
       "      <td>-0.752324</td>\n",
       "      <td>one</td>\n",
       "    </tr>\n",
       "    <tr>\n",
       "      <th>3</th>\n",
       "      <td>-0.727663</td>\n",
       "      <td>please</td>\n",
       "    </tr>\n",
       "    <tr>\n",
       "      <th>4</th>\n",
       "      <td>-0.715148</td>\n",
       "      <td>utc</td>\n",
       "    </tr>\n",
       "    <tr>\n",
       "      <th>5</th>\n",
       "      <td>-0.622169</td>\n",
       "      <td>would</td>\n",
       "    </tr>\n",
       "    <tr>\n",
       "      <th>6</th>\n",
       "      <td>-0.619685</td>\n",
       "      <td>many</td>\n",
       "    </tr>\n",
       "    <tr>\n",
       "      <th>7</th>\n",
       "      <td>-0.582846</td>\n",
       "      <td>hi</td>\n",
       "    </tr>\n",
       "    <tr>\n",
       "      <th>8</th>\n",
       "      <td>-0.564963</td>\n",
       "      <td>thank</td>\n",
       "    </tr>\n",
       "    <tr>\n",
       "      <th>9</th>\n",
       "      <td>-0.555226</td>\n",
       "      <td>talk</td>\n",
       "    </tr>\n",
       "    <tr>\n",
       "      <th>10</th>\n",
       "      <td>-0.554845</td>\n",
       "      <td>link</td>\n",
       "    </tr>\n",
       "    <tr>\n",
       "      <th>11</th>\n",
       "      <td>-0.547372</td>\n",
       "      <td>say</td>\n",
       "    </tr>\n",
       "    <tr>\n",
       "      <th>12</th>\n",
       "      <td>-0.524873</td>\n",
       "      <td>sources</td>\n",
       "    </tr>\n",
       "    <tr>\n",
       "      <th>13</th>\n",
       "      <td>-0.517965</td>\n",
       "      <td>section</td>\n",
       "    </tr>\n",
       "    <tr>\n",
       "      <th>14</th>\n",
       "      <td>-0.512189</td>\n",
       "      <td>user</td>\n",
       "    </tr>\n",
       "  </tbody>\n",
       "</table>\n",
       "</div>"
      ],
      "text/plain": [
       "    coefficient     word\n",
       "0     -1.058102  article\n",
       "1     -0.867129     also\n",
       "2     -0.752324      one\n",
       "3     -0.727663   please\n",
       "4     -0.715148      utc\n",
       "5     -0.622169    would\n",
       "6     -0.619685     many\n",
       "7     -0.582846       hi\n",
       "8     -0.564963    thank\n",
       "9     -0.555226     talk\n",
       "10    -0.554845     link\n",
       "11    -0.547372      say\n",
       "12    -0.524873  sources\n",
       "13    -0.517965  section\n",
       "14    -0.512189     user"
      ]
     },
     "execution_count": 193,
     "metadata": {},
     "output_type": "execute_result"
    }
   ],
   "source": [
    "x=X_test_bow .toarray()\n",
    "best_svc.score(x,y_test)\n",
    "\n",
    "feature_names = vectorizer.get_feature_names() \n",
    "coefs_with_fns = sorted(zip(best_svc.coef_[0], feature_names)) \n",
    "df=pd.DataFrame(coefs_with_fns)\n",
    "df.columns='coefficient','word'\n",
    "df.sort_values(by='coefficient',ascending=False)\n",
    "df.head(15)"
   ]
  },
  {
   "cell_type": "code",
   "execution_count": 183,
   "metadata": {},
   "outputs": [
    {
     "data": {
      "text/html": [
       "<div>\n",
       "<style scoped>\n",
       "    .dataframe tbody tr th:only-of-type {\n",
       "        vertical-align: middle;\n",
       "    }\n",
       "\n",
       "    .dataframe tbody tr th {\n",
       "        vertical-align: top;\n",
       "    }\n",
       "\n",
       "    .dataframe thead th {\n",
       "        text-align: right;\n",
       "    }\n",
       "</style>\n",
       "<table border=\"1\" class=\"dataframe\">\n",
       "  <thead>\n",
       "    <tr style=\"text-align: right;\">\n",
       "      <th></th>\n",
       "      <th>word</th>\n",
       "      <th>toxic</th>\n",
       "      <th>predictions</th>\n",
       "    </tr>\n",
       "  </thead>\n",
       "  <tbody>\n",
       "    <tr>\n",
       "      <th>0</th>\n",
       "      <td>agree asked add told likely deleted please tal...</td>\n",
       "      <td>0</td>\n",
       "      <td>0</td>\n",
       "    </tr>\n",
       "    <tr>\n",
       "      <th>1</th>\n",
       "      <td>figure else send message goes</td>\n",
       "      <td>0</td>\n",
       "      <td>0</td>\n",
       "    </tr>\n",
       "    <tr>\n",
       "      <th>2</th>\n",
       "      <td>hrwiki discussion concerning ip link</td>\n",
       "      <td>0</td>\n",
       "      <td>0</td>\n",
       "    </tr>\n",
       "    <tr>\n",
       "      <th>3</th>\n",
       "      <td>fundamental liberties derogated think freedom ...</td>\n",
       "      <td>0</td>\n",
       "      <td>0</td>\n",
       "    </tr>\n",
       "    <tr>\n",
       "      <th>4</th>\n",
       "      <td>sammy major lol communication studies</td>\n",
       "      <td>0</td>\n",
       "      <td>0</td>\n",
       "    </tr>\n",
       "    <tr>\n",
       "      <th>...</th>\n",
       "      <td>...</td>\n",
       "      <td>...</td>\n",
       "      <td>...</td>\n",
       "    </tr>\n",
       "    <tr>\n",
       "      <th>1495</th>\n",
       "      <td>speedy deletion sarah cudak tag placed sarah c...</td>\n",
       "      <td>0</td>\n",
       "      <td>0</td>\n",
       "    </tr>\n",
       "    <tr>\n",
       "      <th>1496</th>\n",
       "      <td>people care much immiagtion</td>\n",
       "      <td>0</td>\n",
       "      <td>1</td>\n",
       "    </tr>\n",
       "    <tr>\n",
       "      <th>1497</th>\n",
       "      <td>thus injured body fainting every step cries oh...</td>\n",
       "      <td>0</td>\n",
       "      <td>0</td>\n",
       "    </tr>\n",
       "    <tr>\n",
       "      <th>1498</th>\n",
       "      <td>dvyost dvyost one small nit pick paragraph min...</td>\n",
       "      <td>0</td>\n",
       "      <td>0</td>\n",
       "    </tr>\n",
       "    <tr>\n",
       "      <th>1499</th>\n",
       "      <td>welcome hello welcome thank contributions hope...</td>\n",
       "      <td>0</td>\n",
       "      <td>0</td>\n",
       "    </tr>\n",
       "  </tbody>\n",
       "</table>\n",
       "<p>1500 rows × 3 columns</p>\n",
       "</div>"
      ],
      "text/plain": [
       "                                                   word  toxic  predictions\n",
       "0     agree asked add told likely deleted please tal...      0            0\n",
       "1                         figure else send message goes      0            0\n",
       "2                  hrwiki discussion concerning ip link      0            0\n",
       "3     fundamental liberties derogated think freedom ...      0            0\n",
       "4                 sammy major lol communication studies      0            0\n",
       "...                                                 ...    ...          ...\n",
       "1495  speedy deletion sarah cudak tag placed sarah c...      0            0\n",
       "1496                        people care much immiagtion      0            1\n",
       "1497  thus injured body fainting every step cries oh...      0            0\n",
       "1498  dvyost dvyost one small nit pick paragraph min...      0            0\n",
       "1499  welcome hello welcome thank contributions hope...      0            0\n",
       "\n",
       "[1500 rows x 3 columns]"
      ]
     },
     "execution_count": 183,
     "metadata": {},
     "output_type": "execute_result"
    }
   ],
   "source": [
    "res_df1 = pd.DataFrame({'word':X_test, 'toxic':y_test,'predictions':svc_pred})\n",
    "res_df1"
   ]
  },
  {
   "cell_type": "code",
   "execution_count": 195,
   "metadata": {},
   "outputs": [],
   "source": [
    "s=res_df1[res_df1.toxic==1]"
   ]
  },
  {
   "cell_type": "code",
   "execution_count": 185,
   "metadata": {},
   "outputs": [
    {
     "data": {
      "text/html": [
       "<div>\n",
       "<style scoped>\n",
       "    .dataframe tbody tr th:only-of-type {\n",
       "        vertical-align: middle;\n",
       "    }\n",
       "\n",
       "    .dataframe tbody tr th {\n",
       "        vertical-align: top;\n",
       "    }\n",
       "\n",
       "    .dataframe thead th {\n",
       "        text-align: right;\n",
       "    }\n",
       "</style>\n",
       "<table border=\"1\" class=\"dataframe\">\n",
       "  <thead>\n",
       "    <tr style=\"text-align: right;\">\n",
       "      <th></th>\n",
       "      <th>word</th>\n",
       "      <th>toxic</th>\n",
       "      <th>predictions</th>\n",
       "    </tr>\n",
       "  </thead>\n",
       "  <tbody>\n",
       "    <tr>\n",
       "      <th>9</th>\n",
       "      <td>think bully course bullies hate called anonymo...</td>\n",
       "      <td>1</td>\n",
       "      <td>0</td>\n",
       "    </tr>\n",
       "    <tr>\n",
       "      <th>13</th>\n",
       "      <td>back yeah know cahoots linux nutcase like pers...</td>\n",
       "      <td>1</td>\n",
       "      <td>1</td>\n",
       "    </tr>\n",
       "    <tr>\n",
       "      <th>24</th>\n",
       "      <td>seriously soon asi unbanened wll wreacfk every...</td>\n",
       "      <td>1</td>\n",
       "      <td>1</td>\n",
       "    </tr>\n",
       "    <tr>\n",
       "      <th>51</th>\n",
       "      <td>redneck shouldnt bad mouth nascar people think...</td>\n",
       "      <td>1</td>\n",
       "      <td>1</td>\n",
       "    </tr>\n",
       "    <tr>\n",
       "      <th>64</th>\n",
       "      <td>christian becaue jesus assyrian women tits ass...</td>\n",
       "      <td>1</td>\n",
       "      <td>0</td>\n",
       "    </tr>\n",
       "    <tr>\n",
       "      <th>65</th>\n",
       "      <td>fucking album cover fuck supposed know owns fu...</td>\n",
       "      <td>1</td>\n",
       "      <td>1</td>\n",
       "    </tr>\n",
       "    <tr>\n",
       "      <th>106</th>\n",
       "      <td>little douchebag gon na wish start</td>\n",
       "      <td>1</td>\n",
       "      <td>0</td>\n",
       "    </tr>\n",
       "    <tr>\n",
       "      <th>112</th>\n",
       "      <td>assume horrible nigger yuck</td>\n",
       "      <td>1</td>\n",
       "      <td>1</td>\n",
       "    </tr>\n",
       "    <tr>\n",
       "      <th>113</th>\n",
       "      <td>nigger nigger nigger nigger nigger nigger nigg...</td>\n",
       "      <td>1</td>\n",
       "      <td>1</td>\n",
       "    </tr>\n",
       "    <tr>\n",
       "      <th>119</th>\n",
       "      <td>neither mum sex</td>\n",
       "      <td>1</td>\n",
       "      <td>0</td>\n",
       "    </tr>\n",
       "    <tr>\n",
       "      <th>149</th>\n",
       "      <td>eat shit fucko suck asshole die horribly hope ...</td>\n",
       "      <td>1</td>\n",
       "      <td>1</td>\n",
       "    </tr>\n",
       "    <tr>\n",
       "      <th>152</th>\n",
       "      <td>good hope die inshallah</td>\n",
       "      <td>1</td>\n",
       "      <td>0</td>\n",
       "    </tr>\n",
       "    <tr>\n",
       "      <th>155</th>\n",
       "      <td>block block call dumbhead</td>\n",
       "      <td>1</td>\n",
       "      <td>1</td>\n",
       "    </tr>\n",
       "    <tr>\n",
       "      <th>188</th>\n",
       "      <td>get life nerd</td>\n",
       "      <td>1</td>\n",
       "      <td>1</td>\n",
       "    </tr>\n",
       "    <tr>\n",
       "      <th>204</th>\n",
       "      <td>barnstar working donkey barnstar working aroun...</td>\n",
       "      <td>1</td>\n",
       "      <td>0</td>\n",
       "    </tr>\n",
       "  </tbody>\n",
       "</table>\n",
       "</div>"
      ],
      "text/plain": [
       "                                                  word  toxic  predictions\n",
       "9    think bully course bullies hate called anonymo...      1            0\n",
       "13   back yeah know cahoots linux nutcase like pers...      1            1\n",
       "24   seriously soon asi unbanened wll wreacfk every...      1            1\n",
       "51   redneck shouldnt bad mouth nascar people think...      1            1\n",
       "64   christian becaue jesus assyrian women tits ass...      1            0\n",
       "65   fucking album cover fuck supposed know owns fu...      1            1\n",
       "106                 little douchebag gon na wish start      1            0\n",
       "112                        assume horrible nigger yuck      1            1\n",
       "113  nigger nigger nigger nigger nigger nigger nigg...      1            1\n",
       "119                                    neither mum sex      1            0\n",
       "149  eat shit fucko suck asshole die horribly hope ...      1            1\n",
       "152                            good hope die inshallah      1            0\n",
       "155                          block block call dumbhead      1            1\n",
       "188                                      get life nerd      1            1\n",
       "204  barnstar working donkey barnstar working aroun...      1            0"
      ]
     },
     "execution_count": 185,
     "metadata": {},
     "output_type": "execute_result"
    }
   ],
   "source": [
    "s.head(15)"
   ]
  }
 ],
 "metadata": {
  "kernelspec": {
   "display_name": "Python 3",
   "language": "python",
   "name": "python3"
  },
  "language_info": {
   "codemirror_mode": {
    "name": "ipython",
    "version": 3
   },
   "file_extension": ".py",
   "mimetype": "text/x-python",
   "name": "python",
   "nbconvert_exporter": "python",
   "pygments_lexer": "ipython3",
   "version": "3.7.9"
  }
 },
 "nbformat": 4,
 "nbformat_minor": 4
}
