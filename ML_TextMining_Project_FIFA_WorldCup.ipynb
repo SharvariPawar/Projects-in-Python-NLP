{
 "cells": [
  {
   "cell_type": "code",
   "execution_count": 37,
   "metadata": {},
   "outputs": [],
   "source": [
    "import os\n",
    "pathtogs='C:\\\\Program Files\\\\gs\\\\gs9.24\\\\bin'\n",
    "os.environ['PATH']+=os.pathsep+pathtogs\n"
   ]
  },
  {
   "cell_type": "markdown",
   "metadata": {},
   "source": [
    "FIFA WORLD CUP\n",
    "DESCRIPTION\n",
    "\n",
    "The 2018 FIFA World Cup was the 21st FIFA World Cup which is an international football tournament contested by the men&#39;s national teams of the member associations of FIFA conducted once every four years. It took place in Russia from 14 June 2018 to 15 July 2018 and was the first World Cup to be held in Eastern Europe.\n",
    "\n",
    "Objective: Practice text processing using FIFAWorldCup2018.txt file.\n",
    "\n",
    "Actions to Perform:\n",
    "1. Write separate Python functions that accept a string, a number ‘n,’ and return the following:\n",
    "\n",
    "N most frequent nouns (Take function name as “GetNMostFrequentNouns”)\n",
    "N most frequent verbs (Take function name as “GetNMostFrequentVerbs”)\n",
    "N most frequent delimiters (Take function name as “GetNMostFrequentDelimiters”)\n",
    "N most frequent prepositions (Take function name as “GetNMostFrequentPrepositions”)\n",
    "Run all the functions on the file “FIFAWorldCup2018.txt” and print the results.\n",
    "\n",
    "2. Write a Python function that accepts a string and prints the first sentence in the string along with its syntax tree.\n",
    "Take function name as “PrintSyntaxTree\"\n",
    "Run this function on the file “FIFAWorldCup2018.txt.\n",
    "\n",
    "3. Write a Python function that accepts and returns a string using regular expressions:\n",
    "Text from the string after removing all the punctuation (Take function name as “TextAfterRemovingPunctuations”)\n",
    "Text from the string after removing all the numbers/digits (Take function name as “TextAfterRemovingDigits”)\n",
    "All the words that begin with a capital letter (Take function name as “AllCapitalizedWordsFromText”)\n",
    "All the emails from the string (Take function name as “AllEmailsFromText”)\n",
    "Run all the above functions on the file “FIFAWorldCup2018.txt” and print the results.\n",
    "\n",
    "4. Write Python functions that accept a string as an input and return the following chunks:\n",
    "Phrases that have proper nouns followed by verbs (Take function name as “ChunkingVer1”)\n",
    "\n",
    "Verb phrases that have verbs followed by adjectives (Take function name as“ChunkingVer2”)\n",
    "Noun phrases that have determiners followed by nouns (Take function name as“ChunkingVer3”)\n",
    "Verb phrases that have verbs followed by adverbs (Take function name as “ChunkingVer4”)\n",
    "Phrases that have delimiter, adjectives, and nouns in the respective order. (Take function name as “ChunkingVer5”)\n",
    "Noun phrases that have nouns and adjectives, terminated with nouns. (Take function name as “ChunkingVer5”)\n",
    "Run all the functions for the first sentence in the file “FIFAWorldCup2018.txt” and print the results.\n",
    "\n",
    "5. Make a content-free grammar having the following rules:\n",
    "Noun phrases are followed by verb phrases\n",
    "Verb phrase can have:\n",
    "\n",
    "Verb and noun phrases\n",
    "Verb, noun phrases, and preposition phrases\n",
    "Noun phrases can have:\n",
    "\n",
    "Delimiters followed by nouns\n",
    "Preposition phrase has a preposition followed by a noun phrase\n",
    "The delimiters, verbs, prepositions, and nouns for the grammar should be the 2 most\n",
    "frequent words of each type from “FIFAWorldCup2018.txt”. Generate the CFG for\n",
    "“FIFAWorldCup2018.txt” file and save them in a file named “CFG.txt”"
   ]
  },
  {
   "cell_type": "markdown",
   "metadata": {},
   "source": [
    "### Objective 1"
   ]
  },
  {
   "cell_type": "raw",
   "metadata": {},
   "source": [
    "Write separate python functions which accept a string and a number ‘n’ and return the following:\n",
    "\n",
    "a.\tN most frequent Nouns  \n",
    "Take function name as “GetNMostFrequentNouns”\n",
    "\n",
    "b.\tN most frequent Verbs\n",
    "Take function name as “GetNMostFrequentVerbs”\n",
    "\n",
    "c.\tN most frequent Delimiters\n",
    "Take function name as “GetNMostFrequentDelimiters”\n",
    "\n",
    "d.\tN most frequent Prepositions\n",
    "Take function name as “GetNMostFrequentPrepositions”\n",
    "\n",
    "** These functions will help you to in last question of this case study.\n",
    "Run all the function on the file “FIFAWorldCup2018.docx” and print the results.\n"
   ]
  },
  {
   "cell_type": "code",
   "execution_count": 28,
   "metadata": {},
   "outputs": [],
   "source": [
    "import nltk\n",
    "from collections import Counter\n",
    "\n",
    "def GetPOSTags(string):\n",
    "    tokens=nltk.word_tokenize(string)\n",
    "    pos_tags=nltk.pos_tag(tokens)\n",
    "    return pos_tags\n",
    "\n",
    "def GetNMostFrequentNouns(string,n):\n",
    "    POSTags=GetPOSTags(string)\n",
    "    allForms=['NN','NNP','NNS','NNPS']\n",
    "    count=0\n",
    "    words=[]\n",
    "    for word,tag in POSTags:\n",
    "        if tag in allForms:\n",
    "            words.append(word.lower())\n",
    "    c=Counter(words)\n",
    "    return list(dict(c.most_common(n)).keys())\n",
    "\n",
    "def GetNMostFrequentVerbs(string,n):\n",
    "    POSTags=GetPOSTags(string)\n",
    "    allForms=['VB','VBP','VBZ','VBG','VBD','VBN']\n",
    "    count=0\n",
    "    words=[]\n",
    "    for word,tag in POSTags:\n",
    "        if tag in allForms:\n",
    "            words.append(word.lower())\n",
    "    c=Counter(words)\n",
    "    return list(dict(c.most_common(n)).keys())\n",
    "\n",
    "def GetNMostFrequentDelimiters(string,n):\n",
    "    POSTags=GetPOSTags(string)\n",
    "    allForms=['DT']\n",
    "    count=0\n",
    "    words=[]\n",
    "    for word,tag in POSTags:\n",
    "        if tag in allForms:\n",
    "            words.append(word.lower())\n",
    "    c=Counter(words)\n",
    "    return list(dict(c.most_common(n)).keys())\n",
    "\n",
    "\n",
    "def GetNMostFrequentPrepositions(string,n):\n",
    "    POSTags=GetPOSTags(string)\n",
    "    allForms=['IN']\n",
    "    count=0\n",
    "    words=[]\n",
    "    for word,tag in POSTags:\n",
    "        if tag in allForms:\n",
    "            words.append(word.lower())\n",
    "    c=Counter(words)\n",
    "    return list(dict(c.most_common(n)).keys())\n",
    "\n"
   ]
  },
  {
   "cell_type": "code",
   "execution_count": 29,
   "metadata": {},
   "outputs": [
    {
     "name": "stdout",
     "output_type": "stream",
     "text": [
      "5 Most Frequent Nouns: ['world', 'cup', 'fifa', 'russia', 'tournament']\n",
      "5 Most Frequent Verbs: ['was', 'had', 'were', 'is', 'won']\n",
      "4 Most Frequent Nouns: ['the', 'a', 'an', 'both']\n",
      "5 Most Frequent Perpositions: ['of', 'in', 'from', 'for', 'that']\n"
     ]
    }
   ],
   "source": [
    "#Run all the function on the file “FIFAWorldCup2018.docx” and print the results.\n",
    "\n",
    "#reading the file\n",
    "file=open(\"C:/Users/sharv/Documents/Post Graduate Program In Data Science-PurdueSimpliLearn/Course3-Machine Learning/Demo Datasets/Lesson 11/FIFAWorldCup2018.txt\",'r')\n",
    "content=file.read()\n",
    "file.close()\n",
    "\n",
    "#5 most frequent noun\n",
    "print (\"5 Most Frequent Nouns:\",GetNMostFrequentNouns(content,5))\n",
    "\n",
    "\n",
    "#5 most frequent verbs\n",
    "print (\"5 Most Frequent Verbs:\",GetNMostFrequentVerbs(content,5))\n",
    "\n",
    "\n",
    "\n",
    "#4 most frequent delimiters\n",
    "print (\"4 Most Frequent Nouns:\",GetNMostFrequentDelimiters(content,4))\n",
    "\n",
    "\n",
    "#5 most frequent prepositions\n",
    "print (\"5 Most Frequent Perpositions:\",GetNMostFrequentPrepositions(content,5))\n",
    "\n"
   ]
  },
  {
   "cell_type": "markdown",
   "metadata": {},
   "source": [
    "### Objective 2"
   ]
  },
  {
   "cell_type": "raw",
   "metadata": {},
   "source": [
    "Write a python function which accepts a string and prints the first  sentence in the string along with its syntax tree.\n",
    "take function name as “PrintSyntaxTrees”.\n",
    "Run all the functions on the file “FIFAWorldCup2018.txt” "
   ]
  },
  {
   "cell_type": "code",
   "execution_count": 30,
   "metadata": {},
   "outputs": [],
   "source": [
    "import nltk\n",
    "def PrintSyntaxTree(sent):\n",
    "    first_sent=sent.split(\".\")[0]+\".\"\n",
    "    sent_tokens=nltk.pos_tag(nltk.word_tokenize(first_sent))\n",
    "    grammar=r\"NP:{<DT>?<JJ>*<NN>}\"\n",
    "    chunk_parser=nltk.RegexpParser(grammar)\n",
    "    chunk_result=chunk_parser.parse(sent_tokens)\n",
    "    print (first_sent)\n",
    "    return chunk_result"
   ]
  },
  {
   "cell_type": "code",
   "execution_count": 31,
   "metadata": {},
   "outputs": [
    {
     "name": "stdout",
     "output_type": "stream",
     "text": [
      "2018 FIFA World CUP is an international tournament where all teams compete religously and they showcase beautiful talent.\n",
      "(S\n",
      "  2018/CD\n",
      "  FIFA/NNP\n",
      "  World/NNP\n",
      "  CUP/NNP\n",
      "  is/VBZ\n",
      "  (NP an/DT international/JJ tournament/NN)\n",
      "  where/WRB\n",
      "  all/DT\n",
      "  teams/NNS\n",
      "  compete/VBP\n",
      "  religously/RB\n",
      "  and/CC\n",
      "  they/PRP\n",
      "  showcase/VBP\n",
      "  (NP beautiful/JJ talent/NN)\n",
      "  ./.)\n"
     ]
    }
   ],
   "source": [
    "#Run this function on the file “FIFAWorldCup2018.txt” \n",
    "\n",
    "#Reading the file\n",
    "file=open(\"C:/Users/sharv/Documents/Post Graduate Program In Data Science-PurdueSimpliLearn/Course3-Machine Learning/Demo Datasets/Lesson 11/FIFAWorldCup2018.txt\",'r')\n",
    "content=file.read()\n",
    "file.close()\n",
    "\n",
    "#Printing the tree \n",
    "print(PrintSyntaxTree(content))"
   ]
  },
  {
   "cell_type": "markdown",
   "metadata": {},
   "source": [
    "### Objective 3"
   ]
  },
  {
   "cell_type": "raw",
   "metadata": {},
   "source": [
    "Write python functions which accept a string and return the following using regular expressions: \n",
    "\n",
    "a.\tText from the string after removing all the punctuations \n",
    "take function name as “TextAfterRemovingPunctuations”\n",
    "\n",
    "b.\tText from the string after removing all the numbers/digits \n",
    "take function name as “TextAfterRemovingDigits”\n",
    "\n",
    "c.\tAll the words which begin with the capital letter \n",
    "take function name as “AllCapitalizedWordsFromText”\n",
    "\n",
    "d.\tAll the emails from the string\n",
    "take function name as “AllEmailsFromText.”\n",
    "\n",
    "Run all the above functions on the file “FIFAWorldCup2018.txt” and print the results.\n"
   ]
  },
  {
   "cell_type": "code",
   "execution_count": 32,
   "metadata": {},
   "outputs": [],
   "source": [
    "import re\n",
    "def TextAfterRemovingPunctuations(string):\n",
    "    s = re.sub(r'[^\\w\\s]','',string)\n",
    "    return s\n",
    "\n",
    "def TextAfterRemovingDigits(string):\n",
    "    s=re.sub(r\"(^|\\W)\\d+\", \"\", string)\n",
    "    return s\n",
    "\n",
    "def AllCapitalizedWordsFromText(string):\n",
    "    s = re.findall(r'(\\b[A-Z]([a-z])*\\b)',string)\n",
    "    Capitalized=[]\n",
    "    for word,lastcharacter in s:\n",
    "        Capitalized.append(word)\n",
    "    return Capitalized\n",
    "    \n",
    "def AllEmailsFromText(string):\n",
    "    match = re.findall(r'[\\w\\.-]+@[\\w\\.-]+', string)\n",
    "    return match"
   ]
  },
  {
   "cell_type": "code",
   "execution_count": 33,
   "metadata": {},
   "outputs": [
    {
     "name": "stdout",
     "output_type": "stream",
     "text": [
      "After Removing Punctuation\n",
      "2018 FIFA World CUP is an international tournament where all teams compete religously and they showcase beautiful talent It took place in Russia from 14 June to 15 July 2018 It was the first World Cup to be held in Eastern Europe and the 11th time that it had been held in Europe At an estimated cost of over 142 billion it was the most expensive World Cup It was also the first World Cup to use the video assistant referee  system \n",
      "The finals involved 32 teams of which 31 came through qualifying competitions while the host nation qualified automatically Of the 32 teams 20 had also appeared in the previous tournament in 2014 while both Iceland and Panama made their first appearances at a FIFA World Cup A total of 64 matches were played in 12 venues across 11 cities \n",
      "The final took place on 15 July at the Luzhniki Stadium in Moscow between France and Croatia France won the match 42 to claim their second World Cup title marking the fourth consecutive title won by a European team\n",
      "The bidding procedure to host the 2018 and 2022 FIFA World Cup tournaments began in January 2009 and national associations had until 2 February 2009 to register their interest Initially nine countries placed bids for the 2018 FIFA World Cup but Mexico later withdrew from proceedings  and Indonesias bid was rejected by FIFA in February 2010 after the Indonesian government failed to submit a letter to support the bid  During the bidding process the three remaining nonUEFA nations Australia Japan and the United States gradually withdrew from the 2018 bids and the UEFA nations were thus ruled out of the 2022 bid As such there were eventually four bids for the 2018 FIFA World Cup two of which were joint bids England Russia NetherlandsBelgium and PortugalSpain\n",
      "The 22member FIFA Executive Committee convened in Zürich on 2 December 2010 to vote to select the hosts of both tournaments Russia won the right to be the 2018 host in the second round of voting The PortugalSpain bid came second and that from BelgiumNetherlands third England which was bidding to host its second tournament was eliminated in the first round\n",
      "The English Football Association and others raised concerns of bribery on the part of the Russian team and corruption from FIFA members They claimed that four members of the executive committee had requested bribes to vote for England and Sepp Blatter had said that it had already been arranged before the vote that Russia would win  The 2014 Garcia Report an internal investigation led by Michael J Garcia was withheld from public release by HansJoachim Eckert FIFAs head of adjudication on ethical matters Eckert instead released a shorter revised summary and his and therefore FIFAs reluctance to publish the full report caused Garcia to resign in protest Because of the controversy the FA refused to accept Eckerts absolving of Russia from blame with Greg Dyke calling for a reexamination of the affair and David Bernstein calling for a boycott of the World Cup\n",
      "At an estimated cost of over 142 billion as of June 2018  it is the most expensive World Cup in history surpassing the cost of the 2014 FIFA World Cup in Brazil \n",
      "The Russian government had originally earmarked a budget of around 20 billion which was later slashed to 10 billion for the preparations of the World Cup of which half is spent on transport infrastructure As part of the program for preparation to the 2018 FIFA World Cup a federal subprogram Construction and Renovation of Transport Infrastructure was implemented with a total budget of 3525 billion rubles with 1703 billion coming from the federal budget 351 billion from regional budgets and 1471 billion from investors The biggest item of federal spending was the aviation infrastructure 1178 billion rubles86 Construction of new hotels was a crucial area of infrastructure development in the World Cup host cities Costs continued to balloon as preparations were underway\n",
      "There were 169 goals scored in 64 matches for an average of 264 goals per match\n",
      "Twelve own goals were scored during the tournament doubling the record of six set in 1998\n",
      "\n",
      "\n",
      "\n",
      "\n",
      "After Removing Digits\n",
      " FIFA World CUP is an international tournament where all teams compete religously and they showcase beautiful talent. It took place in Russia from June to July. It was the first World Cup to be held in Eastern Europe, and theth time that it had been held in Europe. At an estimated cost of over billion, it was the most expensive World Cup. It was also the first World Cup to use the video assistant referee  system. \n",
      "The finals involved teams, of which came through qualifying competitions, while the host nation qualified automatically. Of the teams, had also appeared in the previous tournament in, while both Iceland and Panama made their first appearances at a FIFA World Cup. A total of matches were played in venues across cities. \n",
      "The final took place on July at the Luzhniki Stadium in Moscow, between France and Croatia. France won the match to claim their second World Cup title, marking the fourth consecutive title won by a European team.\n",
      "The bidding procedure to host the and FIFA World Cup tournaments began in January, and national associations had until February to register their interest. Initially, nine countries placed bids for the FIFA World Cup, but Mexico later withdrew from proceedings,  and Indonesia's bid was rejected by FIFA in February after the Indonesian government failed to submit a letter to support the bid.  During the bidding process, the three remaining non-UEFA nations (Australia, Japan, and the United States) gradually withdrew from the bids, and the UEFA nations were thus ruled out of the bid. As such, there were eventually four bids for the FIFA World Cup, two of which were joint bids: England, Russia, Netherlands/Belgium, and Portugal/Spain.\n",
      "The-member FIFA Executive Committee convened in Zürich on December to vote to select the hosts of both tournaments. Russia won the right to be the host in the second round of voting. The Portugal/Spain bid came second, and that from Belgium/Netherlands third. England, which was bidding to host its second tournament, was eliminated in the first round\n",
      "The English Football Association and others raised concerns of bribery on the part of the Russian team and corruption from FIFA members. They claimed that four members of the executive committee had requested bribes to vote for England, and Sepp Blatter had said that it had already been arranged before the vote that Russia would win.  The Garcia Report, an internal investigation led by Michael J. Garcia, was withheld from public release by Hans-Joachim Eckert, FIFA's head of adjudication on ethical matters. Eckert instead released a shorter revised summary, and his (and therefore FIFA's) reluctance to publish the full report caused Garcia to resign in protest. Because of the controversy, the FA refused to accept Eckert's absolving of Russia from blame, with Greg Dyke calling for a re-examination of the affair and David Bernstein calling for a boycott of the World Cup.\n",
      "At an estimated cost of over  billion as of June,  it is the most expensive World Cup in history, surpassing the cost of the FIFA World Cup in Brazil. \n",
      "The Russian government had originally earmarked a budget of around  billion which was later slashed to  billion for the preparations of the World Cup, of which half is spent on transport infrastructure. As part of the program for preparation to the FIFA World Cup, a federal sub-program \"Construction and Renovation of Transport Infrastructure\" was implemented with a total budget of billion rubles, with billion coming from the federal budget, billion from regional budgets, and billion from investors. The biggest item of federal spending was the aviation infrastructure  billion rubles).] Construction of new hotels was a crucial area of infrastructure development in the World Cup host cities. Costs continued to balloon as preparations were underway\n",
      "There were goals scored in matches, for an average of goals per match.\n",
      "Twelve own goals were scored during the tournament, doubling the record of six set in\n",
      "\n",
      "\n",
      "\n",
      "\n",
      "Capitalized Words\n",
      "['World', 'It', 'Russia', 'June', 'July', 'It', 'World', 'Cup', 'Eastern', 'Europe', 'Europe', 'At', 'World', 'Cup', 'It', 'World', 'Cup', 'The', 'Of', 'Iceland', 'Panama', 'World', 'Cup', 'A', 'The', 'July', 'Luzhniki', 'Stadium', 'Moscow', 'France', 'Croatia', 'France', 'World', 'Cup', 'European', 'The', 'World', 'Cup', 'January', 'February', 'Initially', 'World', 'Cup', 'Mexico', 'Indonesia', 'February', 'Indonesian', 'During', 'Australia', 'Japan', 'United', 'States', 'As', 'World', 'Cup', 'England', 'Russia', 'Netherlands', 'Belgium', 'Portugal', 'Spain', 'The', 'Executive', 'Committee', 'December', 'Russia', 'The', 'Portugal', 'Spain', 'Belgium', 'Netherlands', 'England', 'The', 'English', 'Football', 'Association', 'Russian', 'They', 'England', 'Sepp', 'Blatter', 'Russia', 'The', 'Garcia', 'Report', 'Michael', 'J', 'Garcia', 'Hans', 'Joachim', 'Eckert', 'Eckert', 'Garcia', 'Because', 'Eckert', 'Russia', 'Greg', 'Dyke', 'David', 'Bernstein', 'World', 'Cup', 'At', 'June', 'World', 'Cup', 'World', 'Cup', 'Brazil', 'The', 'Russian', 'World', 'Cup', 'As', 'World', 'Cup', 'Construction', 'Renovation', 'Transport', 'Infrastructure', 'The', 'Construction', 'World', 'Cup', 'Costs', 'There', 'Twelve']\n",
      "\n",
      "\n",
      "Emails\n",
      "[]\n",
      "\n",
      "\n"
     ]
    }
   ],
   "source": [
    "#Run all the above functions on the file “FIFAWorldCup2018.txt” and print the results.\n",
    "\n",
    "#Reading the file\n",
    "file=open(\"C:/Users/sharv/Documents/Post Graduate Program In Data Science-PurdueSimpliLearn/Course3-Machine Learning/Demo Datasets/Lesson 11/FIFAWorldCup2018.txt\",'r')\n",
    "content=file.read()\n",
    "file.close()\n",
    "\n",
    "print (\"After Removing Punctuation\")\n",
    "print (TextAfterRemovingPunctuations(content))\n",
    "print (\"\\n\")\n",
    "\n",
    "print (\"After Removing Digits\")\n",
    "print (TextAfterRemovingDigits(content))\n",
    "print (\"\\n\")\n",
    "\n",
    "print (\"Capitalized Words\")\n",
    "print (AllCapitalizedWordsFromText(content))\n",
    "print (\"\\n\")\n",
    "\n",
    "print (\"Emails\")\n",
    "print (AllEmailsFromText(content))\n",
    "print (\"\\n\")\n"
   ]
  },
  {
   "cell_type": "markdown",
   "metadata": {},
   "source": [
    "### Objective 4"
   ]
  },
  {
   "cell_type": "raw",
   "metadata": {},
   "source": [
    "4.\tWrite python functions which accept a string as an input and return the following chunks.\n",
    "\n",
    "a.\tPhrases having Proper nouns followed by Verbs\n",
    "take function name as “ChunkingVer1”\n",
    "\n",
    "b.\tVerb Phrases having Verbs followed by Adjectives\n",
    "take function name as “ChunkingVer2”\n",
    "\n",
    "c.\tNoun Phrases having Determiners followed by Nouns\n",
    "take function name as “ChunkingVer3”\n",
    "\n",
    "d.\tVerb Phrases having Verbs followed by Adverbs\n",
    "Take function name as “ChunkingVer4”\n",
    "\n",
    "e.\tPhrases having Delimiter, Adjectives and Nouns in the respective order\n",
    "take function name as “ChunkingVer5”\n",
    "\n",
    "f.\tNoun Phrases having Nouns and Adjectives, terminated with Nouns\n",
    "take function name as “ChunkingVer6.”\n",
    "\n",
    "Run all the functions for the first sentence in the file “FIFAWorldCup2018.txt” and print the results."
   ]
  },
  {
   "cell_type": "code",
   "execution_count": 34,
   "metadata": {},
   "outputs": [],
   "source": [
    "import nltk\n",
    "\n",
    "#Phrases having Proper nouns followed by Verbs\n",
    "def ChunkingVer1(sent):\n",
    "    sent_tokens=nltk.pos_tag(nltk.word_tokenize(sent))\n",
    "    grammar=r\"Phrases:{<NNP|NNPS>*<NNP|NNPS><VB|VBD|VBG|VBZ|VBP|VBN>*<VB|VBD|VBG|VBZ|VBP|VBN>}\"\n",
    "    chunk_parser=nltk.RegexpParser(grammar)\n",
    "    chunk_result=chunk_parser.parse(sent_tokens)\n",
    "    return chunk_result\n",
    "\n",
    "\n",
    "#Verb Phrases having Verbs followed by Adjectives\n",
    "def ChunkingVer2(sent):\n",
    "    sent_tokens=nltk.pos_tag(nltk.word_tokenize(sent))\n",
    "    grammar=r\"VerbPhrases:{<VB|VBD|VBG|VBZ|VBP|VBN>*<VB|VBD|VBG|VBZ|VBP|VBN><JJ|JJR|JJS>*<JJ|JJR|JJS>}\"\n",
    "    chunk_parser=nltk.RegexpParser(grammar)\n",
    "    chunk_result=chunk_parser.parse(sent_tokens)\n",
    "    return chunk_result\n",
    "\n",
    "#Noun Phrases having Determiners followed by Nouns\n",
    "def ChunkingVer3(sent):\n",
    "    sent_tokens=nltk.pos_tag(nltk.word_tokenize(sent))\n",
    "    grammar=r\"NounPhrases:{<DT><NN|NNS|NNP|NNPS>*<NN|NNS|NNP|NNPS>}\"\n",
    "    chunk_parser=nltk.RegexpParser(grammar)\n",
    "    chunk_result=chunk_parser.parse(sent_tokens)\n",
    "    return chunk_result\n",
    "\n",
    "#Verb Phrases having Verbs followed by Adverbs\n",
    "def ChunkingVer4(sent):\n",
    "    sent_tokens=nltk.pos_tag(nltk.word_tokenize(sent))\n",
    "    grammar=r\"VerbPhrases:{<VB|VBD|VBG|VBZ|VBP|VBN>*<VB|VBD|VBG|VBZ|VBP|VBN><RB|RBR>*<RB|RBR>}\"\n",
    "    chunk_parser=nltk.RegexpParser(grammar)\n",
    "    chunk_result=chunk_parser.parse(sent_tokens)\n",
    "    return chunk_result\n",
    "\n",
    "#Phrases having Delimiter, Adjectives and Nouns in the respective order.\n",
    "def ChunkingVer5(sent):\n",
    "    sent_tokens=nltk.pos_tag(nltk.word_tokenize(sent))\n",
    "    grammar=r\"Phrases:{<DT><JJ><NN|NNP|NNS|NNPS>}\"\n",
    "    chunk_parser=nltk.RegexpParser(grammar)\n",
    "    chunk_result=chunk_parser.parse(sent_tokens)\n",
    "    return chunk_result\n",
    "\n",
    "#Noun Phrases which having Nouns and Adjectives, terminated with Nouns. \n",
    "def ChunkingVer6(sent):\n",
    "    sent_tokens=nltk.pos_tag(nltk.word_tokenize(sent))\n",
    "    grammar=r\"NounPhrases:{<NN|NNP|NNS|NNPS><JJ><NN|NNP|NNS|NNPS>}\"\n",
    "    chunk_parser=nltk.RegexpParser(grammar)\n",
    "    chunk_result=chunk_parser.parse(sent_tokens)\n",
    "\n",
    "    return chunk_result"
   ]
  },
  {
   "cell_type": "code",
   "execution_count": 35,
   "metadata": {},
   "outputs": [],
   "source": [
    "#Run all the function for the first sentence in the file “FIFAWorldCup2018.txt” and print the results.\n",
    "\n",
    "file=open(\"C:/Users/sharv/Documents/Post Graduate Program In Data Science-PurdueSimpliLearn/Course3-Machine Learning/Demo Datasets/Lesson 11/FIFAWorldCup2018.txt\",'r')\n",
    "content=file.read()\n",
    "file.close()\n",
    "\n",
    "first_sent=content.split(\".\")[0]+\".\""
   ]
  },
  {
   "cell_type": "code",
   "execution_count": 38,
   "metadata": {},
   "outputs": [
    {
     "name": "stderr",
     "output_type": "stream",
     "text": [
      "The Ghostscript executable isn't found.\n",
      "See http://web.mit.edu/ghostscript/www/Install.htm\n",
      "If you're using a Mac, you can try installing\n",
      "https://docs.brew.sh/Installation then `brew install ghostscript`\n"
     ]
    },
    {
     "ename": "LookupError",
     "evalue": "",
     "output_type": "error",
     "traceback": [
      "\u001b[1;31m---------------------------------------------------------------------------\u001b[0m",
      "\u001b[1;31mLookupError\u001b[0m                               Traceback (most recent call last)",
      "\u001b[1;32m~\\anaconda3\\lib\\site-packages\\nltk\\tree.py\u001b[0m in \u001b[0;36m_repr_png_\u001b[1;34m(self)\u001b[0m\n\u001b[0;32m    805\u001b[0m                             \u001b[0menv_vars\u001b[0m\u001b[1;33m=\u001b[0m\u001b[1;33m[\u001b[0m\u001b[1;34m'PATH'\u001b[0m\u001b[1;33m]\u001b[0m\u001b[1;33m,\u001b[0m\u001b[1;33m\u001b[0m\u001b[1;33m\u001b[0m\u001b[0m\n\u001b[1;32m--> 806\u001b[1;33m                             \u001b[0mverbose\u001b[0m\u001b[1;33m=\u001b[0m\u001b[1;32mFalse\u001b[0m\u001b[1;33m,\u001b[0m\u001b[1;33m\u001b[0m\u001b[1;33m\u001b[0m\u001b[0m\n\u001b[0m\u001b[0;32m    807\u001b[0m                         )\n",
      "\u001b[1;32m~\\anaconda3\\lib\\site-packages\\nltk\\internals.py\u001b[0m in \u001b[0;36mfind_binary\u001b[1;34m(name, path_to_bin, env_vars, searchpath, binary_names, url, verbose)\u001b[0m\n\u001b[0;32m    696\u001b[0m         find_binary_iter(\n\u001b[1;32m--> 697\u001b[1;33m             \u001b[0mname\u001b[0m\u001b[1;33m,\u001b[0m \u001b[0mpath_to_bin\u001b[0m\u001b[1;33m,\u001b[0m \u001b[0menv_vars\u001b[0m\u001b[1;33m,\u001b[0m \u001b[0msearchpath\u001b[0m\u001b[1;33m,\u001b[0m \u001b[0mbinary_names\u001b[0m\u001b[1;33m,\u001b[0m \u001b[0murl\u001b[0m\u001b[1;33m,\u001b[0m \u001b[0mverbose\u001b[0m\u001b[1;33m\u001b[0m\u001b[1;33m\u001b[0m\u001b[0m\n\u001b[0m\u001b[0;32m    698\u001b[0m         )\n",
      "\u001b[1;32m~\\anaconda3\\lib\\site-packages\\nltk\\internals.py\u001b[0m in \u001b[0;36mfind_binary_iter\u001b[1;34m(name, path_to_bin, env_vars, searchpath, binary_names, url, verbose)\u001b[0m\n\u001b[0;32m    680\u001b[0m     for file in find_file_iter(\n\u001b[1;32m--> 681\u001b[1;33m         \u001b[0mpath_to_bin\u001b[0m \u001b[1;32mor\u001b[0m \u001b[0mname\u001b[0m\u001b[1;33m,\u001b[0m \u001b[0menv_vars\u001b[0m\u001b[1;33m,\u001b[0m \u001b[0msearchpath\u001b[0m\u001b[1;33m,\u001b[0m \u001b[0mbinary_names\u001b[0m\u001b[1;33m,\u001b[0m \u001b[0murl\u001b[0m\u001b[1;33m,\u001b[0m \u001b[0mverbose\u001b[0m\u001b[1;33m\u001b[0m\u001b[1;33m\u001b[0m\u001b[0m\n\u001b[0m\u001b[0;32m    682\u001b[0m     ):\n",
      "\u001b[1;32m~\\anaconda3\\lib\\site-packages\\nltk\\internals.py\u001b[0m in \u001b[0;36mfind_file_iter\u001b[1;34m(filename, env_vars, searchpath, file_names, url, verbose, finding_dir)\u001b[0m\n\u001b[0;32m    638\u001b[0m         \u001b[0mdiv\u001b[0m \u001b[1;33m=\u001b[0m \u001b[1;34m'='\u001b[0m \u001b[1;33m*\u001b[0m \u001b[1;36m75\u001b[0m\u001b[1;33m\u001b[0m\u001b[1;33m\u001b[0m\u001b[0m\n\u001b[1;32m--> 639\u001b[1;33m         \u001b[1;32mraise\u001b[0m \u001b[0mLookupError\u001b[0m\u001b[1;33m(\u001b[0m\u001b[1;34m'\\n\\n%s\\n%s\\n%s'\u001b[0m \u001b[1;33m%\u001b[0m \u001b[1;33m(\u001b[0m\u001b[0mdiv\u001b[0m\u001b[1;33m,\u001b[0m \u001b[0mmsg\u001b[0m\u001b[1;33m,\u001b[0m \u001b[0mdiv\u001b[0m\u001b[1;33m)\u001b[0m\u001b[1;33m)\u001b[0m\u001b[1;33m\u001b[0m\u001b[1;33m\u001b[0m\u001b[0m\n\u001b[0m\u001b[0;32m    640\u001b[0m \u001b[1;33m\u001b[0m\u001b[0m\n",
      "\u001b[1;31mLookupError\u001b[0m: \n\n===========================================================================\nNLTK was unable to find the gs file!\nUse software specific configuration paramaters or set the PATH environment variable.\n===========================================================================",
      "\nDuring handling of the above exception, another exception occurred:\n",
      "\u001b[1;31mLookupError\u001b[0m                               Traceback (most recent call last)",
      "\u001b[1;32m~\\anaconda3\\lib\\site-packages\\IPython\\core\\formatters.py\u001b[0m in \u001b[0;36m__call__\u001b[1;34m(self, obj)\u001b[0m\n\u001b[0;32m    343\u001b[0m             \u001b[0mmethod\u001b[0m \u001b[1;33m=\u001b[0m \u001b[0mget_real_method\u001b[0m\u001b[1;33m(\u001b[0m\u001b[0mobj\u001b[0m\u001b[1;33m,\u001b[0m \u001b[0mself\u001b[0m\u001b[1;33m.\u001b[0m\u001b[0mprint_method\u001b[0m\u001b[1;33m)\u001b[0m\u001b[1;33m\u001b[0m\u001b[1;33m\u001b[0m\u001b[0m\n\u001b[0;32m    344\u001b[0m             \u001b[1;32mif\u001b[0m \u001b[0mmethod\u001b[0m \u001b[1;32mis\u001b[0m \u001b[1;32mnot\u001b[0m \u001b[1;32mNone\u001b[0m\u001b[1;33m:\u001b[0m\u001b[1;33m\u001b[0m\u001b[1;33m\u001b[0m\u001b[0m\n\u001b[1;32m--> 345\u001b[1;33m                 \u001b[1;32mreturn\u001b[0m \u001b[0mmethod\u001b[0m\u001b[1;33m(\u001b[0m\u001b[1;33m)\u001b[0m\u001b[1;33m\u001b[0m\u001b[1;33m\u001b[0m\u001b[0m\n\u001b[0m\u001b[0;32m    346\u001b[0m             \u001b[1;32mreturn\u001b[0m \u001b[1;32mNone\u001b[0m\u001b[1;33m\u001b[0m\u001b[1;33m\u001b[0m\u001b[0m\n\u001b[0;32m    347\u001b[0m         \u001b[1;32melse\u001b[0m\u001b[1;33m:\u001b[0m\u001b[1;33m\u001b[0m\u001b[1;33m\u001b[0m\u001b[0m\n",
      "\u001b[1;32m~\\anaconda3\\lib\\site-packages\\nltk\\tree.py\u001b[0m in \u001b[0;36m_repr_png_\u001b[1;34m(self)\u001b[0m\n\u001b[0;32m    817\u001b[0m                                         \"https://docs.brew.sh/Installation then `brew install ghostscript`\")                \n\u001b[0;32m    818\u001b[0m                 \u001b[0mprint\u001b[0m\u001b[1;33m(\u001b[0m\u001b[0mpre_error_message\u001b[0m\u001b[1;33m,\u001b[0m \u001b[0mfile\u001b[0m\u001b[1;33m=\u001b[0m\u001b[0msys\u001b[0m\u001b[1;33m.\u001b[0m\u001b[0mstderr\u001b[0m\u001b[1;33m)\u001b[0m\u001b[1;33m\u001b[0m\u001b[1;33m\u001b[0m\u001b[0m\n\u001b[1;32m--> 819\u001b[1;33m                 \u001b[1;32mraise\u001b[0m \u001b[0mLookupError\u001b[0m\u001b[1;33m\u001b[0m\u001b[1;33m\u001b[0m\u001b[0m\n\u001b[0m\u001b[0;32m    820\u001b[0m \u001b[1;33m\u001b[0m\u001b[0m\n\u001b[0;32m    821\u001b[0m             \u001b[1;32mwith\u001b[0m \u001b[0mopen\u001b[0m\u001b[1;33m(\u001b[0m\u001b[0mout_path\u001b[0m\u001b[1;33m,\u001b[0m \u001b[1;34m'rb'\u001b[0m\u001b[1;33m)\u001b[0m \u001b[1;32mas\u001b[0m \u001b[0msr\u001b[0m\u001b[1;33m:\u001b[0m\u001b[1;33m\u001b[0m\u001b[1;33m\u001b[0m\u001b[0m\n",
      "\u001b[1;31mLookupError\u001b[0m: "
     ]
    },
    {
     "data": {
      "text/plain": [
       "Tree('S', [('2018', 'CD'), Tree('Phrases', [('FIFA', 'NNP'), ('World', 'NNP'), ('CUP', 'NNP'), ('is', 'VBZ')]), ('an', 'DT'), ('international', 'JJ'), ('tournament', 'NN'), ('where', 'WRB'), ('all', 'DT'), ('teams', 'NNS'), ('compete', 'VBP'), ('religously', 'RB'), ('and', 'CC'), ('they', 'PRP'), ('showcase', 'VBP'), ('beautiful', 'JJ'), ('talent', 'NN'), ('.', '.')])"
      ]
     },
     "execution_count": 38,
     "metadata": {},
     "output_type": "execute_result"
    }
   ],
   "source": [
    "ChunkingVer1(first_sent)"
   ]
  },
  {
   "cell_type": "code",
   "execution_count": 24,
   "metadata": {},
   "outputs": [
    {
     "name": "stderr",
     "output_type": "stream",
     "text": [
      "The Ghostscript executable isn't found.\n",
      "See http://web.mit.edu/ghostscript/www/Install.htm\n",
      "If you're using a Mac, you can try installing\n",
      "https://docs.brew.sh/Installation then `brew install ghostscript`\n"
     ]
    },
    {
     "ename": "LookupError",
     "evalue": "",
     "output_type": "error",
     "traceback": [
      "\u001b[1;31m---------------------------------------------------------------------------\u001b[0m",
      "\u001b[1;31mLookupError\u001b[0m                               Traceback (most recent call last)",
      "\u001b[1;32m~\\anaconda3\\lib\\site-packages\\nltk\\tree.py\u001b[0m in \u001b[0;36m_repr_png_\u001b[1;34m(self)\u001b[0m\n\u001b[0;32m    805\u001b[0m                             \u001b[0menv_vars\u001b[0m\u001b[1;33m=\u001b[0m\u001b[1;33m[\u001b[0m\u001b[1;34m'PATH'\u001b[0m\u001b[1;33m]\u001b[0m\u001b[1;33m,\u001b[0m\u001b[1;33m\u001b[0m\u001b[1;33m\u001b[0m\u001b[0m\n\u001b[1;32m--> 806\u001b[1;33m                             \u001b[0mverbose\u001b[0m\u001b[1;33m=\u001b[0m\u001b[1;32mFalse\u001b[0m\u001b[1;33m,\u001b[0m\u001b[1;33m\u001b[0m\u001b[1;33m\u001b[0m\u001b[0m\n\u001b[0m\u001b[0;32m    807\u001b[0m                         )\n",
      "\u001b[1;32m~\\anaconda3\\lib\\site-packages\\nltk\\internals.py\u001b[0m in \u001b[0;36mfind_binary\u001b[1;34m(name, path_to_bin, env_vars, searchpath, binary_names, url, verbose)\u001b[0m\n\u001b[0;32m    696\u001b[0m         find_binary_iter(\n\u001b[1;32m--> 697\u001b[1;33m             \u001b[0mname\u001b[0m\u001b[1;33m,\u001b[0m \u001b[0mpath_to_bin\u001b[0m\u001b[1;33m,\u001b[0m \u001b[0menv_vars\u001b[0m\u001b[1;33m,\u001b[0m \u001b[0msearchpath\u001b[0m\u001b[1;33m,\u001b[0m \u001b[0mbinary_names\u001b[0m\u001b[1;33m,\u001b[0m \u001b[0murl\u001b[0m\u001b[1;33m,\u001b[0m \u001b[0mverbose\u001b[0m\u001b[1;33m\u001b[0m\u001b[1;33m\u001b[0m\u001b[0m\n\u001b[0m\u001b[0;32m    698\u001b[0m         )\n",
      "\u001b[1;32m~\\anaconda3\\lib\\site-packages\\nltk\\internals.py\u001b[0m in \u001b[0;36mfind_binary_iter\u001b[1;34m(name, path_to_bin, env_vars, searchpath, binary_names, url, verbose)\u001b[0m\n\u001b[0;32m    680\u001b[0m     for file in find_file_iter(\n\u001b[1;32m--> 681\u001b[1;33m         \u001b[0mpath_to_bin\u001b[0m \u001b[1;32mor\u001b[0m \u001b[0mname\u001b[0m\u001b[1;33m,\u001b[0m \u001b[0menv_vars\u001b[0m\u001b[1;33m,\u001b[0m \u001b[0msearchpath\u001b[0m\u001b[1;33m,\u001b[0m \u001b[0mbinary_names\u001b[0m\u001b[1;33m,\u001b[0m \u001b[0murl\u001b[0m\u001b[1;33m,\u001b[0m \u001b[0mverbose\u001b[0m\u001b[1;33m\u001b[0m\u001b[1;33m\u001b[0m\u001b[0m\n\u001b[0m\u001b[0;32m    682\u001b[0m     ):\n",
      "\u001b[1;32m~\\anaconda3\\lib\\site-packages\\nltk\\internals.py\u001b[0m in \u001b[0;36mfind_file_iter\u001b[1;34m(filename, env_vars, searchpath, file_names, url, verbose, finding_dir)\u001b[0m\n\u001b[0;32m    638\u001b[0m         \u001b[0mdiv\u001b[0m \u001b[1;33m=\u001b[0m \u001b[1;34m'='\u001b[0m \u001b[1;33m*\u001b[0m \u001b[1;36m75\u001b[0m\u001b[1;33m\u001b[0m\u001b[1;33m\u001b[0m\u001b[0m\n\u001b[1;32m--> 639\u001b[1;33m         \u001b[1;32mraise\u001b[0m \u001b[0mLookupError\u001b[0m\u001b[1;33m(\u001b[0m\u001b[1;34m'\\n\\n%s\\n%s\\n%s'\u001b[0m \u001b[1;33m%\u001b[0m \u001b[1;33m(\u001b[0m\u001b[0mdiv\u001b[0m\u001b[1;33m,\u001b[0m \u001b[0mmsg\u001b[0m\u001b[1;33m,\u001b[0m \u001b[0mdiv\u001b[0m\u001b[1;33m)\u001b[0m\u001b[1;33m)\u001b[0m\u001b[1;33m\u001b[0m\u001b[1;33m\u001b[0m\u001b[0m\n\u001b[0m\u001b[0;32m    640\u001b[0m \u001b[1;33m\u001b[0m\u001b[0m\n",
      "\u001b[1;31mLookupError\u001b[0m: \n\n===========================================================================\nNLTK was unable to find the gs file!\nUse software specific configuration paramaters or set the PATH environment variable.\n===========================================================================",
      "\nDuring handling of the above exception, another exception occurred:\n",
      "\u001b[1;31mLookupError\u001b[0m                               Traceback (most recent call last)",
      "\u001b[1;32m~\\anaconda3\\lib\\site-packages\\IPython\\core\\formatters.py\u001b[0m in \u001b[0;36m__call__\u001b[1;34m(self, obj)\u001b[0m\n\u001b[0;32m    343\u001b[0m             \u001b[0mmethod\u001b[0m \u001b[1;33m=\u001b[0m \u001b[0mget_real_method\u001b[0m\u001b[1;33m(\u001b[0m\u001b[0mobj\u001b[0m\u001b[1;33m,\u001b[0m \u001b[0mself\u001b[0m\u001b[1;33m.\u001b[0m\u001b[0mprint_method\u001b[0m\u001b[1;33m)\u001b[0m\u001b[1;33m\u001b[0m\u001b[1;33m\u001b[0m\u001b[0m\n\u001b[0;32m    344\u001b[0m             \u001b[1;32mif\u001b[0m \u001b[0mmethod\u001b[0m \u001b[1;32mis\u001b[0m \u001b[1;32mnot\u001b[0m \u001b[1;32mNone\u001b[0m\u001b[1;33m:\u001b[0m\u001b[1;33m\u001b[0m\u001b[1;33m\u001b[0m\u001b[0m\n\u001b[1;32m--> 345\u001b[1;33m                 \u001b[1;32mreturn\u001b[0m \u001b[0mmethod\u001b[0m\u001b[1;33m(\u001b[0m\u001b[1;33m)\u001b[0m\u001b[1;33m\u001b[0m\u001b[1;33m\u001b[0m\u001b[0m\n\u001b[0m\u001b[0;32m    346\u001b[0m             \u001b[1;32mreturn\u001b[0m \u001b[1;32mNone\u001b[0m\u001b[1;33m\u001b[0m\u001b[1;33m\u001b[0m\u001b[0m\n\u001b[0;32m    347\u001b[0m         \u001b[1;32melse\u001b[0m\u001b[1;33m:\u001b[0m\u001b[1;33m\u001b[0m\u001b[1;33m\u001b[0m\u001b[0m\n",
      "\u001b[1;32m~\\anaconda3\\lib\\site-packages\\nltk\\tree.py\u001b[0m in \u001b[0;36m_repr_png_\u001b[1;34m(self)\u001b[0m\n\u001b[0;32m    817\u001b[0m                                         \"https://docs.brew.sh/Installation then `brew install ghostscript`\")                \n\u001b[0;32m    818\u001b[0m                 \u001b[0mprint\u001b[0m\u001b[1;33m(\u001b[0m\u001b[0mpre_error_message\u001b[0m\u001b[1;33m,\u001b[0m \u001b[0mfile\u001b[0m\u001b[1;33m=\u001b[0m\u001b[0msys\u001b[0m\u001b[1;33m.\u001b[0m\u001b[0mstderr\u001b[0m\u001b[1;33m)\u001b[0m\u001b[1;33m\u001b[0m\u001b[1;33m\u001b[0m\u001b[0m\n\u001b[1;32m--> 819\u001b[1;33m                 \u001b[1;32mraise\u001b[0m \u001b[0mLookupError\u001b[0m\u001b[1;33m\u001b[0m\u001b[1;33m\u001b[0m\u001b[0m\n\u001b[0m\u001b[0;32m    820\u001b[0m \u001b[1;33m\u001b[0m\u001b[0m\n\u001b[0;32m    821\u001b[0m             \u001b[1;32mwith\u001b[0m \u001b[0mopen\u001b[0m\u001b[1;33m(\u001b[0m\u001b[0mout_path\u001b[0m\u001b[1;33m,\u001b[0m \u001b[1;34m'rb'\u001b[0m\u001b[1;33m)\u001b[0m \u001b[1;32mas\u001b[0m \u001b[0msr\u001b[0m\u001b[1;33m:\u001b[0m\u001b[1;33m\u001b[0m\u001b[1;33m\u001b[0m\u001b[0m\n",
      "\u001b[1;31mLookupError\u001b[0m: "
     ]
    },
    {
     "data": {
      "text/plain": [
       "Tree('S', [('2018', 'CD'), ('FIFA', 'NNP'), ('World', 'NNP'), ('CUP', 'NNP'), ('is', 'VBZ'), ('an', 'DT'), ('international', 'JJ'), ('tournament', 'NN'), ('where', 'WRB'), ('all', 'DT'), ('teams', 'NNS'), ('compete', 'VBP'), ('religously', 'RB'), ('and', 'CC'), ('they', 'PRP'), Tree('VerbPhrases', [('showcase', 'VBP'), ('beautiful', 'JJ')]), ('talent', 'NN'), ('.', '.')])"
      ]
     },
     "execution_count": 24,
     "metadata": {},
     "output_type": "execute_result"
    }
   ],
   "source": [
    "ChunkingVer2(first_sent)"
   ]
  },
  {
   "cell_type": "code",
   "execution_count": null,
   "metadata": {},
   "outputs": [],
   "source": [
    "ChunkingVer3(first_sent)"
   ]
  },
  {
   "cell_type": "code",
   "execution_count": null,
   "metadata": {},
   "outputs": [],
   "source": [
    "ChunkingVer4(first_sent)"
   ]
  },
  {
   "cell_type": "code",
   "execution_count": null,
   "metadata": {},
   "outputs": [],
   "source": [
    "ChunkingVer5(first_sent)"
   ]
  },
  {
   "cell_type": "code",
   "execution_count": null,
   "metadata": {},
   "outputs": [],
   "source": [
    "ChunkingVer6(first_sent)"
   ]
  },
  {
   "cell_type": "markdown",
   "metadata": {},
   "source": [
    "# Objective 5"
   ]
  },
  {
   "cell_type": "raw",
   "metadata": {},
   "source": [
    "5.\tMake a content free grammar having the following rules: \n",
    "\n",
    "a.\tNoun Phrases are followed by Verb Phrases\n",
    "\n",
    "b.\tVerb Phrase can have \n",
    "i.\tVerb and noun phrase \n",
    "ii.\tVerb, noun phrase and a preposition\n",
    "\n",
    "c.\tNoun Phrases can have \n",
    "i.\tDelimiters followed by noun \n",
    "ii.\tDelimiters, noun, and a preposition phrase,\n",
    "\n",
    "d.\tPreposition phrase have a preposition followed by a noun phrase\n",
    "e. The delimiters, verbs, prepositions and nouns for the grammar should be the two most frequent words of each type from “FIFAWorldCup2018.txt”.\n",
    " Generate the CFG for “FIFAWorldCup2018.txt” file and save them in a file named “CFG.txt”\n"
   ]
  },
  {
   "cell_type": "code",
   "execution_count": 25,
   "metadata": {},
   "outputs": [
    {
     "name": "stdout",
     "output_type": "stream",
     "text": [
      "Nouns: ['world', 'cup']\n",
      "Verbs: ['was', 'had']\n",
      "Prepositions: ['of', 'in']\n",
      "Delimiters: ['the', 'a']\n"
     ]
    }
   ],
   "source": [
    "#2 most common Nouns\n",
    "print (\"Nouns:\",GetNMostFrequentNouns(content,2))\n",
    "\n",
    "#2 most common verbs\n",
    "print (\"Verbs:\",GetNMostFrequentVerbs(content,2))\n",
    "\n",
    "#2 most common prepositions\n",
    "print (\"Prepositions:\",GetNMostFrequentPrepositions(content,2))\n",
    "\n",
    "#2 most common delimiters\n",
    "print (\"Delimiters:\",GetNMostFrequentDelimiters(content,2))"
   ]
  },
  {
   "cell_type": "code",
   "execution_count": 26,
   "metadata": {},
   "outputs": [],
   "source": [
    "from nltk.parse.generate import generate\n",
    "grammar = nltk.CFG.fromstring(\"\"\"\n",
    " S -> NP VP\n",
    " VP -> V NP | V NP PP\n",
    " V -> \"had\" | \"was\"\n",
    " NP -> DT N \n",
    " DT -> \"a\" | \"the\" \n",
    " N -> \"world\" | \"cup\"\n",
    " PP -> P NP\n",
    " P -> \"of\" | \"in\"\n",
    " \"\"\")\n",
    "\n",
    "generated_grammar=[]\n",
    "for sent in generate(grammar):\n",
    "    generated_grammar.append(\" \".join(sent))"
   ]
  },
  {
   "cell_type": "code",
   "execution_count": 27,
   "metadata": {},
   "outputs": [],
   "source": [
    "#Saving in a file name \"CGF.txt\"\n",
    "\n",
    "file=open('C:/Users/sharv/Documents/Post Graduate Program In Data Science-PurdueSimpliLearn/Course3-Machine Learning/Demo Datasets/Lesson 11/CFG.txt','a+')\n",
    "for each in generated_grammar:\n",
    "    file.write(each+\"\\n\")\n",
    "file.close()\n",
    "    "
   ]
  },
  {
   "cell_type": "markdown",
   "metadata": {},
   "source": [
    "\"CFG.txt\" and \"FIFAWorldCup2018\" files are stored in folder \"C:/Users/sharv/Documents/Post Graduate Program In Data Science-PurdueSimpliLearn/Course3-Machine Learning/Demo Datasets/Lesson 11/FIFAWorldCup2018.txt\""
   ]
  }
 ],
 "metadata": {
  "kernelspec": {
   "display_name": "Python 3",
   "language": "python",
   "name": "python3"
  },
  "language_info": {
   "codemirror_mode": {
    "name": "ipython",
    "version": 3
   },
   "file_extension": ".py",
   "mimetype": "text/x-python",
   "name": "python",
   "nbconvert_exporter": "python",
   "pygments_lexer": "ipython3",
   "version": "3.7.6"
  }
 },
 "nbformat": 4,
 "nbformat_minor": 2
}
