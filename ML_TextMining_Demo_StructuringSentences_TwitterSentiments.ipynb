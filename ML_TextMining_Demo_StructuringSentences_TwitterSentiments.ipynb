{
 "cells": [
  {
   "cell_type": "markdown",
   "metadata": {},
   "source": [
    "Problem Statement: ABC Company wants to perform text analysis for one of its dataset.\n",
    "The dataset has been taken from Kaggle. (https://www.kaggle.com/crowdflower/twitter-airline-sentiment/home)\n",
    "This dataset has tweets about six US Airlines along with their sentiments: positive, negative, and neutral. You are provided with this dataset named “Tweets.csv”. It has tweets in ‘text’ column and sentiments in “airline_sentiment” column.\n",
    "Objective: \n",
    "Retrieve all tags starting from “@” in the entire dataset and save in a file called\n",
    "“References.txt”. Extract all noun phrases from the dataset and save them in different lines in a file named “Noun Phrases for <airline_sentiment> Review .txt” (You can choose your own grammar for noun phrase).\n",
    "Here <airline_sentiment> will have three different values: positive, negative, and neutral. Hence, three files will be created."
   ]
  },
  {
   "cell_type": "code",
   "execution_count": 19,
   "metadata": {},
   "outputs": [
    {
     "data": {
      "text/html": [
       "<div>\n",
       "<style scoped>\n",
       "    .dataframe tbody tr th:only-of-type {\n",
       "        vertical-align: middle;\n",
       "    }\n",
       "\n",
       "    .dataframe tbody tr th {\n",
       "        vertical-align: top;\n",
       "    }\n",
       "\n",
       "    .dataframe thead th {\n",
       "        text-align: right;\n",
       "    }\n",
       "</style>\n",
       "<table border=\"1\" class=\"dataframe\">\n",
       "  <thead>\n",
       "    <tr style=\"text-align: right;\">\n",
       "      <th></th>\n",
       "      <th>text</th>\n",
       "      <th>airline_sentiment</th>\n",
       "    </tr>\n",
       "  </thead>\n",
       "  <tbody>\n",
       "    <tr>\n",
       "      <th>0</th>\n",
       "      <td>@VirginAmerica What @dhepburn said.</td>\n",
       "      <td>neutral</td>\n",
       "    </tr>\n",
       "    <tr>\n",
       "      <th>1</th>\n",
       "      <td>@VirginAmerica plus you've added commercials t...</td>\n",
       "      <td>positive</td>\n",
       "    </tr>\n",
       "    <tr>\n",
       "      <th>2</th>\n",
       "      <td>@VirginAmerica I didn't today... Must mean I n...</td>\n",
       "      <td>neutral</td>\n",
       "    </tr>\n",
       "    <tr>\n",
       "      <th>3</th>\n",
       "      <td>@VirginAmerica it's really aggressive to blast...</td>\n",
       "      <td>negative</td>\n",
       "    </tr>\n",
       "    <tr>\n",
       "      <th>4</th>\n",
       "      <td>@VirginAmerica and it's a really big bad thing...</td>\n",
       "      <td>negative</td>\n",
       "    </tr>\n",
       "  </tbody>\n",
       "</table>\n",
       "</div>"
      ],
      "text/plain": [
       "                                                text airline_sentiment\n",
       "0                @VirginAmerica What @dhepburn said.           neutral\n",
       "1  @VirginAmerica plus you've added commercials t...          positive\n",
       "2  @VirginAmerica I didn't today... Must mean I n...           neutral\n",
       "3  @VirginAmerica it's really aggressive to blast...          negative\n",
       "4  @VirginAmerica and it's a really big bad thing...          negative"
      ]
     },
     "execution_count": 19,
     "metadata": {},
     "output_type": "execute_result"
    }
   ],
   "source": [
    "import pandas as pd\n",
    "df=pd.read_csv(\"C:/Users/sharv/Documents/Post Graduate Program In Data Science-PurdueSimpliLearn/Course3-Machine Learning/Demo Datasets/Lesson 11/Tweets.csv\")\n",
    "df=df[['text','airline_sentiment']]\n",
    "df.head()"
   ]
  },
  {
   "cell_type": "code",
   "execution_count": 20,
   "metadata": {},
   "outputs": [],
   "source": [
    "# we will iterate thro' dataset using regex,find the relevant tweets\n",
    "import re\n",
    "r=re.compile(r\"([@])(\\w+)\\b\")\n",
    "AllReferences=map(lambda x: r.findall(x),df['text'])\n",
    "              \n",
    "import itertools # itertools module returns efficient iterators\n",
    "AllUniqueReferencesCombined=set(list(itertools.chain.from_iterable(AllReferences)))      \n",
    "References=map(lambda x:x[0]+x[1],AllUniqueReferencesCombined)\n",
    "# the result is stored in filename references.txt\n",
    "file=open(\"C:/Users/sharv/Documents/Post Graduate Program In Data Science-PurdueSimpliLearn/Course3-Machine Learning/Demo Datasets/Lesson 11/References.txt\",'a')\n",
    "for each in References:\n",
    "    file.write(each+\"\\n\")\n",
    "file.close()   "
   ]
  },
  {
   "cell_type": "code",
   "execution_count": 21,
   "metadata": {},
   "outputs": [],
   "source": [
    "# let's extract all noun phrases and save them in file named \"Noun Phrases for left caret airline_sentiment right caret Review.txt\"\n",
    "import nltk\n",
    "def GetNounPhrases(s):\n",
    "    try:\n",
    "        sentences=nltk.sent_tokenize(s)\n",
    "        sentences=[nltk.word_tokenize(sent)for sent in sentences]\n",
    "        sentences=[nltk.pos_tag(Sent)for sent in sentences]\n",
    "    except:\n",
    "        return[]\n",
    "    else:\n",
    "# here left caret airline_sentiment right caret has 3 differnt values positive, negative and neutarl so 3 files will b created.\n",
    "        grammar=r\"NP:{<DT><NN|NNS|NNP|NNPS>*<NN|NNS|NNP|NNPS>}\"\n",
    "            \n",
    "        cp=nltk.RegexpParser(grammar)\n",
    "            # we will iterate thro' all leaf nodes and assign them to noun_phrases variables\n",
    "        noun_phrases_list=[[''.join(leaf[0]for leaf in tree.leaves())\n",
    "                               for tree in cp.parse(sent).subtrees()\n",
    "                               if tree.label()=='NP']\n",
    "                               for sent in sentences]\n",
    "        return noun_phrases_list\n",
    "# this means that functions in itertools operate on iterators to produce more complex iterators.       \n",
    "import itertools\n",
    "for group, sub in df.groupby('airline_sentiment'):\n",
    "    # using the map function we will get all noun phrases from the text.\n",
    "    noun_phrase=map(lambda x: GetNounPhrases(x),sub['text'])\n",
    "    # putting it into list\n",
    "    noun_phrases=list(itertools.chain.from_iterable(noun_phrases))\n",
    "    AllNounPhrases=set(list(itertools.chain.from_iterable(noun_phrases)))\n",
    "    filename=\"Noun Phrases for \"+str(group)+\"Review. txt\"\n",
    "    file=open(filename,'a')\n",
    "    for each in AllNounPhrases:\n",
    "        file.write(each+\"\\n\")\n",
    "    file.close()\n",
    "            "
   ]
  },
  {
   "cell_type": "markdown",
   "metadata": {},
   "source": [
    "FOr output check References.txt in folder C:\\Users\\sharv\\Documents\\Post Graduate Program In Data Science-PurdueSimpliLearn\\Course3-Machine Learning\\Demo Datasets\\Lesson 11\n",
    "\n",
    "output file \"Noun Phrases for positiveReview.txt \", \"Noun Phrases for negativeReview \", \"Noun Phrases for neutralReview \" is saved in folder \"C:\\Users\\sharv\\Documents\\Post Graduate Program In Data Science-PurdueSimpliLearn\\Course2-Data Science With Python\\Python Programs\""
   ]
  },
  {
   "cell_type": "markdown",
   "metadata": {},
   "source": [
    "recap\n",
    "1> import the dataset\n",
    "2> extract the noun phrases\n"
   ]
  },
  {
   "cell_type": "markdown",
   "metadata": {},
   "source": [
    "Problem Statement: ABC Company wants to perform some text analysis and make visualization for one it’s dataset. The dataset has been taken from Kaggle. (https://www.kaggle.com/crowdflower/twitter-airline-sentiment/home). This is a dataset having tweets about six US Airlines along with their sentiments: positive, negative, and neutral. You are provided with this dataset named “Tweets.csv”. It has tweets in ‘text’ column and sentiments in ‘airline_sentiment’ column.\n",
    "Objective: \n",
    "Extract all verb phrases from their dataset and save them in different lines in a file named “Verb Phrases for <airline_sentiment> Review .txt” (You can choose your own grammar for noun phrase). Here <airline_sentiment> will have three different values: positive , negative, and neutral. Hence, three files will be created. For each sentiment, make a well labeledpie chart showing the distribution of noun phrases and verb phrases of that sentiment from the data set. Use the files created above to get the frequencies."
   ]
  },
  {
   "cell_type": "code",
   "execution_count": 12,
   "metadata": {},
   "outputs": [],
   "source": [
    "# Step 01\n",
    "\n",
    "import pandas as pd\n",
    "df=pd.read_csv('C:/Users/sharv/Documents/Post Graduate Program In Data Science-PurdueSimpliLearn/Course3-Machine Learning/Demo Datasets/Lesson 11/Tweets.csv')\n",
    "df=df[['text','airline_sentiment']]"
   ]
  },
  {
   "cell_type": "code",
   "execution_count": 13,
   "metadata": {},
   "outputs": [],
   "source": [
    "# Step 02\n",
    "import nltk\n",
    "def GetVerbPhrases(s):\n",
    "    try:\n",
    "        sentences = nltk.sent_tokenize(s)\n",
    "        sentences = [nltk.word_tokenize(sent) for sent in sentences]\n",
    "        sentences = [nltk.pos_tag(sent) for sent in sentences]\n",
    "    except:\n",
    "        return []\n",
    "    else:\n",
    "        grammar=r\"VP:{<VB|VBD|VBG|VBZ|VBP|VBN>*<VB|VBD|VBG|VBZ|VBP|VBN><RB|RBR>*<RB|RBR>}\"\n",
    "        cp = nltk.RegexpParser(grammar)\n",
    "        noun_phrases_list= [[' '.join(leaf[0] for leaf in tree.leaves())\n",
    "                            for tree in cp.parse(sent).subtrees()\n",
    "                            if tree.label()=='VP']\n",
    "                            for sent in sentences]\n",
    "        return noun_phrases_list"
   ]
  },
  {
   "cell_type": "code",
   "execution_count": 16,
   "metadata": {},
   "outputs": [],
   "source": [
    "# Step 03\n",
    "\n",
    "import itertools\n",
    "for group,sub in df.groupby('airline_sentiment'):\n",
    "    verb_phrases=map(lambda x: GetVerbPhrases(x),sub['text'])\n",
    "    verb_phrases=list(itertools.chain.from_iterable(verb_phrases))\n",
    "    AllVerbPhrases=set(list(itertools.chain.from_iterable(verb_phrases)))\n",
    "    filename=\"Verb Phrases for \"+str(group)+\" Review1 .txt\"\n",
    "    file=open(filename,'a')\n",
    "    for each in AllVerbPhrases:\n",
    "        file.write(each+\"\\n\")\n",
    "    file.close()"
   ]
  },
  {
   "cell_type": "code",
   "execution_count": 18,
   "metadata": {},
   "outputs": [
    {
     "data": {
      "image/png": "[encoded data removed]",
      "text/plain": [
       "<Figure size 360x360 with 1 Axes>"
      ]
     },
     "metadata": {},
     "output_type": "display_data"
    },
    {
     "data": {
      "image/png": "[encoded data removed]",
      "text/plain": [
       "<Figure size 360x360 with 1 Axes>"
      ]
     },
     "metadata": {},
     "output_type": "display_data"
    },
    {
     "data": {
      "image/png": "[encoded data removed]",
      "text/plain": [
       "<Figure size 360x360 with 1 Axes>"
      ]
     },
     "metadata": {},
     "output_type": "display_data"
    }
   ],
   "source": [
    "# Step 04\n",
    "#Plotting a pie chart\n",
    "def PlotPieChart(sentiment):\n",
    "    noun_phrase_file=\"Noun Phrases for \"+str(sentiment)+\" Review .txt\"\n",
    "    verb_phrase_file=\"Verb Phrases for \"+str(sentiment)+\" Review .txt\"\n",
    "    noun_phrase_count=len(noun_phrase_file.split(\"\\n\"))\n",
    "    verb_phrase_count=len(verb_phrase_file.split(\"\\n\"))\n",
    "    counts=[noun_phrase_count,verb_phrase_count]\n",
    "    labels=['Noun Phrases','VerbPhrases']\n",
    "    import matplotlib.pyplot as plt\n",
    "    %matplotlib inline\n",
    "    plt.figure(figsize=(5,5))\n",
    "    plt.pie(counts,labels=labels)\n",
    "    plt.title(\"Phrases Distribution for \"+str(sentiment)+\" Review.\")\n",
    "    plt.show()\n",
    "for each in df['airline_sentiment'].unique():\n",
    "    PlotPieChart(each)"
   ]
  },
  {
   "cell_type": "markdown",
   "metadata": {},
   "source": [
    "output file \"Verb Phrases for positive Review1 \" is saved in folder \"C:\\Users\\sharv\\Documents\\Post Graduate Program In Data Science-PurdueSimpliLearn\\Course2-Data Science With Python\\Python Programs\""
   ]
  },
  {
   "cell_type": "markdown",
   "metadata": {},
   "source": [
    "Airline Sentiment .\n",
    "DESCRIPTION\n",
    "\n",
    "ABC Company wants to perform some text analysis and visualization for one of its datasets. The dataset has been taken from Kaggle. (https://www.kaggle.com/crowdflower/twitter-airline-sentiment/home). This is a dataset that has tweets about six US Airlines along with their sentiments: positive, negative, and neutral. You are provided with a dataset named “Tweets.csv.” It has tweets in ‘text’ column and sentiments in ‘airline_sentiment’ column.\n",
    "Objective: \n",
    "Extract all verb phrases from their dataset and save them in different lines in a file named “Verb Phrases for &lt;airline_sentiment&gt; Review .txt” (You can choose your own grammar for noun phrase). Here &lt;airline_sentiment&gt; will have three different values: positive , negative, and neutral. Hence, three files will be created. For each sentiment, make a well labeled pie chart showing the distribution of noun phrases and verb phrases of that sentiment from the data set. Use the files created above to get the frequencies."
   ]
  },
  {
   "cell_type": "markdown",
   "metadata": {},
   "source": [
    "check output files \"nltk_unassisted.txt\" and \"wiki_corpus.txt\" in the folder \"C:\\Users\\sharv\\Documents\\Post Graduate Program In Data Science-PurdueSimpliLearn\\Course3-Machine Learning\\Demo Datasets\\Lesson 11\""
   ]
  }
 ],
 "metadata": {
  "kernelspec": {
   "display_name": "Python 3",
   "language": "python",
   "name": "python3"
  },
  "language_info": {
   "codemirror_mode": {
    "name": "ipython",
    "version": 3
   },
   "file_extension": ".py",
   "mimetype": "text/x-python",
   "name": "python",
   "nbconvert_exporter": "python",
   "pygments_lexer": "ipython3",
   "version": "3.7.6"
  }
 },
 "nbformat": 4,
 "nbformat_minor": 4
}
