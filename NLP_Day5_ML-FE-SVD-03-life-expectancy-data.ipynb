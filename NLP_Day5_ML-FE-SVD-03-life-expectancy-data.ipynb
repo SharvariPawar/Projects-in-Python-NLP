{
 "cells": [
  {
   "cell_type": "code",
   "execution_count": 1,
   "metadata": {},
   "outputs": [],
   "source": [
    "import pandas as pd\n",
    "import numpy as np\n",
    "# import plotting libraries\n",
    "import matplotlib\n",
    "import matplotlib.pyplot as plt\n",
    "from pandas.plotting import scatter_matrix\n",
    "%matplotlib inline \n",
    "\n",
    "import seaborn as sns\n",
    "sns.set(style=\"white\", color_codes=True)\n",
    "sns.set(font_scale=1.5)"
   ]
  },
  {
   "cell_type": "code",
   "execution_count": 2,
   "metadata": {},
   "outputs": [
    {
     "data": {
      "text/html": [
       "<div>\n",
       "<style scoped>\n",
       "    .dataframe tbody tr th:only-of-type {\n",
       "        vertical-align: middle;\n",
       "    }\n",
       "\n",
       "    .dataframe tbody tr th {\n",
       "        vertical-align: top;\n",
       "    }\n",
       "\n",
       "    .dataframe thead th {\n",
       "        text-align: right;\n",
       "    }\n",
       "</style>\n",
       "<table border=\"1\" class=\"dataframe\">\n",
       "  <thead>\n",
       "    <tr style=\"text-align: right;\">\n",
       "      <th></th>\n",
       "      <th>continent</th>\n",
       "      <th>country</th>\n",
       "      <th>gdpPercap_1952</th>\n",
       "      <th>gdpPercap_1957</th>\n",
       "      <th>gdpPercap_1962</th>\n",
       "      <th>gdpPercap_1967</th>\n",
       "      <th>gdpPercap_1972</th>\n",
       "      <th>gdpPercap_1977</th>\n",
       "      <th>gdpPercap_1982</th>\n",
       "      <th>gdpPercap_1987</th>\n",
       "      <th>...</th>\n",
       "      <th>pop_1962</th>\n",
       "      <th>pop_1967</th>\n",
       "      <th>pop_1972</th>\n",
       "      <th>pop_1977</th>\n",
       "      <th>pop_1982</th>\n",
       "      <th>pop_1987</th>\n",
       "      <th>pop_1992</th>\n",
       "      <th>pop_1997</th>\n",
       "      <th>pop_2002</th>\n",
       "      <th>pop_2007</th>\n",
       "    </tr>\n",
       "  </thead>\n",
       "  <tbody>\n",
       "    <tr>\n",
       "      <th>0</th>\n",
       "      <td>Africa</td>\n",
       "      <td>Algeria</td>\n",
       "      <td>2449.008185</td>\n",
       "      <td>3013.976023</td>\n",
       "      <td>2550.816880</td>\n",
       "      <td>3246.991771</td>\n",
       "      <td>4182.663766</td>\n",
       "      <td>4910.416756</td>\n",
       "      <td>5745.160213</td>\n",
       "      <td>5681.358539</td>\n",
       "      <td>...</td>\n",
       "      <td>11000948.0</td>\n",
       "      <td>12760499.0</td>\n",
       "      <td>14760787.0</td>\n",
       "      <td>17152804.0</td>\n",
       "      <td>20033753.0</td>\n",
       "      <td>23254956.0</td>\n",
       "      <td>26298373.0</td>\n",
       "      <td>29072015.0</td>\n",
       "      <td>31287142</td>\n",
       "      <td>33333216</td>\n",
       "    </tr>\n",
       "    <tr>\n",
       "      <th>1</th>\n",
       "      <td>Africa</td>\n",
       "      <td>Angola</td>\n",
       "      <td>3520.610273</td>\n",
       "      <td>3827.940465</td>\n",
       "      <td>4269.276742</td>\n",
       "      <td>5522.776375</td>\n",
       "      <td>5473.288005</td>\n",
       "      <td>3008.647355</td>\n",
       "      <td>2756.953672</td>\n",
       "      <td>2430.208311</td>\n",
       "      <td>...</td>\n",
       "      <td>4826015.0</td>\n",
       "      <td>5247469.0</td>\n",
       "      <td>5894858.0</td>\n",
       "      <td>6162675.0</td>\n",
       "      <td>7016384.0</td>\n",
       "      <td>7874230.0</td>\n",
       "      <td>8735988.0</td>\n",
       "      <td>9875024.0</td>\n",
       "      <td>10866106</td>\n",
       "      <td>12420476</td>\n",
       "    </tr>\n",
       "    <tr>\n",
       "      <th>2</th>\n",
       "      <td>Africa</td>\n",
       "      <td>Benin</td>\n",
       "      <td>1062.752200</td>\n",
       "      <td>959.601080</td>\n",
       "      <td>949.499064</td>\n",
       "      <td>1035.831411</td>\n",
       "      <td>1085.796879</td>\n",
       "      <td>1029.161251</td>\n",
       "      <td>1277.897616</td>\n",
       "      <td>1225.856010</td>\n",
       "      <td>...</td>\n",
       "      <td>2151895.0</td>\n",
       "      <td>2427334.0</td>\n",
       "      <td>2761407.0</td>\n",
       "      <td>3168267.0</td>\n",
       "      <td>3641603.0</td>\n",
       "      <td>4243788.0</td>\n",
       "      <td>4981671.0</td>\n",
       "      <td>6066080.0</td>\n",
       "      <td>7026113</td>\n",
       "      <td>8078314</td>\n",
       "    </tr>\n",
       "  </tbody>\n",
       "</table>\n",
       "<p>3 rows × 38 columns</p>\n",
       "</div>"
      ],
      "text/plain": [
       "  continent  country  gdpPercap_1952  gdpPercap_1957  gdpPercap_1962  \\\n",
       "0    Africa  Algeria     2449.008185     3013.976023     2550.816880   \n",
       "1    Africa   Angola     3520.610273     3827.940465     4269.276742   \n",
       "2    Africa    Benin     1062.752200      959.601080      949.499064   \n",
       "\n",
       "   gdpPercap_1967  gdpPercap_1972  gdpPercap_1977  gdpPercap_1982  \\\n",
       "0     3246.991771     4182.663766     4910.416756     5745.160213   \n",
       "1     5522.776375     5473.288005     3008.647355     2756.953672   \n",
       "2     1035.831411     1085.796879     1029.161251     1277.897616   \n",
       "\n",
       "   gdpPercap_1987  ...    pop_1962    pop_1967    pop_1972    pop_1977  \\\n",
       "0     5681.358539  ...  11000948.0  12760499.0  14760787.0  17152804.0   \n",
       "1     2430.208311  ...   4826015.0   5247469.0   5894858.0   6162675.0   \n",
       "2     1225.856010  ...   2151895.0   2427334.0   2761407.0   3168267.0   \n",
       "\n",
       "     pop_1982    pop_1987    pop_1992    pop_1997  pop_2002  pop_2007  \n",
       "0  20033753.0  23254956.0  26298373.0  29072015.0  31287142  33333216  \n",
       "1   7016384.0   7874230.0   8735988.0   9875024.0  10866106  12420476  \n",
       "2   3641603.0   4243788.0   4981671.0   6066080.0   7026113   8078314  \n",
       "\n",
       "[3 rows x 38 columns]"
      ]
     },
     "execution_count": 2,
     "metadata": {},
     "output_type": "execute_result"
    }
   ],
   "source": [
    "data_url = \"https://goo.gl/ioc2Td\"\n",
    "gapminder = pd.read_csv(data_url)\n",
    "\n",
    "gapminder.head(3)"
   ]
  },
  {
   "cell_type": "code",
   "execution_count": 3,
   "metadata": {},
   "outputs": [
    {
     "data": {
      "text/plain": [
       "(142, 38)"
      ]
     },
     "execution_count": 3,
     "metadata": {},
     "output_type": "execute_result"
    }
   ],
   "source": [
    "gapminder.shape"
   ]
  },
  {
   "cell_type": "code",
   "execution_count": 4,
   "metadata": {},
   "outputs": [
    {
     "data": {
      "text/plain": [
       "continent          object\n",
       "country            object\n",
       "gdpPercap_1952    float64\n",
       "gdpPercap_1957    float64\n",
       "gdpPercap_1962    float64\n",
       "gdpPercap_1967    float64\n",
       "gdpPercap_1972    float64\n",
       "gdpPercap_1977    float64\n",
       "gdpPercap_1982    float64\n",
       "gdpPercap_1987    float64\n",
       "gdpPercap_1992    float64\n",
       "gdpPercap_1997    float64\n",
       "gdpPercap_2002    float64\n",
       "gdpPercap_2007    float64\n",
       "lifeExp_1952      float64\n",
       "lifeExp_1957      float64\n",
       "lifeExp_1962      float64\n",
       "lifeExp_1967      float64\n",
       "lifeExp_1972      float64\n",
       "lifeExp_1977      float64\n",
       "lifeExp_1982      float64\n",
       "lifeExp_1987      float64\n",
       "lifeExp_1992      float64\n",
       "lifeExp_1997      float64\n",
       "lifeExp_2002      float64\n",
       "lifeExp_2007      float64\n",
       "pop_1952          float64\n",
       "pop_1957          float64\n",
       "pop_1962          float64\n",
       "pop_1967          float64\n",
       "pop_1972          float64\n",
       "pop_1977          float64\n",
       "pop_1982          float64\n",
       "pop_1987          float64\n",
       "pop_1992          float64\n",
       "pop_1997          float64\n",
       "pop_2002            int64\n",
       "pop_2007            int64\n",
       "dtype: object"
      ]
     },
     "execution_count": 4,
     "metadata": {},
     "output_type": "execute_result"
    }
   ],
   "source": [
    "gapminder.dtypes"
   ]
  },
  {
   "cell_type": "markdown",
   "metadata": {},
   "source": [
    "Let us __filter__ the gapminder dataframe so that it contains __only life expectancy__ values. \n",
    "\n",
    "We use Pandas’ pattern matching str.contains to select the columns for life expectancy."
   ]
  },
  {
   "cell_type": "code",
   "execution_count": 5,
   "metadata": {},
   "outputs": [
    {
     "data": {
      "text/html": [
       "<div>\n",
       "<style scoped>\n",
       "    .dataframe tbody tr th:only-of-type {\n",
       "        vertical-align: middle;\n",
       "    }\n",
       "\n",
       "    .dataframe tbody tr th {\n",
       "        vertical-align: top;\n",
       "    }\n",
       "\n",
       "    .dataframe thead th {\n",
       "        text-align: right;\n",
       "    }\n",
       "</style>\n",
       "<table border=\"1\" class=\"dataframe\">\n",
       "  <thead>\n",
       "    <tr style=\"text-align: right;\">\n",
       "      <th></th>\n",
       "      <th>continent</th>\n",
       "      <th>country</th>\n",
       "      <th>lifeExp_1952</th>\n",
       "      <th>lifeExp_1957</th>\n",
       "      <th>lifeExp_1962</th>\n",
       "      <th>lifeExp_1967</th>\n",
       "      <th>lifeExp_1972</th>\n",
       "      <th>lifeExp_1977</th>\n",
       "      <th>lifeExp_1982</th>\n",
       "      <th>lifeExp_1987</th>\n",
       "      <th>lifeExp_1992</th>\n",
       "      <th>lifeExp_1997</th>\n",
       "      <th>lifeExp_2002</th>\n",
       "      <th>lifeExp_2007</th>\n",
       "    </tr>\n",
       "  </thead>\n",
       "  <tbody>\n",
       "    <tr>\n",
       "      <th>0</th>\n",
       "      <td>Africa</td>\n",
       "      <td>Algeria</td>\n",
       "      <td>43.077</td>\n",
       "      <td>45.685</td>\n",
       "      <td>48.303</td>\n",
       "      <td>51.407</td>\n",
       "      <td>54.518</td>\n",
       "      <td>58.014</td>\n",
       "      <td>61.368</td>\n",
       "      <td>65.799</td>\n",
       "      <td>67.744</td>\n",
       "      <td>69.152</td>\n",
       "      <td>70.994</td>\n",
       "      <td>72.301</td>\n",
       "    </tr>\n",
       "    <tr>\n",
       "      <th>1</th>\n",
       "      <td>Africa</td>\n",
       "      <td>Angola</td>\n",
       "      <td>30.015</td>\n",
       "      <td>31.999</td>\n",
       "      <td>34.000</td>\n",
       "      <td>35.985</td>\n",
       "      <td>37.928</td>\n",
       "      <td>39.483</td>\n",
       "      <td>39.942</td>\n",
       "      <td>39.906</td>\n",
       "      <td>40.647</td>\n",
       "      <td>40.963</td>\n",
       "      <td>41.003</td>\n",
       "      <td>42.731</td>\n",
       "    </tr>\n",
       "    <tr>\n",
       "      <th>2</th>\n",
       "      <td>Africa</td>\n",
       "      <td>Benin</td>\n",
       "      <td>38.223</td>\n",
       "      <td>40.358</td>\n",
       "      <td>42.618</td>\n",
       "      <td>44.885</td>\n",
       "      <td>47.014</td>\n",
       "      <td>49.190</td>\n",
       "      <td>50.904</td>\n",
       "      <td>52.337</td>\n",
       "      <td>53.919</td>\n",
       "      <td>54.777</td>\n",
       "      <td>54.406</td>\n",
       "      <td>56.728</td>\n",
       "    </tr>\n",
       "    <tr>\n",
       "      <th>3</th>\n",
       "      <td>Africa</td>\n",
       "      <td>Botswana</td>\n",
       "      <td>47.622</td>\n",
       "      <td>49.618</td>\n",
       "      <td>51.520</td>\n",
       "      <td>53.298</td>\n",
       "      <td>56.024</td>\n",
       "      <td>59.319</td>\n",
       "      <td>61.484</td>\n",
       "      <td>63.622</td>\n",
       "      <td>62.745</td>\n",
       "      <td>52.556</td>\n",
       "      <td>46.634</td>\n",
       "      <td>50.728</td>\n",
       "    </tr>\n",
       "    <tr>\n",
       "      <th>4</th>\n",
       "      <td>Africa</td>\n",
       "      <td>Burkina Faso</td>\n",
       "      <td>31.975</td>\n",
       "      <td>34.906</td>\n",
       "      <td>37.814</td>\n",
       "      <td>40.697</td>\n",
       "      <td>43.591</td>\n",
       "      <td>46.137</td>\n",
       "      <td>48.122</td>\n",
       "      <td>49.557</td>\n",
       "      <td>50.260</td>\n",
       "      <td>50.324</td>\n",
       "      <td>50.650</td>\n",
       "      <td>52.295</td>\n",
       "    </tr>\n",
       "  </tbody>\n",
       "</table>\n",
       "</div>"
      ],
      "text/plain": [
       "  continent       country  lifeExp_1952  lifeExp_1957  lifeExp_1962  \\\n",
       "0    Africa       Algeria        43.077        45.685        48.303   \n",
       "1    Africa        Angola        30.015        31.999        34.000   \n",
       "2    Africa         Benin        38.223        40.358        42.618   \n",
       "3    Africa      Botswana        47.622        49.618        51.520   \n",
       "4    Africa  Burkina Faso        31.975        34.906        37.814   \n",
       "\n",
       "   lifeExp_1967  lifeExp_1972  lifeExp_1977  lifeExp_1982  lifeExp_1987  \\\n",
       "0        51.407        54.518        58.014        61.368        65.799   \n",
       "1        35.985        37.928        39.483        39.942        39.906   \n",
       "2        44.885        47.014        49.190        50.904        52.337   \n",
       "3        53.298        56.024        59.319        61.484        63.622   \n",
       "4        40.697        43.591        46.137        48.122        49.557   \n",
       "\n",
       "   lifeExp_1992  lifeExp_1997  lifeExp_2002  lifeExp_2007  \n",
       "0        67.744        69.152        70.994        72.301  \n",
       "1        40.647        40.963        41.003        42.731  \n",
       "2        53.919        54.777        54.406        56.728  \n",
       "3        62.745        52.556        46.634        50.728  \n",
       "4        50.260        50.324        50.650        52.295  "
      ]
     },
     "execution_count": 5,
     "metadata": {},
     "output_type": "execute_result"
    }
   ],
   "source": [
    "lifeExp = gapminder.loc[:, gapminder.columns.str.contains('^life|^c')]\n",
    "#lifeExp = gapminder.loc[:, gapminder.columns.str.contains('^life')]\n",
    "lifeExp.head()"
   ]
  },
  {
   "cell_type": "code",
   "execution_count": 6,
   "metadata": {},
   "outputs": [
    {
     "data": {
      "text/plain": [
       "(82, 14)"
      ]
     },
     "execution_count": 6,
     "metadata": {},
     "output_type": "execute_result"
    }
   ],
   "source": [
    "# For now let us also filter the data to contain countries from Africa and Europe.\n",
    "lifeExp_AE = lifeExp[lifeExp.continent.isin(['Africa','Europe'])]\n",
    "lifeExp_AE.shape"
   ]
  },
  {
   "cell_type": "code",
   "execution_count": 7,
   "metadata": {},
   "outputs": [
    {
     "data": {
      "text/html": [
       "<div>\n",
       "<style scoped>\n",
       "    .dataframe tbody tr th:only-of-type {\n",
       "        vertical-align: middle;\n",
       "    }\n",
       "\n",
       "    .dataframe tbody tr th {\n",
       "        vertical-align: top;\n",
       "    }\n",
       "\n",
       "    .dataframe thead th {\n",
       "        text-align: right;\n",
       "    }\n",
       "</style>\n",
       "<table border=\"1\" class=\"dataframe\">\n",
       "  <thead>\n",
       "    <tr style=\"text-align: right;\">\n",
       "      <th></th>\n",
       "      <th>continent</th>\n",
       "      <th>country</th>\n",
       "    </tr>\n",
       "  </thead>\n",
       "  <tbody>\n",
       "    <tr>\n",
       "      <th>0</th>\n",
       "      <td>Africa</td>\n",
       "      <td>Algeria</td>\n",
       "    </tr>\n",
       "    <tr>\n",
       "      <th>1</th>\n",
       "      <td>Africa</td>\n",
       "      <td>Angola</td>\n",
       "    </tr>\n",
       "    <tr>\n",
       "      <th>2</th>\n",
       "      <td>Africa</td>\n",
       "      <td>Benin</td>\n",
       "    </tr>\n",
       "    <tr>\n",
       "      <th>3</th>\n",
       "      <td>Africa</td>\n",
       "      <td>Botswana</td>\n",
       "    </tr>\n",
       "    <tr>\n",
       "      <th>4</th>\n",
       "      <td>Africa</td>\n",
       "      <td>Burkina Faso</td>\n",
       "    </tr>\n",
       "  </tbody>\n",
       "</table>\n",
       "</div>"
      ],
      "text/plain": [
       "  continent       country\n",
       "0    Africa       Algeria\n",
       "1    Africa        Angola\n",
       "2    Africa         Benin\n",
       "3    Africa      Botswana\n",
       "4    Africa  Burkina Faso"
      ]
     },
     "execution_count": 7,
     "metadata": {},
     "output_type": "execute_result"
    }
   ],
   "source": [
    "# Let us store the country and continent information separate as meta data.\n",
    "lifeExp_meta = lifeExp_AE.loc[:, lifeExp_AE.columns.str.contains('^c')]\n",
    "lifeExp_meta.head()"
   ]
  },
  {
   "cell_type": "markdown",
   "metadata": {},
   "source": [
    "drop the country and continent columns. Now the dataframe contains life expectancy values for each year."
   ]
  },
  {
   "cell_type": "code",
   "execution_count": 8,
   "metadata": {},
   "outputs": [
    {
     "data": {
      "text/html": [
       "<div>\n",
       "<style scoped>\n",
       "    .dataframe tbody tr th:only-of-type {\n",
       "        vertical-align: middle;\n",
       "    }\n",
       "\n",
       "    .dataframe tbody tr th {\n",
       "        vertical-align: top;\n",
       "    }\n",
       "\n",
       "    .dataframe thead th {\n",
       "        text-align: right;\n",
       "    }\n",
       "</style>\n",
       "<table border=\"1\" class=\"dataframe\">\n",
       "  <thead>\n",
       "    <tr style=\"text-align: right;\">\n",
       "      <th></th>\n",
       "      <th>lifeExp_1952</th>\n",
       "      <th>lifeExp_1957</th>\n",
       "      <th>lifeExp_1962</th>\n",
       "      <th>lifeExp_1967</th>\n",
       "      <th>lifeExp_1972</th>\n",
       "      <th>lifeExp_1977</th>\n",
       "      <th>lifeExp_1982</th>\n",
       "      <th>lifeExp_1987</th>\n",
       "      <th>lifeExp_1992</th>\n",
       "      <th>lifeExp_1997</th>\n",
       "      <th>lifeExp_2002</th>\n",
       "      <th>lifeExp_2007</th>\n",
       "    </tr>\n",
       "  </thead>\n",
       "  <tbody>\n",
       "    <tr>\n",
       "      <th>0</th>\n",
       "      <td>43.077</td>\n",
       "      <td>45.685</td>\n",
       "      <td>48.303</td>\n",
       "      <td>51.407</td>\n",
       "      <td>54.518</td>\n",
       "      <td>58.014</td>\n",
       "      <td>61.368</td>\n",
       "      <td>65.799</td>\n",
       "      <td>67.744</td>\n",
       "      <td>69.152</td>\n",
       "      <td>70.994</td>\n",
       "      <td>72.301</td>\n",
       "    </tr>\n",
       "    <tr>\n",
       "      <th>1</th>\n",
       "      <td>30.015</td>\n",
       "      <td>31.999</td>\n",
       "      <td>34.000</td>\n",
       "      <td>35.985</td>\n",
       "      <td>37.928</td>\n",
       "      <td>39.483</td>\n",
       "      <td>39.942</td>\n",
       "      <td>39.906</td>\n",
       "      <td>40.647</td>\n",
       "      <td>40.963</td>\n",
       "      <td>41.003</td>\n",
       "      <td>42.731</td>\n",
       "    </tr>\n",
       "    <tr>\n",
       "      <th>2</th>\n",
       "      <td>38.223</td>\n",
       "      <td>40.358</td>\n",
       "      <td>42.618</td>\n",
       "      <td>44.885</td>\n",
       "      <td>47.014</td>\n",
       "      <td>49.190</td>\n",
       "      <td>50.904</td>\n",
       "      <td>52.337</td>\n",
       "      <td>53.919</td>\n",
       "      <td>54.777</td>\n",
       "      <td>54.406</td>\n",
       "      <td>56.728</td>\n",
       "    </tr>\n",
       "  </tbody>\n",
       "</table>\n",
       "</div>"
      ],
      "text/plain": [
       "   lifeExp_1952  lifeExp_1957  lifeExp_1962  lifeExp_1967  lifeExp_1972  \\\n",
       "0        43.077        45.685        48.303        51.407        54.518   \n",
       "1        30.015        31.999        34.000        35.985        37.928   \n",
       "2        38.223        40.358        42.618        44.885        47.014   \n",
       "\n",
       "   lifeExp_1977  lifeExp_1982  lifeExp_1987  lifeExp_1992  lifeExp_1997  \\\n",
       "0        58.014        61.368        65.799        67.744        69.152   \n",
       "1        39.483        39.942        39.906        40.647        40.963   \n",
       "2        49.190        50.904        52.337        53.919        54.777   \n",
       "\n",
       "   lifeExp_2002  lifeExp_2007  \n",
       "0        70.994        72.301  \n",
       "1        41.003        42.731  \n",
       "2        54.406        56.728  "
      ]
     },
     "execution_count": 8,
     "metadata": {},
     "output_type": "execute_result"
    }
   ],
   "source": [
    "lifeExp_AE = lifeExp_AE.drop(columns=['continent', 'country'])\n",
    "lifeExp_AE.head(n=3)"
   ]
  },
  {
   "cell_type": "markdown",
   "metadata": {},
   "source": [
    "Before we actually perform SVD on our data set, let us mean center and scale so that each column of our data is on the same scale."
   ]
  },
  {
   "cell_type": "code",
   "execution_count": 9,
   "metadata": {},
   "outputs": [
    {
     "data": {
      "text/html": [
       "<div>\n",
       "<style scoped>\n",
       "    .dataframe tbody tr th:only-of-type {\n",
       "        vertical-align: middle;\n",
       "    }\n",
       "\n",
       "    .dataframe tbody tr th {\n",
       "        vertical-align: top;\n",
       "    }\n",
       "\n",
       "    .dataframe thead th {\n",
       "        text-align: right;\n",
       "    }\n",
       "</style>\n",
       "<table border=\"1\" class=\"dataframe\">\n",
       "  <thead>\n",
       "    <tr style=\"text-align: right;\">\n",
       "      <th></th>\n",
       "      <th>lifeExp_1952</th>\n",
       "      <th>lifeExp_1957</th>\n",
       "      <th>lifeExp_1962</th>\n",
       "      <th>lifeExp_1967</th>\n",
       "      <th>lifeExp_1972</th>\n",
       "      <th>lifeExp_1977</th>\n",
       "      <th>lifeExp_1982</th>\n",
       "      <th>lifeExp_1987</th>\n",
       "      <th>lifeExp_1992</th>\n",
       "      <th>lifeExp_1997</th>\n",
       "      <th>lifeExp_2002</th>\n",
       "      <th>lifeExp_2007</th>\n",
       "    </tr>\n",
       "  </thead>\n",
       "  <tbody>\n",
       "    <tr>\n",
       "      <th>0</th>\n",
       "      <td>-0.394065</td>\n",
       "      <td>-0.362388</td>\n",
       "      <td>-0.318266</td>\n",
       "      <td>-0.220089</td>\n",
       "      <td>-0.116843</td>\n",
       "      <td>0.020739</td>\n",
       "      <td>0.168041</td>\n",
       "      <td>0.426042</td>\n",
       "      <td>0.511124</td>\n",
       "      <td>0.581049</td>\n",
       "      <td>0.662703</td>\n",
       "      <td>0.673421</td>\n",
       "    </tr>\n",
       "    <tr>\n",
       "      <th>1</th>\n",
       "      <td>-1.364384</td>\n",
       "      <td>-1.377154</td>\n",
       "      <td>-1.391081</td>\n",
       "      <td>-1.408750</td>\n",
       "      <td>-1.438966</td>\n",
       "      <td>-1.491952</td>\n",
       "      <td>-1.619589</td>\n",
       "      <td>-1.767824</td>\n",
       "      <td>-1.619366</td>\n",
       "      <td>-1.591543</td>\n",
       "      <td>-1.517351</td>\n",
       "      <td>-1.505745</td>\n",
       "    </tr>\n",
       "    <tr>\n",
       "      <th>2</th>\n",
       "      <td>-0.754648</td>\n",
       "      <td>-0.757365</td>\n",
       "      <td>-0.744677</td>\n",
       "      <td>-0.722776</td>\n",
       "      <td>-0.714866</td>\n",
       "      <td>-0.699566</td>\n",
       "      <td>-0.704999</td>\n",
       "      <td>-0.714568</td>\n",
       "      <td>-0.575861</td>\n",
       "      <td>-0.526866</td>\n",
       "      <td>-0.543083</td>\n",
       "      <td>-0.474234</td>\n",
       "    </tr>\n",
       "    <tr>\n",
       "      <th>3</th>\n",
       "      <td>-0.056436</td>\n",
       "      <td>-0.070770</td>\n",
       "      <td>-0.076971</td>\n",
       "      <td>-0.074339</td>\n",
       "      <td>0.003176</td>\n",
       "      <td>0.127267</td>\n",
       "      <td>0.177719</td>\n",
       "      <td>0.241589</td>\n",
       "      <td>0.118080</td>\n",
       "      <td>-0.698043</td>\n",
       "      <td>-1.108032</td>\n",
       "      <td>-0.916405</td>\n",
       "    </tr>\n",
       "    <tr>\n",
       "      <th>4</th>\n",
       "      <td>-1.218785</td>\n",
       "      <td>-1.161611</td>\n",
       "      <td>-1.105007</td>\n",
       "      <td>-1.045569</td>\n",
       "      <td>-0.987659</td>\n",
       "      <td>-0.948784</td>\n",
       "      <td>-0.937109</td>\n",
       "      <td>-0.950112</td>\n",
       "      <td>-0.863548</td>\n",
       "      <td>-0.870069</td>\n",
       "      <td>-0.816108</td>\n",
       "      <td>-0.800924</td>\n",
       "    </tr>\n",
       "    <tr>\n",
       "      <th>5</th>\n",
       "      <td>-0.694625</td>\n",
       "      <td>-0.744390</td>\n",
       "      <td>-0.787656</td>\n",
       "      <td>-0.825826</td>\n",
       "      <td>-0.950521</td>\n",
       "      <td>-0.967314</td>\n",
       "      <td>-0.991424</td>\n",
       "      <td>-1.064156</td>\n",
       "      <td>-1.297870</td>\n",
       "      <td>-1.255277</td>\n",
       "      <td>-1.055259</td>\n",
       "      <td>-1.001007</td>\n",
       "    </tr>\n",
       "  </tbody>\n",
       "</table>\n",
       "</div>"
      ],
      "text/plain": [
       "   lifeExp_1952  lifeExp_1957  lifeExp_1962  lifeExp_1967  lifeExp_1972  \\\n",
       "0     -0.394065     -0.362388     -0.318266     -0.220089     -0.116843   \n",
       "1     -1.364384     -1.377154     -1.391081     -1.408750     -1.438966   \n",
       "2     -0.754648     -0.757365     -0.744677     -0.722776     -0.714866   \n",
       "3     -0.056436     -0.070770     -0.076971     -0.074339      0.003176   \n",
       "4     -1.218785     -1.161611     -1.105007     -1.045569     -0.987659   \n",
       "5     -0.694625     -0.744390     -0.787656     -0.825826     -0.950521   \n",
       "\n",
       "   lifeExp_1977  lifeExp_1982  lifeExp_1987  lifeExp_1992  lifeExp_1997  \\\n",
       "0      0.020739      0.168041      0.426042      0.511124      0.581049   \n",
       "1     -1.491952     -1.619589     -1.767824     -1.619366     -1.591543   \n",
       "2     -0.699566     -0.704999     -0.714568     -0.575861     -0.526866   \n",
       "3      0.127267      0.177719      0.241589      0.118080     -0.698043   \n",
       "4     -0.948784     -0.937109     -0.950112     -0.863548     -0.870069   \n",
       "5     -0.967314     -0.991424     -1.064156     -1.297870     -1.255277   \n",
       "\n",
       "   lifeExp_2002  lifeExp_2007  \n",
       "0      0.662703      0.673421  \n",
       "1     -1.517351     -1.505745  \n",
       "2     -0.543083     -0.474234  \n",
       "3     -1.108032     -0.916405  \n",
       "4     -0.816108     -0.800924  \n",
       "5     -1.055259     -1.001007  "
      ]
     },
     "execution_count": 9,
     "metadata": {},
     "output_type": "execute_result"
    }
   ],
   "source": [
    "lifeExp_AE_scaled = (lifeExp_AE - lifeExp_AE.mean())/lifeExp_AE.std()\n",
    "lifeExp_AE_scaled.head(n=6)"
   ]
  },
  {
   "cell_type": "markdown",
   "metadata": {},
   "source": [
    "#### Now we are all set to perform SVD on the gapminder life expectancy data from two continents. \n",
    "\n",
    "We use NumPy’s linalg module’s svd function to do SVD. In addition to the scaled data, we also specify “full_matrices=True” to get __all singular vectors__."
   ]
  },
  {
   "cell_type": "code",
   "execution_count": 10,
   "metadata": {},
   "outputs": [],
   "source": [
    "u, s, v = np.linalg.svd(lifeExp_AE_scaled, full_matrices=True)"
   ]
  },
  {
   "cell_type": "markdown",
   "metadata": {},
   "source": [
    "The output of SVD is three matrices, u, s, and v. The matrices u and v are singular vectors and s is singular values. We can examine the dimensions of each with shape function."
   ]
  },
  {
   "cell_type": "code",
   "execution_count": 11,
   "metadata": {},
   "outputs": [
    {
     "name": "stdout",
     "output_type": "stream",
     "text": [
      "(82, 82)\n",
      "(12,)\n",
      "(12, 12)\n"
     ]
    }
   ],
   "source": [
    "print(u.shape)\n",
    "print(s.shape)\n",
    "print(v.shape)"
   ]
  },
  {
   "cell_type": "code",
   "execution_count": 12,
   "metadata": {},
   "outputs": [
    {
     "data": {
      "text/plain": [
       "array([[ 0.01493955, -0.21234611,  0.10569186, ...,  0.14475593,\n",
       "        -0.07521348,  0.17221942],\n",
       "       [-0.17265594,  0.04623821, -0.07069646, ..., -0.05144835,\n",
       "         0.20114062, -0.022498  ],\n",
       "       [-0.07590623, -0.04577334,  0.00221011, ...,  0.06197953,\n",
       "        -0.14951372,  0.15073811],\n",
       "       ...,\n",
       "       [ 0.16214209,  0.01105033, -0.03620287, ...,  0.91706271,\n",
       "         0.04472956, -0.04171283],\n",
       "       [ 0.0207029 , -0.16397981,  0.03447434, ...,  0.02909206,\n",
       "         0.88113657,  0.0471575 ],\n",
       "       [ 0.14735096,  0.0303275 , -0.06551876, ..., -0.04423799,\n",
       "         0.06253062,  0.92285512]])"
      ]
     },
     "execution_count": 12,
     "metadata": {},
     "output_type": "execute_result"
    }
   ],
   "source": [
    "u"
   ]
  },
  {
   "cell_type": "code",
   "execution_count": 13,
   "metadata": {},
   "outputs": [
    {
     "data": {
      "text/plain": [
       "array([30.24364085,  6.22029408,  3.64162999,  1.73218438,  1.02337101,\n",
       "        0.90383377,  0.50601323,  0.29280646,  0.26630751,  0.21192836,\n",
       "        0.16923088,  0.13317875])"
      ]
     },
     "execution_count": 13,
     "metadata": {},
     "output_type": "execute_result"
    }
   ],
   "source": [
    "s"
   ]
  },
  {
   "cell_type": "markdown",
   "metadata": {},
   "source": [
    "Singular values help us compute __variance explained__ by each singular vectors. \n",
    "\n",
    "We can visualize the percent variance explained by each singular vector or PC to understand the structure in the data"
   ]
  },
  {
   "cell_type": "code",
   "execution_count": 14,
   "metadata": {},
   "outputs": [
    {
     "data": {
      "text/plain": [
       "array([0.941, 0.04 , 0.014, 0.003, 0.001, 0.001, 0.   , 0.   , 0.   ,\n",
       "       0.   , 0.   , 0.   ])"
      ]
     },
     "execution_count": 14,
     "metadata": {},
     "output_type": "execute_result"
    }
   ],
   "source": [
    "var_explained = np.round(s**2/np.sum(s**2), decimals=3)\n",
    "var_explained"
   ]
  },
  {
   "cell_type": "markdown",
   "metadata": {},
   "source": [
    "the Scree plot giving us the percentage of variance explained by each singular vector. We can see that the first vector explains most of the variation in the data."
   ]
  },
  {
   "cell_type": "code",
   "execution_count": 15,
   "metadata": {},
   "outputs": [
    {
     "data": {
      "image/png": "[encoded data removed]",
      "text/plain": [
       "<Figure size 1008x360 with 1 Axes>"
      ]
     },
     "metadata": {},
     "output_type": "display_data"
    }
   ],
   "source": [
    "plt.figure(figsize=(14, 5))\n",
    "sns.barplot(x=list(range(1,len(var_explained)+1)),\n",
    "            y=var_explained, \n",
    "            color=\"limegreen\")\n",
    "\n",
    "\n",
    "plt.xlabel('SVs', fontsize=16)\n",
    "plt.ylabel('Percent Variance Explained', fontsize=16);\n",
    "#plt.savefig('svd_scree_plot.png',dpi=100)"
   ]
  },
  {
   "cell_type": "markdown",
   "metadata": {},
   "source": [
    "Let us create a data frame containing the first two singular vectors (PCs) and the meta data for the data."
   ]
  },
  {
   "cell_type": "code",
   "execution_count": 16,
   "metadata": {},
   "outputs": [
    {
     "data": {
      "text/html": [
       "<div>\n",
       "<style scoped>\n",
       "    .dataframe tbody tr th:only-of-type {\n",
       "        vertical-align: middle;\n",
       "    }\n",
       "\n",
       "    .dataframe tbody tr th {\n",
       "        vertical-align: top;\n",
       "    }\n",
       "\n",
       "    .dataframe thead th {\n",
       "        text-align: right;\n",
       "    }\n",
       "</style>\n",
       "<table border=\"1\" class=\"dataframe\">\n",
       "  <thead>\n",
       "    <tr style=\"text-align: right;\">\n",
       "      <th></th>\n",
       "      <th>Continent</th>\n",
       "      <th>SV1</th>\n",
       "      <th>SV2</th>\n",
       "    </tr>\n",
       "  </thead>\n",
       "  <tbody>\n",
       "    <tr>\n",
       "      <th>0</th>\n",
       "      <td>Africa</td>\n",
       "      <td>0.014940</td>\n",
       "      <td>-0.212346</td>\n",
       "    </tr>\n",
       "    <tr>\n",
       "      <th>1</th>\n",
       "      <td>Africa</td>\n",
       "      <td>-0.172656</td>\n",
       "      <td>0.046238</td>\n",
       "    </tr>\n",
       "    <tr>\n",
       "      <th>2</th>\n",
       "      <td>Africa</td>\n",
       "      <td>-0.075906</td>\n",
       "      <td>-0.045773</td>\n",
       "    </tr>\n",
       "    <tr>\n",
       "      <th>3</th>\n",
       "      <td>Africa</td>\n",
       "      <td>-0.021360</td>\n",
       "      <td>0.189510</td>\n",
       "    </tr>\n",
       "    <tr>\n",
       "      <th>4</th>\n",
       "      <td>Africa</td>\n",
       "      <td>-0.111868</td>\n",
       "      <td>-0.052854</td>\n",
       "    </tr>\n",
       "  </tbody>\n",
       "</table>\n",
       "</div>"
      ],
      "text/plain": [
       "  Continent       SV1       SV2\n",
       "0    Africa  0.014940 -0.212346\n",
       "1    Africa -0.172656  0.046238\n",
       "2    Africa -0.075906 -0.045773\n",
       "3    Africa -0.021360  0.189510\n",
       "4    Africa -0.111868 -0.052854"
      ]
     },
     "execution_count": 16,
     "metadata": {},
     "output_type": "execute_result"
    }
   ],
   "source": [
    "labels= ['SV'+str(i) for i in range(1,3)]\n",
    "\n",
    "svd_df = pd.DataFrame(u[:, 0:2], \n",
    "                      index=lifeExp_meta[\"continent\"].tolist(), \n",
    "                      columns=labels)\n",
    "\n",
    "svd_df=svd_df.reset_index()\n",
    "\n",
    "svd_df.rename(columns={'index':'Continent'}, inplace=True)\n",
    "svd_df.head()"
   ]
  },
  {
   "cell_type": "code",
   "execution_count": 17,
   "metadata": {},
   "outputs": [
    {
     "data": {
      "image/png": "[encoded data removed]",
      "text/plain": [
       "<Figure size 432x288 with 1 Axes>"
      ]
     },
     "metadata": {},
     "output_type": "display_data"
    }
   ],
   "source": [
    "# specify colors for each continent\n",
    "color_dict = dict({'Africa':'Black',\n",
    "                   'Europe': 'Red'})\n",
    "\n",
    "# Scatter plot: SV1 and SV2\n",
    "sns.scatterplot(x=\"SV1\", y=\"SV2\", hue=\"Continent\", \n",
    "                palette=color_dict, \n",
    "                data=svd_df, s=100,\n",
    "                alpha=0.7)\n",
    "\n",
    "plt.xlabel('SV 1: {0}%'.format(var_explained[0]*100), fontsize=16)\n",
    "plt.ylabel('SV 2: {0}%'.format(var_explained[1]*100), fontsize=16);"
   ]
  },
  {
   "cell_type": "markdown",
   "metadata": {},
   "source": [
    "We can clearly see the difference in lifeExp between Africa and Europe as they nicely cluster together with a few exceptions."
   ]
  },
  {
   "cell_type": "code",
   "execution_count": null,
   "metadata": {},
   "outputs": [],
   "source": []
  }
 ],
 "metadata": {
  "kernelspec": {
   "display_name": "Python 3",
   "language": "python",
   "name": "python3"
  },
  "language_info": {
   "codemirror_mode": {
    "name": "ipython",
    "version": 3
   },
   "file_extension": ".py",
   "mimetype": "text/x-python",
   "name": "python",
   "nbconvert_exporter": "python",
   "pygments_lexer": "ipython3",
   "version": "3.7.9"
  }
 },
 "nbformat": 4,
 "nbformat_minor": 4
}
